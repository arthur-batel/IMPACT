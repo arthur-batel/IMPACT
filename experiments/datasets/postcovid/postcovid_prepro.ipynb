{
 "cells": [
  {
   "cell_type": "markdown",
   "id": "a16eaad71921474c",
   "metadata": {
    "collapsed": false,
    "jupyter": {
     "outputs_hidden": false
    }
   },
   "source": [
    "# Postcovid dataset preprocessing"
   ]
  },
  {
   "cell_type": "markdown",
   "id": "31032752dcfcaff5",
   "metadata": {
    "collapsed": false,
    "jupyter": {
     "outputs_hidden": false
    }
   },
   "source": [
    "## Import"
   ]
  },
  {
   "cell_type": "code",
   "id": "429569740c5d5e2d",
   "metadata": {
    "collapsed": false,
    "jupyter": {
     "outputs_hidden": false
    },
    "ExecuteTime": {
     "end_time": "2025-05-13T13:01:50.740913Z",
     "start_time": "2025-05-13T13:01:50.733250Z"
    }
   },
   "source": [
    "%load_ext autoreload\n",
    "%autoreload 2"
   ],
   "outputs": [],
   "execution_count": 1
  },
  {
   "cell_type": "code",
   "id": "24cb1f0e099babcc",
   "metadata": {
    "collapsed": false,
    "jupyter": {
     "outputs_hidden": false
    },
    "ExecuteTime": {
     "end_time": "2025-05-13T13:01:53.275837Z",
     "start_time": "2025-05-13T13:01:51.563042Z"
    }
   },
   "source": [
    "import sys\n",
    "sys.path.append('../')\n",
    "from data_utils.preprocessing_utilities import stat_unique,get_modalities_nb, remove_duplicates, densify,create_q2k, encode_attr, quadruplet_format, parse_data, split_data, save_to_csv,get_metadata, split_data_vertically,rescaling_dict,one_hot_encoding\n",
    "\n",
    "import json\n",
    "import torch\n",
    "import pandas as pd\n",
    "import numpy as np"
   ],
   "outputs": [],
   "execution_count": 2
  },
  {
   "cell_type": "code",
   "id": "c48c56cb603eb48d",
   "metadata": {
    "collapsed": false,
    "jupyter": {
     "outputs_hidden": false
    },
    "ExecuteTime": {
     "end_time": "2025-05-13T13:02:02.117392Z",
     "start_time": "2025-05-13T13:02:02.002947Z"
    }
   },
   "source": [
    "raw_data = pd.read_csv('preprocessed_postcovid_30-01-2024.csv', encoding=\"ISO-8859-15\", low_memory=False)\n",
    "raw_data = raw_data.drop(columns=['Unnamed: 0', 'Unnamed: 0.1', 'Unnamed: 0.2', 'UX_answer', 'result', 'answers', 'itemnaireId',\n",
    "                                  'start_time', 'userIdAndCreationDate', 'qr', 'qr_compl'])\n",
    "raw_data =  raw_data.rename(columns={\"skill_id\": \"dimension_id\", \"item_id\":\"item_id\"})\n",
    "raw_data.head()"
   ],
   "outputs": [
    {
     "data": {
      "text/plain": [
       "  dimension_id  user_id  item_id  correct\n",
       "0          {9}        0        3      1.0\n",
       "1          {9}        0       12      3.0\n",
       "2          {9}        0       20      2.0\n",
       "3          {9}        0       27      3.0\n",
       "4          {9}        0       34      1.0"
      ],
      "text/html": [
       "<div>\n",
       "<style scoped>\n",
       "    .dataframe tbody tr th:only-of-type {\n",
       "        vertical-align: middle;\n",
       "    }\n",
       "\n",
       "    .dataframe tbody tr th {\n",
       "        vertical-align: top;\n",
       "    }\n",
       "\n",
       "    .dataframe thead th {\n",
       "        text-align: right;\n",
       "    }\n",
       "</style>\n",
       "<table border=\"1\" class=\"dataframe\">\n",
       "  <thead>\n",
       "    <tr style=\"text-align: right;\">\n",
       "      <th></th>\n",
       "      <th>dimension_id</th>\n",
       "      <th>user_id</th>\n",
       "      <th>item_id</th>\n",
       "      <th>correct</th>\n",
       "    </tr>\n",
       "  </thead>\n",
       "  <tbody>\n",
       "    <tr>\n",
       "      <th>0</th>\n",
       "      <td>{9}</td>\n",
       "      <td>0</td>\n",
       "      <td>3</td>\n",
       "      <td>1.0</td>\n",
       "    </tr>\n",
       "    <tr>\n",
       "      <th>1</th>\n",
       "      <td>{9}</td>\n",
       "      <td>0</td>\n",
       "      <td>12</td>\n",
       "      <td>3.0</td>\n",
       "    </tr>\n",
       "    <tr>\n",
       "      <th>2</th>\n",
       "      <td>{9}</td>\n",
       "      <td>0</td>\n",
       "      <td>20</td>\n",
       "      <td>2.0</td>\n",
       "    </tr>\n",
       "    <tr>\n",
       "      <th>3</th>\n",
       "      <td>{9}</td>\n",
       "      <td>0</td>\n",
       "      <td>27</td>\n",
       "      <td>3.0</td>\n",
       "    </tr>\n",
       "    <tr>\n",
       "      <th>4</th>\n",
       "      <td>{9}</td>\n",
       "      <td>0</td>\n",
       "      <td>34</td>\n",
       "      <td>1.0</td>\n",
       "    </tr>\n",
       "  </tbody>\n",
       "</table>\n",
       "</div>"
      ]
     },
     "execution_count": 3,
     "metadata": {},
     "output_type": "execute_result"
    }
   ],
   "execution_count": 3
  },
  {
   "cell_type": "code",
   "id": "c2cbd9ddf2afb05a",
   "metadata": {
    "collapsed": false,
    "jupyter": {
     "outputs_hidden": false
    },
    "ExecuteTime": {
     "end_time": "2025-05-13T13:02:10.019263Z",
     "start_time": "2025-05-13T13:02:09.909220Z"
    }
   },
   "source": [
    "raw_data['dimension_id'] = raw_data['dimension_id'].str.strip('{}').str.split(',')\n",
    "raw_data = raw_data.explode('dimension_id')\n",
    "raw_data['dimension_id'] = raw_data['dimension_id'].str.strip()"
   ],
   "outputs": [],
   "execution_count": 4
  },
  {
   "cell_type": "code",
   "id": "9858dd0a7fc4b424",
   "metadata": {
    "collapsed": false,
    "jupyter": {
     "outputs_hidden": false
    },
    "ExecuteTime": {
     "end_time": "2025-05-13T13:02:10.935748Z",
     "start_time": "2025-05-13T13:02:10.915647Z"
    }
   },
   "source": [
    "stat_unique(raw_data, None)\n",
    "stat_unique(raw_data, ['user_id', 'item_id'])\n",
    "stat_unique(raw_data, 'user_id')\n",
    "stat_unique(raw_data, 'item_id')\n",
    "stat_unique(raw_data, 'dimension_id')"
   ],
   "outputs": [
    {
     "name": "stdout",
     "output_type": "stream",
     "text": [
      "Total length: 51690\n",
      "Number of unique [user_id,item_id]: 37390\n",
      "Number of unique user_id: 917\n",
      "Number of unique item_id: 184\n",
      "Number of unique dimension_id: 18\n"
     ]
    }
   ],
   "execution_count": 5
  },
  {
   "cell_type": "markdown",
   "id": "60f11d5586caf1e4",
   "metadata": {
    "collapsed": false,
    "jupyter": {
     "outputs_hidden": false
    }
   },
   "source": [
    "## Clean Nan values"
   ]
  },
  {
   "cell_type": "code",
   "id": "64ba0d5ca17c715e",
   "metadata": {
    "collapsed": false,
    "jupyter": {
     "outputs_hidden": false
    },
    "ExecuteTime": {
     "end_time": "2025-05-13T13:02:12.981434Z",
     "start_time": "2025-05-13T13:02:12.962677Z"
    }
   },
   "source": [
    "cleaned_data = raw_data.dropna(subset=['user_id','item_id','dimension_id','correct'], axis='index')"
   ],
   "outputs": [],
   "execution_count": 6
  },
  {
   "cell_type": "code",
   "id": "92a424d30ed5cf59",
   "metadata": {
    "ExecuteTime": {
     "end_time": "2025-05-13T13:02:14.253784Z",
     "start_time": "2025-05-13T13:02:14.231892Z"
    }
   },
   "source": [
    "cleaned_data"
   ],
   "outputs": [
    {
     "data": {
      "text/plain": [
       "      dimension_id  user_id  item_id  correct\n",
       "0                9        0        3      1.0\n",
       "1                9        0       12      3.0\n",
       "2                9        0       20      2.0\n",
       "3                9        0       27      3.0\n",
       "4                9        0       34      1.0\n",
       "...            ...      ...      ...      ...\n",
       "37385            3      916      158      1.0\n",
       "37386            5      916      163      6.0\n",
       "37387            3      916      170      2.0\n",
       "37388            5      916      174      6.0\n",
       "37389            3      916      181      1.0\n",
       "\n",
       "[51690 rows x 4 columns]"
      ],
      "text/html": [
       "<div>\n",
       "<style scoped>\n",
       "    .dataframe tbody tr th:only-of-type {\n",
       "        vertical-align: middle;\n",
       "    }\n",
       "\n",
       "    .dataframe tbody tr th {\n",
       "        vertical-align: top;\n",
       "    }\n",
       "\n",
       "    .dataframe thead th {\n",
       "        text-align: right;\n",
       "    }\n",
       "</style>\n",
       "<table border=\"1\" class=\"dataframe\">\n",
       "  <thead>\n",
       "    <tr style=\"text-align: right;\">\n",
       "      <th></th>\n",
       "      <th>dimension_id</th>\n",
       "      <th>user_id</th>\n",
       "      <th>item_id</th>\n",
       "      <th>correct</th>\n",
       "    </tr>\n",
       "  </thead>\n",
       "  <tbody>\n",
       "    <tr>\n",
       "      <th>0</th>\n",
       "      <td>9</td>\n",
       "      <td>0</td>\n",
       "      <td>3</td>\n",
       "      <td>1.0</td>\n",
       "    </tr>\n",
       "    <tr>\n",
       "      <th>1</th>\n",
       "      <td>9</td>\n",
       "      <td>0</td>\n",
       "      <td>12</td>\n",
       "      <td>3.0</td>\n",
       "    </tr>\n",
       "    <tr>\n",
       "      <th>2</th>\n",
       "      <td>9</td>\n",
       "      <td>0</td>\n",
       "      <td>20</td>\n",
       "      <td>2.0</td>\n",
       "    </tr>\n",
       "    <tr>\n",
       "      <th>3</th>\n",
       "      <td>9</td>\n",
       "      <td>0</td>\n",
       "      <td>27</td>\n",
       "      <td>3.0</td>\n",
       "    </tr>\n",
       "    <tr>\n",
       "      <th>4</th>\n",
       "      <td>9</td>\n",
       "      <td>0</td>\n",
       "      <td>34</td>\n",
       "      <td>1.0</td>\n",
       "    </tr>\n",
       "    <tr>\n",
       "      <th>...</th>\n",
       "      <td>...</td>\n",
       "      <td>...</td>\n",
       "      <td>...</td>\n",
       "      <td>...</td>\n",
       "    </tr>\n",
       "    <tr>\n",
       "      <th>37385</th>\n",
       "      <td>3</td>\n",
       "      <td>916</td>\n",
       "      <td>158</td>\n",
       "      <td>1.0</td>\n",
       "    </tr>\n",
       "    <tr>\n",
       "      <th>37386</th>\n",
       "      <td>5</td>\n",
       "      <td>916</td>\n",
       "      <td>163</td>\n",
       "      <td>6.0</td>\n",
       "    </tr>\n",
       "    <tr>\n",
       "      <th>37387</th>\n",
       "      <td>3</td>\n",
       "      <td>916</td>\n",
       "      <td>170</td>\n",
       "      <td>2.0</td>\n",
       "    </tr>\n",
       "    <tr>\n",
       "      <th>37388</th>\n",
       "      <td>5</td>\n",
       "      <td>916</td>\n",
       "      <td>174</td>\n",
       "      <td>6.0</td>\n",
       "    </tr>\n",
       "    <tr>\n",
       "      <th>37389</th>\n",
       "      <td>3</td>\n",
       "      <td>916</td>\n",
       "      <td>181</td>\n",
       "      <td>1.0</td>\n",
       "    </tr>\n",
       "  </tbody>\n",
       "</table>\n",
       "<p>51690 rows × 4 columns</p>\n",
       "</div>"
      ]
     },
     "execution_count": 7,
     "metadata": {},
     "output_type": "execute_result"
    }
   ],
   "execution_count": 7
  },
  {
   "cell_type": "markdown",
   "id": "bdc2248d4ab506f5",
   "metadata": {
    "collapsed": false,
    "jupyter": {
     "outputs_hidden": false
    }
   },
   "source": [
    "## Remove duplicated user and id rows"
   ]
  },
  {
   "cell_type": "code",
   "id": "86fa5ac7d6eef50a",
   "metadata": {
    "collapsed": false,
    "jupyter": {
     "outputs_hidden": false
    },
    "ExecuteTime": {
     "end_time": "2025-05-13T13:02:18.189041Z",
     "start_time": "2025-05-13T13:02:18.162839Z"
    }
   },
   "source": [
    "unduplicated_data = remove_duplicates(cleaned_data,key_attrs=['user_id','item_id','dimension_id'],agg_attrs=[])"
   ],
   "outputs": [],
   "execution_count": 8
  },
  {
   "cell_type": "markdown",
   "id": "bfc8fb71455fa81",
   "metadata": {
    "collapsed": false,
    "jupyter": {
     "outputs_hidden": false
    }
   },
   "source": [
    "## Filter data"
   ]
  },
  {
   "cell_type": "code",
   "id": "807705eddc16145f",
   "metadata": {
    "collapsed": false,
    "jupyter": {
     "outputs_hidden": false
    },
    "ExecuteTime": {
     "end_time": "2025-05-13T13:02:22.986902Z",
     "start_time": "2025-05-13T13:02:21.893836Z"
    }
   },
   "source": [
    "filtered_data_0 = unduplicated_data\n",
    "filtered_q_nb = 1\n",
    "filtered_u_nb = 0\n",
    "filtered_d_nb = 0\n",
    "\n",
    "while filtered_q_nb!=0 or filtered_u_nb!=0 or filtered_d_nb!=0: \n",
    "    # filter knowledges\n",
    "    filtered_data_1,filtered_d_nb = densify(filtered_data_0,'dimension_id','item_id',5)\n",
    "    \n",
    "    # aggregate\n",
    "    agg_data_0 = filtered_data_1\n",
    "    agg_data_0['dimension_id'] = agg_data_0['dimension_id'].str.strip('{}')\n",
    "    grouped_data = agg_data_0.groupby(['user_id', 'item_id'])['dimension_id'] \\\n",
    "        .apply(lambda x: '{' + ', '.join(x) + '}') \\\n",
    "        .reset_index()\n",
    "    agg_data_0 = agg_data_0.drop(columns=['dimension_id']).drop_duplicates(subset=['user_id', 'item_id'])\n",
    "    agg_data_0 = pd.merge(agg_data_0, grouped_data, on=['user_id', 'item_id'], how='left')\n",
    "    \n",
    "    # filter items\n",
    "    filtered_data_2,filtered_q_nb = densify(agg_data_0,'item_id','user_id',20)\n",
    "    \n",
    "    # filter users\n",
    "    filtered_data_3,filtered_u_nb = densify(filtered_data_2,'user_id','item_id',20)\n",
    "    \n",
    "    # split\n",
    "    split_0 = filtered_data_3\n",
    "    split_0.loc[:,'dimension_id'] = split_0['dimension_id'].str.strip('{}').str.split(',')\n",
    "    split_0 = split_0.explode('dimension_id')\n",
    "    split_0['dimension_id'] = split_0['dimension_id'].str.strip()\n",
    "    \n",
    "    # update the dataset for potential next iteration\n",
    "    filtered_data_0 = split_0\n",
    "    \n",
    "    \n",
    "stat_unique(filtered_data_0, None)\n",
    "stat_unique(filtered_data_0, ['user_id', 'item_id'])\n",
    "stat_unique(filtered_data_0, 'user_id')\n",
    "stat_unique(filtered_data_0, 'item_id')\n",
    "stat_unique(filtered_data_0, 'dimension_id')"
   ],
   "outputs": [
    {
     "name": "stdout",
     "output_type": "stream",
     "text": [
      "filter 1 dimension_id\n"
     ]
    },
    {
     "name": "stderr",
     "output_type": "stream",
     "text": [
      "/tmp/ipykernel_20626/2255379976.py:12: SettingWithCopyWarning: \n",
      "A value is trying to be set on a copy of a slice from a DataFrame.\n",
      "Try using .loc[row_indexer,col_indexer] = value instead\n",
      "\n",
      "See the caveats in the documentation: https://pandas.pydata.org/pandas-docs/stable/user_guide/indexing.html#returning-a-view-versus-a-copy\n",
      "  agg_data_0['dimension_id'] = agg_data_0['dimension_id'].str.strip('{}')\n"
     ]
    },
    {
     "name": "stdout",
     "output_type": "stream",
     "text": [
      "filter 0 item_id\n",
      "filter 171 user_id\n",
      "filter 0 dimension_id\n",
      "filter 0 item_id\n",
      "filter 0 user_id\n",
      "Total length: 48583\n",
      "Number of unique [user_id,item_id]: 34563\n",
      "Number of unique user_id: 746\n",
      "Number of unique item_id: 180\n",
      "Number of unique dimension_id: 17\n"
     ]
    }
   ],
   "execution_count": 9
  },
  {
   "cell_type": "markdown",
   "id": "cd59d149817334ab",
   "metadata": {
    "collapsed": false,
    "jupyter": {
     "outputs_hidden": false
    }
   },
   "source": [
    "## Encoding"
   ]
  },
  {
   "cell_type": "code",
   "id": "8d36d3ca01864905",
   "metadata": {
    "collapsed": false,
    "jupyter": {
     "outputs_hidden": false
    },
    "ExecuteTime": {
     "end_time": "2025-05-13T13:02:28.115823Z",
     "start_time": "2025-05-13T13:02:26.645712Z"
    }
   },
   "source": [
    "# renumber the users\n",
    "u_enc_data, u2n = encode_attr(filtered_data_0, \"user_id\")"
   ],
   "outputs": [],
   "execution_count": 10
  },
  {
   "cell_type": "code",
   "id": "d73720573a20751b",
   "metadata": {
    "collapsed": false,
    "jupyter": {
     "outputs_hidden": false
    },
    "ExecuteTime": {
     "end_time": "2025-05-13T13:02:38.767325Z",
     "start_time": "2025-05-13T13:02:37.209703Z"
    }
   },
   "source": [
    "# renumber the items\n",
    "q_enc_data, q2n = encode_attr(u_enc_data, \"item_id\")"
   ],
   "outputs": [],
   "execution_count": 11
  },
  {
   "cell_type": "code",
   "id": "7ec6b9b67b814f41",
   "metadata": {
    "collapsed": false,
    "jupyter": {
     "outputs_hidden": false
    },
    "ExecuteTime": {
     "end_time": "2025-05-13T13:02:41.423344Z",
     "start_time": "2025-05-13T13:02:39.940282Z"
    }
   },
   "source": [
    "# renumber the dimensions\n",
    "d_enc_data, d2n = encode_attr(q_enc_data, \"dimension_id\")"
   ],
   "outputs": [],
   "execution_count": 12
  },
  {
   "cell_type": "markdown",
   "id": "180bf4238378e755",
   "metadata": {
    "collapsed": false,
    "jupyter": {
     "outputs_hidden": false
    }
   },
   "source": [
    "## Maps creation"
   ]
  },
  {
   "cell_type": "code",
   "id": "140c1d7bb2b4fa58",
   "metadata": {
    "collapsed": false,
    "jupyter": {
     "outputs_hidden": false
    },
    "ExecuteTime": {
     "end_time": "2025-05-13T13:02:43.309082Z",
     "start_time": "2025-05-13T13:02:43.286730Z"
    }
   },
   "source": [
    "q2k, k2q = create_q2k(d_enc_data)"
   ],
   "outputs": [],
   "execution_count": 13
  },
  {
   "cell_type": "markdown",
   "id": "d7225f73f4a3d87c",
   "metadata": {
    "collapsed": false,
    "jupyter": {
     "outputs_hidden": false
    }
   },
   "source": [
    "## Rescaling responses"
   ]
  },
  {
   "cell_type": "code",
   "id": "caff8cd53ddb31fc",
   "metadata": {
    "ExecuteTime": {
     "end_time": "2025-05-13T13:02:44.946216Z",
     "start_time": "2025-05-13T13:02:44.925962Z"
    }
   },
   "source": [
    "d_enc_data['correct'] = d_enc_data['correct'].astype(float)\n",
    "\n",
    "min_val = d_enc_data.groupby('item_id')['correct'].transform('min')\n",
    "max_val = d_enc_data.groupby('item_id')['correct'].transform('max')\n",
    "\n",
    "# Rescale 'correct' values per 'item_id'\n",
    "d_enc_data['correct'] = (d_enc_data['correct'] - min_val) / (max_val - min_val) + 1\n",
    "\n",
    "# Assign the rescaled data to 'rescaled_data'\n",
    "rescaled_data = d_enc_data\n",
    "print(f'min value : {rescaled_data.groupby(\"item_id\")[\"correct\"].min()}, max value : {rescaled_data.groupby(\"item_id\")[\"correct\"].max()}')"
   ],
   "outputs": [
    {
     "name": "stdout",
     "output_type": "stream",
     "text": [
      "min value : item_id\n",
      "0      1.0\n",
      "1      1.0\n",
      "2      1.0\n",
      "3      1.0\n",
      "4      1.0\n",
      "      ... \n",
      "175    1.0\n",
      "176    1.0\n",
      "177    1.0\n",
      "178    1.0\n",
      "179    1.0\n",
      "Name: correct, Length: 180, dtype: float64, max value : item_id\n",
      "0      2.0\n",
      "1      2.0\n",
      "2      2.0\n",
      "3      2.0\n",
      "4      2.0\n",
      "      ... \n",
      "175    2.0\n",
      "176    2.0\n",
      "177    2.0\n",
      "178    2.0\n",
      "179    2.0\n",
      "Name: correct, Length: 180, dtype: float64\n"
     ]
    }
   ],
   "execution_count": 14
  },
  {
   "cell_type": "markdown",
   "id": "5562a84fea57b426",
   "metadata": {
    "collapsed": false,
    "jupyter": {
     "outputs_hidden": false
    }
   },
   "source": [
    "## Get final stats and create metadata"
   ]
  },
  {
   "cell_type": "code",
   "id": "3b265eb148b24a80",
   "metadata": {
    "collapsed": false,
    "jupyter": {
     "outputs_hidden": false
    },
    "ExecuteTime": {
     "end_time": "2025-05-13T13:02:46.913849Z",
     "start_time": "2025-05-13T13:02:46.883993Z"
    }
   },
   "source": [
    "stat_unique(rescaled_data, None)\n",
    "stat_unique(rescaled_data, ['user_id', 'item_id'])\n",
    "stat_unique(rescaled_data, 'user_id')\n",
    "stat_unique(rescaled_data, 'item_id')\n",
    "stat_unique(rescaled_data, 'dimension_id')\n",
    "stat_unique(rescaled_data, 'correct')\n",
    "\n",
    "rescaled_data_dim_grouped_items = rescaled_data.groupby(\"dimension_id\")[\"item_id\"].nunique()\n",
    "rescaled_data_dim_grouped_users = rescaled_data.groupby(\"dimension_id\")[\"user_id\"].nunique()\n",
    "print('#questions/category: {} & {} &  {}'.format(np.min(rescaled_data_dim_grouped_items),int(np.round(np.mean(rescaled_data_dim_grouped_items))),np.max(rescaled_data_dim_grouped_items)))\n",
    "print('#users/category: {} & {} &  {}'.format(np.min(rescaled_data_dim_grouped_users),int(np.round(np.mean(rescaled_data_dim_grouped_users))),np.max(rescaled_data_dim_grouped_users)))\n",
    "\n",
    "rescaled_data_dim_grouped_items = rescaled_data.groupby(\"item_id\")[\"dimension_id\"].nunique()\n",
    "rescaled_data_dim_grouped_users = rescaled_data.groupby(\"item_id\")[\"user_id\"].nunique()\n",
    "print('#categorys/question: {} & {} &  {}'.format(np.min(rescaled_data_dim_grouped_items),int(np.round(np.mean(rescaled_data_dim_grouped_items))),np.max(rescaled_data_dim_grouped_items)))\n",
    "print('#users/question: {} & {} &  {}'.format(np.min(rescaled_data_dim_grouped_users),int(np.round(np.mean(rescaled_data_dim_grouped_users))),np.max(rescaled_data_dim_grouped_users)))\n",
    "\n",
    "rescaled_data_dim_grouped_items = rescaled_data.groupby(\"user_id\")[\"item_id\"].nunique()\n",
    "rescaled_data_dim_grouped_users = rescaled_data.groupby(\"user_id\")[\"dimension_id\"].nunique()\n",
    "print('#questions/users: {} & {} &  {}'.format(np.min(rescaled_data_dim_grouped_items),int(np.round(np.mean(rescaled_data_dim_grouped_items))),np.max(rescaled_data_dim_grouped_items)))\n",
    "print('#categorys/users: {} & {} &  {}'.format(np.min(rescaled_data_dim_grouped_users),int(np.round(np.mean(rescaled_data_dim_grouped_users))),np.max(rescaled_data_dim_grouped_users)))"
   ],
   "outputs": [
    {
     "name": "stdout",
     "output_type": "stream",
     "text": [
      "Total length: 48583\n",
      "Number of unique [user_id,item_id]: 34563\n",
      "Number of unique user_id: 746\n",
      "Number of unique item_id: 180\n",
      "Number of unique dimension_id: 17\n",
      "Number of unique correct: 22\n",
      "#questions/category: 7 & 14 &  22\n",
      "#users/category: 38 & 206 &  460\n",
      "#categorys/question: 1 & 1 &  3\n",
      "#users/question: 38 & 192 &  460\n",
      "#questions/users: 20 & 46 &  92\n",
      "#categorys/users: 1 & 5 &  10\n"
     ]
    }
   ],
   "execution_count": 15
  },
  {
   "cell_type": "code",
   "id": "c093fc6c6a93f3e5",
   "metadata": {
    "ExecuteTime": {
     "end_time": "2025-05-13T13:02:50.945545Z",
     "start_time": "2025-05-13T13:02:50.545606Z"
    }
   },
   "source": [
    "import matplotlib.pyplot as plt\n",
    "\n",
    "# draw a histogram of the age column\n",
    "(rescaled_data['correct']-1).hist(bins=20)\n",
    "\n",
    "# add labels and title\n",
    "plt.xlabel('Responses')\n",
    "plt.ylabel('Number')\n",
    "plt.title('Distribution of Responses')\n"
   ],
   "outputs": [
    {
     "data": {
      "text/plain": [
       "Text(0.5, 1.0, 'Distribution of Responses')"
      ]
     },
     "execution_count": 16,
     "metadata": {},
     "output_type": "execute_result"
    },
    {
     "data": {
      "text/plain": [
       "<Figure size 640x480 with 1 Axes>"
      ],
      "image/png": "[encoded data removed]"
     },
     "metadata": {},
     "output_type": "display_data"
    }
   ],
   "execution_count": 16
  },
  {
   "cell_type": "code",
   "id": "65eeae3d87bd9e23",
   "metadata": {
    "collapsed": false,
    "jupyter": {
     "outputs_hidden": false
    },
    "ExecuteTime": {
     "end_time": "2025-05-13T13:02:53.413857Z",
     "start_time": "2025-05-13T13:02:53.396111Z"
    }
   },
   "source": [
    "metadata = get_metadata(rescaled_data,[\"user_id\", \"item_id\", \"dimension_id\"])"
   ],
   "outputs": [],
   "execution_count": 17
  },
  {
   "cell_type": "markdown",
   "id": "8701d955-e709-4c9a-a710-2bcc1d63a012",
   "metadata": {},
   "source": [
    "## Compute nb of modalities"
   ]
  },
  {
   "cell_type": "markdown",
   "id": "bcd97210-e3fb-4e8d-b878-5e51979d8b1d",
   "metadata": {},
   "source": [
    "## Compute number of modalities"
   ]
  },
  {
   "cell_type": "code",
   "id": "8f5d179a-ccdd-447d-a6af-6cd89d3dba24",
   "metadata": {
    "ExecuteTime": {
     "end_time": "2025-05-13T13:03:09.749437Z",
     "start_time": "2025-05-13T13:03:09.715617Z"
    }
   },
   "source": [
    "nb_modalities = get_modalities_nb(rescaled_data, metadata)"
   ],
   "outputs": [],
   "execution_count": 18
  },
  {
   "cell_type": "markdown",
   "id": "a323ba5d84cc4d5",
   "metadata": {
    "collapsed": false,
    "jupyter": {
     "outputs_hidden": false
    }
   },
   "source": [
    "### Save data, concept map, metadata and nb of modalities"
   ]
  },
  {
   "cell_type": "code",
   "id": "d33b8a3c134519ba",
   "metadata": {
    "collapsed": false,
    "jupyter": {
     "outputs_hidden": false
    },
    "ExecuteTime": {
     "end_time": "2025-05-13T13:03:10.982255Z",
     "start_time": "2025-05-13T13:03:10.899355Z"
    }
   },
   "source": [
    "# save selected data\n",
    "rescaled_data.to_csv('selected_data.csv', index=False)"
   ],
   "outputs": [],
   "execution_count": 19
  },
  {
   "cell_type": "code",
   "id": "5e0740cd41cb77de",
   "metadata": {
    "collapsed": false,
    "jupyter": {
     "outputs_hidden": false
    },
    "ExecuteTime": {
     "end_time": "2025-05-13T13:03:11.589979Z",
     "start_time": "2025-05-13T13:03:11.575011Z"
    }
   },
   "source": [
    "# Convert int64 keys to a compatible type (e.g., int)\n",
    "q2k_serializable = {str(key): value for key, value in q2k.items()}\n",
    "# save concept map\n",
    "with open('concept_map.json', 'w') as f:\n",
    "    json.dump(q2k_serializable, f)"
   ],
   "outputs": [],
   "execution_count": 20
  },
  {
   "cell_type": "code",
   "id": "c8b1634757f6212d",
   "metadata": {
    "collapsed": false,
    "jupyter": {
     "outputs_hidden": false
    },
    "ExecuteTime": {
     "end_time": "2025-05-13T13:03:12.117807Z",
     "start_time": "2025-05-13T13:03:12.102358Z"
    }
   },
   "source": [
    "# save metadata\n",
    "with open('metadata.json', 'w') as f:\n",
    "    json.dump(metadata, f)"
   ],
   "outputs": [],
   "execution_count": 21
  },
  {
   "cell_type": "code",
   "id": "6ef5ca8c-aa63-40cf-a519-593fadb84e52",
   "metadata": {
    "ExecuteTime": {
     "end_time": "2025-05-13T13:03:12.687796Z",
     "start_time": "2025-05-13T13:03:12.672908Z"
    }
   },
   "source": [
    "# save nb_modalities\n",
    "import torch\n",
    "torch.save(nb_modalities,'nb_modalities.pkl')"
   ],
   "outputs": [],
   "execution_count": 22
  },
  {
   "cell_type": "markdown",
   "id": "c42935fd9e482e80",
   "metadata": {
    "collapsed": false,
    "jupyter": {
     "outputs_hidden": false
    }
   },
   "source": [
    "## Parse data"
   ]
  },
  {
   "cell_type": "code",
   "id": "4bb53cbc20919432",
   "metadata": {
    "collapsed": false,
    "jupyter": {
     "outputs_hidden": false
    },
    "ExecuteTime": {
     "end_time": "2025-05-13T13:03:13.958192Z",
     "start_time": "2025-05-13T13:03:13.844032Z"
    }
   },
   "source": [
    "quadruplet = quadruplet_format(rescaled_data)"
   ],
   "outputs": [],
   "execution_count": 23
  },
  {
   "cell_type": "code",
   "id": "4be7240f1c6b72d5",
   "metadata": {
    "collapsed": false,
    "jupyter": {
     "outputs_hidden": false
    },
    "ExecuteTime": {
     "end_time": "2025-05-13T13:03:15.669677Z",
     "start_time": "2025-05-13T13:03:14.313994Z"
    }
   },
   "source": [
    "stu_data, ques_data = parse_data(rescaled_data)"
   ],
   "outputs": [],
   "execution_count": 24
  },
  {
   "cell_type": "code",
   "id": "663f1ef383f651e7",
   "metadata": {
    "collapsed": false,
    "jupyter": {
     "outputs_hidden": false
    },
    "ExecuteTime": {
     "end_time": "2025-05-13T13:03:15.683873Z",
     "start_time": "2025-05-13T13:03:15.671907Z"
    }
   },
   "source": [
    "test_size = 0.2\n",
    "valid_size = 0.2 # proportion over the all dataset\n",
    "least_test_length=18"
   ],
   "outputs": [],
   "execution_count": 25
  },
  {
   "metadata": {},
   "cell_type": "code",
   "outputs": [],
   "execution_count": null,
   "source": "## Vertical split",
   "id": "40bcbaa50cb88da3"
  },
  {
   "cell_type": "code",
   "id": "3102b0b2b48b9557",
   "metadata": {
    "collapsed": false,
    "jupyter": {
     "outputs_hidden": false
    },
    "ExecuteTime": {
     "end_time": "2025-05-13T13:04:22.625086Z",
     "start_time": "2025-05-13T13:04:19.052092Z"
    }
   },
   "source": [
    "train_data, valid_data, test_data = split_data_vertically(quadruplet, test_prop=test_size,valid_prop=valid_size, folds_nb=5)"
   ],
   "outputs": [],
   "execution_count": 27
  },
  {
   "cell_type": "code",
   "id": "19d7f66b3d036ebd",
   "metadata": {
    "collapsed": false,
    "jupyter": {
     "outputs_hidden": false
    },
    "ExecuteTime": {
     "end_time": "2025-05-13T13:05:08.381094Z",
     "start_time": "2025-05-13T13:05:07.691815Z"
    }
   },
   "source": [
    "for i_fold, train_fold in enumerate(train_data):\n",
    "    save_to_csv(train_data[i_fold], f'../2-preprocessed_data/postcovid_train_quadruples_vert_{i_fold}.csv')\n",
    "    save_to_csv(valid_data[i_fold], f'../2-preprocessed_data/postcovid_valid_quadruples_vert_{i_fold}.csv')\n",
    "    save_to_csv(test_data[i_fold], f'../2-preprocessed_data/postcovid_test_quadruples_vert_{i_fold}.csv')"
   ],
   "outputs": [],
   "execution_count": 29
  },
  {
   "metadata": {},
   "cell_type": "code",
   "outputs": [],
   "execution_count": null,
   "source": "",
   "id": "cbcaa80a5e60b478"
  }
 ],
 "metadata": {
  "kernelspec": {
   "display_name": "Python 3 (ipykernel)",
   "language": "python",
   "name": "python3"
  },
  "language_info": {
   "codemirror_mode": {
    "name": "ipython",
    "version": 3
   },
   "file_extension": ".py",
   "mimetype": "text/x-python",
   "name": "python",
   "nbconvert_exporter": "python",
   "pygments_lexer": "ipython3",
   "version": "3.11.11"
  }
 },
 "nbformat": 4,
 "nbformat_minor": 5
}
