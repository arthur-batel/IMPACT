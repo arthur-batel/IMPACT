{
 "cells": [
  {
   "cell_type": "markdown",
   "id": "a16eaad71921474c",
   "metadata": {
    "collapsed": false,
    "jupyter": {
     "outputs_hidden": false
    }
   },
   "source": [
    "# Postcovid dataset preprocessing"
   ]
  },
  {
   "cell_type": "markdown",
   "id": "31032752dcfcaff5",
   "metadata": {
    "collapsed": false,
    "jupyter": {
     "outputs_hidden": false
    }
   },
   "source": [
    "## Import"
   ]
  },
  {
   "cell_type": "code",
   "execution_count": 1,
   "id": "429569740c5d5e2d",
   "metadata": {
    "ExecuteTime": {
     "end_time": "2025-01-16T10:21:40.957250Z",
     "start_time": "2025-01-16T10:21:40.948519Z"
    },
    "collapsed": false,
    "jupyter": {
     "outputs_hidden": false
    }
   },
   "outputs": [],
   "source": [
    "%load_ext autoreload\n",
    "%autoreload 2"
   ]
  },
  {
   "cell_type": "code",
   "execution_count": 32,
   "id": "24cb1f0e099babcc",
   "metadata": {
    "ExecuteTime": {
     "end_time": "2025-01-16T10:21:42.930253Z",
     "start_time": "2025-01-16T10:21:40.996275Z"
    },
    "collapsed": false,
    "jupyter": {
     "outputs_hidden": false
    }
   },
   "outputs": [],
   "source": [
    "import sys\n",
    "sys.path.append('../')\n",
    "from data_utils.preprocessing_utilities import stat_unique,get_modalities_nb, remove_duplicates, densify,create_q2k, encode_attr, quadruplet_format, parse_data, split_data, save_to_csv,get_metadata, split_data_vertically,rescaling_dict,one_hot_encoding\n",
    "\n",
    "import json\n",
    "import torch\n",
    "import pandas as pd\n",
    "import numpy as np"
   ]
  },
  {
   "cell_type": "code",
   "execution_count": 3,
   "id": "c48c56cb603eb48d",
   "metadata": {
    "ExecuteTime": {
     "end_time": "2025-01-16T10:21:44.015680Z",
     "start_time": "2025-01-16T10:21:43.006734Z"
    },
    "collapsed": false,
    "jupyter": {
     "outputs_hidden": false
    }
   },
   "outputs": [
    {
     "data": {
      "text/html": [
       "<div>\n",
       "<style scoped>\n",
       "    .dataframe tbody tr th:only-of-type {\n",
       "        vertical-align: middle;\n",
       "    }\n",
       "\n",
       "    .dataframe tbody tr th {\n",
       "        vertical-align: top;\n",
       "    }\n",
       "\n",
       "    .dataframe thead th {\n",
       "        text-align: right;\n",
       "    }\n",
       "</style>\n",
       "<table border=\"1\" class=\"dataframe\">\n",
       "  <thead>\n",
       "    <tr style=\"text-align: right;\">\n",
       "      <th></th>\n",
       "      <th>dimension_id</th>\n",
       "      <th>user_id</th>\n",
       "      <th>item_id</th>\n",
       "      <th>correct</th>\n",
       "    </tr>\n",
       "  </thead>\n",
       "  <tbody>\n",
       "    <tr>\n",
       "      <th>0</th>\n",
       "      <td>{9}</td>\n",
       "      <td>0</td>\n",
       "      <td>3</td>\n",
       "      <td>1.0</td>\n",
       "    </tr>\n",
       "    <tr>\n",
       "      <th>1</th>\n",
       "      <td>{9}</td>\n",
       "      <td>0</td>\n",
       "      <td>12</td>\n",
       "      <td>3.0</td>\n",
       "    </tr>\n",
       "    <tr>\n",
       "      <th>2</th>\n",
       "      <td>{9}</td>\n",
       "      <td>0</td>\n",
       "      <td>20</td>\n",
       "      <td>2.0</td>\n",
       "    </tr>\n",
       "    <tr>\n",
       "      <th>3</th>\n",
       "      <td>{9}</td>\n",
       "      <td>0</td>\n",
       "      <td>27</td>\n",
       "      <td>3.0</td>\n",
       "    </tr>\n",
       "    <tr>\n",
       "      <th>4</th>\n",
       "      <td>{9}</td>\n",
       "      <td>0</td>\n",
       "      <td>34</td>\n",
       "      <td>1.0</td>\n",
       "    </tr>\n",
       "  </tbody>\n",
       "</table>\n",
       "</div>"
      ],
      "text/plain": [
       "  dimension_id  user_id  item_id  correct\n",
       "0          {9}        0        3      1.0\n",
       "1          {9}        0       12      3.0\n",
       "2          {9}        0       20      2.0\n",
       "3          {9}        0       27      3.0\n",
       "4          {9}        0       34      1.0"
      ]
     },
     "execution_count": 3,
     "metadata": {},
     "output_type": "execute_result"
    }
   ],
   "source": [
    "raw_data = pd.read_csv('preprocessed_postcovid_30-01-2024.csv', encoding=\"ISO-8859-15\", low_memory=False)\n",
    "raw_data = raw_data.drop(columns=['Unnamed: 0', 'Unnamed: 0.1', 'Unnamed: 0.2', 'UX_answer', 'result', 'answers', 'itemnaireId',\n",
    "                                  'start_time', 'userIdAndCreationDate', 'qr', 'qr_compl'])\n",
    "raw_data =  raw_data.rename(columns={\"skill_id\": \"dimension_id\", \"item_id\":\"item_id\"})\n",
    "raw_data.head()"
   ]
  },
  {
   "cell_type": "code",
   "execution_count": 4,
   "id": "c2cbd9ddf2afb05a",
   "metadata": {
    "ExecuteTime": {
     "end_time": "2025-01-16T10:21:44.162207Z",
     "start_time": "2025-01-16T10:21:44.123865Z"
    },
    "collapsed": false,
    "jupyter": {
     "outputs_hidden": false
    }
   },
   "outputs": [],
   "source": [
    "raw_data['dimension_id'] = raw_data['dimension_id'].str.strip('{}').str.split(',')\n",
    "raw_data = raw_data.explode('dimension_id')\n",
    "raw_data['dimension_id'] = raw_data['dimension_id'].str.strip()"
   ]
  },
  {
   "cell_type": "code",
   "execution_count": 5,
   "id": "9858dd0a7fc4b424",
   "metadata": {
    "ExecuteTime": {
     "end_time": "2025-01-16T10:21:44.274462Z",
     "start_time": "2025-01-16T10:21:44.254025Z"
    },
    "collapsed": false,
    "jupyter": {
     "outputs_hidden": false
    }
   },
   "outputs": [
    {
     "name": "stdout",
     "output_type": "stream",
     "text": [
      "Total length: 51690\n",
      "Number of unique [user_id,item_id]: 37390\n",
      "Number of unique user_id: 917\n",
      "Number of unique item_id: 184\n",
      "Number of unique dimension_id: 18\n"
     ]
    }
   ],
   "source": [
    "stat_unique(raw_data, None)\n",
    "stat_unique(raw_data, ['user_id', 'item_id'])\n",
    "stat_unique(raw_data, 'user_id')\n",
    "stat_unique(raw_data, 'item_id')\n",
    "stat_unique(raw_data, 'dimension_id')"
   ]
  },
  {
   "cell_type": "markdown",
   "id": "60f11d5586caf1e4",
   "metadata": {
    "collapsed": false,
    "jupyter": {
     "outputs_hidden": false
    }
   },
   "source": [
    "## Clean Nan values"
   ]
  },
  {
   "cell_type": "code",
   "execution_count": 6,
   "id": "64ba0d5ca17c715e",
   "metadata": {
    "ExecuteTime": {
     "end_time": "2025-01-02T16:48:33.878185Z",
     "start_time": "2025-01-02T16:48:33.859138Z"
    },
    "collapsed": false,
    "jupyter": {
     "outputs_hidden": false
    }
   },
   "outputs": [],
   "source": [
    "cleaned_data = raw_data.dropna(subset=['user_id','item_id','dimension_id','correct'], axis='index')"
   ]
  },
  {
   "cell_type": "code",
   "execution_count": 7,
   "id": "92a424d30ed5cf59",
   "metadata": {
    "ExecuteTime": {
     "end_time": "2025-01-02T16:48:33.926508Z",
     "start_time": "2025-01-02T16:48:33.905488Z"
    }
   },
   "outputs": [
    {
     "data": {
      "text/html": [
       "<div>\n",
       "<style scoped>\n",
       "    .dataframe tbody tr th:only-of-type {\n",
       "        vertical-align: middle;\n",
       "    }\n",
       "\n",
       "    .dataframe tbody tr th {\n",
       "        vertical-align: top;\n",
       "    }\n",
       "\n",
       "    .dataframe thead th {\n",
       "        text-align: right;\n",
       "    }\n",
       "</style>\n",
       "<table border=\"1\" class=\"dataframe\">\n",
       "  <thead>\n",
       "    <tr style=\"text-align: right;\">\n",
       "      <th></th>\n",
       "      <th>dimension_id</th>\n",
       "      <th>user_id</th>\n",
       "      <th>item_id</th>\n",
       "      <th>correct</th>\n",
       "    </tr>\n",
       "  </thead>\n",
       "  <tbody>\n",
       "    <tr>\n",
       "      <th>0</th>\n",
       "      <td>9</td>\n",
       "      <td>0</td>\n",
       "      <td>3</td>\n",
       "      <td>1.0</td>\n",
       "    </tr>\n",
       "    <tr>\n",
       "      <th>1</th>\n",
       "      <td>9</td>\n",
       "      <td>0</td>\n",
       "      <td>12</td>\n",
       "      <td>3.0</td>\n",
       "    </tr>\n",
       "    <tr>\n",
       "      <th>2</th>\n",
       "      <td>9</td>\n",
       "      <td>0</td>\n",
       "      <td>20</td>\n",
       "      <td>2.0</td>\n",
       "    </tr>\n",
       "    <tr>\n",
       "      <th>3</th>\n",
       "      <td>9</td>\n",
       "      <td>0</td>\n",
       "      <td>27</td>\n",
       "      <td>3.0</td>\n",
       "    </tr>\n",
       "    <tr>\n",
       "      <th>4</th>\n",
       "      <td>9</td>\n",
       "      <td>0</td>\n",
       "      <td>34</td>\n",
       "      <td>1.0</td>\n",
       "    </tr>\n",
       "    <tr>\n",
       "      <th>...</th>\n",
       "      <td>...</td>\n",
       "      <td>...</td>\n",
       "      <td>...</td>\n",
       "      <td>...</td>\n",
       "    </tr>\n",
       "    <tr>\n",
       "      <th>37385</th>\n",
       "      <td>3</td>\n",
       "      <td>916</td>\n",
       "      <td>158</td>\n",
       "      <td>1.0</td>\n",
       "    </tr>\n",
       "    <tr>\n",
       "      <th>37386</th>\n",
       "      <td>5</td>\n",
       "      <td>916</td>\n",
       "      <td>163</td>\n",
       "      <td>6.0</td>\n",
       "    </tr>\n",
       "    <tr>\n",
       "      <th>37387</th>\n",
       "      <td>3</td>\n",
       "      <td>916</td>\n",
       "      <td>170</td>\n",
       "      <td>2.0</td>\n",
       "    </tr>\n",
       "    <tr>\n",
       "      <th>37388</th>\n",
       "      <td>5</td>\n",
       "      <td>916</td>\n",
       "      <td>174</td>\n",
       "      <td>6.0</td>\n",
       "    </tr>\n",
       "    <tr>\n",
       "      <th>37389</th>\n",
       "      <td>3</td>\n",
       "      <td>916</td>\n",
       "      <td>181</td>\n",
       "      <td>1.0</td>\n",
       "    </tr>\n",
       "  </tbody>\n",
       "</table>\n",
       "<p>51690 rows × 4 columns</p>\n",
       "</div>"
      ],
      "text/plain": [
       "      dimension_id  user_id  item_id  correct\n",
       "0                9        0        3      1.0\n",
       "1                9        0       12      3.0\n",
       "2                9        0       20      2.0\n",
       "3                9        0       27      3.0\n",
       "4                9        0       34      1.0\n",
       "...            ...      ...      ...      ...\n",
       "37385            3      916      158      1.0\n",
       "37386            5      916      163      6.0\n",
       "37387            3      916      170      2.0\n",
       "37388            5      916      174      6.0\n",
       "37389            3      916      181      1.0\n",
       "\n",
       "[51690 rows x 4 columns]"
      ]
     },
     "execution_count": 7,
     "metadata": {},
     "output_type": "execute_result"
    }
   ],
   "source": [
    "cleaned_data"
   ]
  },
  {
   "cell_type": "markdown",
   "id": "bdc2248d4ab506f5",
   "metadata": {
    "collapsed": false,
    "jupyter": {
     "outputs_hidden": false
    }
   },
   "source": [
    "## Remove duplicated user and id rows"
   ]
  },
  {
   "cell_type": "code",
   "execution_count": 8,
   "id": "86fa5ac7d6eef50a",
   "metadata": {
    "ExecuteTime": {
     "end_time": "2025-01-02T16:48:33.989195Z",
     "start_time": "2025-01-02T16:48:33.964238Z"
    },
    "collapsed": false,
    "jupyter": {
     "outputs_hidden": false
    }
   },
   "outputs": [],
   "source": [
    "unduplicated_data = remove_duplicates(cleaned_data,key_attrs=['user_id','item_id','dimension_id'],agg_attrs=[])"
   ]
  },
  {
   "cell_type": "markdown",
   "id": "bfc8fb71455fa81",
   "metadata": {
    "collapsed": false,
    "jupyter": {
     "outputs_hidden": false
    }
   },
   "source": [
    "## Filter data"
   ]
  },
  {
   "cell_type": "code",
   "execution_count": 9,
   "id": "807705eddc16145f",
   "metadata": {
    "ExecuteTime": {
     "end_time": "2025-01-02T16:48:34.731637Z",
     "start_time": "2025-01-02T16:48:34.000591Z"
    },
    "collapsed": false,
    "jupyter": {
     "outputs_hidden": false
    }
   },
   "outputs": [
    {
     "name": "stdout",
     "output_type": "stream",
     "text": [
      "filter 1 dimension_id\n"
     ]
    },
    {
     "name": "stderr",
     "output_type": "stream",
     "text": [
      "/tmp/ipykernel_120222/2220678128.py:12: SettingWithCopyWarning: \n",
      "A value is trying to be set on a copy of a slice from a DataFrame.\n",
      "Try using .loc[row_indexer,col_indexer] = value instead\n",
      "\n",
      "See the caveats in the documentation: https://pandas.pydata.org/pandas-docs/stable/user_guide/indexing.html#returning-a-view-versus-a-copy\n",
      "  agg_data_0['dimension_id'] = agg_data_0['dimension_id'].str.strip('{}')\n"
     ]
    },
    {
     "name": "stdout",
     "output_type": "stream",
     "text": [
      "filter 0 item_id\n",
      "filter 171 user_id\n",
      "filter 0 dimension_id\n",
      "filter 0 item_id\n",
      "filter 0 user_id\n",
      "Total length: 48583\n",
      "Number of unique [user_id,item_id]: 34563\n",
      "Number of unique user_id: 746\n",
      "Number of unique item_id: 180\n",
      "Number of unique dimension_id: 17\n"
     ]
    }
   ],
   "source": [
    "filtered_data_0 = unduplicated_data\n",
    "filtered_q_nb = 1\n",
    "filtered_u_nb = 0\n",
    "filtered_d_nb = 0\n",
    "\n",
    "while filtered_q_nb!=0 or filtered_u_nb!=0 or filtered_d_nb!=0: \n",
    "    # filter knowledges\n",
    "    filtered_data_1,filtered_d_nb = densify(filtered_data_0,'dimension_id','item_id',5)\n",
    "    \n",
    "    # aggregate\n",
    "    agg_data_0 = filtered_data_1\n",
    "    agg_data_0['dimension_id'] = agg_data_0['dimension_id'].str.strip('{}')\n",
    "    grouped_data = agg_data_0.groupby(['user_id', 'item_id'])['dimension_id'] \\\n",
    "        .apply(lambda x: '{' + ', '.join(x) + '}') \\\n",
    "        .reset_index()\n",
    "    agg_data_0 = agg_data_0.drop(columns=['dimension_id']).drop_duplicates(subset=['user_id', 'item_id'])\n",
    "    agg_data_0 = pd.merge(agg_data_0, grouped_data, on=['user_id', 'item_id'], how='left')\n",
    "    \n",
    "    # filter items\n",
    "    filtered_data_2,filtered_q_nb = densify(agg_data_0,'item_id','user_id',20)\n",
    "    \n",
    "    # filter users\n",
    "    filtered_data_3,filtered_u_nb = densify(filtered_data_2,'user_id','item_id',20)\n",
    "    \n",
    "    # split\n",
    "    split_0 = filtered_data_3\n",
    "    split_0.loc[:,'dimension_id'] = split_0['dimension_id'].str.strip('{}').str.split(',')\n",
    "    split_0 = split_0.explode('dimension_id')\n",
    "    split_0['dimension_id'] = split_0['dimension_id'].str.strip()\n",
    "    \n",
    "    # update the dataset for potential next iteration\n",
    "    filtered_data_0 = split_0\n",
    "    \n",
    "    \n",
    "stat_unique(filtered_data_0, None)\n",
    "stat_unique(filtered_data_0, ['user_id', 'item_id'])\n",
    "stat_unique(filtered_data_0, 'user_id')\n",
    "stat_unique(filtered_data_0, 'item_id')\n",
    "stat_unique(filtered_data_0, 'dimension_id')"
   ]
  },
  {
   "cell_type": "markdown",
   "id": "cd59d149817334ab",
   "metadata": {
    "collapsed": false,
    "jupyter": {
     "outputs_hidden": false
    }
   },
   "source": [
    "## Encoding"
   ]
  },
  {
   "cell_type": "code",
   "execution_count": 10,
   "id": "8d36d3ca01864905",
   "metadata": {
    "ExecuteTime": {
     "end_time": "2025-01-02T16:48:35.413421Z",
     "start_time": "2025-01-02T16:48:34.749168Z"
    },
    "collapsed": false,
    "jupyter": {
     "outputs_hidden": false
    }
   },
   "outputs": [],
   "source": [
    "# renumber the users\n",
    "u_enc_data, u2n = encode_attr(filtered_data_0, \"user_id\")"
   ]
  },
  {
   "cell_type": "code",
   "execution_count": 11,
   "id": "d73720573a20751b",
   "metadata": {
    "ExecuteTime": {
     "end_time": "2025-01-02T16:48:36.108904Z",
     "start_time": "2025-01-02T16:48:35.416429Z"
    },
    "collapsed": false,
    "jupyter": {
     "outputs_hidden": false
    }
   },
   "outputs": [],
   "source": [
    "# renumber the items\n",
    "q_enc_data, q2n = encode_attr(u_enc_data, \"item_id\")"
   ]
  },
  {
   "cell_type": "code",
   "execution_count": 12,
   "id": "7ec6b9b67b814f41",
   "metadata": {
    "ExecuteTime": {
     "end_time": "2025-01-02T16:48:36.810079Z",
     "start_time": "2025-01-02T16:48:36.119915Z"
    },
    "collapsed": false,
    "jupyter": {
     "outputs_hidden": false
    }
   },
   "outputs": [],
   "source": [
    "# renumber the dimensions\n",
    "d_enc_data, d2n = encode_attr(q_enc_data, \"dimension_id\")"
   ]
  },
  {
   "cell_type": "markdown",
   "id": "180bf4238378e755",
   "metadata": {
    "collapsed": false,
    "jupyter": {
     "outputs_hidden": false
    }
   },
   "source": [
    "## Maps creation"
   ]
  },
  {
   "cell_type": "code",
   "execution_count": 13,
   "id": "140c1d7bb2b4fa58",
   "metadata": {
    "ExecuteTime": {
     "end_time": "2025-01-02T16:48:36.840106Z",
     "start_time": "2025-01-02T16:48:36.821602Z"
    },
    "collapsed": false,
    "jupyter": {
     "outputs_hidden": false
    }
   },
   "outputs": [],
   "source": [
    "q2k, k2q = create_q2k(d_enc_data)"
   ]
  },
  {
   "cell_type": "markdown",
   "id": "d7225f73f4a3d87c",
   "metadata": {
    "collapsed": false,
    "jupyter": {
     "outputs_hidden": false
    }
   },
   "source": [
    "## Rescaling responses"
   ]
  },
  {
   "cell_type": "code",
   "execution_count": 14,
   "id": "caff8cd53ddb31fc",
   "metadata": {
    "ExecuteTime": {
     "end_time": "2025-01-02T16:48:37.208897Z",
     "start_time": "2025-01-02T16:48:37.178218Z"
    }
   },
   "outputs": [
    {
     "name": "stdout",
     "output_type": "stream",
     "text": [
      "min value : item_id\n",
      "0      1.0\n",
      "1      1.0\n",
      "2      1.0\n",
      "3      1.0\n",
      "4      1.0\n",
      "      ... \n",
      "175    1.0\n",
      "176    1.0\n",
      "177    1.0\n",
      "178    1.0\n",
      "179    1.0\n",
      "Name: correct, Length: 180, dtype: float64, max value : item_id\n",
      "0      2.0\n",
      "1      2.0\n",
      "2      2.0\n",
      "3      2.0\n",
      "4      2.0\n",
      "      ... \n",
      "175    2.0\n",
      "176    2.0\n",
      "177    2.0\n",
      "178    2.0\n",
      "179    2.0\n",
      "Name: correct, Length: 180, dtype: float64\n"
     ]
    }
   ],
   "source": [
    "d_enc_data['correct'] = d_enc_data['correct'].astype(float)\n",
    "\n",
    "min_val = d_enc_data.groupby('item_id')['correct'].transform('min')\n",
    "max_val = d_enc_data.groupby('item_id')['correct'].transform('max')\n",
    "\n",
    "# Rescale 'correct' values per 'item_id'\n",
    "d_enc_data['correct'] = (d_enc_data['correct'] - min_val) / (max_val - min_val) + 1\n",
    "\n",
    "# Assign the rescaled data to 'rescaled_data'\n",
    "rescaled_data = d_enc_data\n",
    "print(f'min value : {rescaled_data.groupby(\"item_id\")[\"correct\"].min()}, max value : {rescaled_data.groupby(\"item_id\")[\"correct\"].max()}')"
   ]
  },
  {
   "cell_type": "markdown",
   "id": "5562a84fea57b426",
   "metadata": {
    "collapsed": false,
    "jupyter": {
     "outputs_hidden": false
    }
   },
   "source": [
    "## Get final stats and create metadata"
   ]
  },
  {
   "cell_type": "code",
   "execution_count": 15,
   "id": "3b265eb148b24a80",
   "metadata": {
    "ExecuteTime": {
     "end_time": "2025-01-02T16:49:00.915126Z",
     "start_time": "2025-01-02T16:49:00.876301Z"
    },
    "collapsed": false,
    "jupyter": {
     "outputs_hidden": false
    }
   },
   "outputs": [
    {
     "name": "stdout",
     "output_type": "stream",
     "text": [
      "Total length: 48583\n",
      "Number of unique [user_id,item_id]: 34563\n",
      "Number of unique user_id: 746\n",
      "Number of unique item_id: 180\n",
      "Number of unique dimension_id: 17\n",
      "Number of unique correct: 22\n",
      "#questions/category: 7 & 14 &  22\n",
      "#users/category: 38 & 206 &  460\n",
      "#categorys/question: 1 & 1 &  3\n",
      "#users/question: 38 & 192 &  460\n",
      "#questions/users: 20 & 46 &  92\n",
      "#categorys/users: 1 & 5 &  10\n"
     ]
    }
   ],
   "source": [
    "stat_unique(rescaled_data, None)\n",
    "stat_unique(rescaled_data, ['user_id', 'item_id'])\n",
    "stat_unique(rescaled_data, 'user_id')\n",
    "stat_unique(rescaled_data, 'item_id')\n",
    "stat_unique(rescaled_data, 'dimension_id')\n",
    "stat_unique(rescaled_data, 'correct')\n",
    "\n",
    "rescaled_data_dim_grouped_items = rescaled_data.groupby(\"dimension_id\")[\"item_id\"].nunique()\n",
    "rescaled_data_dim_grouped_users = rescaled_data.groupby(\"dimension_id\")[\"user_id\"].nunique()\n",
    "print('#questions/category: {} & {} &  {}'.format(np.min(rescaled_data_dim_grouped_items),int(np.round(np.mean(rescaled_data_dim_grouped_items))),np.max(rescaled_data_dim_grouped_items)))\n",
    "print('#users/category: {} & {} &  {}'.format(np.min(rescaled_data_dim_grouped_users),int(np.round(np.mean(rescaled_data_dim_grouped_users))),np.max(rescaled_data_dim_grouped_users)))\n",
    "\n",
    "rescaled_data_dim_grouped_items = rescaled_data.groupby(\"item_id\")[\"dimension_id\"].nunique()\n",
    "rescaled_data_dim_grouped_users = rescaled_data.groupby(\"item_id\")[\"user_id\"].nunique()\n",
    "print('#categorys/question: {} & {} &  {}'.format(np.min(rescaled_data_dim_grouped_items),int(np.round(np.mean(rescaled_data_dim_grouped_items))),np.max(rescaled_data_dim_grouped_items)))\n",
    "print('#users/question: {} & {} &  {}'.format(np.min(rescaled_data_dim_grouped_users),int(np.round(np.mean(rescaled_data_dim_grouped_users))),np.max(rescaled_data_dim_grouped_users)))\n",
    "\n",
    "rescaled_data_dim_grouped_items = rescaled_data.groupby(\"user_id\")[\"item_id\"].nunique()\n",
    "rescaled_data_dim_grouped_users = rescaled_data.groupby(\"user_id\")[\"dimension_id\"].nunique()\n",
    "print('#questions/users: {} & {} &  {}'.format(np.min(rescaled_data_dim_grouped_items),int(np.round(np.mean(rescaled_data_dim_grouped_items))),np.max(rescaled_data_dim_grouped_items)))\n",
    "print('#categorys/users: {} & {} &  {}'.format(np.min(rescaled_data_dim_grouped_users),int(np.round(np.mean(rescaled_data_dim_grouped_users))),np.max(rescaled_data_dim_grouped_users)))"
   ]
  },
  {
   "cell_type": "code",
   "execution_count": 16,
   "id": "c093fc6c6a93f3e5",
   "metadata": {
    "ExecuteTime": {
     "end_time": "2025-01-02T17:00:37.166852Z",
     "start_time": "2025-01-02T17:00:36.837017Z"
    }
   },
   "outputs": [
    {
     "data": {
      "text/plain": [
       "Text(0.5, 1.0, 'Distribution of Responses')"
      ]
     },
     "execution_count": 16,
     "metadata": {},
     "output_type": "execute_result"
    },
    {
     "data": {
      "image/png": "[encoded data removed]",
      "text/plain": [
       "<Figure size 640x480 with 1 Axes>"
      ]
     },
     "metadata": {},
     "output_type": "display_data"
    }
   ],
   "source": [
    "import matplotlib.pyplot as plt\n",
    "\n",
    "# draw a histogram of the age column\n",
    "(rescaled_data['correct']-1).hist(bins=20)\n",
    "\n",
    "# add labels and title\n",
    "plt.xlabel('Responses')\n",
    "plt.ylabel('Number')\n",
    "plt.title('Distribution of Responses')\n"
   ]
  },
  {
   "cell_type": "code",
   "execution_count": 17,
   "id": "65eeae3d87bd9e23",
   "metadata": {
    "ExecuteTime": {
     "end_time": "2024-12-14T14:17:36.627552Z",
     "start_time": "2024-12-14T14:17:36.611915Z"
    },
    "collapsed": false,
    "jupyter": {
     "outputs_hidden": false
    }
   },
   "outputs": [],
   "source": [
    "metadata = get_metadata(rescaled_data,[\"user_id\", \"item_id\", \"dimension_id\"])"
   ]
  },
  {
   "cell_type": "markdown",
   "id": "8701d955-e709-4c9a-a710-2bcc1d63a012",
   "metadata": {},
   "source": [
    "## Compute nb of modalities"
   ]
  },
  {
   "cell_type": "markdown",
   "id": "bcd97210-e3fb-4e8d-b878-5e51979d8b1d",
   "metadata": {},
   "source": [
    "## Compute number of modalities"
   ]
  },
  {
   "cell_type": "code",
   "execution_count": 33,
   "id": "8f5d179a-ccdd-447d-a6af-6cd89d3dba24",
   "metadata": {},
   "outputs": [],
   "source": [
    "nb_modalities = get_modalities_nb(rescaled_data, metadata)"
   ]
  },
  {
   "cell_type": "markdown",
   "id": "a323ba5d84cc4d5",
   "metadata": {
    "collapsed": false,
    "jupyter": {
     "outputs_hidden": false
    }
   },
   "source": [
    "### Save data, concept map, metadata and nb of modalities"
   ]
  },
  {
   "cell_type": "code",
   "execution_count": 25,
   "id": "d33b8a3c134519ba",
   "metadata": {
    "ExecuteTime": {
     "end_time": "2024-12-14T14:17:37.891541Z",
     "start_time": "2024-12-14T14:17:37.849896Z"
    },
    "collapsed": false,
    "jupyter": {
     "outputs_hidden": false
    }
   },
   "outputs": [],
   "source": [
    "# save selected data\n",
    "rescaled_data.to_csv('selected_data.csv', index=False)"
   ]
  },
  {
   "cell_type": "code",
   "execution_count": 26,
   "id": "5e0740cd41cb77de",
   "metadata": {
    "ExecuteTime": {
     "end_time": "2024-12-14T14:17:38.202087Z",
     "start_time": "2024-12-14T14:17:38.186085Z"
    },
    "collapsed": false,
    "jupyter": {
     "outputs_hidden": false
    }
   },
   "outputs": [],
   "source": [
    "# Convert int64 keys to a compatible type (e.g., int)\n",
    "q2k_serializable = {str(key): value for key, value in q2k.items()}\n",
    "# save concept map\n",
    "with open('concept_map.json', 'w') as f:\n",
    "    json.dump(q2k_serializable, f)"
   ]
  },
  {
   "cell_type": "code",
   "execution_count": 27,
   "id": "c8b1634757f6212d",
   "metadata": {
    "ExecuteTime": {
     "end_time": "2024-12-14T14:17:38.456783Z",
     "start_time": "2024-12-14T14:17:38.446256Z"
    },
    "collapsed": false,
    "jupyter": {
     "outputs_hidden": false
    }
   },
   "outputs": [],
   "source": [
    "# save metadata\n",
    "with open('metadata.json', 'w') as f:\n",
    "    json.dump(metadata, f)"
   ]
  },
  {
   "cell_type": "code",
   "execution_count": 34,
   "id": "6ef5ca8c-aa63-40cf-a519-593fadb84e52",
   "metadata": {},
   "outputs": [],
   "source": [
    "# save nb_modalities\n",
    "import torch\n",
    "torch.save(nb_modalities,'nb_modalities.pkl')"
   ]
  },
  {
   "cell_type": "markdown",
   "id": "c42935fd9e482e80",
   "metadata": {
    "collapsed": false,
    "jupyter": {
     "outputs_hidden": false
    }
   },
   "source": [
    "## Parse data"
   ]
  },
  {
   "cell_type": "code",
   "execution_count": 28,
   "id": "4bb53cbc20919432",
   "metadata": {
    "ExecuteTime": {
     "end_time": "2024-12-14T14:17:42.633135Z",
     "start_time": "2024-12-14T14:17:42.570422Z"
    },
    "collapsed": false,
    "jupyter": {
     "outputs_hidden": false
    }
   },
   "outputs": [],
   "source": [
    "quadruplet = quadruplet_format(rescaled_data)"
   ]
  },
  {
   "cell_type": "code",
   "execution_count": 29,
   "id": "4be7240f1c6b72d5",
   "metadata": {
    "ExecuteTime": {
     "end_time": "2024-12-14T14:17:43.910225Z",
     "start_time": "2024-12-14T14:17:42.973556Z"
    },
    "collapsed": false,
    "jupyter": {
     "outputs_hidden": false
    }
   },
   "outputs": [],
   "source": [
    "stu_data, ques_data = parse_data(rescaled_data)"
   ]
  },
  {
   "cell_type": "code",
   "execution_count": 30,
   "id": "663f1ef383f651e7",
   "metadata": {
    "ExecuteTime": {
     "end_time": "2024-12-14T14:17:44.829314Z",
     "start_time": "2024-12-14T14:17:44.817430Z"
    },
    "collapsed": false,
    "jupyter": {
     "outputs_hidden": false
    }
   },
   "outputs": [],
   "source": [
    "test_size = 0.2\n",
    "valid_size = 0.2 # proportion over the all dataset\n",
    "least_test_length=18"
   ]
  },
  {
   "cell_type": "markdown",
   "id": "db639ff550318835",
   "metadata": {
    "collapsed": false,
    "jupyter": {
     "outputs_hidden": false
    }
   },
   "source": [
    "## Horizontal split"
   ]
  },
  {
   "cell_type": "code",
   "execution_count": 40,
   "id": "8b69deb39e5582c1",
   "metadata": {
    "ExecuteTime": {
     "end_time": "2024-12-05T10:09:32.792716Z",
     "start_time": "2024-12-05T10:09:32.774630Z"
    },
    "collapsed": false,
    "jupyter": {
     "outputs_hidden": false
    }
   },
   "outputs": [
    {
     "name": "stdout",
     "output_type": "stream",
     "text": [
      "WARNING !!!! : least_test_length not used !!!!!!!!!!!!!!!!!!!!!!!!!!!!!!!!!!!!!!!!!!!!!!!!!!!!!!!!!!!!!\n"
     ]
    }
   ],
   "source": [
    "train_data, valid_data, test_data = split_data(quadruplet, stu_data, test_prop=test_size, valid_prop=valid_size, least_test_length=least_test_length) "
   ]
  },
  {
   "cell_type": "code",
   "execution_count": 95,
   "id": "65a3fc79edb461fa",
   "metadata": {
    "ExecuteTime": {
     "end_time": "2024-11-15T18:59:26.082220Z",
     "start_time": "2024-11-15T18:59:26.070207Z"
    },
    "collapsed": false,
    "jupyter": {
     "outputs_hidden": false
    }
   },
   "outputs": [
    {
     "name": "stdout",
     "output_type": "stream",
     "text": [
      "train records length: 21254\n",
      "test records length: 6483\n",
      "valid records length: 6826\n",
      "all records length: 34563\n"
     ]
    }
   ],
   "source": [
    "print(f'train records length: {len(train_data)}')\n",
    "print(f'test records length: {len(test_data)}')\n",
    "print(f'valid records length: {len(valid_data)}')\n",
    "print(f'all records length: {len(train_data)+len(valid_data)+len(test_data)}')"
   ]
  },
  {
   "cell_type": "markdown",
   "id": "8989d53997cd5b0e",
   "metadata": {
    "collapsed": false,
    "jupyter": {
     "outputs_hidden": false
    }
   },
   "source": [
    "## Save row data"
   ]
  },
  {
   "cell_type": "code",
   "execution_count": 31,
   "id": "f792fe65f8153124",
   "metadata": {
    "ExecuteTime": {
     "end_time": "2024-12-14T14:17:52.419704Z",
     "start_time": "2024-12-14T14:17:52.405045Z"
    },
    "collapsed": false,
    "jupyter": {
     "outputs_hidden": false
    }
   },
   "outputs": [
    {
     "ename": "NameError",
     "evalue": "name 'train_data' is not defined",
     "output_type": "error",
     "traceback": [
      "\u001b[0;31m---------------------------------------------------------------------------\u001b[0m",
      "\u001b[0;31mNameError\u001b[0m                                 Traceback (most recent call last)",
      "Cell \u001b[0;32mIn[31], line 1\u001b[0m\n\u001b[0;32m----> 1\u001b[0m save_to_csv(\u001b[43mtrain_data\u001b[49m, \u001b[38;5;124m'\u001b[39m\u001b[38;5;124m../2-preprocessed_data/postcovid_train_quadruples.csv\u001b[39m\u001b[38;5;124m'\u001b[39m)\n\u001b[1;32m      2\u001b[0m save_to_csv(valid_data, \u001b[38;5;124m'\u001b[39m\u001b[38;5;124m../2-preprocessed_data/postcovid_valid_quadruples.csv\u001b[39m\u001b[38;5;124m'\u001b[39m)\n\u001b[1;32m      3\u001b[0m save_to_csv(test_data, \u001b[38;5;124m'\u001b[39m\u001b[38;5;124m../2-preprocessed_data/postcovid_test_quadruples.csv\u001b[39m\u001b[38;5;124m'\u001b[39m)\n",
      "\u001b[0;31mNameError\u001b[0m: name 'train_data' is not defined"
     ]
    }
   ],
   "source": [
    "save_to_csv(train_data, '../2-preprocessed_data/postcovid_train_quadruples.csv')\n",
    "save_to_csv(valid_data, '../2-preprocessed_data/postcovid_valid_quadruples.csv')\n",
    "save_to_csv(test_data, '../2-preprocessed_data/postcovid_test_quadruples.csv')"
   ]
  },
  {
   "cell_type": "markdown",
   "id": "1777c947c0b7d96",
   "metadata": {
    "collapsed": false,
    "jupyter": {
     "outputs_hidden": false
    }
   },
   "source": [
    "## Vertical split"
   ]
  },
  {
   "cell_type": "code",
   "execution_count": 32,
   "id": "3102b0b2b48b9557",
   "metadata": {
    "ExecuteTime": {
     "end_time": "2024-12-14T14:18:03.691845Z",
     "start_time": "2024-12-14T14:18:01.462057Z"
    },
    "collapsed": false,
    "jupyter": {
     "outputs_hidden": false
    }
   },
   "outputs": [],
   "source": [
    "train_data, valid_data, test_data = split_data_vertically(quadruplet, test_prop=test_size,valid_prop=valid_size, folds_nb=5)"
   ]
  },
  {
   "cell_type": "code",
   "execution_count": 33,
   "id": "19d7f66b3d036ebd",
   "metadata": {
    "ExecuteTime": {
     "end_time": "2024-12-14T14:18:04.054615Z",
     "start_time": "2024-12-14T14:18:03.696201Z"
    },
    "collapsed": false,
    "jupyter": {
     "outputs_hidden": false
    }
   },
   "outputs": [],
   "source": [
    "for i_fold, train_fold in enumerate(train_data):\n",
    "    save_to_csv(train_data[i_fold], f'../2-preprocessed_data/postcovid_train_quadruples_vert_{i_fold}.csv')\n",
    "    save_to_csv(valid_data[i_fold], f'../2-preprocessed_data/postcovid_valid_quadruples_vert_{i_fold}.csv')\n",
    "    save_to_csv(test_data[i_fold], f'../2-preprocessed_data/postcovid_test_quadruples_vert_{i_fold}.csv')"
   ]
  },
  {
   "cell_type": "markdown",
   "id": "1311d9b4bbe44ab0",
   "metadata": {
    "collapsed": false,
    "jupyter": {
     "outputs_hidden": false
    }
   },
   "source": [
    "## One hot encoding"
   ]
  },
  {
   "cell_type": "code",
   "execution_count": 223,
   "id": "9619cfafb3e25dd4",
   "metadata": {
    "ExecuteTime": {
     "end_time": "2024-05-30T17:11:24.053833Z",
     "start_time": "2024-05-30T17:11:23.996541Z"
    },
    "collapsed": false,
    "jupyter": {
     "outputs_hidden": false
    }
   },
   "outputs": [],
   "source": [
    "unique_item_ids = filtered_data_3['item_id'].unique()\n",
    "response_range_dict = {item_id: 11 for item_id in unique_item_ids}"
   ]
  },
  {
   "cell_type": "code",
   "execution_count": 247,
   "id": "9204ca2966e17874",
   "metadata": {
    "ExecuteTime": {
     "end_time": "2024-05-30T17:29:24.979154Z",
     "start_time": "2024-05-30T17:29:24.888707Z"
    },
    "collapsed": false,
    "jupyter": {
     "outputs_hidden": false
    }
   },
   "outputs": [],
   "source": [
    "import numpy as np\n",
    "def one_hot_encoding(df):\n",
    "    c_binary_list = []\n",
    "    for index, row in df.iterrows():\n",
    "        c = (row['correct'] - 1) * 10\n",
    "        c = round(c)\n",
    "        for i in range(11):\n",
    "            if i ==c:\n",
    "                c_binary_list.append(1)\n",
    "            else:\n",
    "                c_binary_list.append(0)\n",
    "                \n",
    "    duplicated_df = pd.DataFrame(np.repeat(df.values, 11, axis=0), columns=df.columns)\n",
    "    duplicated_df = duplicated_df.astype({'item_id': 'int32'})\n",
    "    duplicated_df = duplicated_df.astype({'item_id': 'str'})\n",
    "    for index, row in duplicated_df.iterrows():\n",
    "        i = index % 11\n",
    "        orig_q_id = row['item_id']\n",
    "        duplicated_df.at[index, 'item_id'] = str(orig_q_id) + '_' + str(i)\n",
    "        duplicated_df.at[index, 'correct_binary'] = int(c_binary_list[index])\n",
    "    return duplicated_df"
   ]
  },
  {
   "cell_type": "code",
   "execution_count": 248,
   "id": "31d4469e19a8ba1e",
   "metadata": {
    "ExecuteTime": {
     "end_time": "2024-05-30T17:29:36.062374Z",
     "start_time": "2024-05-30T17:29:26.069478Z"
    },
    "collapsed": false,
    "jupyter": {
     "outputs_hidden": false
    }
   },
   "outputs": [],
   "source": [
    "train = pd.read_csv(\"../2-preprocessed_data/postcovid_train_quadruples.csv\").astype({'student_id':int, 'item_id':int, \"correct\":float})\n",
    "duplicated_train = one_hot_encoding(train)\n",
    "duplicated_train.to_csv('../2-preprocessed_data/postcovid_train_quadruples_ohe.csv', index=False)"
   ]
  },
  {
   "cell_type": "code",
   "execution_count": 249,
   "id": "2f5da4f8b0161e4d",
   "metadata": {
    "ExecuteTime": {
     "end_time": "2024-05-30T17:29:42.957988Z",
     "start_time": "2024-05-30T17:29:39.579003Z"
    },
    "collapsed": false,
    "jupyter": {
     "outputs_hidden": false
    }
   },
   "outputs": [],
   "source": [
    "valid = pd.read_csv(\"../2-preprocessed_data/postcovid_valid_quadruples.csv\").astype({'student_id':int, 'item_id':int, \"correct\":float})\n",
    "duplicated_valid = one_hot_encoding(valid)\n",
    "duplicated_valid.to_csv('../2-preprocessed_data/postcovid_valid_quadruples_ohe.csv', index=False)"
   ]
  },
  {
   "cell_type": "code",
   "execution_count": 250,
   "id": "46ce160e5ffb689d",
   "metadata": {
    "ExecuteTime": {
     "end_time": "2024-05-30T17:29:50.354752Z",
     "start_time": "2024-05-30T17:29:46.831988Z"
    },
    "collapsed": false,
    "jupyter": {
     "outputs_hidden": false
    }
   },
   "outputs": [],
   "source": [
    "test = pd.read_csv(\"../2-preprocessed_data/postcovid_test_quadruples.csv\")\n",
    "duplicated_test = one_hot_encoding(test)\n",
    "duplicated_test.to_csv('../2-preprocessed_data/postcovid_test_quadruples_ohe.csv', index=False)"
   ]
  },
  {
   "cell_type": "code",
   "execution_count": 251,
   "id": "a56727d89961f534",
   "metadata": {
    "ExecuteTime": {
     "end_time": "2024-05-30T17:32:17.121148Z",
     "start_time": "2024-05-30T17:30:58.480033Z"
    },
    "collapsed": false,
    "jupyter": {
     "outputs_hidden": false
    }
   },
   "outputs": [],
   "source": [
    "# import numpy as np\n",
    "# import pandas as pd\n",
    "# from tqdm import tqdm\n",
    "\n",
    "for i in range(5) : \n",
    "    train = pd.read_csv(\"../2-preprocessed_data/postcovid_train_quadruples_vert_\"+str(i)+\".csv\").astype({'student_id':int, 'item_id':int, \"correct\":float})\n",
    "    duplicated_train = one_hot_encoding(train)\n",
    "    duplicated_train.to_csv('../2-preprocessed_data/postcovid_train_quadruples_vert_ohe_'+str(i)+'.csv', index=False)\n",
    "    \n",
    "    valid = pd.read_csv(\"../2-preprocessed_data/postcovid_valid_quadruples_vert_\"+str(i)+\".csv\").astype({'student_id':int, 'item_id':int, \"correct\":float})\n",
    "    duplicated_valid = one_hot_encoding(valid)\n",
    "    duplicated_valid.to_csv('../2-preprocessed_data/postcovid_valid_quadruples_vert_ohe_'+str(i)+'.csv', index=False)\n",
    "    \n",
    "    test = pd.read_csv(\"../2-preprocessed_data/postcovid_test_quadruples_vert_\"+str(i)+\".csv\").astype({'student_id':int, 'item_id':int, \"correct\":float})\n",
    "    duplicated_test = one_hot_encoding(test)\n",
    "    duplicated_test.to_csv('../2-preprocessed_data/postcovid_test_quadruples_vert_ohe_'+str(i)+'.csv', index=False)"
   ]
  }
 ],
 "metadata": {
  "kernelspec": {
   "display_name": "Python 3 (ipykernel)",
   "language": "python",
   "name": "python3"
  },
  "language_info": {
   "codemirror_mode": {
    "name": "ipython",
    "version": 3
   },
   "file_extension": ".py",
   "mimetype": "text/x-python",
   "name": "python",
   "nbconvert_exporter": "python",
   "pygments_lexer": "ipython3",
   "version": "3.11.11"
  }
 },
 "nbformat": 4,
 "nbformat_minor": 5
}
