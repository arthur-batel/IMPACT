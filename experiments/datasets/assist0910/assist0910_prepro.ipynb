{
 "cells": [
  {
   "cell_type": "markdown",
   "id": "3f91591122382be0",
   "metadata": {},
   "source": [
    "# Assist0910 dataset preprocessing\n",
    "### Import"
   ]
  },
  {
   "cell_type": "code",
   "id": "5c572fedcc3d884",
   "metadata": {
    "ExecuteTime": {
     "end_time": "2025-02-13T13:25:04.854024Z",
     "start_time": "2025-02-13T13:25:04.846762Z"
    }
   },
   "source": [
    "%load_ext autoreload\n",
    "%autoreload 2"
   ],
   "outputs": [],
   "execution_count": 2
  },
  {
   "cell_type": "code",
   "id": "763506e3fc4c3ef3",
   "metadata": {
    "ExecuteTime": {
     "end_time": "2025-02-13T13:25:06.576902Z",
     "start_time": "2025-02-13T13:25:05.289452Z"
    }
   },
   "source": [
    "import sys\n",
    "sys.path.append('../../../')\n",
    "sys.path.append('../')\n",
    "from experiments.datasets.data_utils.preprocessing_utilities import stat_unique, remove_duplicates, densify,create_q2k, encode_attr, quadruplet_format, parse_data, split_data, save_to_csv,get_metadata, split_data_vertically,rescaling_dict,one_hot_encoding,split_small_data_vertically\n",
    "\n",
    "import json\n",
    "import pandas as pd\n",
    "import numpy as np"
   ],
   "outputs": [],
   "execution_count": 3
  },
  {
   "cell_type": "markdown",
   "id": "2c6ffc9f3b1e2e5c",
   "metadata": {},
   "source": [
    "### Load and merge dataset"
   ]
  },
  {
   "cell_type": "code",
   "id": "1a7130a281aaf6d8",
   "metadata": {
    "ExecuteTime": {
     "end_time": "2025-02-13T13:25:07.141747Z",
     "start_time": "2025-02-13T13:25:06.580776Z"
    }
   },
   "source": [
    "raw_data = pd.read_csv('../1-raw_data/assist0910.csv', encoding=\"ISO-8859-15\", low_memory=False)\n",
    "\n",
    "raw_data = raw_data.drop(columns=['order_id', 'assignment_id', 'assistment_id',\n",
    "       'original',  'attempt_count', 'ms_first_response', 'answer_type',\n",
    "       'tutor_mode', 'sequence_id', 'student_class_id',\n",
    "       'position', 'type', 'base_sequence_id',  'skill_name',\n",
    "       'teacher_id', 'school_id', 'hint_count', 'hint_total', 'overlap_time',\n",
    "       'template_id', 'answer_id', 'answer_text', 'first_action',\n",
    "       'bottom_hint', 'opportunity', 'opportunity_original'])\n",
    "\n",
    "raw_data =  raw_data.rename(columns={\"skill_id\": \"dimension_id\", \"problem_id\":\"item_id\"})"
   ],
   "outputs": [],
   "execution_count": 4
  },
  {
   "cell_type": "markdown",
   "id": "70d36cb174851667",
   "metadata": {},
   "source": [
    "### Split rows with several dimensions"
   ]
  },
  {
   "cell_type": "code",
   "id": "48baada5ec363a41",
   "metadata": {
    "ExecuteTime": {
     "end_time": "2025-02-13T13:25:07.766608Z",
     "start_time": "2025-02-13T13:25:07.736990Z"
    }
   },
   "source": [
    "df_expanded = raw_data.explode('dimension_id').reset_index(drop=True)\n",
    "df_expanded.head()"
   ],
   "outputs": [
    {
     "data": {
      "text/plain": [
       "   user_id  item_id  correct  dimension_id\n",
       "0    64525    51424        1           1.0\n",
       "1    64525    51435        1           1.0\n",
       "2    70363    51444        0           1.0\n",
       "3    70363    51395        1           1.0\n",
       "4    70363    51481        0           1.0"
      ],
      "text/html": [
       "<div>\n",
       "<style scoped>\n",
       "    .dataframe tbody tr th:only-of-type {\n",
       "        vertical-align: middle;\n",
       "    }\n",
       "\n",
       "    .dataframe tbody tr th {\n",
       "        vertical-align: top;\n",
       "    }\n",
       "\n",
       "    .dataframe thead th {\n",
       "        text-align: right;\n",
       "    }\n",
       "</style>\n",
       "<table border=\"1\" class=\"dataframe\">\n",
       "  <thead>\n",
       "    <tr style=\"text-align: right;\">\n",
       "      <th></th>\n",
       "      <th>user_id</th>\n",
       "      <th>item_id</th>\n",
       "      <th>correct</th>\n",
       "      <th>dimension_id</th>\n",
       "    </tr>\n",
       "  </thead>\n",
       "  <tbody>\n",
       "    <tr>\n",
       "      <th>0</th>\n",
       "      <td>64525</td>\n",
       "      <td>51424</td>\n",
       "      <td>1</td>\n",
       "      <td>1.0</td>\n",
       "    </tr>\n",
       "    <tr>\n",
       "      <th>1</th>\n",
       "      <td>64525</td>\n",
       "      <td>51435</td>\n",
       "      <td>1</td>\n",
       "      <td>1.0</td>\n",
       "    </tr>\n",
       "    <tr>\n",
       "      <th>2</th>\n",
       "      <td>70363</td>\n",
       "      <td>51444</td>\n",
       "      <td>0</td>\n",
       "      <td>1.0</td>\n",
       "    </tr>\n",
       "    <tr>\n",
       "      <th>3</th>\n",
       "      <td>70363</td>\n",
       "      <td>51395</td>\n",
       "      <td>1</td>\n",
       "      <td>1.0</td>\n",
       "    </tr>\n",
       "    <tr>\n",
       "      <th>4</th>\n",
       "      <td>70363</td>\n",
       "      <td>51481</td>\n",
       "      <td>0</td>\n",
       "      <td>1.0</td>\n",
       "    </tr>\n",
       "  </tbody>\n",
       "</table>\n",
       "</div>"
      ]
     },
     "execution_count": 5,
     "metadata": {},
     "output_type": "execute_result"
    }
   ],
   "execution_count": 5
  },
  {
   "cell_type": "markdown",
   "id": "f532d0b094164b01",
   "metadata": {},
   "source": [
    "### Early stats"
   ]
  },
  {
   "cell_type": "code",
   "id": "d6b0feeae63d2c54",
   "metadata": {
    "ExecuteTime": {
     "end_time": "2025-02-13T13:25:09.325978Z",
     "start_time": "2025-02-13T13:25:09.305455Z"
    }
   },
   "source": [
    "print(len(df_expanded))\n",
    "all_data = df_expanded.dropna(subset=['user_id','item_id','correct','dimension_id'])\n",
    "print(len(all_data))"
   ],
   "outputs": [
    {
     "name": "stdout",
     "output_type": "stream",
     "text": [
      "401756\n",
      "338001\n"
     ]
    }
   ],
   "execution_count": 6
  },
  {
   "cell_type": "code",
   "id": "75ad853c5e6327ab",
   "metadata": {
    "ExecuteTime": {
     "end_time": "2025-02-13T13:25:10.070419Z",
     "start_time": "2025-02-13T13:25:10.043444Z"
    }
   },
   "source": [
    "stat_unique(all_data, None)\n",
    "stat_unique(all_data, ['user_id', 'item_id'])\n",
    "stat_unique(all_data, 'user_id')\n",
    "stat_unique(all_data, 'item_id')\n",
    "stat_unique(all_data, 'dimension_id')"
   ],
   "outputs": [
    {
     "name": "stdout",
     "output_type": "stream",
     "text": [
      "Total length: 338001\n",
      "Number of unique [user_id,item_id]: 278876\n",
      "Number of unique user_id: 4163\n",
      "Number of unique item_id: 17751\n",
      "Number of unique dimension_id: 123\n"
     ]
    }
   ],
   "execution_count": 7
  },
  {
   "cell_type": "markdown",
   "id": "9d2a99907e563075",
   "metadata": {},
   "source": [
    "### Clean Nan values"
   ]
  },
  {
   "cell_type": "code",
   "id": "10b1e79bf17e1a46",
   "metadata": {
    "ExecuteTime": {
     "end_time": "2025-02-13T13:25:11.401884Z",
     "start_time": "2025-02-13T13:25:11.382771Z"
    }
   },
   "source": "cleaned_data = all_data.dropna(subset=['user_id','item_id','dimension_id','correct'], axis='index')",
   "outputs": [],
   "execution_count": 8
  },
  {
   "cell_type": "markdown",
   "id": "1cf51a190511d02f",
   "metadata": {},
   "source": [
    "### Remove duplicated user and id rows"
   ]
  },
  {
   "cell_type": "code",
   "id": "128895437c128e14",
   "metadata": {
    "ExecuteTime": {
     "end_time": "2025-02-13T13:25:12.404084Z",
     "start_time": "2025-02-13T13:25:12.342145Z"
    }
   },
   "source": [
    "unduplicated_data = remove_duplicates(cleaned_data,key_attrs=['user_id','item_id','dimension_id'],agg_attrs=[])"
   ],
   "outputs": [],
   "execution_count": 9
  },
  {
   "cell_type": "markdown",
   "id": "4a633bb837a7af3b",
   "metadata": {},
   "source": [
    "### Filter Data"
   ]
  },
  {
   "cell_type": "code",
   "id": "62388835388d50d8",
   "metadata": {
    "ExecuteTime": {
     "end_time": "2025-02-13T13:33:10.889373Z",
     "start_time": "2025-02-13T13:33:10.464369Z"
    }
   },
   "source": [
    "filtered_data_0 = unduplicated_data\n",
    "filtered_q_nb = 1\n",
    "filtered_u_nb = 0\n",
    "filtered_d_nb = 0\n",
    "while filtered_q_nb!=0 or filtered_u_nb!=0 or filtered_d_nb!=0 : \n",
    "    # filter items\n",
    "    filtered_data_1, filtered_q_nb = densify(filtered_data_0,'item_id','user_id',15)\n",
    "    # filter users\n",
    "    filtered_data_2, filtered_u_nb = densify(filtered_data_1,'user_id','item_id',15)\n",
    "    # filter knowledges\n",
    "    filtered_data_3, filtered_d_nb = densify(filtered_data_2,'dimension_id','item_id',10)\n",
    "    filtered_data_0 = filtered_data_3\n",
    "    \n",
    "stat_unique(filtered_data_0, None)\n",
    "stat_unique(filtered_data_0, ['user_id', 'item_id'])\n",
    "stat_unique(filtered_data_0, 'user_id')\n",
    "stat_unique(filtered_data_0, 'item_id')\n",
    "stat_unique(filtered_data_0, 'dimension_id')"
   ],
   "outputs": [
    {
     "name": "stdout",
     "output_type": "stream",
     "text": [
      "filter 11277 item_id\n",
      "filter 1841 user_id\n",
      "filter 21 dimension_id\n",
      "filter 368 item_id\n",
      "filter 55 user_id\n",
      "filter 4 dimension_id\n",
      "filter 53 item_id\n",
      "filter 5 user_id\n",
      "filter 0 dimension_id\n",
      "filter 6 item_id\n",
      "filter 2 user_id\n",
      "filter 0 dimension_id\n",
      "filter 4 item_id\n",
      "filter 2 user_id\n",
      "filter 0 dimension_id\n",
      "filter 2 item_id\n",
      "filter 1 user_id\n",
      "filter 0 dimension_id\n",
      "filter 0 item_id\n",
      "filter 0 user_id\n",
      "filter 0 dimension_id\n",
      "Total length: 227409\n",
      "Number of unique [user_id,item_id]: 189545\n",
      "Number of unique user_id: 2102\n",
      "Number of unique item_id: 5950\n",
      "Number of unique dimension_id: 64\n"
     ]
    }
   ],
   "execution_count": 35
  },
  {
   "cell_type": "markdown",
   "id": "5f38b00b83903cf8",
   "metadata": {},
   "source": [
    "### Encoding"
   ]
  },
  {
   "metadata": {
    "ExecuteTime": {
     "end_time": "2025-02-13T13:33:14.364556Z",
     "start_time": "2025-02-13T13:33:11.917988Z"
    }
   },
   "cell_type": "code",
   "source": [
    "# renumber the users\n",
    "u_enc_data, u2n = encode_attr(filtered_data_0, \"user_id\")"
   ],
   "id": "461aaa3f05f101f3",
   "outputs": [],
   "execution_count": 36
  },
  {
   "metadata": {
    "ExecuteTime": {
     "end_time": "2025-02-13T13:33:16.712459Z",
     "start_time": "2025-02-13T13:33:14.367704Z"
    }
   },
   "cell_type": "code",
   "source": [
    "# renumber the items\n",
    "q_enc_data, q2n = encode_attr(u_enc_data, \"item_id\")"
   ],
   "id": "4ad08e7dad6b96ac",
   "outputs": [],
   "execution_count": 37
  },
  {
   "metadata": {
    "ExecuteTime": {
     "end_time": "2025-02-13T13:33:19.158531Z",
     "start_time": "2025-02-13T13:33:16.837342Z"
    }
   },
   "cell_type": "code",
   "source": [
    "# renumber the dimensions\n",
    "d_enc_data, d2n = encode_attr(q_enc_data, \"dimension_id\")"
   ],
   "id": "9d3b2c3dff642633",
   "outputs": [],
   "execution_count": 38
  },
  {
   "metadata": {},
   "cell_type": "markdown",
   "source": "### Maps creation",
   "id": "3b9e92e115b938bd"
  },
  {
   "metadata": {
    "ExecuteTime": {
     "end_time": "2025-02-13T13:33:19.399429Z",
     "start_time": "2025-02-13T13:33:19.290111Z"
    }
   },
   "cell_type": "code",
   "source": "q2k, k2q = create_q2k(d_enc_data)",
   "id": "124352496823ae86",
   "outputs": [],
   "execution_count": 39
  },
  {
   "metadata": {},
   "cell_type": "markdown",
   "source": "### Rescaling responses",
   "id": "d9bbf26af710c979"
  },
  {
   "metadata": {
    "ExecuteTime": {
     "end_time": "2025-02-13T13:33:19.553326Z",
     "start_time": "2025-02-13T13:33:19.534461Z"
    }
   },
   "cell_type": "code",
   "source": [
    "resc_data = d_enc_data\n",
    "resc_data['correct'] = resc_data['correct'].astype(float)\n",
    "min_val = resc_data['correct'].min()\n",
    "max_val = resc_data['correct'].max()\n",
    "resc_data['correct'] = (resc_data['correct']-min_val)/(max_val-min_val) +1\n",
    "print(f'min value : {resc_data[\"correct\"].min()}, max value : {resc_data[\"correct\"].max()}')"
   ],
   "id": "16227ddf196496e7",
   "outputs": [
    {
     "name": "stdout",
     "output_type": "stream",
     "text": [
      "min value : 1.0, max value : 2.0\n"
     ]
    }
   ],
   "execution_count": 40
  },
  {
   "cell_type": "markdown",
   "id": "d887c5e72037c54",
   "metadata": {},
   "source": [
    "### Get final stats and create metadata"
   ]
  },
  {
   "cell_type": "code",
   "id": "d3ce35f2a3d57db3",
   "metadata": {
    "ExecuteTime": {
     "end_time": "2025-02-13T13:33:19.802539Z",
     "start_time": "2025-02-13T13:33:19.690109Z"
    }
   },
   "source": [
    "stat_unique(resc_data, None)\n",
    "stat_unique(resc_data, ['user_id', 'item_id'])\n",
    "stat_unique(resc_data, 'user_id')\n",
    "stat_unique(resc_data, 'item_id')\n",
    "stat_unique(resc_data, 'dimension_id')\n",
    "stat_unique(resc_data, 'correct')\n",
    "\n",
    "resc_data_dim_grouped_items = resc_data.groupby(\"dimension_id\")[\"item_id\"].nunique()\n",
    "resc_data_dim_grouped_users = resc_data.groupby(\"dimension_id\")[\"user_id\"].nunique()\n",
    "print('#questions/category: {} & {} &  {}'.format(np.min(resc_data_dim_grouped_items),int(np.round(np.mean(resc_data_dim_grouped_items))),np.max(resc_data_dim_grouped_items)))\n",
    "print('#users/category: {} & {} &  {}'.format(np.min(resc_data_dim_grouped_users),int(np.round(np.mean(resc_data_dim_grouped_users))),np.max(resc_data_dim_grouped_users)))\n",
    "\n",
    "resc_data_dim_grouped_items = resc_data.groupby(\"item_id\")[\"dimension_id\"].nunique()\n",
    "resc_data_dim_grouped_users = resc_data.groupby(\"item_id\")[\"user_id\"].nunique()\n",
    "print('#categorys/question: {} & {} &  {}'.format(np.min(resc_data_dim_grouped_items),int(np.round(np.mean(resc_data_dim_grouped_items))),np.max(resc_data_dim_grouped_items)))\n",
    "print('#users/question: {} & {} &  {}'.format(np.min(resc_data_dim_grouped_users),int(np.round(np.mean(resc_data_dim_grouped_users))),np.max(resc_data_dim_grouped_users)))\n",
    "\n",
    "resc_data_dim_grouped_items = resc_data.groupby(\"user_id\")[\"item_id\"].nunique()\n",
    "resc_data_dim_grouped_users = resc_data.groupby(\"user_id\")[\"dimension_id\"].nunique()\n",
    "print('#questions/users: {} & {} &  {}'.format(np.min(resc_data_dim_grouped_items),int(np.round(np.mean(resc_data_dim_grouped_items))),np.max(resc_data_dim_grouped_items)))\n",
    "print('#categorys/users: {} & {} &  {}'.format(np.min(resc_data_dim_grouped_users),int(np.round(np.mean(resc_data_dim_grouped_users))),np.max(resc_data_dim_grouped_users)))"
   ],
   "outputs": [
    {
     "name": "stdout",
     "output_type": "stream",
     "text": [
      "Total length: 227409\n",
      "Number of unique [user_id,item_id]: 189545\n",
      "Number of unique user_id: 2102\n",
      "Number of unique item_id: 5950\n",
      "Number of unique dimension_id: 64\n",
      "Number of unique correct: 2\n",
      "#questions/category: 11 & 113 &  579\n",
      "#users/category: 98 & 434 &  1089\n",
      "#categorys/question: 1 & 1 &  4\n",
      "#users/question: 15 & 32 &  155\n",
      "#questions/users: 15 & 90 &  706\n",
      "#categorys/users: 1 & 13 &  64\n"
     ]
    }
   ],
   "execution_count": 41
  },
  {
   "cell_type": "code",
   "id": "96b9fda0f0c947ba",
   "metadata": {
    "ExecuteTime": {
     "end_time": "2025-02-13T13:33:20.029347Z",
     "start_time": "2025-02-13T13:33:19.932125Z"
    }
   },
   "source": [
    "import matplotlib.pyplot as plt\n",
    "\n",
    "# draw a histogram of the age column\n",
    "(resc_data['correct']-1).hist(bins=20)\n",
    "\n",
    "# add labels and title\n",
    "plt.xlabel('Responses')\n",
    "plt.ylabel('Number')\n",
    "plt.title('Distribution of Responses')\n"
   ],
   "outputs": [
    {
     "data": {
      "text/plain": [
       "Text(0.5, 1.0, 'Distribution of Responses')"
      ]
     },
     "execution_count": 42,
     "metadata": {},
     "output_type": "execute_result"
    },
    {
     "data": {
      "text/plain": [
       "<Figure size 640x480 with 1 Axes>"
      ],
      "image/png": "[encoded data removed]"
     },
     "metadata": {},
     "output_type": "display_data"
    }
   ],
   "execution_count": 42
  },
  {
   "cell_type": "code",
   "id": "33f5f51328bc37c1",
   "metadata": {
    "ExecuteTime": {
     "end_time": "2025-02-13T13:33:20.178545Z",
     "start_time": "2025-02-13T13:33:20.159558Z"
    }
   },
   "source": "plt.savefig('distribution_assist0910.png')",
   "outputs": [
    {
     "data": {
      "text/plain": [
       "<Figure size 640x480 with 0 Axes>"
      ]
     },
     "metadata": {},
     "output_type": "display_data"
    }
   ],
   "execution_count": 43
  },
  {
   "cell_type": "code",
   "id": "1420cf5a2ffcaf83",
   "metadata": {
    "ExecuteTime": {
     "end_time": "2025-02-13T13:33:20.330702Z",
     "start_time": "2025-02-13T13:33:20.315271Z"
    }
   },
   "source": [
    "metadata = get_metadata(resc_data,[\"user_id\", \"item_id\", \"dimension_id\"])"
   ],
   "outputs": [],
   "execution_count": 44
  },
  {
   "cell_type": "markdown",
   "id": "af2a1ef2455361fa",
   "metadata": {},
   "source": [
    "### Save data, concept map and metadata"
   ]
  },
  {
   "cell_type": "code",
   "id": "9314705046e62dcb",
   "metadata": {
    "ExecuteTime": {
     "end_time": "2025-02-13T13:33:20.578538Z",
     "start_time": "2025-02-13T13:33:20.461661Z"
    }
   },
   "source": [
    "# save selected data\n",
    "resc_data.to_csv('../1-raw_data/assist0910_selected_data.csv', index=False)"
   ],
   "outputs": [],
   "execution_count": 45
  },
  {
   "cell_type": "code",
   "id": "d57fbdcefd9ed82",
   "metadata": {
    "ExecuteTime": {
     "end_time": "2025-02-13T13:33:20.726190Z",
     "start_time": "2025-02-13T13:33:20.707182Z"
    }
   },
   "source": [
    "# Convert int64 keys to str\n",
    "q2k_str_keys = {str(key): value for key, value in q2k.items()}\n",
    "\n",
    "# Convert sets to lists in the dictionary\n",
    "q2k_json_serializable = {}\n",
    "for key, value in q2k_str_keys.items():\n",
    "    if isinstance(value, set):\n",
    "        q2k_json_serializable[key] = list(value)\n",
    "    else:\n",
    "        q2k_json_serializable[key] = value\n",
    "\n",
    "# Save concept map\n",
    "with open('concept_map.json', 'w') as f:\n",
    "    json.dump(q2k_json_serializable, f)"
   ],
   "outputs": [],
   "execution_count": 46
  },
  {
   "cell_type": "code",
   "id": "6fdbebe69540c57c",
   "metadata": {
    "ExecuteTime": {
     "end_time": "2025-02-13T13:33:20.866434Z",
     "start_time": "2025-02-13T13:33:20.853746Z"
    }
   },
   "source": [
    "# save metadata\n",
    "with open('metadata.json', 'w') as f:\n",
    "    json.dump(metadata, f)"
   ],
   "outputs": [],
   "execution_count": 47
  },
  {
   "cell_type": "markdown",
   "id": "db9f1ae6fa56cfa1",
   "metadata": {},
   "source": [
    "## parse data"
   ]
  },
  {
   "cell_type": "code",
   "id": "3b97a578bdb0ec0b",
   "metadata": {
    "ExecuteTime": {
     "end_time": "2025-02-13T13:38:15.588344Z",
     "start_time": "2025-02-13T13:38:15.279892Z"
    }
   },
   "source": [
    "resc_data = pd.read_csv('../1-raw_data/assist0910_selected_data.csv')\n",
    "quadruplet = quadruplet_format(resc_data)"
   ],
   "outputs": [],
   "execution_count": 56
  },
  {
   "cell_type": "code",
   "id": "53610eb7a85babfb",
   "metadata": {
    "ExecuteTime": {
     "end_time": "2025-02-13T13:38:21.628034Z",
     "start_time": "2025-02-13T13:38:17.479368Z"
    }
   },
   "source": [
    "stu_data, ques_data = parse_data(resc_data)"
   ],
   "outputs": [],
   "execution_count": 57
  },
  {
   "cell_type": "code",
   "id": "664d88228a03713c",
   "metadata": {
    "ExecuteTime": {
     "end_time": "2025-02-13T13:38:21.644724Z",
     "start_time": "2025-02-13T13:38:21.631389Z"
    }
   },
   "source": [
    "test_size = 0.2\n",
    "valid_size = 0.2 # proportion over the all dataset\n",
    "least_test_length=100"
   ],
   "outputs": [],
   "execution_count": 58
  },
  {
   "cell_type": "markdown",
   "id": "8d22511250870e52",
   "metadata": {},
   "source": [
    "## Horizontal split"
   ]
  },
  {
   "cell_type": "code",
   "execution_count": 35,
   "id": "7fd17508c0838406",
   "metadata": {
    "ExecuteTime": {
     "end_time": "2024-05-27T14:53:17.312841Z",
     "start_time": "2024-05-27T14:53:16.863329Z"
    }
   },
   "outputs": [],
   "source": [
    "train_data, valid_data, test_data = split_data(quadruplet, stu_data, test_prop=test_size, valid_prop=valid_size, least_test_length=least_test_length) "
   ]
  },
  {
   "cell_type": "code",
   "execution_count": 36,
   "id": "6de4b9dcb1e94b92",
   "metadata": {
    "ExecuteTime": {
     "end_time": "2024-05-27T14:53:17.954456Z",
     "start_time": "2024-05-27T14:53:17.945177Z"
    }
   },
   "outputs": [],
   "source": [
    "print(f'train records length: {len(train_data)}')\n",
    "print(f'test records length: {len(test_data)}')\n",
    "print(f'valid records length: {len(valid_data)}')\n",
    "print(f'all records length: {len(train_data)+len(valid_data)+len(test_data)}')"
   ]
  },
  {
   "cell_type": "markdown",
   "id": "eb9d52bc042dd09a",
   "metadata": {},
   "source": [
    "## save row data"
   ]
  },
  {
   "cell_type": "code",
   "execution_count": 37,
   "id": "b12f56e994788895",
   "metadata": {
    "ExecuteTime": {
     "end_time": "2024-05-27T14:53:20.940435Z",
     "start_time": "2024-05-27T14:53:19.485388Z"
    }
   },
   "outputs": [],
   "source": [
    "save_to_csv(train_data, '../2-preprocessed_data/assist0910_train_quadruples.csv')\n",
    "save_to_csv(valid_data, '../2-preprocessed_data/assist0910_valid_quadruples.csv')\n",
    "save_to_csv(test_data, '../2-preprocessed_data/assist0910_test_quadruples.csv')"
   ]
  },
  {
   "cell_type": "markdown",
   "id": "7edeb85a60554003",
   "metadata": {},
   "source": [
    "## vertical split"
   ]
  },
  {
   "cell_type": "code",
   "id": "cf7c3ff5225454b0",
   "metadata": {
    "ExecuteTime": {
     "end_time": "2025-02-13T13:38:29.822978Z",
     "start_time": "2025-02-13T13:38:24.653266Z"
    }
   },
   "source": [
    "train_data, valid_data, test_data = split_data_vertically(quadruplet, test_prop=test_size,valid_prop=valid_size,folds_nb=5)"
   ],
   "outputs": [],
   "execution_count": 59
  },
  {
   "cell_type": "code",
   "id": "2d6e135c1af1d59a",
   "metadata": {
    "ExecuteTime": {
     "end_time": "2025-02-13T13:38:31.231436Z",
     "start_time": "2025-02-13T13:38:29.826633Z"
    }
   },
   "source": [
    "for i_fold, train_fold in enumerate(train_data):\n",
    "    save_to_csv(train_data[i_fold], f'../2-preprocessed_data/assist0910_train_quadruples_vert_{i_fold}.csv')\n",
    "    save_to_csv(valid_data[i_fold], f'../2-preprocessed_data/assist0910_valid_quadruples_vert_{i_fold}.csv')\n",
    "    save_to_csv(test_data[i_fold], f'../2-preprocessed_data/assist0910_test_quadruples_vert_{i_fold}.csv')"
   ],
   "outputs": [],
   "execution_count": 60
  },
  {
   "cell_type": "markdown",
   "id": "517102ef772a0bb4",
   "metadata": {},
   "source": [
    "#### Toy dataset generation"
   ]
  },
  {
   "cell_type": "code",
   "id": "817d825b12147c69",
   "metadata": {
    "ExecuteTime": {
     "end_time": "2025-02-13T12:48:23.103132Z",
     "start_time": "2025-02-13T12:48:22.899904Z"
    }
   },
   "source": [
    "train_data_small, valid_data_small, test_data_small = split_small_data_vertically(quadruplet, test_prop=0.95,\n",
    "                                                                                  valid_prop=0.025)\n",
    "\n",
    "save_to_csv(train_data_small, f'../2-preprocessed_data/assist0910_small_train_quadruples_vert_{0}.csv')\n",
    "save_to_csv(valid_data_small, f'../2-preprocessed_data/assist0910_small_valid_quadruples_vert_{0}.csv')\n",
    "save_to_csv(test_data_small, f'../2-preprocessed_data/assist0910_small_test_quadruples_vert_{0}.csv')"
   ],
   "outputs": [
    {
     "ename": "ValueError",
     "evalue": "With n_samples=1, test_size=0.4999999999999996 and train_size=None, the resulting train set will be empty. Adjust any of the aforementioned parameters.",
     "output_type": "error",
     "traceback": [
      "\u001B[0;31m---------------------------------------------------------------------------\u001B[0m",
      "\u001B[0;31mValueError\u001B[0m                                Traceback (most recent call last)",
      "Cell \u001B[0;32mIn[41], line 1\u001B[0m\n\u001B[0;32m----> 1\u001B[0m train_data_small, valid_data_small, test_data_small \u001B[38;5;241m=\u001B[39m split_small_data_vertically(quadruplet, test_prop\u001B[38;5;241m=\u001B[39m\u001B[38;5;241m0.95\u001B[39m,\n\u001B[1;32m      2\u001B[0m                                                                                   valid_prop\u001B[38;5;241m=\u001B[39m\u001B[38;5;241m0.025\u001B[39m)\n\u001B[1;32m      4\u001B[0m save_to_csv(train_data_small, \u001B[38;5;124mf\u001B[39m\u001B[38;5;124m'\u001B[39m\u001B[38;5;124m../2-preprocessed_data/assist0910_small_train_quadruples_vert_\u001B[39m\u001B[38;5;132;01m{\u001B[39;00m\u001B[38;5;241m0\u001B[39m\u001B[38;5;132;01m}\u001B[39;00m\u001B[38;5;124m.csv\u001B[39m\u001B[38;5;124m'\u001B[39m)\n\u001B[1;32m      5\u001B[0m save_to_csv(valid_data_small, \u001B[38;5;124mf\u001B[39m\u001B[38;5;124m'\u001B[39m\u001B[38;5;124m../2-preprocessed_data/assist0910_small_valid_quadruples_vert_\u001B[39m\u001B[38;5;132;01m{\u001B[39;00m\u001B[38;5;241m0\u001B[39m\u001B[38;5;132;01m}\u001B[39;00m\u001B[38;5;124m.csv\u001B[39m\u001B[38;5;124m'\u001B[39m)\n",
      "File \u001B[0;32m~/Programmation/IMPACT/experiments/datasets/assist0910/../../../experiments/datasets/data_utils/preprocessing_utilities.py:354\u001B[0m, in \u001B[0;36msplit_small_data_vertically\u001B[0;34m(quadruplet, test_prop, valid_prop)\u001B[0m\n\u001B[1;32m    352\u001B[0m \u001B[38;5;66;03m# Further split train_valid into train and valid\u001B[39;00m\n\u001B[1;32m    353\u001B[0m valid_size \u001B[38;5;241m=\u001B[39m valid_prop \u001B[38;5;241m/\u001B[39m (\u001B[38;5;241m1.0\u001B[39m \u001B[38;5;241m-\u001B[39m test_prop)\n\u001B[0;32m--> 354\u001B[0m train_idx, valid_idx \u001B[38;5;241m=\u001B[39m train_test_split(\n\u001B[1;32m    355\u001B[0m     train_valid_idx,\n\u001B[1;32m    356\u001B[0m     test_size\u001B[38;5;241m=\u001B[39mvalid_size,\n\u001B[1;32m    357\u001B[0m     shuffle\u001B[38;5;241m=\u001B[39m\u001B[38;5;28;01mTrue\u001B[39;00m\n\u001B[1;32m    358\u001B[0m )\n\u001B[1;32m    360\u001B[0m \u001B[38;5;66;03m# Collect indices\u001B[39;00m\n\u001B[1;32m    361\u001B[0m train_indices\u001B[38;5;241m.\u001B[39mextend(train_idx)\n",
      "File \u001B[0;32m~/anaconda3/envs/cdbpr-env/lib/python3.11/site-packages/sklearn/model_selection/_split.py:2562\u001B[0m, in \u001B[0;36mtrain_test_split\u001B[0;34m(test_size, train_size, random_state, shuffle, stratify, *arrays)\u001B[0m\n\u001B[1;32m   2559\u001B[0m arrays \u001B[38;5;241m=\u001B[39m indexable(\u001B[38;5;241m*\u001B[39marrays)\n\u001B[1;32m   2561\u001B[0m n_samples \u001B[38;5;241m=\u001B[39m _num_samples(arrays[\u001B[38;5;241m0\u001B[39m])\n\u001B[0;32m-> 2562\u001B[0m n_train, n_test \u001B[38;5;241m=\u001B[39m _validate_shuffle_split(\n\u001B[1;32m   2563\u001B[0m     n_samples, test_size, train_size, default_test_size\u001B[38;5;241m=\u001B[39m\u001B[38;5;241m0.25\u001B[39m\n\u001B[1;32m   2564\u001B[0m )\n\u001B[1;32m   2566\u001B[0m \u001B[38;5;28;01mif\u001B[39;00m shuffle \u001B[38;5;129;01mis\u001B[39;00m \u001B[38;5;28;01mFalse\u001B[39;00m:\n\u001B[1;32m   2567\u001B[0m     \u001B[38;5;28;01mif\u001B[39;00m stratify \u001B[38;5;129;01mis\u001B[39;00m \u001B[38;5;129;01mnot\u001B[39;00m \u001B[38;5;28;01mNone\u001B[39;00m:\n",
      "File \u001B[0;32m~/anaconda3/envs/cdbpr-env/lib/python3.11/site-packages/sklearn/model_selection/_split.py:2236\u001B[0m, in \u001B[0;36m_validate_shuffle_split\u001B[0;34m(n_samples, test_size, train_size, default_test_size)\u001B[0m\n\u001B[1;32m   2233\u001B[0m n_train, n_test \u001B[38;5;241m=\u001B[39m \u001B[38;5;28mint\u001B[39m(n_train), \u001B[38;5;28mint\u001B[39m(n_test)\n\u001B[1;32m   2235\u001B[0m \u001B[38;5;28;01mif\u001B[39;00m n_train \u001B[38;5;241m==\u001B[39m \u001B[38;5;241m0\u001B[39m:\n\u001B[0;32m-> 2236\u001B[0m     \u001B[38;5;28;01mraise\u001B[39;00m \u001B[38;5;167;01mValueError\u001B[39;00m(\n\u001B[1;32m   2237\u001B[0m         \u001B[38;5;124m\"\u001B[39m\u001B[38;5;124mWith n_samples=\u001B[39m\u001B[38;5;132;01m{}\u001B[39;00m\u001B[38;5;124m, test_size=\u001B[39m\u001B[38;5;132;01m{}\u001B[39;00m\u001B[38;5;124m and train_size=\u001B[39m\u001B[38;5;132;01m{}\u001B[39;00m\u001B[38;5;124m, the \u001B[39m\u001B[38;5;124m\"\u001B[39m\n\u001B[1;32m   2238\u001B[0m         \u001B[38;5;124m\"\u001B[39m\u001B[38;5;124mresulting train set will be empty. Adjust any of the \u001B[39m\u001B[38;5;124m\"\u001B[39m\n\u001B[1;32m   2239\u001B[0m         \u001B[38;5;124m\"\u001B[39m\u001B[38;5;124maforementioned parameters.\u001B[39m\u001B[38;5;124m\"\u001B[39m\u001B[38;5;241m.\u001B[39mformat(n_samples, test_size, train_size)\n\u001B[1;32m   2240\u001B[0m     )\n\u001B[1;32m   2242\u001B[0m \u001B[38;5;28;01mreturn\u001B[39;00m n_train, n_test\n",
      "\u001B[0;31mValueError\u001B[0m: With n_samples=1, test_size=0.4999999999999996 and train_size=None, the resulting train set will be empty. Adjust any of the aforementioned parameters."
     ]
    }
   ],
   "execution_count": 41
  },
  {
   "cell_type": "code",
   "execution_count": 35,
   "id": "65ed48f03bb9bc9",
   "metadata": {
    "ExecuteTime": {
     "end_time": "2024-11-18T10:51:23.200711Z",
     "start_time": "2024-11-18T10:51:23.189027Z"
    }
   },
   "outputs": [
    {
     "data": {
      "text/plain": [
       "45422"
      ]
     },
     "execution_count": 35,
     "metadata": {},
     "output_type": "execute_result"
    }
   ],
   "source": [
    "len(train_data_small)"
   ]
  },
  {
   "cell_type": "markdown",
   "id": "c7eeafe2ff24f36b",
   "metadata": {},
   "source": [
    "### one hot encoding"
   ]
  },
  {
   "cell_type": "code",
   "execution_count": null,
   "id": "a4977055993f1459",
   "metadata": {
    "ExecuteTime": {
     "start_time": "2024-05-07T07:48:52.273788Z"
    },
    "jupyter": {
     "is_executing": true
    }
   },
   "outputs": [],
   "source": [
    "train = pd.read_csv(\"../2-preprocessed_data/assist0910_train_quadruples.csv\").astype({'student_id':int, 'item_id':int, \"correct\":float})\n",
    "duplicated_train = one_hot_encoding(train,response_range_dict)\n",
    "duplicated_train.to_csv('../2-preprocessed_data/assist0910_train_quadruples_ohe.csv', index=False)"
   ]
  },
  {
   "cell_type": "code",
   "execution_count": null,
   "id": "b41937724507a00d",
   "metadata": {
    "jupyter": {
     "is_executing": true
    }
   },
   "outputs": [],
   "source": [
    "valid = pd.read_csv(\"../2-preprocessed_data/assist0910_valid_quadruples.csv\").astype({'student_id':int, 'item_id':int, \"correct\":float})\n",
    "duplicated_valid = one_hot_encoding(valid,response_range_dict)\n",
    "duplicated_valid.to_csv('../2-preprocessed_data/assist0910_valid_quadruples_ohe.csv', index=False)"
   ]
  },
  {
   "cell_type": "code",
   "execution_count": 52,
   "id": "91a55660aae3f0d",
   "metadata": {
    "ExecuteTime": {
     "end_time": "2024-04-08T13:33:12.287939Z",
     "start_time": "2024-04-08T13:33:12.185094Z"
    }
   },
   "outputs": [],
   "source": [
    "test = pd.read_csv(\"../2-preprocessed_data/assist0910_test_quadruples.csv\")\n",
    "duplicated_test = one_hot_encoding(test,response_range_dict)\n",
    "duplicated_test.to_csv('../2-preprocessed_data/assist0910_test_quadruples_ohe.csv', index=False)"
   ]
  },
  {
   "cell_type": "code",
   "execution_count": null,
   "id": "7d4eac15e4dea77b",
   "metadata": {
    "ExecuteTime": {
     "start_time": "2024-05-07T08:01:32.651535Z"
    },
    "jupyter": {
     "is_executing": true
    }
   },
   "outputs": [],
   "source": [
    "import numpy as np\n",
    "import pandas as pd\n",
    "from tqdm import tqdm\n",
    "\n",
    "for i in range(5) : \n",
    "    train = pd.read_csv(\"../2-preprocessed_data/assist0910_train_quadruples_vert_\"+str(i)+\".csv\").astype({'student_id':int, 'item_id':int, \"correct\":float})\n",
    "    duplicated_train = one_hot_encoding(train,response_range_dict)\n",
    "    duplicated_train.to_csv('train_quadruples_vert_ohe_'+str(i)+'.csv', index=False)\n",
    "    \n",
    "    valid = pd.read_csv(\"../2-preprocessed_data/assist0910_valid_quadruples_vert_\"+str(i)+\".csv\").astype({'student_id':int, 'item_id':int, \"correct\":float})\n",
    "    duplicated_valid = one_hot_encoding(valid,response_range_dict)\n",
    "    duplicated_valid.to_csv('valid_quadruples_vert_ohe_'+str(i)+'.csv', index=False)\n",
    "    \n",
    "    test = pd.read_csv(\"../2-preprocessed_data/assist0910_test_quadruples_vert_\"+str(i)+\".csv\").astype({'student_id':int, 'item_id':int, \"correct\":float})\n",
    "    duplicated_test = one_hot_encoding(test,response_range_dict)\n",
    "    duplicated_test.to_csv('../2-preprocessed_data/assist0910_test_quadruples_vert_ohe_'+str(i)+'.csv', index=False)"
   ]
  },
  {
   "metadata": {},
   "cell_type": "code",
   "outputs": [],
   "execution_count": null,
   "source": "",
   "id": "4f3c7ffc68906b8e"
  }
 ],
 "metadata": {
  "kernelspec": {
   "display_name": "Python 3 (ipykernel)",
   "language": "python",
   "name": "python3"
  },
  "language_info": {
   "codemirror_mode": {
    "name": "ipython",
    "version": 3
   },
   "file_extension": ".py",
   "mimetype": "text/x-python",
   "name": "python",
   "nbconvert_exporter": "python",
   "pygments_lexer": "ipython3",
   "version": "3.11.9"
  }
 },
 "nbformat": 4,
 "nbformat_minor": 5
}
