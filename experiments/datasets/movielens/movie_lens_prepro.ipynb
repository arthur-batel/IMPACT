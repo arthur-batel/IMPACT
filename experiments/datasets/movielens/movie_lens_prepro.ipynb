{
 "cells": [
  {
   "cell_type": "markdown",
   "id": "3f91591122382be0",
   "metadata": {},
   "source": [
    "# Movielens dataset preprocessing\n",
    "### Import"
   ]
  },
  {
   "cell_type": "code",
   "execution_count": 3,
   "id": "5c572fedcc3d884",
   "metadata": {
    "ExecuteTime": {
     "end_time": "2025-01-23T10:49:21.540243Z",
     "start_time": "2025-01-23T10:49:21.529523Z"
    }
   },
   "outputs": [],
   "source": [
    "%load_ext autoreload\n",
    "%autoreload 2"
   ]
  },
  {
   "cell_type": "code",
   "execution_count": 4,
   "id": "763506e3fc4c3ef3",
   "metadata": {
    "ExecuteTime": {
     "end_time": "2025-01-23T10:49:22.796795Z",
     "start_time": "2025-01-23T10:49:21.543298Z"
    }
   },
   "outputs": [],
   "source": [
    "import sys\n",
    "sys.path.append('../')\n",
    "from experiments.datasets.data_utils.preprocessing_utilities import stat_unique,get_modalities_nb, remove_duplicates, densify,create_q2k, encode_attr, quadruplet_format, parse_data, split_data, save_to_csv,get_metadata, split_data_vertically,rescaling_dict,one_hot_encoding,split_small_data_vertically\n",
    "\n",
    "import json\n",
    "import pandas as pd\n",
    "import numpy as np"
   ]
  },
  {
   "cell_type": "markdown",
   "id": "2c6ffc9f3b1e2e5c",
   "metadata": {},
   "source": [
    "### Load and merge dataset"
   ]
  },
  {
   "cell_type": "code",
   "execution_count": 5,
   "id": "1a7130a281aaf6d8",
   "metadata": {
    "ExecuteTime": {
     "end_time": "2025-01-23T10:49:26.184286Z",
     "start_time": "2025-01-23T10:49:22.857224Z"
    }
   },
   "outputs": [
    {
     "name": "stderr",
     "output_type": "stream",
     "text": [
      "/tmp/ipykernel_122830/2046474539.py:5: ParserWarning: Falling back to the 'python' engine because the 'c' engine does not support regex separators (separators > 1 char and different from '\\s+' are interpreted as regex); you can avoid this warning by specifying engine='python'.\n",
      "  df_movie = pd.read_csv(movie_path, delimiter='::',names=[\"item_id\",\"title\",\"dimension_id\"])\n",
      "/tmp/ipykernel_122830/2046474539.py:6: ParserWarning: Falling back to the 'python' engine because the 'c' engine does not support regex separators (separators > 1 char and different from '\\s+' are interpreted as regex); you can avoid this warning by specifying engine='python'.\n",
      "  df_rating = pd.read_csv(rating_path, delimiter='::', names=[\"user_id\",\"item_id\",\"correct\",\"Timestamp\"])\n"
     ]
    },
    {
     "data": {
      "text/html": [
       "<div>\n",
       "<style scoped>\n",
       "    .dataframe tbody tr th:only-of-type {\n",
       "        vertical-align: middle;\n",
       "    }\n",
       "\n",
       "    .dataframe tbody tr th {\n",
       "        vertical-align: top;\n",
       "    }\n",
       "\n",
       "    .dataframe thead th {\n",
       "        text-align: right;\n",
       "    }\n",
       "</style>\n",
       "<table border=\"1\" class=\"dataframe\">\n",
       "  <thead>\n",
       "    <tr style=\"text-align: right;\">\n",
       "      <th></th>\n",
       "      <th>item_id</th>\n",
       "      <th>title</th>\n",
       "      <th>dimension_id</th>\n",
       "      <th>user_id</th>\n",
       "      <th>correct</th>\n",
       "      <th>Timestamp</th>\n",
       "    </tr>\n",
       "  </thead>\n",
       "  <tbody>\n",
       "    <tr>\n",
       "      <th>0</th>\n",
       "      <td>1</td>\n",
       "      <td>Toy Story (1995)</td>\n",
       "      <td>Animation|Children's|Comedy</td>\n",
       "      <td>1</td>\n",
       "      <td>5</td>\n",
       "      <td>978824268</td>\n",
       "    </tr>\n",
       "    <tr>\n",
       "      <th>1</th>\n",
       "      <td>1</td>\n",
       "      <td>Toy Story (1995)</td>\n",
       "      <td>Animation|Children's|Comedy</td>\n",
       "      <td>6</td>\n",
       "      <td>4</td>\n",
       "      <td>978237008</td>\n",
       "    </tr>\n",
       "    <tr>\n",
       "      <th>2</th>\n",
       "      <td>1</td>\n",
       "      <td>Toy Story (1995)</td>\n",
       "      <td>Animation|Children's|Comedy</td>\n",
       "      <td>8</td>\n",
       "      <td>4</td>\n",
       "      <td>978233496</td>\n",
       "    </tr>\n",
       "    <tr>\n",
       "      <th>3</th>\n",
       "      <td>1</td>\n",
       "      <td>Toy Story (1995)</td>\n",
       "      <td>Animation|Children's|Comedy</td>\n",
       "      <td>9</td>\n",
       "      <td>5</td>\n",
       "      <td>978225952</td>\n",
       "    </tr>\n",
       "    <tr>\n",
       "      <th>4</th>\n",
       "      <td>1</td>\n",
       "      <td>Toy Story (1995)</td>\n",
       "      <td>Animation|Children's|Comedy</td>\n",
       "      <td>10</td>\n",
       "      <td>5</td>\n",
       "      <td>978226474</td>\n",
       "    </tr>\n",
       "  </tbody>\n",
       "</table>\n",
       "</div>"
      ],
      "text/plain": [
       "   item_id             title                 dimension_id  user_id  correct  \\\n",
       "0        1  Toy Story (1995)  Animation|Children's|Comedy        1        5   \n",
       "1        1  Toy Story (1995)  Animation|Children's|Comedy        6        4   \n",
       "2        1  Toy Story (1995)  Animation|Children's|Comedy        8        4   \n",
       "3        1  Toy Story (1995)  Animation|Children's|Comedy        9        5   \n",
       "4        1  Toy Story (1995)  Animation|Children's|Comedy       10        5   \n",
       "\n",
       "   Timestamp  \n",
       "0  978824268  \n",
       "1  978237008  \n",
       "2  978233496  \n",
       "3  978225952  \n",
       "4  978226474  "
      ]
     },
     "execution_count": 5,
     "metadata": {},
     "output_type": "execute_result"
    }
   ],
   "source": [
    "# Specify the path to your .dat file\n",
    "rating_path = '../1-raw_data/ml-1m/ratings.dat'\n",
    "movie_path = '../1-raw_data/ml-1m/movies.dat'\n",
    "\n",
    "df_movie = pd.read_csv(movie_path, delimiter='::',names=[\"item_id\",\"title\",\"dimension_id\"])\n",
    "df_rating = pd.read_csv(rating_path, delimiter='::', names=[\"user_id\",\"item_id\",\"correct\",\"Timestamp\"]) \n",
    "raw_data = pd.merge(df_movie, df_rating, on='item_id', how='inner')\n",
    "raw_data.head()"
   ]
  },
  {
   "cell_type": "markdown",
   "id": "70d36cb174851667",
   "metadata": {},
   "source": [
    "### Split rows with several dimensions"
   ]
  },
  {
   "cell_type": "code",
   "execution_count": 6,
   "id": "48baada5ec363a41",
   "metadata": {
    "ExecuteTime": {
     "end_time": "2025-01-23T10:49:27.432662Z",
     "start_time": "2025-01-23T10:49:26.274973Z"
    }
   },
   "outputs": [
    {
     "data": {
      "text/html": [
       "<div>\n",
       "<style scoped>\n",
       "    .dataframe tbody tr th:only-of-type {\n",
       "        vertical-align: middle;\n",
       "    }\n",
       "\n",
       "    .dataframe tbody tr th {\n",
       "        vertical-align: top;\n",
       "    }\n",
       "\n",
       "    .dataframe thead th {\n",
       "        text-align: right;\n",
       "    }\n",
       "</style>\n",
       "<table border=\"1\" class=\"dataframe\">\n",
       "  <thead>\n",
       "    <tr style=\"text-align: right;\">\n",
       "      <th></th>\n",
       "      <th>item_id</th>\n",
       "      <th>title</th>\n",
       "      <th>dimension_id</th>\n",
       "      <th>user_id</th>\n",
       "      <th>correct</th>\n",
       "      <th>Timestamp</th>\n",
       "    </tr>\n",
       "  </thead>\n",
       "  <tbody>\n",
       "    <tr>\n",
       "      <th>0</th>\n",
       "      <td>1</td>\n",
       "      <td>Toy Story (1995)</td>\n",
       "      <td>Animation</td>\n",
       "      <td>1</td>\n",
       "      <td>5</td>\n",
       "      <td>978824268</td>\n",
       "    </tr>\n",
       "    <tr>\n",
       "      <th>1</th>\n",
       "      <td>1</td>\n",
       "      <td>Toy Story (1995)</td>\n",
       "      <td>Children's</td>\n",
       "      <td>1</td>\n",
       "      <td>5</td>\n",
       "      <td>978824268</td>\n",
       "    </tr>\n",
       "    <tr>\n",
       "      <th>2</th>\n",
       "      <td>1</td>\n",
       "      <td>Toy Story (1995)</td>\n",
       "      <td>Comedy</td>\n",
       "      <td>1</td>\n",
       "      <td>5</td>\n",
       "      <td>978824268</td>\n",
       "    </tr>\n",
       "    <tr>\n",
       "      <th>3</th>\n",
       "      <td>1</td>\n",
       "      <td>Toy Story (1995)</td>\n",
       "      <td>Animation</td>\n",
       "      <td>6</td>\n",
       "      <td>4</td>\n",
       "      <td>978237008</td>\n",
       "    </tr>\n",
       "    <tr>\n",
       "      <th>4</th>\n",
       "      <td>1</td>\n",
       "      <td>Toy Story (1995)</td>\n",
       "      <td>Children's</td>\n",
       "      <td>6</td>\n",
       "      <td>4</td>\n",
       "      <td>978237008</td>\n",
       "    </tr>\n",
       "  </tbody>\n",
       "</table>\n",
       "</div>"
      ],
      "text/plain": [
       "   item_id             title dimension_id  user_id  correct  Timestamp\n",
       "0        1  Toy Story (1995)    Animation        1        5  978824268\n",
       "1        1  Toy Story (1995)   Children's        1        5  978824268\n",
       "2        1  Toy Story (1995)       Comedy        1        5  978824268\n",
       "3        1  Toy Story (1995)    Animation        6        4  978237008\n",
       "4        1  Toy Story (1995)   Children's        6        4  978237008"
      ]
     },
     "execution_count": 6,
     "metadata": {},
     "output_type": "execute_result"
    }
   ],
   "source": [
    "df_expanded = raw_data.assign(dimension_id=raw_data['dimension_id'].str.split('|')).explode('dimension_id').reset_index(drop=True)\n",
    "df_expanded.head()"
   ]
  },
  {
   "cell_type": "markdown",
   "id": "f532d0b094164b01",
   "metadata": {},
   "source": [
    "### Early stats"
   ]
  },
  {
   "cell_type": "code",
   "execution_count": 7,
   "id": "d6b0feeae63d2c54",
   "metadata": {
    "ExecuteTime": {
     "end_time": "2025-01-23T10:49:27.564327Z",
     "start_time": "2025-01-23T10:49:27.435867Z"
    }
   },
   "outputs": [
    {
     "name": "stdout",
     "output_type": "stream",
     "text": [
      "2101815\n",
      "2101815\n"
     ]
    }
   ],
   "source": [
    "print(len(df_expanded))\n",
    "all_data = df_expanded.dropna(subset=['user_id','item_id','correct','dimension_id'])\n",
    "print(len(all_data))"
   ]
  },
  {
   "cell_type": "code",
   "execution_count": 8,
   "id": "75ad853c5e6327ab",
   "metadata": {
    "ExecuteTime": {
     "end_time": "2025-01-23T10:49:27.720844Z",
     "start_time": "2025-01-23T10:49:27.566577Z"
    }
   },
   "outputs": [
    {
     "name": "stdout",
     "output_type": "stream",
     "text": [
      "Total length: 2101815\n",
      "Number of unique [user_id,item_id]: 1000209\n",
      "Number of unique user_id: 6040\n",
      "Number of unique item_id: 3706\n",
      "Number of unique dimension_id: 18\n"
     ]
    }
   ],
   "source": [
    "stat_unique(all_data, None)\n",
    "stat_unique(all_data, ['user_id', 'item_id'])\n",
    "stat_unique(all_data, 'user_id')\n",
    "stat_unique(all_data, 'item_id')\n",
    "stat_unique(all_data, 'dimension_id')"
   ]
  },
  {
   "cell_type": "markdown",
   "id": "2bfafa45a9db8e83",
   "metadata": {},
   "source": [
    "### Similar dimension grouping"
   ]
  },
  {
   "cell_type": "code",
   "execution_count": 9,
   "id": "6ff4b719425b0e2d",
   "metadata": {
    "ExecuteTime": {
     "end_time": "2025-01-23T10:49:27.833755Z",
     "start_time": "2025-01-23T10:49:27.723816Z"
    }
   },
   "outputs": [
    {
     "data": {
      "text/plain": [
       "1.6708041014570967"
      ]
     },
     "execution_count": 9,
     "metadata": {},
     "output_type": "execute_result"
    }
   ],
   "source": [
    "all_data.groupby(\"item_id\")[\"dimension_id\"].nunique().mean()"
   ]
  },
  {
   "cell_type": "code",
   "execution_count": 10,
   "id": "a16753b77253bfc",
   "metadata": {
    "ExecuteTime": {
     "end_time": "2025-01-23T10:49:27.911430Z",
     "start_time": "2025-01-23T10:49:27.837240Z"
    }
   },
   "outputs": [],
   "source": [
    "genres = list(all_data['dimension_id'].unique())\n",
    "genres_to_idx = {}\n",
    "idx_to_genres = {}\n",
    "i=0\n",
    "for g in genres :\n",
    "    genres_to_idx[g] =i\n",
    "    idx_to_genres[i] = g\n",
    "    i+=1"
   ]
  },
  {
   "cell_type": "code",
   "execution_count": 11,
   "id": "8d43f697de5b873f",
   "metadata": {
    "ExecuteTime": {
     "end_time": "2025-01-23T10:49:28.105395Z",
     "start_time": "2025-01-23T10:49:27.918188Z"
    }
   },
   "outputs": [],
   "source": [
    "links = np.zeros((len(genres),len(genres)))\n",
    "for r in all_data.groupby(\"item_id\")[\"dimension_id\"].unique() :\n",
    "    for i,g1 in enumerate(r[:-1]) :\n",
    "        for g2 in r[i+1:] :\n",
    "            d = links[genres_to_idx[g1],genres_to_idx[g2]]\n",
    "            links[genres_to_idx[g1],genres_to_idx[g2]] = d+1\n",
    "            d = links[genres_to_idx[g2],genres_to_idx[g1]]\n",
    "            links[genres_to_idx[g2],genres_to_idx[g1]] = d+1"
   ]
  },
  {
   "cell_type": "code",
   "execution_count": 12,
   "id": "aaac6fec4149b284",
   "metadata": {
    "ExecuteTime": {
     "end_time": "2025-01-23T10:49:31.494075Z",
     "start_time": "2025-01-23T10:49:31.294808Z"
    }
   },
   "outputs": [
    {
     "data": {
      "text/plain": [
       "<matplotlib.colorbar.Colorbar at 0x7fc424424910>"
      ]
     },
     "execution_count": 12,
     "metadata": {},
     "output_type": "execute_result"
    },
    {
     "data": {
      "image/png": "[encoded data removed]",
      "text/plain": [
       "<Figure size 640x480 with 2 Axes>"
      ]
     },
     "metadata": {},
     "output_type": "display_data"
    }
   ],
   "source": [
    "import matplotlib.pyplot as plt\n",
    "plt.imshow(links)\n",
    "plt.xticks(np.arange(len(genres)),genres, rotation=90)\n",
    "plt.yticks(np.arange(len(genres)),genres)\n",
    "plt.colorbar()"
   ]
  },
  {
   "cell_type": "code",
   "execution_count": 13,
   "id": "fe713066eee678e8",
   "metadata": {
    "ExecuteTime": {
     "end_time": "2025-01-23T10:49:34.610230Z",
     "start_time": "2025-01-23T10:49:34.589740Z"
    }
   },
   "outputs": [],
   "source": [
    "def tarjan_scc(adj_matrix):\n",
    "    n = len(adj_matrix)\n",
    "    index = [-1] * n\n",
    "    lowlink = [0] * n\n",
    "    on_stack = [False] * n\n",
    "    stack = []\n",
    "    sccs = []\n",
    "    current_index = [0]  # use a list to allow modifications in closure\n",
    "\n",
    "    def strongconnect(v):\n",
    "        # Set the depth index for v\n",
    "        index[v] = current_index[0]\n",
    "        lowlink[v] = current_index[0]\n",
    "        current_index[0] += 1\n",
    "        stack.append(v)\n",
    "        on_stack[v] = True\n",
    "\n",
    "        # Consider successors of v\n",
    "        for w in range(n):\n",
    "            if adj_matrix[v][w] == 1:  # edge from v to w\n",
    "                if index[w] == -1:\n",
    "                    # Successor w has not yet been visited\n",
    "                    strongconnect(w)\n",
    "                    lowlink[v] = min(lowlink[v], lowlink[w])\n",
    "                elif on_stack[w]:\n",
    "                    # Successor w is on the stack, so it's part of the current SCC\n",
    "                    lowlink[v] = min(lowlink[v], index[w])\n",
    "\n",
    "        # If v is a root node, pop the stack and generate an SCC\n",
    "        if lowlink[v] == index[v]:\n",
    "            # Start a new strongly connected component\n",
    "            scc = []\n",
    "            while True:\n",
    "                w = stack.pop()\n",
    "                on_stack[w] = False\n",
    "                scc.append(idx_to_genres[w])\n",
    "                if w == v:\n",
    "                    break\n",
    "            sccs.append(scc)\n",
    "\n",
    "    for v in range(n):\n",
    "        if index[v] == -1:\n",
    "            strongconnect(v)\n",
    "\n",
    "    return sccs"
   ]
  },
  {
   "cell_type": "code",
   "execution_count": 14,
   "id": "fa5563b23dc87db2",
   "metadata": {
    "ExecuteTime": {
     "end_time": "2025-01-23T10:49:35.430256Z",
     "start_time": "2025-01-23T10:49:35.263515Z"
    }
   },
   "outputs": [
    {
     "data": {
      "text/plain": [
       "<matplotlib.colorbar.Colorbar at 0x7fc424aa49d0>"
      ]
     },
     "execution_count": 14,
     "metadata": {},
     "output_type": "execute_result"
    },
    {
     "data": {
      "image/png": "[encoded data removed]",
      "text/plain": [
       "<Figure size 640x480 with 2 Axes>"
      ]
     },
     "metadata": {},
     "output_type": "display_data"
    }
   ],
   "source": [
    "F = links/links.sum()\n",
    "A = np.where(F>0.017,F,np.zeros_like(F))\n",
    "import matplotlib.pyplot as plt\n",
    "plt.imshow(A)\n",
    "plt.xticks(np.arange(len(genres)),genres, rotation=90)\n",
    "plt.yticks(np.arange(len(genres)),genres)\n",
    "plt.colorbar()"
   ]
  },
  {
   "cell_type": "code",
   "execution_count": 15,
   "id": "5812c5bdacad746c",
   "metadata": {
    "ExecuteTime": {
     "end_time": "2025-01-16T15:48:22.042726Z",
     "start_time": "2025-01-16T15:48:22.026451Z"
    }
   },
   "outputs": [
    {
     "name": "stdout",
     "output_type": "stream",
     "text": [
      "Strongly Connected Components: [['Animation'], [\"Children's\"], ['Drama', 'Romance', 'Comedy'], ['Thriller', 'Action', 'Adventure'], ['Fantasy'], ['Crime'], ['Horror'], ['Sci-Fi'], ['Documentary'], ['War'], ['Musical'], ['Mystery'], ['Film-Noir'], ['Western']]\n"
     ]
    }
   ],
   "source": [
    "sccs = tarjan_scc(np.where(A>0,1,0))\n",
    "print(\"Strongly Connected Components:\", sccs)\n"
   ]
  },
  {
   "cell_type": "code",
   "execution_count": 16,
   "id": "2447e5464b8d01f9",
   "metadata": {
    "ExecuteTime": {
     "end_time": "2025-01-16T15:48:22.159947Z",
     "start_time": "2025-01-16T15:48:22.143037Z"
    }
   },
   "outputs": [],
   "source": [
    "dim_transform = {'Drama':'Drama_Romance_Comedy','Romance':'Drama_Romance_Comedy','Comedy':'Drama_Romance_Comedy','Thriller':'Thriller_Action_Adventure','Action':'Thriller_Action_Adventure','Adventure':'Thriller_Action_Adventure'}"
   ]
  },
  {
   "cell_type": "code",
   "execution_count": 17,
   "id": "a56e2943d2ac8409",
   "metadata": {
    "ExecuteTime": {
     "end_time": "2025-01-16T15:48:22.480150Z",
     "start_time": "2025-01-16T15:48:22.189603Z"
    }
   },
   "outputs": [
    {
     "data": {
      "text/plain": [
       "1.4422558014031301"
      ]
     },
     "execution_count": 17,
     "metadata": {},
     "output_type": "execute_result"
    }
   ],
   "source": [
    "less_connected = all_data.copy()\n",
    "less_connected['dimension_id'] = less_connected['dimension_id'].apply(lambda x : dim_transform.get(x,x))\n",
    "less_connected.groupby(\"item_id\")[\"dimension_id\"].nunique().mean()"
   ]
  },
  {
   "cell_type": "markdown",
   "id": "9d2a99907e563075",
   "metadata": {},
   "source": [
    "### Clean Nan values"
   ]
  },
  {
   "cell_type": "code",
   "execution_count": 18,
   "id": "10b1e79bf17e1a46",
   "metadata": {
    "ExecuteTime": {
     "end_time": "2025-01-16T15:48:22.722201Z",
     "start_time": "2025-01-16T15:48:22.542289Z"
    }
   },
   "outputs": [],
   "source": [
    "cleaned_data = less_connected.dropna(subset=['user_id','item_id','dimension_id','correct'], axis='index')"
   ]
  },
  {
   "cell_type": "markdown",
   "id": "1cf51a190511d02f",
   "metadata": {},
   "source": [
    "### Remove duplicated user and id rows"
   ]
  },
  {
   "cell_type": "code",
   "execution_count": 19,
   "id": "128895437c128e14",
   "metadata": {
    "ExecuteTime": {
     "end_time": "2025-01-16T15:48:24.108086Z",
     "start_time": "2025-01-16T15:48:23.555956Z"
    }
   },
   "outputs": [],
   "source": [
    "unduplicated_data = remove_duplicates(cleaned_data,key_attrs=['user_id','item_id','dimension_id'],agg_attrs=[])"
   ]
  },
  {
   "cell_type": "markdown",
   "id": "4a633bb837a7af3b",
   "metadata": {},
   "source": [
    "### Filter Data"
   ]
  },
  {
   "cell_type": "code",
   "execution_count": 20,
   "id": "62388835388d50d8",
   "metadata": {
    "ExecuteTime": {
     "end_time": "2025-01-16T15:48:26.392468Z",
     "start_time": "2025-01-16T15:48:25.040467Z"
    }
   },
   "outputs": [
    {
     "name": "stdout",
     "output_type": "stream",
     "text": [
      "filter 1192 item_id\n",
      "filter 1781 user_id\n",
      "filter 2 dimension_id\n",
      "filter 37 item_id\n",
      "filter 19 user_id\n",
      "filter 1 dimension_id\n",
      "filter 0 item_id\n",
      "filter 9 user_id\n",
      "filter 0 dimension_id\n",
      "filter 1 item_id\n",
      "filter 0 user_id\n",
      "filter 0 dimension_id\n",
      "filter 0 item_id\n",
      "filter 0 user_id\n",
      "filter 0 dimension_id\n",
      "Total length: 1562240\n",
      "Number of unique [user_id,item_id]: 906431\n",
      "Number of unique user_id: 4231\n",
      "Number of unique item_id: 2421\n",
      "Number of unique dimension_id: 11\n"
     ]
    }
   ],
   "source": [
    "filtered_data_0 = unduplicated_data\n",
    "filtered_q_nb = 1\n",
    "filtered_u_nb = 0\n",
    "filtered_d_nb = 0\n",
    "while filtered_q_nb!=0 or filtered_u_nb!=0 or filtered_d_nb!=0 : \n",
    "    # filter items\n",
    "    filtered_data_1, filtered_q_nb = densify(filtered_data_0,'item_id','user_id',50)\n",
    "    # filter users\n",
    "    filtered_data_2, filtered_u_nb = densify(filtered_data_1,'user_id','item_id',50)\n",
    "    # filter knowledges\n",
    "    filtered_data_3, filtered_d_nb = densify(filtered_data_2,'dimension_id','item_id',50)\n",
    "    filtered_data_0 = filtered_data_3\n",
    "    \n",
    "stat_unique(filtered_data_0, None)\n",
    "stat_unique(filtered_data_0, ['user_id', 'item_id'])\n",
    "stat_unique(filtered_data_0, 'user_id')\n",
    "stat_unique(filtered_data_0, 'item_id')\n",
    "stat_unique(filtered_data_0, 'dimension_id')"
   ]
  },
  {
   "cell_type": "markdown",
   "id": "5f38b00b83903cf8",
   "metadata": {},
   "source": [
    "### Encoding"
   ]
  },
  {
   "cell_type": "code",
   "execution_count": 21,
   "id": "461aaa3f05f101f3",
   "metadata": {
    "ExecuteTime": {
     "end_time": "2025-01-16T15:48:52.168595Z",
     "start_time": "2025-01-16T15:48:28.924725Z"
    }
   },
   "outputs": [],
   "source": [
    "# renumber the users\n",
    "u_enc_data, u2n = encode_attr(filtered_data_0, \"user_id\")"
   ]
  },
  {
   "cell_type": "code",
   "execution_count": 22,
   "id": "4ad08e7dad6b96ac",
   "metadata": {
    "ExecuteTime": {
     "end_time": "2025-01-16T15:49:15.707090Z",
     "start_time": "2025-01-16T15:48:52.172433Z"
    }
   },
   "outputs": [],
   "source": [
    "# renumber the items\n",
    "q_enc_data, q2n = encode_attr(u_enc_data, \"item_id\")"
   ]
  },
  {
   "cell_type": "code",
   "execution_count": 23,
   "id": "9d3b2c3dff642633",
   "metadata": {
    "ExecuteTime": {
     "end_time": "2025-01-16T15:49:40.616055Z",
     "start_time": "2025-01-16T15:49:15.718745Z"
    }
   },
   "outputs": [],
   "source": [
    "# renumber the dimensions\n",
    "d_enc_data, d2n = encode_attr(q_enc_data, \"dimension_id\")"
   ]
  },
  {
   "cell_type": "markdown",
   "id": "3b9e92e115b938bd",
   "metadata": {},
   "source": [
    "### Maps creation"
   ]
  },
  {
   "cell_type": "code",
   "execution_count": 24,
   "id": "124352496823ae86",
   "metadata": {
    "ExecuteTime": {
     "end_time": "2025-01-02T16:20:50.216943Z",
     "start_time": "2025-01-02T16:20:50.089722Z"
    }
   },
   "outputs": [],
   "source": [
    "q2k, k2q = create_q2k(d_enc_data)"
   ]
  },
  {
   "cell_type": "markdown",
   "id": "d9bbf26af710c979",
   "metadata": {},
   "source": [
    "### Rescaling responses"
   ]
  },
  {
   "cell_type": "code",
   "execution_count": 25,
   "id": "16227ddf196496e7",
   "metadata": {
    "ExecuteTime": {
     "end_time": "2025-01-02T16:20:50.262700Z",
     "start_time": "2025-01-02T16:20:50.234369Z"
    }
   },
   "outputs": [
    {
     "name": "stdout",
     "output_type": "stream",
     "text": [
      "min value : 1.0, max value : 2.0\n"
     ]
    }
   ],
   "source": [
    "resc_data = d_enc_data\n",
    "resc_data['correct'] = resc_data['correct'].astype(float)\n",
    "min_val = resc_data['correct'].min()\n",
    "max_val = resc_data['correct'].max()\n",
    "resc_data['correct'] = (resc_data['correct']-min_val)/(max_val-min_val) +1\n",
    "print(f'min value : {resc_data[\"correct\"].min()}, max value : {resc_data[\"correct\"].max()}')"
   ]
  },
  {
   "cell_type": "markdown",
   "id": "d887c5e72037c54",
   "metadata": {},
   "source": [
    "### Get final stats and create metadata"
   ]
  },
  {
   "cell_type": "code",
   "execution_count": 26,
   "id": "d3ce35f2a3d57db3",
   "metadata": {
    "ExecuteTime": {
     "end_time": "2025-01-02T16:41:34.073765Z",
     "start_time": "2025-01-02T16:41:33.656350Z"
    }
   },
   "outputs": [
    {
     "name": "stdout",
     "output_type": "stream",
     "text": [
      "Total length: 1562240\n",
      "Number of unique [user_id,item_id]: 906431\n",
      "Number of unique user_id: 4231\n",
      "Number of unique item_id: 2421\n",
      "Number of unique dimension_id: 11\n",
      "Number of unique correct: 5\n",
      "#questions/category: 62 & 340 &  1670\n",
      "#users/category: 3776 & 4043 &  4231\n",
      "#categorys/question: 1 & 2 &  5\n",
      "#users/question: 50 & 374 &  2731\n",
      "#questions/users: 50 & 214 &  1832\n",
      "#categorys/users: 5 & 11 &  11\n"
     ]
    }
   ],
   "source": [
    "stat_unique(resc_data, None)\n",
    "stat_unique(resc_data, ['user_id', 'item_id'])\n",
    "stat_unique(resc_data, 'user_id')\n",
    "stat_unique(resc_data, 'item_id')\n",
    "stat_unique(resc_data, 'dimension_id')\n",
    "stat_unique(resc_data, 'correct')\n",
    "\n",
    "resc_data_dim_grouped_items = resc_data.groupby(\"dimension_id\")[\"item_id\"].nunique()\n",
    "resc_data_dim_grouped_users = resc_data.groupby(\"dimension_id\")[\"user_id\"].nunique()\n",
    "print('#questions/category: {} & {} &  {}'.format(np.min(resc_data_dim_grouped_items),int(np.round(np.mean(resc_data_dim_grouped_items))),np.max(resc_data_dim_grouped_items)))\n",
    "print('#users/category: {} & {} &  {}'.format(np.min(resc_data_dim_grouped_users),int(np.round(np.mean(resc_data_dim_grouped_users))),np.max(resc_data_dim_grouped_users)))\n",
    "\n",
    "resc_data_dim_grouped_items = resc_data.groupby(\"item_id\")[\"dimension_id\"].nunique()\n",
    "resc_data_dim_grouped_users = resc_data.groupby(\"item_id\")[\"user_id\"].nunique()\n",
    "print('#categorys/question: {} & {} &  {}'.format(np.min(resc_data_dim_grouped_items),int(np.round(np.mean(resc_data_dim_grouped_items))),np.max(resc_data_dim_grouped_items)))\n",
    "print('#users/question: {} & {} &  {}'.format(np.min(resc_data_dim_grouped_users),int(np.round(np.mean(resc_data_dim_grouped_users))),np.max(resc_data_dim_grouped_users)))\n",
    "\n",
    "resc_data_dim_grouped_items = resc_data.groupby(\"user_id\")[\"item_id\"].nunique()\n",
    "resc_data_dim_grouped_users = resc_data.groupby(\"user_id\")[\"dimension_id\"].nunique()\n",
    "print('#questions/users: {} & {} &  {}'.format(np.min(resc_data_dim_grouped_items),int(np.round(np.mean(resc_data_dim_grouped_items))),np.max(resc_data_dim_grouped_items)))\n",
    "print('#categorys/users: {} & {} &  {}'.format(np.min(resc_data_dim_grouped_users),int(np.round(np.mean(resc_data_dim_grouped_users))),np.max(resc_data_dim_grouped_users)))"
   ]
  },
  {
   "cell_type": "code",
   "execution_count": 27,
   "id": "96b9fda0f0c947ba",
   "metadata": {
    "ExecuteTime": {
     "end_time": "2025-01-02T16:57:47.943446Z",
     "start_time": "2025-01-02T16:57:47.839989Z"
    }
   },
   "outputs": [
    {
     "data": {
      "text/plain": [
       "Text(0.5, 1.0, 'Distribution of Responses')"
      ]
     },
     "execution_count": 27,
     "metadata": {},
     "output_type": "execute_result"
    },
    {
     "data": {
      "image/png": "[encoded data removed]",
      "text/plain": [
       "<Figure size 640x480 with 1 Axes>"
      ]
     },
     "metadata": {},
     "output_type": "display_data"
    }
   ],
   "source": [
    "import matplotlib.pyplot as plt\n",
    "\n",
    "# draw a histogram of the age column\n",
    "(resc_data['correct']-1).hist(bins=20)\n",
    "\n",
    "# add labels and title\n",
    "plt.xlabel('Responses')\n",
    "plt.ylabel('Number')\n",
    "plt.title('Distribution of Responses')\n"
   ]
  },
  {
   "cell_type": "code",
   "execution_count": 28,
   "id": "33f5f51328bc37c1",
   "metadata": {
    "ExecuteTime": {
     "end_time": "2025-01-02T16:54:07.444684Z",
     "start_time": "2025-01-02T16:54:07.420457Z"
    }
   },
   "outputs": [
    {
     "data": {
      "text/plain": [
       "<Figure size 640x480 with 0 Axes>"
      ]
     },
     "metadata": {},
     "output_type": "display_data"
    }
   ],
   "source": [
    "plt.savefig('distribution_movielens.png')"
   ]
  },
  {
   "cell_type": "code",
   "execution_count": 29,
   "id": "1420cf5a2ffcaf83",
   "metadata": {
    "ExecuteTime": {
     "end_time": "2025-01-02T16:20:50.915360Z",
     "start_time": "2025-01-02T16:20:50.875919Z"
    }
   },
   "outputs": [],
   "source": [
    "metadata = get_metadata(resc_data,[\"user_id\", \"item_id\", \"dimension_id\"])"
   ]
  },
  {
   "cell_type": "markdown",
   "id": "7029660b-9737-457b-b4f3-7f84fa3ebc20",
   "metadata": {},
   "source": [
    "## Compute nb of modalities"
   ]
  },
  {
   "cell_type": "code",
   "execution_count": 30,
   "id": "7a51e6f6-872a-41b6-a917-4bccd6fe34e4",
   "metadata": {},
   "outputs": [],
   "source": [
    "nb_modalities = get_modalities_nb(resc_data, metadata)"
   ]
  },
  {
   "cell_type": "markdown",
   "id": "af2a1ef2455361fa",
   "metadata": {},
   "source": [
    "### Save data, concept map, metadata and nb of modalities"
   ]
  },
  {
   "cell_type": "code",
   "execution_count": 195,
   "id": "9314705046e62dcb",
   "metadata": {
    "ExecuteTime": {
     "end_time": "2024-12-14T15:55:10.798087Z",
     "start_time": "2024-12-14T15:55:08.888508Z"
    }
   },
   "outputs": [],
   "source": [
    "# save selected data\n",
    "resc_data.to_csv('../1-raw_data/movielens_selected_data.csv', index=False)"
   ]
  },
  {
   "cell_type": "code",
   "execution_count": 196,
   "id": "d57fbdcefd9ed82",
   "metadata": {
    "ExecuteTime": {
     "end_time": "2024-12-14T15:55:10.817014Z",
     "start_time": "2024-12-14T15:55:10.801268Z"
    }
   },
   "outputs": [],
   "source": [
    "# Convert int64 keys to str\n",
    "q2k_str_keys = {str(key): value for key, value in q2k.items()}\n",
    "\n",
    "# Convert sets to lists in the dictionary\n",
    "q2k_json_serializable = {}\n",
    "for key, value in q2k_str_keys.items():\n",
    "    if isinstance(value, set):\n",
    "        q2k_json_serializable[key] = list(value)\n",
    "    else:\n",
    "        q2k_json_serializable[key] = value\n",
    "\n",
    "# Save concept map\n",
    "with open('concept_map.json', 'w') as f:\n",
    "    json.dump(q2k_json_serializable, f)"
   ]
  },
  {
   "cell_type": "code",
   "execution_count": 197,
   "id": "6fdbebe69540c57c",
   "metadata": {
    "ExecuteTime": {
     "end_time": "2024-12-14T15:55:10.854915Z",
     "start_time": "2024-12-14T15:55:10.846050Z"
    }
   },
   "outputs": [],
   "source": [
    "# save metadata\n",
    "with open('metadata.json', 'w') as f:\n",
    "    json.dump(metadata, f)"
   ]
  },
  {
   "cell_type": "code",
   "execution_count": 31,
   "id": "c722632c-733e-47a7-8d93-f648e3eeb84d",
   "metadata": {},
   "outputs": [],
   "source": [
    "# save nb_modalities\n",
    "import torch\n",
    "torch.save(nb_modalities,'nb_modalities.pkl')"
   ]
  },
  {
   "cell_type": "markdown",
   "id": "db9f1ae6fa56cfa1",
   "metadata": {},
   "source": [
    "## parse data"
   ]
  },
  {
   "cell_type": "code",
   "execution_count": 198,
   "id": "3b97a578bdb0ec0b",
   "metadata": {
    "ExecuteTime": {
     "end_time": "2024-12-14T15:55:16.554998Z",
     "start_time": "2024-12-14T15:55:14.317740Z"
    }
   },
   "outputs": [],
   "source": [
    "resc_data = pd.read_csv('selected_data.csv')\n",
    "quadruplet = quadruplet_format(resc_data)"
   ]
  },
  {
   "cell_type": "code",
   "execution_count": 199,
   "id": "53610eb7a85babfb",
   "metadata": {
    "ExecuteTime": {
     "end_time": "2024-12-14T15:55:50.529451Z",
     "start_time": "2024-12-14T15:55:16.558234Z"
    }
   },
   "outputs": [],
   "source": [
    "stu_data, ques_data = parse_data(resc_data)"
   ]
  },
  {
   "cell_type": "code",
   "execution_count": 200,
   "id": "664d88228a03713c",
   "metadata": {
    "ExecuteTime": {
     "end_time": "2024-12-14T15:55:50.583152Z",
     "start_time": "2024-12-14T15:55:50.574220Z"
    }
   },
   "outputs": [],
   "source": [
    "test_size = 0.2\n",
    "valid_size = 0.2 # proportion over the all dataset\n",
    "least_test_length=100"
   ]
  },
  {
   "cell_type": "markdown",
   "id": "8d22511250870e52",
   "metadata": {},
   "source": [
    "## Horizontal split"
   ]
  },
  {
   "cell_type": "code",
   "execution_count": 35,
   "id": "7fd17508c0838406",
   "metadata": {
    "ExecuteTime": {
     "end_time": "2024-05-27T14:53:17.312841Z",
     "start_time": "2024-05-27T14:53:16.863329Z"
    }
   },
   "outputs": [],
   "source": [
    "train_data, valid_data, test_data = split_data(quadruplet, stu_data, test_prop=test_size, valid_prop=valid_size, least_test_length=least_test_length) "
   ]
  },
  {
   "cell_type": "code",
   "execution_count": 36,
   "id": "6de4b9dcb1e94b92",
   "metadata": {
    "ExecuteTime": {
     "end_time": "2024-05-27T14:53:17.954456Z",
     "start_time": "2024-05-27T14:53:17.945177Z"
    }
   },
   "outputs": [],
   "source": [
    "print(f'train records length: {len(train_data)}')\n",
    "print(f'test records length: {len(test_data)}')\n",
    "print(f'valid records length: {len(valid_data)}')\n",
    "print(f'all records length: {len(train_data)+len(valid_data)+len(test_data)}')"
   ]
  },
  {
   "cell_type": "markdown",
   "id": "eb9d52bc042dd09a",
   "metadata": {},
   "source": [
    "## save row data"
   ]
  },
  {
   "cell_type": "code",
   "execution_count": 37,
   "id": "b12f56e994788895",
   "metadata": {
    "ExecuteTime": {
     "end_time": "2024-05-27T14:53:20.940435Z",
     "start_time": "2024-05-27T14:53:19.485388Z"
    }
   },
   "outputs": [],
   "source": [
    "save_to_csv(train_data, '../2-preprocessed_data/movielens_train_quadruples.csv')\n",
    "save_to_csv(valid_data, '../2-preprocessed_data/movielens_valid_quadruples.csv')\n",
    "save_to_csv(test_data, '../2-preprocessed_data/movielens_test_quadruples.csv')"
   ]
  },
  {
   "cell_type": "markdown",
   "id": "7edeb85a60554003",
   "metadata": {},
   "source": [
    "## vertical split"
   ]
  },
  {
   "cell_type": "code",
   "execution_count": 201,
   "id": "cf7c3ff5225454b0",
   "metadata": {
    "ExecuteTime": {
     "end_time": "2024-12-14T15:57:07.793503Z",
     "start_time": "2024-12-14T15:56:50.565542Z"
    }
   },
   "outputs": [],
   "source": [
    "train_data, valid_data, test_data = split_data_vertically(quadruplet, test_prop=test_size,valid_prop=valid_size,folds_nb=5)"
   ]
  },
  {
   "cell_type": "code",
   "execution_count": 202,
   "id": "2d6e135c1af1d59a",
   "metadata": {
    "ExecuteTime": {
     "end_time": "2024-12-14T15:57:18.289058Z",
     "start_time": "2024-12-14T15:57:07.797401Z"
    }
   },
   "outputs": [],
   "source": [
    "for i_fold, train_fold in enumerate(train_data):\n",
    "    save_to_csv(train_data[i_fold], f'../2-preprocessed_data/movielens_train_quadruples_vert_{i_fold}.csv')\n",
    "    save_to_csv(valid_data[i_fold], f'../2-preprocessed_data/movielens_valid_quadruples_vert_{i_fold}.csv')\n",
    "    save_to_csv(test_data[i_fold], f'../2-preprocessed_data/movielens_test_quadruples_vert_{i_fold}.csv')"
   ]
  },
  {
   "cell_type": "markdown",
   "id": "517102ef772a0bb4",
   "metadata": {},
   "source": [
    "#### Toy dataset generation"
   ]
  },
  {
   "cell_type": "code",
   "execution_count": 203,
   "id": "817d825b12147c69",
   "metadata": {
    "ExecuteTime": {
     "end_time": "2024-12-14T15:57:22.266678Z",
     "start_time": "2024-12-14T15:57:18.299222Z"
    }
   },
   "outputs": [],
   "source": [
    "train_data_small, valid_data_small, test_data_small = split_small_data_vertically(quadruplet, test_prop=0.95,\n",
    "                                                                                  valid_prop=0.025)\n",
    "\n",
    "save_to_csv(train_data_small, f'../2-preprocessed_data/movielens_small_train_quadruples_vert_{0}.csv')\n",
    "save_to_csv(valid_data_small, f'../2-preprocessed_data/movielens_small_valid_quadruples_vert_{0}.csv')\n",
    "save_to_csv(test_data_small, f'../2-preprocessed_data/movielens_small_test_quadruples_vert_{0}.csv')"
   ]
  },
  {
   "cell_type": "code",
   "execution_count": 35,
   "id": "65ed48f03bb9bc9",
   "metadata": {
    "ExecuteTime": {
     "end_time": "2024-11-18T10:51:23.200711Z",
     "start_time": "2024-11-18T10:51:23.189027Z"
    }
   },
   "outputs": [
    {
     "data": {
      "text/plain": [
       "45422"
      ]
     },
     "execution_count": 35,
     "metadata": {},
     "output_type": "execute_result"
    }
   ],
   "source": [
    "len(train_data_small)"
   ]
  },
  {
   "cell_type": "markdown",
   "id": "c7eeafe2ff24f36b",
   "metadata": {},
   "source": [
    "### one hot encoding"
   ]
  },
  {
   "cell_type": "code",
   "execution_count": null,
   "id": "a4977055993f1459",
   "metadata": {
    "ExecuteTime": {
     "start_time": "2024-05-07T07:48:52.273788Z"
    },
    "jupyter": {
     "is_executing": true
    }
   },
   "outputs": [],
   "source": [
    "train = pd.read_csv(\"../2-preprocessed_data/movielens_train_quadruples.csv\").astype({'student_id':int, 'item_id':int, \"correct\":float})\n",
    "duplicated_train = one_hot_encoding(train,response_range_dict)\n",
    "duplicated_train.to_csv('../2-preprocessed_data/movielens_train_quadruples_ohe.csv', index=False)"
   ]
  },
  {
   "cell_type": "code",
   "execution_count": null,
   "id": "b41937724507a00d",
   "metadata": {
    "jupyter": {
     "is_executing": true
    }
   },
   "outputs": [],
   "source": [
    "valid = pd.read_csv(\"../2-preprocessed_data/movielens_valid_quadruples.csv\").astype({'student_id':int, 'item_id':int, \"correct\":float})\n",
    "duplicated_valid = one_hot_encoding(valid,response_range_dict)\n",
    "duplicated_valid.to_csv('../2-preprocessed_data/movielens_valid_quadruples_ohe.csv', index=False)"
   ]
  },
  {
   "cell_type": "code",
   "execution_count": 52,
   "id": "91a55660aae3f0d",
   "metadata": {
    "ExecuteTime": {
     "end_time": "2024-04-08T13:33:12.287939Z",
     "start_time": "2024-04-08T13:33:12.185094Z"
    }
   },
   "outputs": [],
   "source": [
    "test = pd.read_csv(\"../2-preprocessed_data/movielens_test_quadruples.csv\")\n",
    "duplicated_test = one_hot_encoding(test,response_range_dict)\n",
    "duplicated_test.to_csv('../2-preprocessed_data/movielens_test_quadruples_ohe.csv', index=False)"
   ]
  },
  {
   "cell_type": "code",
   "execution_count": null,
   "id": "7d4eac15e4dea77b",
   "metadata": {
    "ExecuteTime": {
     "start_time": "2024-05-07T08:01:32.651535Z"
    },
    "jupyter": {
     "is_executing": true
    }
   },
   "outputs": [],
   "source": [
    "import numpy as np\n",
    "import pandas as pd\n",
    "from tqdm import tqdm\n",
    "\n",
    "for i in range(5) : \n",
    "    train = pd.read_csv(\"../2-preprocessed_data/movielens_train_quadruples_vert_\"+str(i)+\".csv\").astype({'student_id':int, 'item_id':int, \"correct\":float})\n",
    "    duplicated_train = one_hot_encoding(train,response_range_dict)\n",
    "    duplicated_train.to_csv('train_quadruples_vert_ohe_'+str(i)+'.csv', index=False)\n",
    "    \n",
    "    valid = pd.read_csv(\"../2-preprocessed_data/movielens_valid_quadruples_vert_\"+str(i)+\".csv\").astype({'student_id':int, 'item_id':int, \"correct\":float})\n",
    "    duplicated_valid = one_hot_encoding(valid,response_range_dict)\n",
    "    duplicated_valid.to_csv('valid_quadruples_vert_ohe_'+str(i)+'.csv', index=False)\n",
    "    \n",
    "    test = pd.read_csv(\"../2-preprocessed_data/movielens_test_quadruples_vert_\"+str(i)+\".csv\").astype({'student_id':int, 'item_id':int, \"correct\":float})\n",
    "    duplicated_test = one_hot_encoding(test,response_range_dict)\n",
    "    duplicated_test.to_csv('../2-preprocessed_data/movielens_test_quadruples_vert_ohe_'+str(i)+'.csv', index=False)"
   ]
  },
  {
   "cell_type": "code",
   "execution_count": null,
   "id": "a90e9ff2d21b0db6",
   "metadata": {},
   "outputs": [],
   "source": []
  }
 ],
 "metadata": {
  "kernelspec": {
   "display_name": "Python 3 (ipykernel)",
   "language": "python",
   "name": "python3"
  },
  "language_info": {
   "codemirror_mode": {
    "name": "ipython",
    "version": 3
   },
   "file_extension": ".py",
   "mimetype": "text/x-python",
   "name": "python",
   "nbconvert_exporter": "python",
   "pygments_lexer": "ipython3",
   "version": "3.11.11"
  }
 },
 "nbformat": 4,
 "nbformat_minor": 5
}
