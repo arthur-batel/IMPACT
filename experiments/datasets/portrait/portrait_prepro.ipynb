{
 "cells": [
  {
   "cell_type": "markdown",
   "id": "39b6b8b2c70f4866",
   "metadata": {},
   "source": [
    "# Portrait dataset preprocessing\n",
    "### Import"
   ]
  },
  {
   "cell_type": "code",
   "execution_count": 2,
   "id": "381735492904ff63",
   "metadata": {
    "ExecuteTime": {
     "end_time": "2025-01-28T16:10:25.189446Z",
     "start_time": "2025-01-28T16:10:25.126918Z"
    }
   },
   "outputs": [],
   "source": [
    "from tensorboard.plugins.histogram.summary import histogram\n",
    "%load_ext autoreload\n",
    "%autoreload 2"
   ]
  },
  {
   "cell_type": "code",
   "execution_count": 3,
   "id": "bd37d27c98827e4",
   "metadata": {
    "ExecuteTime": {
     "end_time": "2025-01-28T16:10:26.300269Z",
     "start_time": "2025-01-28T16:10:25.196330Z"
    }
   },
   "outputs": [],
   "source": [
    "import sys\n",
    "sys.path.append('..')\n",
    "from data_utils import stat_unique, remove_duplicates,get_modalities_nb, densify,create_q2k, encode_attr, quadruplet_format, parse_data, split_data, save_to_csv,get_metadata, split_data_vertically,split_small_data_vertically\n",
    "\n",
    "\n",
    "import json\n",
    "import pandas as pd\n",
    "import numpy as np"
   ]
  },
  {
   "cell_type": "code",
   "execution_count": 4,
   "id": "d1bfe2083028a83",
   "metadata": {
    "ExecuteTime": {
     "end_time": "2025-01-28T16:10:27.788277Z",
     "start_time": "2025-01-28T16:10:26.930870Z"
    }
   },
   "outputs": [
    {
     "name": "stderr",
     "output_type": "stream",
     "text": [
      "/tmp/ipykernel_122888/4033463796.py:3: FutureWarning: The behavior of obj[i:j] with a float-dtype index is deprecated. In a future version, this will be treated as positional instead of label-based. For label-based slicing, use obj.loc[i:j] instead\n",
      "  raw_data = raw_data[1:]\n"
     ]
    },
    {
     "data": {
      "text/html": [
       "<div>\n",
       "<style scoped>\n",
       "    .dataframe tbody tr th:only-of-type {\n",
       "        vertical-align: middle;\n",
       "    }\n",
       "\n",
       "    .dataframe tbody tr th {\n",
       "        vertical-align: top;\n",
       "    }\n",
       "\n",
       "    .dataframe thead th {\n",
       "        text-align: right;\n",
       "    }\n",
       "</style>\n",
       "<table border=\"1\" class=\"dataframe\">\n",
       "  <thead>\n",
       "    <tr style=\"text-align: right;\">\n",
       "      <th></th>\n",
       "      <th>user_id</th>\n",
       "      <th>item_id</th>\n",
       "      <th>dimension_id</th>\n",
       "      <th>correct</th>\n",
       "    </tr>\n",
       "  </thead>\n",
       "  <tbody>\n",
       "    <tr>\n",
       "      <th>1.0</th>\n",
       "      <td>17</td>\n",
       "      <td>TR01</td>\n",
       "      <td>TR</td>\n",
       "      <td>3.9</td>\n",
       "    </tr>\n",
       "    <tr>\n",
       "      <th>2.0</th>\n",
       "      <td>17</td>\n",
       "      <td>TR02</td>\n",
       "      <td>TR</td>\n",
       "      <td>2.5</td>\n",
       "    </tr>\n",
       "    <tr>\n",
       "      <th>3.0</th>\n",
       "      <td>17</td>\n",
       "      <td>TR03</td>\n",
       "      <td>TR</td>\n",
       "      <td>1.3</td>\n",
       "    </tr>\n",
       "    <tr>\n",
       "      <th>4.0</th>\n",
       "      <td>17</td>\n",
       "      <td>TR04</td>\n",
       "      <td>TR</td>\n",
       "      <td>5.7</td>\n",
       "    </tr>\n",
       "    <tr>\n",
       "      <th>5.0</th>\n",
       "      <td>17</td>\n",
       "      <td>TR05</td>\n",
       "      <td>TR</td>\n",
       "      <td>5.9</td>\n",
       "    </tr>\n",
       "  </tbody>\n",
       "</table>\n",
       "</div>"
      ],
      "text/plain": [
       "    user_id item_id dimension_id correct\n",
       "1.0      17    TR01           TR     3.9\n",
       "2.0      17    TR02           TR     2.5\n",
       "3.0      17    TR03           TR     1.3\n",
       "4.0      17    TR04           TR     5.7\n",
       "5.0      17    TR05           TR     5.9"
      ]
     },
     "execution_count": 4,
     "metadata": {},
     "output_type": "execute_result"
    }
   ],
   "source": [
    "header_names = ['user_id', 'item_id', 'dimension_id', 'correct']\n",
    "raw_data = pd.read_csv('portrait_prepro.csv', encoding=\"ISO-8859-15\", low_memory=False, names=header_names)\n",
    "raw_data = raw_data[1:]\n",
    "raw_data.head()"
   ]
  },
  {
   "cell_type": "code",
   "execution_count": 5,
   "id": "7e47cd9ab30dbd2f",
   "metadata": {
    "ExecuteTime": {
     "end_time": "2025-01-16T10:09:13.349468Z",
     "start_time": "2025-01-16T10:09:13.305485Z"
    }
   },
   "outputs": [
    {
     "name": "stdout",
     "output_type": "stream",
     "text": [
      "259200\n",
      "259200\n"
     ]
    }
   ],
   "source": [
    "print(len(raw_data))\n",
    "all_data = raw_data.dropna(subset=['user_id','item_id','correct','dimension_id'])\n",
    "print(len(all_data))"
   ]
  },
  {
   "cell_type": "code",
   "execution_count": 6,
   "id": "97131bbd5d6abcc4",
   "metadata": {
    "ExecuteTime": {
     "end_time": "2025-01-16T10:09:13.577131Z",
     "start_time": "2025-01-16T10:09:13.533388Z"
    }
   },
   "outputs": [
    {
     "name": "stdout",
     "output_type": "stream",
     "text": [
      "Total length: 259200\n",
      "Number of unique [user_id,item_id]: 259200\n",
      "Number of unique user_id: 1152\n",
      "Number of unique item_id: 225\n",
      "Number of unique dimension_id: 14\n"
     ]
    }
   ],
   "source": [
    "stat_unique(all_data, None)\n",
    "stat_unique(all_data, ['user_id', 'item_id'])\n",
    "stat_unique(all_data, 'user_id')\n",
    "stat_unique(all_data, 'item_id')\n",
    "stat_unique(all_data, 'dimension_id')"
   ]
  },
  {
   "cell_type": "markdown",
   "id": "5aaaf70b7e775f51",
   "metadata": {},
   "source": [
    "### Clean Nan values"
   ]
  },
  {
   "cell_type": "code",
   "execution_count": 7,
   "id": "b3d6e2fc3a58e069",
   "metadata": {
    "ExecuteTime": {
     "end_time": "2025-01-16T10:09:14.165103Z",
     "start_time": "2025-01-16T10:09:14.128146Z"
    }
   },
   "outputs": [],
   "source": [
    "cleaned_data = all_data.dropna(subset=['user_id','item_id','dimension_id','correct'], axis='index')"
   ]
  },
  {
   "cell_type": "markdown",
   "id": "5a9cbae5554ed062",
   "metadata": {},
   "source": [
    "### Remove duplicated user and id rows"
   ]
  },
  {
   "cell_type": "code",
   "execution_count": 8,
   "id": "6a465f10d5339e57",
   "metadata": {
    "ExecuteTime": {
     "end_time": "2025-01-16T10:09:15.022575Z",
     "start_time": "2025-01-16T10:09:14.945680Z"
    }
   },
   "outputs": [],
   "source": [
    "unduplicated_data = remove_duplicates(cleaned_data,key_attrs=['user_id','item_id','dimension_id'],agg_attrs=[])\n",
    "unduplicated_data['correct'] = unduplicated_data['correct'].astype(float)"
   ]
  },
  {
   "cell_type": "markdown",
   "id": "c746ecb88c0dc5a8",
   "metadata": {},
   "source": [
    "### Reverse items formulated in the opposite meaning"
   ]
  },
  {
   "cell_type": "code",
   "execution_count": 9,
   "id": "1772c6c86f5d1089",
   "metadata": {
    "ExecuteTime": {
     "end_time": "2025-01-16T10:09:16.003327Z",
     "start_time": "2025-01-16T10:09:15.970187Z"
    }
   },
   "outputs": [
    {
     "data": {
      "text/plain": [
       "3.4667052469135804"
      ]
     },
     "execution_count": 9,
     "metadata": {},
     "output_type": "execute_result"
    }
   ],
   "source": [
    "reverse_data = unduplicated_data.copy()\n",
    "list_reverse_items = ['TR5','TR10','T15','TR16','ST10','DI13','BU5','BU6','IM13','HY7','AU4','AU6','AU19','PO13','CO2','AD12','HU7','HU9','HU10',]\n",
    "\n",
    "c_r = reverse_data[reverse_data['item_id'].isin(list_reverse_items)]['correct'] \n",
    "reverse_data.loc[reverse_data['item_id'].isin(list_reverse_items),'correct'] = c_r.apply(lambda x : 10-x)\n",
    "reverse_data[reverse_data['item_id'].isin(list_reverse_items)]['correct'].mean()"
   ]
  },
  {
   "cell_type": "markdown",
   "id": "90beb0da5146de64",
   "metadata": {},
   "source": [
    "### Filter Data"
   ]
  },
  {
   "cell_type": "code",
   "execution_count": 10,
   "id": "a484754b74646239",
   "metadata": {
    "ExecuteTime": {
     "end_time": "2025-01-16T10:09:17.941986Z",
     "start_time": "2025-01-16T10:09:17.908744Z"
    }
   },
   "outputs": [],
   "source": [
    "# Remove items with way to high imbalanced classes (unrelevant questions)\n",
    "f = reverse_data.copy()\n",
    "\n",
    "a = ((unduplicated_data.groupby('item_id')['correct'].quantile(0.5)))\n",
    "f = f[f['item_id'].isin(list(a[a>1].index))]"
   ]
  },
  {
   "cell_type": "code",
   "execution_count": 11,
   "id": "570ebd7e5d8d3d19",
   "metadata": {
    "ExecuteTime": {
     "end_time": "2025-01-16T10:09:19.750248Z",
     "start_time": "2025-01-16T10:09:19.671976Z"
    }
   },
   "outputs": [
    {
     "name": "stdout",
     "output_type": "stream",
     "text": [
      "filter 0 item_id\n",
      "filter 0 user_id\n",
      "filter 5 dimension_id\n",
      "filter 0 item_id\n",
      "filter 0 user_id\n",
      "filter 0 dimension_id\n",
      "Total length: 133632\n",
      "Number of unique [user_id,item_id]: 133632\n",
      "Number of unique user_id: 1152\n",
      "Number of unique item_id: 116\n",
      "Number of unique dimension_id: 9\n"
     ]
    }
   ],
   "source": [
    "filtered_data_0 = f.copy()\n",
    "filtered_user_nb = 1\n",
    "filtered_item_nb = 0\n",
    "filtered_dimension_nb = 0\n",
    "\n",
    "while filtered_user_nb!=0 or filtered_item_nb!=0 or filtered_dimension_nb!=0: \n",
    "    # filter items\n",
    "    filtered_data_1, filtered_user_nb = densify(filtered_data_0,'item_id','user_id',50)\n",
    "    # filter users\n",
    "    filtered_data_2, filtered_item_nb = densify(filtered_data_1,'user_id','item_id',50)\n",
    "    # filter knowledges\n",
    "    filtered_data_3, filtered_dimension_nb = densify(filtered_data_2,'dimension_id','item_id',10)\n",
    "    filtered_data_0 = filtered_data_3\n",
    "    \n",
    "stat_unique(filtered_data_0, None)\n",
    "stat_unique(filtered_data_0, ['user_id', 'item_id'])\n",
    "stat_unique(filtered_data_0, 'user_id')\n",
    "stat_unique(filtered_data_0, 'item_id')\n",
    "stat_unique(filtered_data_0, 'dimension_id')"
   ]
  },
  {
   "cell_type": "markdown",
   "id": "78bce1c3349c21df",
   "metadata": {},
   "source": [
    "### Encoding"
   ]
  },
  {
   "cell_type": "code",
   "execution_count": 12,
   "id": "6d7768033102fb09",
   "metadata": {
    "ExecuteTime": {
     "end_time": "2025-01-02T16:45:46.544424Z",
     "start_time": "2025-01-02T16:45:44.551621Z"
    }
   },
   "outputs": [],
   "source": [
    "# renumber the users\n",
    "u_enc_data, u2n = encode_attr(filtered_data_0, \"user_id\")"
   ]
  },
  {
   "cell_type": "code",
   "execution_count": 13,
   "id": "386eb93742f4cfaf",
   "metadata": {
    "ExecuteTime": {
     "end_time": "2025-01-02T16:45:48.520553Z",
     "start_time": "2025-01-02T16:45:46.547860Z"
    }
   },
   "outputs": [],
   "source": [
    "# renumber the items\n",
    "q_enc_data, q2n = encode_attr(u_enc_data, \"item_id\")"
   ]
  },
  {
   "cell_type": "code",
   "execution_count": 14,
   "id": "6bd4e1c13ce6bf94",
   "metadata": {
    "ExecuteTime": {
     "end_time": "2025-01-02T16:45:50.436300Z",
     "start_time": "2025-01-02T16:45:48.531924Z"
    }
   },
   "outputs": [],
   "source": [
    "# renumber the dimensions\n",
    "d_enc_data, d2n = encode_attr(q_enc_data, \"dimension_id\")"
   ]
  },
  {
   "cell_type": "markdown",
   "id": "8ca483ea9e0ff61b",
   "metadata": {},
   "source": [
    "### Maps creation"
   ]
  },
  {
   "cell_type": "code",
   "execution_count": 15,
   "id": "af7e8054f1201956",
   "metadata": {
    "ExecuteTime": {
     "end_time": "2025-01-02T16:45:50.470939Z",
     "start_time": "2025-01-02T16:45:50.447508Z"
    }
   },
   "outputs": [],
   "source": [
    "q2k, k2q = create_q2k(d_enc_data)"
   ]
  },
  {
   "cell_type": "markdown",
   "id": "9a52c9558a481fd6",
   "metadata": {},
   "source": [
    "### Rescaling responses"
   ]
  },
  {
   "cell_type": "code",
   "execution_count": 16,
   "id": "c0e5c6c8f96dbf8a",
   "metadata": {
    "ExecuteTime": {
     "end_time": "2025-01-02T16:45:50.510823Z",
     "start_time": "2025-01-02T16:45:50.491244Z"
    }
   },
   "outputs": [
    {
     "name": "stdout",
     "output_type": "stream",
     "text": [
      "min value : 1.0, max value : 2.0\n"
     ]
    }
   ],
   "source": [
    "d_enc_data['correct'] = d_enc_data['correct'].astype(float)\n",
    "min_val = d_enc_data['correct'].min()\n",
    "max_val = d_enc_data['correct'].max()\n",
    "d_enc_data['correct'] = (d_enc_data['correct']-min_val)/(max_val-min_val) +1\n",
    "shifted_values = d_enc_data.copy()\n",
    "print(f'min value : {shifted_values[\"correct\"].min()}, max value : {shifted_values[\"correct\"].max()}')"
   ]
  },
  {
   "cell_type": "code",
   "execution_count": 17,
   "id": "7fee842a1f9a0611",
   "metadata": {
    "ExecuteTime": {
     "end_time": "2025-01-02T16:45:50.555478Z",
     "start_time": "2025-01-02T16:45:50.539326Z"
    }
   },
   "outputs": [
    {
     "name": "stdout",
     "output_type": "stream",
     "text": [
      "min value : 1.0, max value : 2.0\n"
     ]
    }
   ],
   "source": [
    "print(f'min value : {shifted_values[\"correct\"].min()}, max value : {shifted_values[\"correct\"].max()}')"
   ]
  },
  {
   "cell_type": "markdown",
   "id": "e405472d8a967081",
   "metadata": {},
   "source": [
    "### Get final stats and create metadata"
   ]
  },
  {
   "cell_type": "code",
   "execution_count": 18,
   "id": "2ad7f8166efa6b8c",
   "metadata": {
    "ExecuteTime": {
     "end_time": "2025-01-02T16:46:30.966544Z",
     "start_time": "2025-01-02T16:46:30.875792Z"
    }
   },
   "outputs": [
    {
     "name": "stdout",
     "output_type": "stream",
     "text": [
      "Total length: 133632\n",
      "Number of unique [user_id,item_id]: 133632\n",
      "Number of unique user_id: 1152\n",
      "Number of unique item_id: 116\n",
      "Number of unique dimension_id: 9\n",
      "Number of unique correct: 108\n",
      "#questions/category: 10 & 13 &  18\n",
      "#users/category: 1152 & 1152 &  1152\n",
      "#categorys/question: 1 & 1 &  1\n",
      "#users/question: 1152 & 1152 &  1152\n",
      "#questions/users: 116 & 116 &  116\n",
      "#categorys/users: 9 & 9 &  9\n"
     ]
    }
   ],
   "source": [
    "stat_unique(shifted_values, None)\n",
    "stat_unique(shifted_values, ['user_id', 'item_id'])\n",
    "stat_unique(shifted_values, 'user_id')\n",
    "stat_unique(shifted_values, 'item_id')\n",
    "stat_unique(shifted_values, 'dimension_id')\n",
    "stat_unique(shifted_values, 'correct')\n",
    "\n",
    "shifted_values_dim_grouped_items = shifted_values.groupby(\"dimension_id\")[\"item_id\"].nunique()\n",
    "shifted_values_dim_grouped_users = shifted_values.groupby(\"dimension_id\")[\"user_id\"].nunique()\n",
    "print('#questions/category: {} & {} &  {}'.format(np.min(shifted_values_dim_grouped_items),int(np.round(np.mean(shifted_values_dim_grouped_items))),np.max(shifted_values_dim_grouped_items)))\n",
    "print('#users/category: {} & {} &  {}'.format(np.min(shifted_values_dim_grouped_users),int(np.round(np.mean(shifted_values_dim_grouped_users))),np.max(shifted_values_dim_grouped_users)))\n",
    "\n",
    "shifted_values_dim_grouped_items = shifted_values.groupby(\"item_id\")[\"dimension_id\"].nunique()\n",
    "shifted_values_dim_grouped_users = shifted_values.groupby(\"item_id\")[\"user_id\"].nunique()\n",
    "print('#categorys/question: {} & {} &  {}'.format(np.min(shifted_values_dim_grouped_items),int(np.round(np.mean(shifted_values_dim_grouped_items))),np.max(shifted_values_dim_grouped_items)))\n",
    "print('#users/question: {} & {} &  {}'.format(np.min(shifted_values_dim_grouped_users),int(np.round(np.mean(shifted_values_dim_grouped_users))),np.max(shifted_values_dim_grouped_users)))\n",
    "\n",
    "shifted_values_dim_grouped_items = shifted_values.groupby(\"user_id\")[\"item_id\"].nunique()\n",
    "shifted_values_dim_grouped_users = shifted_values.groupby(\"user_id\")[\"dimension_id\"].nunique()\n",
    "print('#questions/users: {} & {} &  {}'.format(np.min(shifted_values_dim_grouped_items),int(np.round(np.mean(shifted_values_dim_grouped_items))),np.max(shifted_values_dim_grouped_items)))\n",
    "print('#categorys/users: {} & {} &  {}'.format(np.min(shifted_values_dim_grouped_users),int(np.round(np.mean(shifted_values_dim_grouped_users))),np.max(shifted_values_dim_grouped_users)))"
   ]
  },
  {
   "cell_type": "code",
   "execution_count": 19,
   "id": "51f7e207a12437ea",
   "metadata": {
    "ExecuteTime": {
     "end_time": "2025-01-02T17:00:24.499514Z",
     "start_time": "2025-01-02T17:00:24.163959Z"
    }
   },
   "outputs": [
    {
     "data": {
      "text/plain": [
       "Text(0.5, 1.0, 'Distribution of Responses')"
      ]
     },
     "execution_count": 19,
     "metadata": {},
     "output_type": "execute_result"
    },
    {
     "data": {
      "image/png": "[encoded data removed]",
      "text/plain": [
       "<Figure size 640x480 with 1 Axes>"
      ]
     },
     "metadata": {},
     "output_type": "display_data"
    }
   ],
   "source": [
    "import matplotlib.pyplot as plt\n",
    "\n",
    "# draw a histogram of the age column\n",
    "(shifted_values['correct']-1).hist(bins=30)\n",
    "\n",
    "# add labels and title\n",
    "plt.xlabel('Responses')\n",
    "plt.ylabel('Number')\n",
    "plt.title('Distribution of Responses')\n"
   ]
  },
  {
   "cell_type": "code",
   "execution_count": 20,
   "id": "9902d5b350c0be11",
   "metadata": {
    "ExecuteTime": {
     "end_time": "2024-12-16T13:29:25.591668Z",
     "start_time": "2024-12-16T13:29:25.574075Z"
    }
   },
   "outputs": [],
   "source": [
    "metadata = get_metadata(shifted_values,[\"user_id\", \"item_id\", \"dimension_id\"])"
   ]
  },
  {
   "cell_type": "markdown",
   "id": "cc297395-54eb-4d72-9de1-a07036a0836a",
   "metadata": {},
   "source": [
    "## Compute nb of modalities"
   ]
  },
  {
   "cell_type": "code",
   "execution_count": 22,
   "id": "400fa534-0a86-4048-87ae-2b013532f9ee",
   "metadata": {},
   "outputs": [],
   "source": [
    "nb_modalities = get_modalities_nb(shifted_values, metadata)"
   ]
  },
  {
   "cell_type": "markdown",
   "id": "a1b6618fc105fecc",
   "metadata": {},
   "source": [
    "### Save data, concept map, metadata and nb of modalities"
   ]
  },
  {
   "cell_type": "code",
   "execution_count": 73,
   "id": "5490ce9ba6311ed8",
   "metadata": {
    "ExecuteTime": {
     "end_time": "2024-12-16T13:29:27.047139Z",
     "start_time": "2024-12-16T13:29:26.956852Z"
    }
   },
   "outputs": [],
   "source": [
    "# save selected data\n",
    "shifted_values.to_csv('selected_data.csv', index=False)"
   ]
  },
  {
   "cell_type": "code",
   "execution_count": 74,
   "id": "b8ce4e38ffcdcab8",
   "metadata": {
    "ExecuteTime": {
     "end_time": "2024-12-16T13:29:28.047013Z",
     "start_time": "2024-12-16T13:29:28.033856Z"
    }
   },
   "outputs": [],
   "source": [
    "# Convert int64 keys to str\n",
    "q2k_str_keys = {str(key): value for key, value in q2k.items()}\n",
    "\n",
    "# Convert sets to lists in the dictionary\n",
    "q2k_json_serializable = {}\n",
    "for key, value in q2k_str_keys.items():\n",
    "    if isinstance(value, set):\n",
    "        q2k_json_serializable[key] = list(value)\n",
    "    else:\n",
    "        q2k_json_serializable[key] = value\n",
    "\n",
    "# Save concept map\n",
    "with open('concept_map.json', 'w') as f:\n",
    "    json.dump(q2k_json_serializable, f)"
   ]
  },
  {
   "cell_type": "code",
   "execution_count": 75,
   "id": "3e6523649e5327aa",
   "metadata": {
    "ExecuteTime": {
     "end_time": "2024-12-16T13:29:28.367660Z",
     "start_time": "2024-12-16T13:29:28.354736Z"
    }
   },
   "outputs": [],
   "source": [
    "# save metadata\n",
    "with open('metadata.json', 'w') as f:\n",
    "    json.dump(metadata, f)"
   ]
  },
  {
   "cell_type": "code",
   "execution_count": 23,
   "id": "04e83b18-3485-44b6-9bb4-175f14312e02",
   "metadata": {},
   "outputs": [],
   "source": [
    "# save nb_modalities\n",
    "import torch\n",
    "torch.save(nb_modalities,'nb_modalities.pkl')"
   ]
  },
  {
   "cell_type": "markdown",
   "id": "e58e5384af9be389",
   "metadata": {},
   "source": [
    "## Parse data"
   ]
  },
  {
   "cell_type": "code",
   "execution_count": 76,
   "id": "37bcbfd8244c36c9",
   "metadata": {
    "ExecuteTime": {
     "end_time": "2024-12-16T13:29:29.473186Z",
     "start_time": "2024-12-16T13:29:29.359458Z"
    }
   },
   "outputs": [],
   "source": [
    "shifted_values = pd.read_csv('selected_data.csv')\n",
    "quadruplets = quadruplet_format(shifted_values)"
   ]
  },
  {
   "cell_type": "code",
   "execution_count": 77,
   "id": "97521685890e8b84",
   "metadata": {
    "ExecuteTime": {
     "end_time": "2024-12-16T13:29:32.257509Z",
     "start_time": "2024-12-16T13:29:29.631523Z"
    }
   },
   "outputs": [],
   "source": [
    "stu_data, ques_data = parse_data(shifted_values)"
   ]
  },
  {
   "cell_type": "code",
   "execution_count": 78,
   "id": "1b5230dfeab7a6a8",
   "metadata": {
    "ExecuteTime": {
     "end_time": "2024-12-16T13:29:32.269377Z",
     "start_time": "2024-12-16T13:29:32.260309Z"
    }
   },
   "outputs": [],
   "source": [
    "test_size = 0.2\n",
    "valid_size = 0.2 # proportion over the all dataset\n",
    "least_test_length=150"
   ]
  },
  {
   "cell_type": "markdown",
   "id": "c412157383209bd1",
   "metadata": {},
   "source": [
    "## Split data"
   ]
  },
  {
   "cell_type": "markdown",
   "id": "41290faf5062a9c3",
   "metadata": {},
   "source": [
    "### Horizontal split"
   ]
  },
  {
   "cell_type": "code",
   "execution_count": null,
   "id": "cf5104e0ad0d10ec",
   "metadata": {},
   "outputs": [],
   "source": [
    "train_data, valid_data, test_data = split_data(quadruplets, stu_data, test_prop=0.2,valid_prop=0.2, least_test_length=150) "
   ]
  },
  {
   "cell_type": "code",
   "execution_count": null,
   "id": "3ca1de4525eb98d2",
   "metadata": {},
   "outputs": [],
   "source": [
    "print(f'train records length: {len(train_data)}')\n",
    "print(f'test records length: {len(test_data)}')\n",
    "print(f'test records length: {len(valid_data)}')\n",
    "print(f'all records length: {len(train_data)+len(valid_data)+len(test_data)}')"
   ]
  },
  {
   "cell_type": "code",
   "execution_count": null,
   "id": "651bab1512b702a",
   "metadata": {},
   "outputs": [],
   "source": [
    "# save\n",
    "save_to_csv(train_data, '../2-preprocessed_data/portrait_train_quadruples.csv')\n",
    "save_to_csv(valid_data, '../2-preprocessed_data/portrait_valid_quadruples.csv')\n",
    "save_to_csv(test_data, '../2-preprocessed_data/portrait_test_quadruples.csv')"
   ]
  },
  {
   "cell_type": "markdown",
   "id": "211ed7432999b094",
   "metadata": {},
   "source": [
    "### Vertical split"
   ]
  },
  {
   "cell_type": "code",
   "execution_count": 79,
   "id": "c947ee7fc6e319bf",
   "metadata": {
    "ExecuteTime": {
     "end_time": "2024-12-16T13:29:38.461521Z",
     "start_time": "2024-12-16T13:29:33.731466Z"
    }
   },
   "outputs": [],
   "source": [
    "train_data, valid_data, test_data = split_data_vertically(quadruplets, test_prop=0.2,valid_prop=0.2, folds_nb=5)\n",
    "for i_fold, train_fold in enumerate(train_data):\n",
    "    save_to_csv(train_data[i_fold], f'../2-preprocessed_data/portrait_train_quadruples_vert_{i_fold}.csv')\n",
    "    save_to_csv(valid_data[i_fold], f'../2-preprocessed_data/portrait_valid_quadruples_vert_{i_fold}.csv')\n",
    "    save_to_csv(test_data[i_fold], f'../2-preprocessed_data/portrait_test_quadruples_vert_{i_fold}.csv')"
   ]
  },
  {
   "cell_type": "markdown",
   "id": "f07e1fb2c4d08c03",
   "metadata": {},
   "source": [
    "#### Toy dataset generation"
   ]
  },
  {
   "cell_type": "code",
   "execution_count": 80,
   "id": "54e221f08b2cb4e8",
   "metadata": {
    "ExecuteTime": {
     "end_time": "2024-12-16T13:29:38.872098Z",
     "start_time": "2024-12-16T13:29:38.464775Z"
    }
   },
   "outputs": [],
   "source": [
    "train_data_small, valid_data_small, test_data_small = split_small_data_vertically(quadruplets, test_prop=0.8,valid_prop=0.1)\n",
    "\n",
    "save_to_csv(train_data_small, f'../2-preprocessed_data/portrait_small_train_quadruples_vert_{0}.csv')\n",
    "save_to_csv(valid_data_small, f'../2-preprocessed_data/portrait_small_valid_quadruples_vert_{0}.csv')\n",
    "save_to_csv(test_data_small, f'../2-preprocessed_data/portrait_small_test_quadruples_vert_{0}.csv')"
   ]
  },
  {
   "cell_type": "markdown",
   "id": "806397f1a88c37f3",
   "metadata": {},
   "source": [
    "### convert responses to one hot encoding"
   ]
  },
  {
   "cell_type": "code",
   "execution_count": null,
   "id": "74b90546c46b990d",
   "metadata": {
    "collapsed": false,
    "jupyter": {
     "outputs_hidden": false
    }
   },
   "outputs": [],
   "source": [
    "def one_hot_encoding(df):\n",
    "    c_binary_list = []\n",
    "    for index, row in df.iterrows():\n",
    "        c = row['correct_rounded']\n",
    "        for i in range(11):\n",
    "            if i ==c:\n",
    "                c_binary_list.append(1)\n",
    "            else:\n",
    "                c_binary_list.append(0)\n",
    "                \n",
    "    duplicated_df = pd.DataFrame(np.repeat(df.values, 11, axis=0), columns=df.columns)\n",
    "    duplicated_df = duplicated_df.astype({'item_id': 'int32'})\n",
    "    duplicated_df = duplicated_df.astype({'item_id': 'str'})\n",
    "    for index, row in duplicated_df.iterrows():\n",
    "        i = index % 11\n",
    "        orig_q_id = row['item_id']\n",
    "        duplicated_df.at[index, 'item_id'] = str(orig_q_id) + '_' + str(i)\n",
    "        duplicated_df.at[index, 'correct_binary'] = int(c_binary_list[index])\n",
    "    return duplicated_df"
   ]
  },
  {
   "cell_type": "code",
   "execution_count": null,
   "id": "2042756acb3df09a",
   "metadata": {},
   "outputs": [],
   "source": [
    "train = pd.read_csv(\"../2-preprocessed_data/portrait_train_quadruples.csv\")\n",
    "train['correct_rounded'] = train['correct'].round().astype(int)"
   ]
  },
  {
   "cell_type": "code",
   "execution_count": null,
   "id": "f4f23e119ae08e0a",
   "metadata": {},
   "outputs": [],
   "source": [
    "import numpy as np\n",
    "\n",
    "duplicated_train = one_hot_encoding(train)"
   ]
  },
  {
   "cell_type": "code",
   "execution_count": null,
   "id": "3b5de2d85d85c511",
   "metadata": {},
   "outputs": [],
   "source": [
    "duplicated_train.drop('correct_rounded', axis=1, inplace=True)"
   ]
  },
  {
   "cell_type": "code",
   "execution_count": null,
   "id": "27a55b1f47aa68e3",
   "metadata": {},
   "outputs": [],
   "source": [
    "duplicated_train.to_csv('../2-preprocessed_data/portrait_train_quadruples.csv', index=False)"
   ]
  },
  {
   "cell_type": "code",
   "execution_count": null,
   "id": "21e8a36b80613fe3",
   "metadata": {},
   "outputs": [],
   "source": [
    "valid = pd.read_csv(\"../2-preprocessed_data/portrait_valid_quadruples.csv\")\n",
    "valid['correct_rounded'] = valid['correct'].round().astype(int)"
   ]
  },
  {
   "cell_type": "code",
   "execution_count": null,
   "id": "895ddb1fdbae3d37",
   "metadata": {},
   "outputs": [],
   "source": [
    "duplicated_valid = one_hot_encoding(valid)"
   ]
  },
  {
   "cell_type": "code",
   "execution_count": null,
   "id": "fb126c8db18d98a1",
   "metadata": {},
   "outputs": [],
   "source": [
    "duplicated_valid.drop('correct_rounded', axis=1, inplace=True)"
   ]
  },
  {
   "cell_type": "code",
   "execution_count": null,
   "id": "a85863aa0690ee6d",
   "metadata": {},
   "outputs": [],
   "source": [
    "duplicated_valid.to_csv('../2-preprocessed_data/portrait_valid_quadruples.csv', index=False)"
   ]
  },
  {
   "cell_type": "code",
   "execution_count": null,
   "id": "649f9099b05801ba",
   "metadata": {},
   "outputs": [],
   "source": [
    "test = pd.read_csv(\"../2-preprocessed_data/portrait_test_quadruples.csv\")\n",
    "test['correct_rounded'] = test['correct'].round().astype(int)"
   ]
  },
  {
   "cell_type": "code",
   "execution_count": null,
   "id": "3aa6fddb96c1f40d",
   "metadata": {},
   "outputs": [],
   "source": [
    "duplicated_test = one_hot_encoding(test)"
   ]
  },
  {
   "cell_type": "code",
   "execution_count": null,
   "id": "32eced4c8d697464",
   "metadata": {},
   "outputs": [],
   "source": [
    "duplicated_test.drop('correct_rounded', axis=1, inplace=True)"
   ]
  },
  {
   "cell_type": "code",
   "execution_count": null,
   "id": "1032d5e358eeaf09",
   "metadata": {},
   "outputs": [],
   "source": [
    "duplicated_test.to_csv('../2-preprocessed_data/portrait_test_quadruples.csv', index=False)"
   ]
  },
  {
   "cell_type": "code",
   "execution_count": null,
   "id": "e239cb9aa080f381",
   "metadata": {},
   "outputs": [],
   "source": [
    "for i_fold in range(5):\n",
    "    train = pd.read_csv(f\"../2-preprocessed_data/portrait_train_quadruples_vert_{i_fold}.csv\")\n",
    "    train['correct_rounded'] = train['correct'].round().astype(int)\n",
    "    duplicated_train.drop('correct_rounded', axis=1, inplace=True)\n",
    "    duplicated_train.to_csv(f'../2-preprocessed_data/portrait_train_quadruples_vert_{i_fold}.csv', index=False)\n",
    "    \n",
    "    valid = pd.read_csv(f\"../2-preprocessed_data/portrait_valid_quadruples_vert_{i_fold}.csv\")\n",
    "    valid['correct_rounded'] = valid['correct'].round().astype(int)\n",
    "    duplicated_valid.drop('correct_rounded', axis=1, inplace=True)\n",
    "    duplicated_valid.to_csv(f'../2-preprocessed_data/portrait_valid_quadruples_vert_{i_fold}.csv', index=False)\n",
    "    \n",
    "    test = pd.read_csv(f\"../2-preprocessed_data/portrait_test_quadruples_vert_{i_fold}.csv\")\n",
    "    test['correct_rounded'] = test['correct'].round().astype(int)\n",
    "    duplicated_test.drop('correct_rounded', axis=1, inplace=True)\n",
    "    duplicated_test.to_csv(f'../2-preprocessed_data/portrait_test_quadruples_vert_{i_fold}.csv', index=False)"
   ]
  }
 ],
 "metadata": {
  "kernelspec": {
   "display_name": "Python 3 (ipykernel)",
   "language": "python",
   "name": "python3"
  },
  "language_info": {
   "codemirror_mode": {
    "name": "ipython",
    "version": 3
   },
   "file_extension": ".py",
   "mimetype": "text/x-python",
   "name": "python",
   "nbconvert_exporter": "python",
   "pygments_lexer": "ipython3",
   "version": "3.11.11"
  }
 },
 "nbformat": 4,
 "nbformat_minor": 5
}
