{
 "cells": [
  {
   "cell_type": "markdown",
   "id": "3f91591122382be0",
   "metadata": {},
   "source": [
    "# Assist17 dataset preprocessing\n",
    "### Import"
   ]
  },
  {
   "cell_type": "code",
   "id": "5c572fedcc3d884",
   "metadata": {
    "trusted": false,
    "ExecuteTime": {
     "end_time": "2025-05-26T08:32:23.698214Z",
     "start_time": "2025-05-26T08:32:23.313564Z"
    }
   },
   "source": "%load_ext autoreload\n%autoreload 2",
   "outputs": [
    {
     "name": "stdout",
     "output_type": "stream",
     "text": [
      "The autoreload extension is already loaded. To reload it, use:\n",
      "  %reload_ext autoreload\n"
     ]
    }
   ],
   "execution_count": 2
  },
  {
   "cell_type": "code",
   "id": "763506e3fc4c3ef3",
   "metadata": {
    "trusted": false,
    "ExecuteTime": {
     "end_time": "2025-05-26T08:32:27.561147Z",
     "start_time": "2025-05-26T08:32:25.088829Z"
    }
   },
   "source": "import sys\nsys.path.append('../../../')\nsys.path.append('../')\nfrom experiments.datasets.data_utils.preprocessing_utilities import stat_unique, remove_duplicates, densify,create_q2k, encode_attr, quadruplet_format, parse_data, split_data, save_to_csv,get_metadata, split_data_vertically,rescaling_dict,one_hot_encoding,split_small_data_vertically\n\nimport json\nimport pandas as pd\nimport numpy as np",
   "outputs": [],
   "execution_count": 3
  },
  {
   "cell_type": "markdown",
   "id": "2c6ffc9f3b1e2e5c",
   "metadata": {},
   "source": "### Load and merge dataset"
  },
  {
   "cell_type": "code",
   "id": "1a7130a281aaf6d8",
   "metadata": {
    "trusted": false,
    "ExecuteTime": {
     "end_time": "2025-05-26T09:06:08.015418Z",
     "start_time": "2025-05-26T09:06:02.815530Z"
    }
   },
   "source": [
    "raw_data = pd.read_csv('../1-raw_data/assist17_tkde.csv', encoding=\"ISO-8859-15\", low_memory=False)\n",
    "\n",
    "print(raw_data.columns)\n",
    "\n",
    "raw_data = raw_data.drop(columns=['Unnamed: 0','MiddleSchoolId',\n",
    "       'InferredGender', 'SY ASSISTments Usage', 'AveKnow', 'AveCarelessness',\n",
    "       'AveCorrect', 'NumActions', 'AveResBored', 'AveResEngcon', 'AveResConf',\n",
    "       'AveResFrust', 'AveResOfftask', 'AveResGaming', 'action_num',\n",
    "       'problemType', 'assignmentId', 'assistmentId', 'start_time', 'endTime',\n",
    "       'timeTaken', 'original', 'hint', 'hintCount', 'hintTotal',\n",
    "       'scaffold', 'bottomHint', 'attemptCount', 'frIsHelpRequest',\n",
    "       'frPast5HelpRequest', 'frPast8HelpRequest', 'stlHintUsed',\n",
    "       'past8BottomOut', 'totalFrPercentPastWrong', 'totalFrPastWrongCount',\n",
    "       'frPast5WrongCount', 'frPast8WrongCount', 'totalFrTimeOnSkill',\n",
    "       'timeSinceSkill', 'frWorkingInSchool', 'totalFrAttempted',\n",
    "       'totalFrSkillOpportunities', 'responseIsFillIn', 'responseIsChosen',\n",
    "       'endsWithScaffolding', 'endsWithAutoScaffolding',\n",
    "       'frTimeTakenOnScaffolding', 'frTotalSkillOpportunitiesScaffolding',\n",
    "       'totalFrSkillOpportunitiesByScaffolding', 'frIsHelpRequestScaffolding',\n",
    "       'timeGreater5Secprev2wrong', 'sumRight', 'helpAccessUnder2Sec',\n",
    "       'timeGreater10SecAndNextActionRight', 'consecutiveErrorsInRow',\n",
    "       'sumTime3SDWhen3RowRight', 'sumTimePerSkill',\n",
    "       'totalTimeByPercentCorrectForskill', 'Prev5count', 'timeOver80',\n",
    "       'manywrong', 'confidence(BORED)', 'confidence(CONCENTRATING)',\n",
    "       'confidence(CONFUSED)', 'confidence(FRUSTRATED)',\n",
    "       'confidence(OFF TASK)', 'confidence(GAMING)', 'RES_BORED',\n",
    "       'RES_CONCENTRATING', 'RES_CONFUSED', 'RES_FRUSTRATED', 'RES_OFFTASK',\n",
    "       'RES_GAMING', 'Ln-1', 'Ln', 'MCAS', 'Enrolled', 'Selective', 'isSTEM',\n",
    "       'qr', 'qr_compl'])\n",
    "\n",
    "raw_data =  raw_data.rename(columns={\"skill_id\": \"dimension_id\"})"
   ],
   "outputs": [
    {
     "name": "stdout",
     "output_type": "stream",
     "text": [
      "Index(['Unnamed: 0', 'skill_id', 'user_id', 'item_id', 'MiddleSchoolId',\n",
      "       'InferredGender', 'SY ASSISTments Usage', 'AveKnow', 'AveCarelessness',\n",
      "       'AveCorrect', 'NumActions', 'AveResBored', 'AveResEngcon', 'AveResConf',\n",
      "       'AveResFrust', 'AveResOfftask', 'AveResGaming', 'action_num',\n",
      "       'problemType', 'assignmentId', 'assistmentId', 'start_time', 'endTime',\n",
      "       'timeTaken', 'correct', 'original', 'hint', 'hintCount', 'hintTotal',\n",
      "       'scaffold', 'bottomHint', 'attemptCount', 'frIsHelpRequest',\n",
      "       'frPast5HelpRequest', 'frPast8HelpRequest', 'stlHintUsed',\n",
      "       'past8BottomOut', 'totalFrPercentPastWrong', 'totalFrPastWrongCount',\n",
      "       'frPast5WrongCount', 'frPast8WrongCount', 'totalFrTimeOnSkill',\n",
      "       'timeSinceSkill', 'frWorkingInSchool', 'totalFrAttempted',\n",
      "       'totalFrSkillOpportunities', 'responseIsFillIn', 'responseIsChosen',\n",
      "       'endsWithScaffolding', 'endsWithAutoScaffolding',\n",
      "       'frTimeTakenOnScaffolding', 'frTotalSkillOpportunitiesScaffolding',\n",
      "       'totalFrSkillOpportunitiesByScaffolding', 'frIsHelpRequestScaffolding',\n",
      "       'timeGreater5Secprev2wrong', 'sumRight', 'helpAccessUnder2Sec',\n",
      "       'timeGreater10SecAndNextActionRight', 'consecutiveErrorsInRow',\n",
      "       'sumTime3SDWhen3RowRight', 'sumTimePerSkill',\n",
      "       'totalTimeByPercentCorrectForskill', 'Prev5count', 'timeOver80',\n",
      "       'manywrong', 'confidence(BORED)', 'confidence(CONCENTRATING)',\n",
      "       'confidence(CONFUSED)', 'confidence(FRUSTRATED)',\n",
      "       'confidence(OFF TASK)', 'confidence(GAMING)', 'RES_BORED',\n",
      "       'RES_CONCENTRATING', 'RES_CONFUSED', 'RES_FRUSTRATED', 'RES_OFFTASK',\n",
      "       'RES_GAMING', 'Ln-1', 'Ln', 'MCAS', 'Enrolled', 'Selective', 'isSTEM',\n",
      "       'qr', 'qr_compl'],\n",
      "      dtype='object')\n"
     ]
    }
   ],
   "execution_count": 16
  },
  {
   "cell_type": "markdown",
   "id": "70d36cb174851667",
   "metadata": {},
   "source": "### Split rows with several dimensions"
  },
  {
   "cell_type": "code",
   "id": "48baada5ec363a41",
   "metadata": {
    "trusted": false,
    "ExecuteTime": {
     "end_time": "2025-05-26T09:12:58.085664Z",
     "start_time": "2025-05-26T09:12:56.494046Z"
    }
   },
   "source": [
    "raw_data['dimension_id'] = raw_data['dimension_id'].apply(lambda x: set(map(int, x.strip('{}').split(', '))))\n",
    "df_expanded = raw_data.explode('dimension_id').reset_index(drop=True)\n",
    "df_expanded.head()"
   ],
   "outputs": [
    {
     "data": {
      "text/plain": [
       "  dimension_id  user_id  item_id  correct\n",
       "0            3        0        0        1\n",
       "1           44        0      196        1\n",
       "2           44        0      200        1\n",
       "3           44        0      210        1\n",
       "4           41        0      214        1"
      ],
      "text/html": [
       "<div>\n",
       "<style scoped>\n",
       "    .dataframe tbody tr th:only-of-type {\n",
       "        vertical-align: middle;\n",
       "    }\n",
       "\n",
       "    .dataframe tbody tr th {\n",
       "        vertical-align: top;\n",
       "    }\n",
       "\n",
       "    .dataframe thead th {\n",
       "        text-align: right;\n",
       "    }\n",
       "</style>\n",
       "<table border=\"1\" class=\"dataframe\">\n",
       "  <thead>\n",
       "    <tr style=\"text-align: right;\">\n",
       "      <th></th>\n",
       "      <th>dimension_id</th>\n",
       "      <th>user_id</th>\n",
       "      <th>item_id</th>\n",
       "      <th>correct</th>\n",
       "    </tr>\n",
       "  </thead>\n",
       "  <tbody>\n",
       "    <tr>\n",
       "      <th>0</th>\n",
       "      <td>3</td>\n",
       "      <td>0</td>\n",
       "      <td>0</td>\n",
       "      <td>1</td>\n",
       "    </tr>\n",
       "    <tr>\n",
       "      <th>1</th>\n",
       "      <td>44</td>\n",
       "      <td>0</td>\n",
       "      <td>196</td>\n",
       "      <td>1</td>\n",
       "    </tr>\n",
       "    <tr>\n",
       "      <th>2</th>\n",
       "      <td>44</td>\n",
       "      <td>0</td>\n",
       "      <td>200</td>\n",
       "      <td>1</td>\n",
       "    </tr>\n",
       "    <tr>\n",
       "      <th>3</th>\n",
       "      <td>44</td>\n",
       "      <td>0</td>\n",
       "      <td>210</td>\n",
       "      <td>1</td>\n",
       "    </tr>\n",
       "    <tr>\n",
       "      <th>4</th>\n",
       "      <td>41</td>\n",
       "      <td>0</td>\n",
       "      <td>214</td>\n",
       "      <td>1</td>\n",
       "    </tr>\n",
       "  </tbody>\n",
       "</table>\n",
       "</div>"
      ]
     },
     "execution_count": 18,
     "metadata": {},
     "output_type": "execute_result"
    }
   ],
   "execution_count": 18
  },
  {
   "cell_type": "markdown",
   "id": "f532d0b094164b01",
   "metadata": {},
   "source": "### Early stats"
  },
  {
   "cell_type": "code",
   "id": "d6b0feeae63d2c54",
   "metadata": {
    "trusted": false,
    "ExecuteTime": {
     "end_time": "2025-05-26T09:13:05.656037Z",
     "start_time": "2025-05-26T09:13:05.618851Z"
    }
   },
   "source": "print(len(df_expanded))\nall_data = df_expanded.dropna(subset=['user_id','item_id','correct','dimension_id'])\nprint(len(all_data))",
   "outputs": [
    {
     "name": "stdout",
     "output_type": "stream",
     "text": [
      "390376\n",
      "390376\n"
     ]
    }
   ],
   "execution_count": 19
  },
  {
   "cell_type": "code",
   "id": "75ad853c5e6327ab",
   "metadata": {
    "trusted": false,
    "ExecuteTime": {
     "end_time": "2025-05-26T09:15:15.968736Z",
     "start_time": "2025-05-26T09:15:15.874901Z"
    }
   },
   "source": "stat_unique(all_data, None)\nstat_unique(all_data, ['user_id', 'item_id'])\nstat_unique(all_data, 'user_id')\nstat_unique(all_data, 'item_id')\nstat_unique(all_data, 'dimension_id')",
   "outputs": [
    {
     "name": "stdout",
     "output_type": "stream",
     "text": [
      "Total length: 390376\n",
      "Number of unique [user_id,item_id]: 390281\n",
      "Number of unique user_id: 1702\n",
      "Number of unique item_id: 3162\n",
      "Number of unique dimension_id: 102\n"
     ]
    }
   ],
   "execution_count": 20
  },
  {
   "cell_type": "markdown",
   "id": "9d2a99907e563075",
   "metadata": {},
   "source": "### Clean Nan values"
  },
  {
   "cell_type": "code",
   "id": "10b1e79bf17e1a46",
   "metadata": {
    "trusted": false,
    "ExecuteTime": {
     "end_time": "2025-05-26T09:15:18.710409Z",
     "start_time": "2025-05-26T09:15:18.633419Z"
    }
   },
   "source": "cleaned_data = all_data.dropna(subset=['user_id','item_id','dimension_id','correct'], axis='index')",
   "outputs": [],
   "execution_count": 21
  },
  {
   "cell_type": "markdown",
   "id": "1cf51a190511d02f",
   "metadata": {},
   "source": "### Remove duplicated user and id rows"
  },
  {
   "cell_type": "code",
   "id": "128895437c128e14",
   "metadata": {
    "trusted": false,
    "ExecuteTime": {
     "end_time": "2025-05-26T09:15:20.796558Z",
     "start_time": "2025-05-26T09:15:20.608295Z"
    }
   },
   "source": "unduplicated_data = remove_duplicates(cleaned_data,key_attrs=['user_id','item_id','dimension_id'],agg_attrs=[])",
   "outputs": [],
   "execution_count": 22
  },
  {
   "cell_type": "markdown",
   "id": "4a633bb837a7af3b",
   "metadata": {},
   "source": "### Filter Data"
  },
  {
   "cell_type": "code",
   "id": "62388835388d50d8",
   "metadata": {
    "trusted": false,
    "ExecuteTime": {
     "end_time": "2025-05-26T09:15:22.251899Z",
     "start_time": "2025-05-26T09:15:22.005095Z"
    }
   },
   "source": "filtered_data_0 = unduplicated_data\nfiltered_q_nb = 1\nfiltered_u_nb = 0\nfiltered_d_nb = 0\nwhile filtered_q_nb!=0 or filtered_u_nb!=0 or filtered_d_nb!=0 : \n    # filter items\n    filtered_data_1, filtered_q_nb = densify(filtered_data_0,'item_id','user_id',15)\n    # filter users\n    filtered_data_2, filtered_u_nb = densify(filtered_data_1,'user_id','item_id',15)\n    # filter knowledges\n    filtered_data_3, filtered_d_nb = densify(filtered_data_2,'dimension_id','item_id',10)\n    filtered_data_0 = filtered_data_3\n    \nstat_unique(filtered_data_0, None)\nstat_unique(filtered_data_0, ['user_id', 'item_id'])\nstat_unique(filtered_data_0, 'user_id')\nstat_unique(filtered_data_0, 'item_id')\nstat_unique(filtered_data_0, 'dimension_id')",
   "outputs": [
    {
     "name": "stdout",
     "output_type": "stream",
     "text": [
      "filter 948 item_id\n",
      "filter 0 user_id\n",
      "filter 38 dimension_id\n",
      "filter 0 item_id\n",
      "filter 0 user_id\n",
      "filter 0 dimension_id\n",
      "Total length: 367717\n",
      "Number of unique [user_id,item_id]: 367632\n",
      "Number of unique user_id: 1702\n",
      "Number of unique item_id: 2153\n",
      "Number of unique dimension_id: 59\n"
     ]
    }
   ],
   "execution_count": 23
  },
  {
   "metadata": {},
   "cell_type": "markdown",
   "source": "",
   "id": "ce3279eeb5138e24"
  },
  {
   "cell_type": "markdown",
   "id": "5f38b00b83903cf8",
   "metadata": {},
   "source": "### Encoding"
  },
  {
   "cell_type": "code",
   "id": "461aaa3f05f101f3",
   "metadata": {
    "trusted": false,
    "ExecuteTime": {
     "end_time": "2025-05-26T09:15:32.079228Z",
     "start_time": "2025-05-26T09:15:23.889400Z"
    }
   },
   "source": "# renumber the users\nu_enc_data, u2n = encode_attr(filtered_data_0, \"user_id\")",
   "outputs": [],
   "execution_count": 24
  },
  {
   "cell_type": "code",
   "id": "4ad08e7dad6b96ac",
   "metadata": {
    "trusted": false,
    "ExecuteTime": {
     "end_time": "2025-05-26T09:16:11.965398Z",
     "start_time": "2025-05-26T09:16:04.625603Z"
    }
   },
   "source": "# renumber the items\nq_enc_data, q2n = encode_attr(u_enc_data, \"item_id\")",
   "outputs": [],
   "execution_count": 25
  },
  {
   "cell_type": "code",
   "id": "9d3b2c3dff642633",
   "metadata": {
    "trusted": false,
    "ExecuteTime": {
     "end_time": "2025-05-26T09:16:21.443623Z",
     "start_time": "2025-05-26T09:16:12.094791Z"
    }
   },
   "source": "# renumber the dimensions\nd_enc_data, d2n = encode_attr(q_enc_data, \"dimension_id\")",
   "outputs": [],
   "execution_count": 26
  },
  {
   "cell_type": "markdown",
   "id": "3b9e92e115b938bd",
   "metadata": {},
   "source": "### Maps creation"
  },
  {
   "cell_type": "code",
   "id": "124352496823ae86",
   "metadata": {
    "trusted": false,
    "ExecuteTime": {
     "end_time": "2025-05-26T09:18:08.108837Z",
     "start_time": "2025-05-26T09:18:07.916624Z"
    }
   },
   "source": "q2k, k2q = create_q2k(d_enc_data)",
   "outputs": [],
   "execution_count": 27
  },
  {
   "cell_type": "markdown",
   "id": "d9bbf26af710c979",
   "metadata": {},
   "source": "### Rescaling responses"
  },
  {
   "cell_type": "code",
   "id": "16227ddf196496e7",
   "metadata": {
    "trusted": false,
    "ExecuteTime": {
     "end_time": "2025-05-26T09:18:09.561949Z",
     "start_time": "2025-05-26T09:18:09.513978Z"
    }
   },
   "source": "resc_data = d_enc_data\nresc_data['correct'] = resc_data['correct'].astype(float)\nmin_val = resc_data['correct'].min()\nmax_val = resc_data['correct'].max()\nresc_data['correct'] = (resc_data['correct']-min_val)/(max_val-min_val) +1\nprint(f'min value : {resc_data[\"correct\"].min()}, max value : {resc_data[\"correct\"].max()}')",
   "outputs": [
    {
     "name": "stdout",
     "output_type": "stream",
     "text": [
      "min value : 1.0, max value : 2.0\n"
     ]
    }
   ],
   "execution_count": 28
  },
  {
   "cell_type": "markdown",
   "id": "d887c5e72037c54",
   "metadata": {},
   "source": "### Get final stats and create metadata"
  },
  {
   "cell_type": "code",
   "id": "d3ce35f2a3d57db3",
   "metadata": {
    "trusted": false,
    "ExecuteTime": {
     "end_time": "2025-05-26T09:18:11.838483Z",
     "start_time": "2025-05-26T09:18:11.650775Z"
    }
   },
   "source": "stat_unique(resc_data, None)\nstat_unique(resc_data, ['user_id', 'item_id'])\nstat_unique(resc_data, 'user_id')\nstat_unique(resc_data, 'item_id')\nstat_unique(resc_data, 'dimension_id')\nstat_unique(resc_data, 'correct')\n\nresc_data_dim_grouped_items = resc_data.groupby(\"dimension_id\")[\"item_id\"].nunique()\nresc_data_dim_grouped_users = resc_data.groupby(\"dimension_id\")[\"user_id\"].nunique()\nprint('#questions/category: {} & {} &  {}'.format(np.min(resc_data_dim_grouped_items),int(np.round(np.mean(resc_data_dim_grouped_items))),np.max(resc_data_dim_grouped_items)))\nprint('#users/category: {} & {} &  {}'.format(np.min(resc_data_dim_grouped_users),int(np.round(np.mean(resc_data_dim_grouped_users))),np.max(resc_data_dim_grouped_users)))\n\nresc_data_dim_grouped_items = resc_data.groupby(\"item_id\")[\"dimension_id\"].nunique()\nresc_data_dim_grouped_users = resc_data.groupby(\"item_id\")[\"user_id\"].nunique()\nprint('#categorys/question: {} & {} &  {}'.format(np.min(resc_data_dim_grouped_items),int(np.round(np.mean(resc_data_dim_grouped_items))),np.max(resc_data_dim_grouped_items)))\nprint('#users/question: {} & {} &  {}'.format(np.min(resc_data_dim_grouped_users),int(np.round(np.mean(resc_data_dim_grouped_users))),np.max(resc_data_dim_grouped_users)))\n\nresc_data_dim_grouped_items = resc_data.groupby(\"user_id\")[\"item_id\"].nunique()\nresc_data_dim_grouped_users = resc_data.groupby(\"user_id\")[\"dimension_id\"].nunique()\nprint('#questions/users: {} & {} &  {}'.format(np.min(resc_data_dim_grouped_items),int(np.round(np.mean(resc_data_dim_grouped_items))),np.max(resc_data_dim_grouped_items)))\nprint('#categorys/users: {} & {} &  {}'.format(np.min(resc_data_dim_grouped_users),int(np.round(np.mean(resc_data_dim_grouped_users))),np.max(resc_data_dim_grouped_users)))",
   "outputs": [
    {
     "name": "stdout",
     "output_type": "stream",
     "text": [
      "Total length: 367717\n",
      "Number of unique [user_id,item_id]: 367632\n",
      "Number of unique user_id: 1702\n",
      "Number of unique item_id: 2153\n",
      "Number of unique dimension_id: 59\n",
      "Number of unique correct: 2\n",
      "#questions/category: 10 & 47 &  396\n",
      "#users/category: 413 & 1016 &  1527\n",
      "#categorys/question: 1 & 1 &  3\n",
      "#users/question: 15 & 171 &  690\n",
      "#questions/users: 16 & 216 &  770\n",
      "#categorys/users: 3 & 35 &  58\n"
     ]
    }
   ],
   "execution_count": 29
  },
  {
   "cell_type": "code",
   "id": "96b9fda0f0c947ba",
   "metadata": {
    "trusted": false,
    "ExecuteTime": {
     "end_time": "2025-05-26T09:18:13.765383Z",
     "start_time": "2025-05-26T09:18:13.052445Z"
    }
   },
   "source": "import matplotlib.pyplot as plt\n\n# draw a histogram of the age column\n(resc_data['correct']-1).hist(bins=20)\n\n# add labels and title\nplt.xlabel('Responses')\nplt.ylabel('Number')\nplt.title('Distribution of Responses')\n",
   "outputs": [
    {
     "data": {
      "text/plain": [
       "Text(0.5, 1.0, 'Distribution of Responses')"
      ]
     },
     "execution_count": 30,
     "metadata": {},
     "output_type": "execute_result"
    },
    {
     "data": {
      "text/plain": [
       "<Figure size 640x480 with 1 Axes>"
      ],
      "image/png": "[encoded data removed]"
     },
     "metadata": {},
     "output_type": "display_data"
    }
   ],
   "execution_count": 30
  },
  {
   "cell_type": "code",
   "id": "33f5f51328bc37c1",
   "metadata": {
    "trusted": false,
    "ExecuteTime": {
     "end_time": "2025-05-26T09:18:16.077392Z",
     "start_time": "2025-05-26T09:18:15.995917Z"
    }
   },
   "source": "plt.savefig('distribution_assist17.png')",
   "outputs": [
    {
     "data": {
      "text/plain": [
       "<Figure size 640x480 with 0 Axes>"
      ]
     },
     "metadata": {},
     "output_type": "display_data"
    }
   ],
   "execution_count": 31
  },
  {
   "cell_type": "code",
   "id": "1420cf5a2ffcaf83",
   "metadata": {
    "trusted": false,
    "ExecuteTime": {
     "end_time": "2025-05-26T09:18:16.860045Z",
     "start_time": "2025-05-26T09:18:16.809596Z"
    }
   },
   "source": "metadata = get_metadata(resc_data,[\"user_id\", \"item_id\", \"dimension_id\"])",
   "outputs": [],
   "execution_count": 32
  },
  {
   "cell_type": "markdown",
   "id": "af2a1ef2455361fa",
   "metadata": {},
   "source": "### Save data, concept map and metadata"
  },
  {
   "cell_type": "code",
   "id": "9314705046e62dcb",
   "metadata": {
    "trusted": false,
    "ExecuteTime": {
     "end_time": "2025-05-26T09:18:18.900505Z",
     "start_time": "2025-05-26T09:18:18.071359Z"
    }
   },
   "source": [
    "# save selected data\n",
    "resc_data.to_csv('../1-raw_data/assist17_selected_data.csv', index=False)"
   ],
   "outputs": [],
   "execution_count": 33
  },
  {
   "cell_type": "code",
   "id": "d57fbdcefd9ed82",
   "metadata": {
    "trusted": false,
    "ExecuteTime": {
     "end_time": "2025-05-26T09:18:19.520411Z",
     "start_time": "2025-05-26T09:18:19.455286Z"
    }
   },
   "source": "# Convert int64 keys to str\nq2k_str_keys = {str(key): value for key, value in q2k.items()}\n\n# Convert sets to lists in the dictionary\nq2k_json_serializable = {}\nfor key, value in q2k_str_keys.items():\n    if isinstance(value, set):\n        q2k_json_serializable[key] = list(value)\n    else:\n        q2k_json_serializable[key] = value\n\n# Save concept map\nwith open('concept_map.json', 'w') as f:\n    json.dump(q2k_json_serializable, f)",
   "outputs": [],
   "execution_count": 34
  },
  {
   "cell_type": "code",
   "id": "6fdbebe69540c57c",
   "metadata": {
    "trusted": false,
    "ExecuteTime": {
     "end_time": "2025-05-26T09:18:20.433350Z",
     "start_time": "2025-05-26T09:18:20.394758Z"
    }
   },
   "source": "# save metadata\nwith open('metadata.json', 'w') as f:\n    json.dump(metadata, f)",
   "outputs": [],
   "execution_count": 35
  },
  {
   "cell_type": "markdown",
   "id": "db9f1ae6fa56cfa1",
   "metadata": {},
   "source": "## parse data"
  },
  {
   "cell_type": "code",
   "id": "3b97a578bdb0ec0b",
   "metadata": {
    "trusted": false,
    "ExecuteTime": {
     "end_time": "2025-05-26T09:18:22.372420Z",
     "start_time": "2025-05-26T09:18:21.601221Z"
    }
   },
   "source": [
    "resc_data = pd.read_csv('../1-raw_data/assist17_selected_data.csv')\n",
    "quadruplet = quadruplet_format(resc_data)"
   ],
   "outputs": [],
   "execution_count": 36
  },
  {
   "cell_type": "code",
   "id": "53610eb7a85babfb",
   "metadata": {
    "trusted": false,
    "ExecuteTime": {
     "end_time": "2025-05-26T09:18:37.116572Z",
     "start_time": "2025-05-26T09:18:22.411312Z"
    }
   },
   "source": "stu_data, ques_data = parse_data(resc_data)",
   "outputs": [],
   "execution_count": 37
  },
  {
   "cell_type": "code",
   "id": "664d88228a03713c",
   "metadata": {
    "trusted": false,
    "ExecuteTime": {
     "end_time": "2025-05-26T09:18:37.227180Z",
     "start_time": "2025-05-26T09:18:37.197955Z"
    }
   },
   "source": "test_size = 0.2\nvalid_size = 0.2 # proportion over the all dataset\nleast_test_length=100",
   "outputs": [],
   "execution_count": 38
  },
  {
   "cell_type": "markdown",
   "id": "eb9d52bc042dd09a",
   "metadata": {},
   "source": "## save row data"
  },
  {
   "metadata": {},
   "cell_type": "markdown",
   "source": "## vertical split",
   "id": "7edeb85a60554003"
  },
  {
   "cell_type": "code",
   "id": "cf7c3ff5225454b0",
   "metadata": {
    "trusted": false,
    "ExecuteTime": {
     "end_time": "2025-05-26T09:19:00.131302Z",
     "start_time": "2025-05-26T09:18:46.736194Z"
    }
   },
   "source": "train_data, valid_data, test_data = split_data_vertically(quadruplet, test_prop=test_size,valid_prop=valid_size,folds_nb=5)",
   "outputs": [],
   "execution_count": 42
  },
  {
   "cell_type": "code",
   "id": "2d6e135c1af1d59a",
   "metadata": {
    "trusted": false,
    "ExecuteTime": {
     "end_time": "2025-05-26T09:19:06.718373Z",
     "start_time": "2025-05-26T09:19:00.354405Z"
    }
   },
   "source": [
    "for i_fold, train_fold in enumerate(train_data):\n",
    "    save_to_csv(train_data[i_fold], f'../2-preprocessed_data/assist17_train_quadruples_vert_{i_fold}.csv')\n",
    "    save_to_csv(valid_data[i_fold], f'../2-preprocessed_data/assist17_valid_quadruples_vert_{i_fold}.csv')\n",
    "    save_to_csv(test_data[i_fold], f'../2-preprocessed_data/assist17_test_quadruples_vert_{i_fold}.csv')"
   ],
   "outputs": [],
   "execution_count": 43
  },
  {
   "cell_type": "code",
   "execution_count": null,
   "id": "4f3c7ffc68906b8e",
   "metadata": {
    "trusted": false
   },
   "outputs": [],
   "source": ""
  }
 ],
 "metadata": {
  "kernelspec": {
   "display_name": "Python [conda env:jovyan-liriscat]",
   "language": "python",
   "name": "conda-env-jovyan-liriscat-py"
  },
  "language_info": {
   "codemirror_mode": {
    "name": "ipython",
    "version": 3
   },
   "file_extension": ".py",
   "mimetype": "text/x-python",
   "name": "python",
   "nbconvert_exporter": "python",
   "pygments_lexer": "ipython3",
   "version": "3.11.9"
  }
 },
 "nbformat": 4,
 "nbformat_minor": 5
}
