{
 "cells": [
  {
   "cell_type": "markdown",
   "id": "3f91591122382be0",
   "metadata": {},
   "source": [
    "# Math2 dataset preprocessing\n",
    "### Import"
   ]
  },
  {
   "cell_type": "code",
   "execution_count": null,
   "id": "5c572fedcc3d884",
   "metadata": {
    "ExecuteTime": {
     "end_time": "2025-02-18T10:53:34.326Z",
     "start_time": "2025-02-18T10:53:34.319791Z"
    }
   },
   "outputs": [],
   "source": [
    "%load_ext autoreload\n",
    "%autoreload 2"
   ]
  },
  {
   "cell_type": "code",
   "execution_count": null,
   "id": "763506e3fc4c3ef3",
   "metadata": {
    "ExecuteTime": {
     "end_time": "2025-02-18T10:53:35.980513Z",
     "start_time": "2025-02-18T10:53:34.671933Z"
    }
   },
   "outputs": [],
   "source": [
    "import sys\n",
    "sys.path.append('../../../')\n",
    "sys.path.append('../')\n",
    "from experiments.datasets.data_utils.preprocessing_utilities import stat_unique, remove_duplicates, densify,create_q2k, encode_attr, quadruplet_format, parse_data, split_data, save_to_csv,get_metadata, split_data_vertically,rescaling_dict,one_hot_encoding,split_small_data_vertically,get_modalities_nb\n",
    "\n",
    "import json\n",
    "import pandas as pd\n",
    "import numpy as np"
   ]
  },
  {
   "cell_type": "markdown",
   "id": "2c6ffc9f3b1e2e5c",
   "metadata": {},
   "source": [
    "### Load and merge dataset"
   ]
  },
  {
   "cell_type": "code",
   "execution_count": null,
   "id": "eae9427ff89ef0a3",
   "metadata": {
    "ExecuteTime": {
     "end_time": "2025-02-18T10:53:36.050355Z",
     "start_time": "2025-02-18T10:53:35.990117Z"
    }
   },
   "outputs": [],
   "source": [
    "raw_data = pd.read_csv('../1-raw_data/math_2.csv', encoding=\"ISO-8859-15\", low_memory=False)\n",
    "\n",
    "raw_data = raw_data.drop(columns=['Unnamed: 0.2', 'Unnamed: 0',\n",
    "       'Unnamed: 0.1', 'start_time', 'Unnamed: 0.1.1', 'qr',\n",
    "       'qr_compl'])\n",
    "\n",
    "raw_data =  raw_data.rename(columns={\"skill_id\": \"dimension_id\"})\n",
    "raw_data.head()"
   ]
  },
  {
   "cell_type": "markdown",
   "id": "70d36cb174851667",
   "metadata": {},
   "source": [
    "### Split rows with several dimensions"
   ]
  },
  {
   "cell_type": "code",
   "execution_count": null,
   "id": "48baada5ec363a41",
   "metadata": {
    "ExecuteTime": {
     "end_time": "2025-02-18T10:53:36.619280Z",
     "start_time": "2025-02-18T10:53:36.430839Z"
    }
   },
   "outputs": [],
   "source": [
    "raw_data['dimension_id'] = raw_data['dimension_id'].apply(lambda x: set(map(int, x.strip('{}').split(', '))))\n",
    "df_expanded = raw_data.explode('dimension_id').reset_index(drop=True)\n",
    "df_expanded.head()"
   ]
  },
  {
   "cell_type": "markdown",
   "id": "f532d0b094164b01",
   "metadata": {},
   "source": [
    "### Early stats"
   ]
  },
  {
   "cell_type": "code",
   "execution_count": null,
   "id": "d6b0feeae63d2c54",
   "metadata": {
    "ExecuteTime": {
     "end_time": "2025-02-18T10:53:36.888087Z",
     "start_time": "2025-02-18T10:53:36.862034Z"
    }
   },
   "outputs": [],
   "source": [
    "print(len(df_expanded))\n",
    "all_data = df_expanded.dropna(subset=['user_id','item_id','correct','dimension_id'])\n",
    "print(len(all_data))"
   ]
  },
  {
   "cell_type": "code",
   "execution_count": null,
   "id": "75ad853c5e6327ab",
   "metadata": {
    "ExecuteTime": {
     "end_time": "2025-02-18T10:53:37.149539Z",
     "start_time": "2025-02-18T10:53:37.125160Z"
    }
   },
   "outputs": [],
   "source": [
    "stat_unique(all_data, None)\n",
    "stat_unique(all_data, ['user_id', 'item_id'])\n",
    "stat_unique(all_data, 'user_id')\n",
    "stat_unique(all_data, 'item_id')\n",
    "stat_unique(all_data, 'dimension_id')"
   ]
  },
  {
   "cell_type": "markdown",
   "id": "9d2a99907e563075",
   "metadata": {},
   "source": [
    "### Clean Nan values"
   ]
  },
  {
   "cell_type": "code",
   "execution_count": null,
   "id": "10b1e79bf17e1a46",
   "metadata": {
    "ExecuteTime": {
     "end_time": "2025-02-18T10:53:37.620132Z",
     "start_time": "2025-02-18T10:53:37.591282Z"
    }
   },
   "outputs": [],
   "source": [
    "cleaned_data = all_data.dropna(subset=['user_id','item_id','dimension_id','correct'], axis='index')"
   ]
  },
  {
   "cell_type": "markdown",
   "id": "1cf51a190511d02f",
   "metadata": {},
   "source": [
    "### Remove duplicated user and id rows"
   ]
  },
  {
   "cell_type": "code",
   "execution_count": null,
   "id": "128895437c128e14",
   "metadata": {
    "ExecuteTime": {
     "end_time": "2025-02-18T10:53:38.086986Z",
     "start_time": "2025-02-18T10:53:38.038545Z"
    }
   },
   "outputs": [],
   "source": [
    "unduplicated_data = remove_duplicates(cleaned_data,key_attrs=['user_id','item_id','dimension_id'],agg_attrs=[])"
   ]
  },
  {
   "cell_type": "markdown",
   "id": "4a633bb837a7af3b",
   "metadata": {},
   "source": [
    "### Filter Data"
   ]
  },
  {
   "cell_type": "code",
   "execution_count": null,
   "id": "62388835388d50d8",
   "metadata": {
    "ExecuteTime": {
     "end_time": "2025-02-18T10:53:38.478825Z",
     "start_time": "2025-02-18T10:53:38.421099Z"
    }
   },
   "outputs": [],
   "source": [
    "filtered_data_0 = unduplicated_data\n",
    "filtered_q_nb = 1\n",
    "filtered_u_nb = 0\n",
    "filtered_d_nb = 0\n",
    "while filtered_q_nb!=0 or filtered_u_nb!=0 or filtered_d_nb!=0 : \n",
    "    # filter items\n",
    "    filtered_data_1, filtered_q_nb = densify(filtered_data_0,'item_id','user_id',5)\n",
    "    # filter users\n",
    "    filtered_data_2, filtered_u_nb = densify(filtered_data_1,'user_id','item_id',5)\n",
    "    # filter knowledges\n",
    "    filtered_data_3, filtered_d_nb = densify(filtered_data_2,'dimension_id','item_id',1)\n",
    "    filtered_data_0 = filtered_data_3\n",
    "    \n",
    "stat_unique(filtered_data_0, None)\n",
    "stat_unique(filtered_data_0, ['user_id', 'item_id'])\n",
    "stat_unique(filtered_data_0, 'user_id')\n",
    "stat_unique(filtered_data_0, 'item_id')\n",
    "stat_unique(filtered_data_0, 'dimension_id')"
   ]
  },
  {
   "cell_type": "markdown",
   "id": "5f38b00b83903cf8",
   "metadata": {},
   "source": [
    "### Encoding"
   ]
  },
  {
   "cell_type": "code",
   "execution_count": null,
   "id": "461aaa3f05f101f3",
   "metadata": {
    "ExecuteTime": {
     "end_time": "2025-02-18T10:53:41.633393Z",
     "start_time": "2025-02-18T10:53:39.087590Z"
    }
   },
   "outputs": [],
   "source": [
    "# renumber the users\n",
    "u_enc_data, u2n = encode_attr(filtered_data_0, \"user_id\")"
   ]
  },
  {
   "cell_type": "code",
   "execution_count": null,
   "id": "4ad08e7dad6b96ac",
   "metadata": {
    "ExecuteTime": {
     "end_time": "2025-02-18T10:53:44.079495Z",
     "start_time": "2025-02-18T10:53:41.636301Z"
    }
   },
   "outputs": [],
   "source": [
    "# renumber the items\n",
    "q_enc_data, q2n = encode_attr(u_enc_data, \"item_id\")"
   ]
  },
  {
   "cell_type": "code",
   "execution_count": null,
   "id": "9d3b2c3dff642633",
   "metadata": {
    "ExecuteTime": {
     "end_time": "2025-02-18T10:56:46.227121Z",
     "start_time": "2025-02-18T10:56:43.722673Z"
    }
   },
   "outputs": [],
   "source": [
    "# renumber the dimensions\n",
    "d_enc_data, d2n = encode_attr(q_enc_data, \"dimension_id\")"
   ]
  },
  {
   "cell_type": "markdown",
   "id": "3b9e92e115b938bd",
   "metadata": {},
   "source": [
    "### Maps creation"
   ]
  },
  {
   "cell_type": "code",
   "execution_count": null,
   "id": "124352496823ae86",
   "metadata": {
    "ExecuteTime": {
     "end_time": "2025-02-18T10:57:33.100326Z",
     "start_time": "2025-02-18T10:57:33.079636Z"
    }
   },
   "outputs": [],
   "source": [
    "q2k, k2q = create_q2k(d_enc_data)"
   ]
  },
  {
   "cell_type": "markdown",
   "id": "d9bbf26af710c979",
   "metadata": {},
   "source": [
    "### Rescaling responses"
   ]
  },
  {
   "cell_type": "code",
   "execution_count": null,
   "id": "16227ddf196496e7",
   "metadata": {
    "ExecuteTime": {
     "end_time": "2025-02-18T10:58:05.708256Z",
     "start_time": "2025-02-18T10:58:05.690281Z"
    }
   },
   "outputs": [],
   "source": [
    "resc_data = d_enc_data\n",
    "resc_data['correct'] = resc_data['correct'].astype(float)\n",
    "min_val = resc_data['correct'].min()\n",
    "max_val = resc_data['correct'].max()\n",
    "resc_data['correct'] = (resc_data['correct']-min_val)/(max_val-min_val) +1\n",
    "print(f'min value : {resc_data[\"correct\"].min()}, max value : {resc_data[\"correct\"].max()}')"
   ]
  },
  {
   "cell_type": "markdown",
   "id": "d887c5e72037c54",
   "metadata": {},
   "source": [
    "### Get final stats and create metadata"
   ]
  },
  {
   "cell_type": "code",
   "execution_count": null,
   "id": "d3ce35f2a3d57db3",
   "metadata": {
    "ExecuteTime": {
     "end_time": "2025-02-18T10:58:06.962670Z",
     "start_time": "2025-02-18T10:58:06.880465Z"
    }
   },
   "outputs": [],
   "source": [
    "stat_unique(resc_data, None)\n",
    "stat_unique(resc_data, ['user_id', 'item_id'])\n",
    "stat_unique(resc_data, 'user_id')\n",
    "stat_unique(resc_data, 'item_id')\n",
    "stat_unique(resc_data, 'dimension_id')\n",
    "stat_unique(resc_data, 'correct')\n",
    "\n",
    "resc_data_dim_grouped_items = resc_data.groupby(\"dimension_id\")[\"item_id\"].nunique()\n",
    "resc_data_dim_grouped_users = resc_data.groupby(\"dimension_id\")[\"user_id\"].nunique()\n",
    "print('#questions/category: {} & {} &  {}'.format(np.min(resc_data_dim_grouped_items),int(np.round(np.mean(resc_data_dim_grouped_items))),np.max(resc_data_dim_grouped_items)))\n",
    "print('#users/category: {} & {} &  {}'.format(np.min(resc_data_dim_grouped_users),int(np.round(np.mean(resc_data_dim_grouped_users))),np.max(resc_data_dim_grouped_users)))\n",
    "\n",
    "resc_data_dim_grouped_items = resc_data.groupby(\"item_id\")[\"dimension_id\"].nunique()\n",
    "resc_data_dim_grouped_users = resc_data.groupby(\"item_id\")[\"user_id\"].nunique()\n",
    "print('#categorys/question: {} & {} &  {}'.format(np.min(resc_data_dim_grouped_items),int(np.round(np.mean(resc_data_dim_grouped_items))),np.max(resc_data_dim_grouped_items)))\n",
    "print('#users/question: {} & {} &  {}'.format(np.min(resc_data_dim_grouped_users),int(np.round(np.mean(resc_data_dim_grouped_users))),np.max(resc_data_dim_grouped_users)))\n",
    "\n",
    "resc_data_dim_grouped_items = resc_data.groupby(\"user_id\")[\"item_id\"].nunique()\n",
    "resc_data_dim_grouped_users = resc_data.groupby(\"user_id\")[\"dimension_id\"].nunique()\n",
    "print('#questions/users: {} & {} &  {}'.format(np.min(resc_data_dim_grouped_items),int(np.round(np.mean(resc_data_dim_grouped_items))),np.max(resc_data_dim_grouped_items)))\n",
    "print('#categorys/users: {} & {} &  {}'.format(np.min(resc_data_dim_grouped_users),int(np.round(np.mean(resc_data_dim_grouped_users))),np.max(resc_data_dim_grouped_users)))"
   ]
  },
  {
   "cell_type": "code",
   "execution_count": null,
   "id": "96b9fda0f0c947ba",
   "metadata": {
    "ExecuteTime": {
     "end_time": "2025-02-18T10:58:07.130930Z",
     "start_time": "2025-02-18T10:58:07.025208Z"
    }
   },
   "outputs": [],
   "source": [
    "import matplotlib.pyplot as plt\n",
    "\n",
    "# draw a histogram of the age column\n",
    "(resc_data['correct']-1).hist(bins=20)\n",
    "\n",
    "# add labels and title\n",
    "plt.xlabel('Responses')\n",
    "plt.ylabel('Number')\n",
    "plt.title('Distribution of Responses')\n"
   ]
  },
  {
   "cell_type": "code",
   "execution_count": null,
   "id": "33f5f51328bc37c1",
   "metadata": {
    "ExecuteTime": {
     "end_time": "2025-02-18T10:58:07.207362Z",
     "start_time": "2025-02-18T10:58:07.185889Z"
    }
   },
   "outputs": [],
   "source": [
    "plt.savefig('distribution_math2.png')"
   ]
  },
  {
   "cell_type": "code",
   "execution_count": null,
   "id": "1420cf5a2ffcaf83",
   "metadata": {
    "ExecuteTime": {
     "end_time": "2025-02-18T10:58:07.370107Z",
     "start_time": "2025-02-18T10:58:07.353491Z"
    }
   },
   "outputs": [],
   "source": [
    "metadata = get_metadata(resc_data,[\"user_id\", \"item_id\", \"dimension_id\"])"
   ]
  },
  {
   "cell_type": "markdown",
   "id": "394274f0-4db0-4423-b5ab-0a07e3c3733d",
   "metadata": {},
   "source": [
    "### Compute number of modalities"
   ]
  },
  {
   "cell_type": "code",
   "execution_count": null,
   "id": "d2e98112-87f7-4dbe-98c9-3c3e6c20f635",
   "metadata": {},
   "outputs": [],
   "source": [
    "nb_modalities =get_modalities_nb(resc_data, metadata)"
   ]
  },
  {
   "cell_type": "markdown",
   "id": "af2a1ef2455361fa",
   "metadata": {},
   "source": [
    "### Save data, concept map, metadata and nb_modalities"
   ]
  },
  {
   "cell_type": "code",
   "execution_count": null,
   "id": "9314705046e62dcb",
   "metadata": {
    "ExecuteTime": {
     "end_time": "2025-02-18T10:58:07.871791Z",
     "start_time": "2025-02-18T10:58:07.733994Z"
    }
   },
   "outputs": [],
   "source": [
    "# save selected data\n",
    "resc_data.to_csv('../1-raw_data/math2_selected_data.csv', index=False)"
   ]
  },
  {
   "cell_type": "code",
   "execution_count": null,
   "id": "d57fbdcefd9ed82",
   "metadata": {
    "ExecuteTime": {
     "end_time": "2025-02-18T10:58:09.287095Z",
     "start_time": "2025-02-18T10:58:09.272795Z"
    }
   },
   "outputs": [],
   "source": [
    "# Convert int64 keys to str\n",
    "q2k_str_keys = {str(key): value for key, value in q2k.items()}\n",
    "\n",
    "# Convert sets to lists in the dictionary\n",
    "q2k_json_serializable = {}\n",
    "for key, value in q2k_str_keys.items():\n",
    "    if isinstance(value, set):\n",
    "        q2k_json_serializable[key] = list(value)\n",
    "    else:\n",
    "        q2k_json_serializable[key] = value\n",
    "\n",
    "# Save concept map\n",
    "with open('concept_map.json', 'w') as f:\n",
    "    json.dump(q2k_json_serializable, f)"
   ]
  },
  {
   "cell_type": "code",
   "execution_count": null,
   "id": "6fdbebe69540c57c",
   "metadata": {
    "ExecuteTime": {
     "end_time": "2025-02-18T10:58:15.208627Z",
     "start_time": "2025-02-18T10:58:15.194679Z"
    }
   },
   "outputs": [],
   "source": [
    "# save metadata\n",
    "with open('metadata.json', 'w') as f:\n",
    "    json.dump(metadata, f)"
   ]
  },
  {
   "cell_type": "code",
   "execution_count": null,
   "id": "843d81bf-4c94-4547-8ee5-c016259b7d57",
   "metadata": {},
   "outputs": [],
   "source": [
    "# save metadata\n",
    "torch.save(nb_modalities,'nb_modalities.pkl')"
   ]
  },
  {
   "cell_type": "markdown",
   "id": "db9f1ae6fa56cfa1",
   "metadata": {},
   "source": [
    "## parse data"
   ]
  },
  {
   "cell_type": "code",
   "execution_count": null,
   "id": "3b97a578bdb0ec0b",
   "metadata": {
    "ExecuteTime": {
     "end_time": "2025-02-18T10:58:17.718775Z",
     "start_time": "2025-02-18T10:58:17.523817Z"
    }
   },
   "outputs": [],
   "source": [
    "resc_data = pd.read_csv('../1-raw_data/math2_selected_data.csv')\n",
    "quadruplet = quadruplet_format(resc_data)"
   ]
  },
  {
   "cell_type": "code",
   "execution_count": null,
   "id": "53610eb7a85babfb",
   "metadata": {
    "ExecuteTime": {
     "end_time": "2025-02-18T10:58:22.390690Z",
     "start_time": "2025-02-18T10:58:17.721563Z"
    }
   },
   "outputs": [],
   "source": [
    "stu_data, ques_data = parse_data(resc_data)"
   ]
  },
  {
   "cell_type": "code",
   "execution_count": null,
   "id": "664d88228a03713c",
   "metadata": {
    "ExecuteTime": {
     "end_time": "2025-02-18T10:58:22.444055Z",
     "start_time": "2025-02-18T10:58:22.430628Z"
    }
   },
   "outputs": [],
   "source": [
    "test_size = 0.2\n",
    "valid_size = 0.2 # proportion over the all dataset\n",
    "least_test_length=100"
   ]
  },
  {
   "cell_type": "markdown",
   "id": "8d22511250870e52",
   "metadata": {},
   "source": [
    "## Horizontal split"
   ]
  },
  {
   "cell_type": "code",
   "execution_count": null,
   "id": "7fd17508c0838406",
   "metadata": {
    "ExecuteTime": {
     "end_time": "2024-05-27T14:53:17.312841Z",
     "start_time": "2024-05-27T14:53:16.863329Z"
    }
   },
   "outputs": [],
   "source": [
    "train_data, valid_data, test_data = split_data(quadruplet, stu_data, test_prop=test_size, valid_prop=valid_size, least_test_length=least_test_length) "
   ]
  },
  {
   "cell_type": "code",
   "execution_count": null,
   "id": "6de4b9dcb1e94b92",
   "metadata": {
    "ExecuteTime": {
     "end_time": "2024-05-27T14:53:17.954456Z",
     "start_time": "2024-05-27T14:53:17.945177Z"
    }
   },
   "outputs": [],
   "source": [
    "print(f'train records length: {len(train_data)}')\n",
    "print(f'test records length: {len(test_data)}')\n",
    "print(f'valid records length: {len(valid_data)}')\n",
    "print(f'all records length: {len(train_data)+len(valid_data)+len(test_data)}')"
   ]
  },
  {
   "cell_type": "markdown",
   "id": "eb9d52bc042dd09a",
   "metadata": {},
   "source": [
    "## save row data"
   ]
  },
  {
   "cell_type": "code",
   "execution_count": null,
   "id": "b12f56e994788895",
   "metadata": {
    "ExecuteTime": {
     "end_time": "2024-05-27T14:53:20.940435Z",
     "start_time": "2024-05-27T14:53:19.485388Z"
    }
   },
   "outputs": [],
   "source": [
    "save_to_csv(train_data, '../2-preprocessed_data/math2_train_quadruples.csv')\n",
    "save_to_csv(valid_data, '../2-preprocessed_data/math2_valid_quadruples.csv')\n",
    "save_to_csv(test_data, '../2-preprocessed_data/math2_test_quadruples.csv')"
   ]
  },
  {
   "cell_type": "markdown",
   "id": "7edeb85a60554003",
   "metadata": {},
   "source": [
    "## vertical split"
   ]
  },
  {
   "cell_type": "code",
   "execution_count": null,
   "id": "cf7c3ff5225454b0",
   "metadata": {
    "ExecuteTime": {
     "end_time": "2025-02-18T10:22:01.082113Z",
     "start_time": "2025-02-18T10:21:52.372456Z"
    }
   },
   "outputs": [],
   "source": [
    "train_data, valid_data, test_data = split_data_vertically(quadruplet, test_prop=test_size,valid_prop=valid_size,folds_nb=5)"
   ]
  },
  {
   "cell_type": "code",
   "execution_count": null,
   "id": "2d6e135c1af1d59a",
   "metadata": {
    "ExecuteTime": {
     "end_time": "2025-02-18T10:22:02.625443Z",
     "start_time": "2025-02-18T10:22:01.084868Z"
    }
   },
   "outputs": [],
   "source": [
    "for i_fold, train_fold in enumerate(train_data):\n",
    "    save_to_csv(train_data[i_fold], f'../2-preprocessed_data/math2_train_quadruples_vert_{i_fold}.csv')\n",
    "    save_to_csv(valid_data[i_fold], f'../2-preprocessed_data/math2_valid_quadruples_vert_{i_fold}.csv')\n",
    "    save_to_csv(test_data[i_fold], f'../2-preprocessed_data/math2_test_quadruples_vert_{i_fold}.csv')"
   ]
  },
  {
   "cell_type": "markdown",
   "id": "517102ef772a0bb4",
   "metadata": {},
   "source": [
    "#### Toy dataset generation"
   ]
  },
  {
   "cell_type": "code",
   "execution_count": null,
   "id": "817d825b12147c69",
   "metadata": {
    "ExecuteTime": {
     "end_time": "2025-02-18T10:22:03.508233Z",
     "start_time": "2025-02-18T10:22:02.637658Z"
    }
   },
   "outputs": [],
   "source": [
    "train_data_small, valid_data_small, test_data_small = split_small_data_vertically(quadruplet, test_prop=0.95,\n",
    "                                                                                  valid_prop=0.025)\n",
    "\n",
    "save_to_csv(train_data_small, f'../2-preprocessed_data/math2_small_train_quadruples_vert_{0}.csv')\n",
    "save_to_csv(valid_data_small, f'../2-preprocessed_data/math2_small_valid_quadruples_vert_{0}.csv')\n",
    "save_to_csv(test_data_small, f'../2-preprocessed_data/math2_small_test_quadruples_vert_{0}.csv')"
   ]
  },
  {
   "cell_type": "code",
   "execution_count": null,
   "id": "65ed48f03bb9bc9",
   "metadata": {
    "ExecuteTime": {
     "end_time": "2025-02-18T10:22:03.535059Z",
     "start_time": "2025-02-18T10:22:03.520997Z"
    }
   },
   "outputs": [],
   "source": [
    "len(train_data_small)"
   ]
  },
  {
   "cell_type": "markdown",
   "id": "c7eeafe2ff24f36b",
   "metadata": {},
   "source": [
    "### one hot encoding"
   ]
  },
  {
   "cell_type": "code",
   "execution_count": null,
   "id": "a4977055993f1459",
   "metadata": {
    "ExecuteTime": {
     "start_time": "2024-05-07T07:48:52.273788Z"
    },
    "jupyter": {
     "is_executing": true
    }
   },
   "outputs": [],
   "source": [
    "train = pd.read_csv(\"../2-preprocessed_data/math2_train_quadruples.csv\").astype({'student_id':int, 'item_id':int, \"correct\":float})\n",
    "duplicated_train = one_hot_encoding(train,response_range_dict)\n",
    "duplicated_train.to_csv('../2-preprocessed_data/math2_train_quadruples_ohe.csv', index=False)"
   ]
  },
  {
   "cell_type": "code",
   "execution_count": null,
   "id": "b41937724507a00d",
   "metadata": {
    "jupyter": {
     "is_executing": true
    }
   },
   "outputs": [],
   "source": [
    "valid = pd.read_csv(\"../2-preprocessed_data/math2_valid_quadruples.csv\").astype({'student_id':int, 'item_id':int, \"correct\":float})\n",
    "duplicated_valid = one_hot_encoding(valid,response_range_dict)\n",
    "duplicated_valid.to_csv('../2-preprocessed_data/math2_valid_quadruples_ohe.csv', index=False)"
   ]
  },
  {
   "cell_type": "code",
   "execution_count": null,
   "id": "91a55660aae3f0d",
   "metadata": {
    "ExecuteTime": {
     "end_time": "2024-04-08T13:33:12.287939Z",
     "start_time": "2024-04-08T13:33:12.185094Z"
    }
   },
   "outputs": [],
   "source": [
    "test = pd.read_csv(\"../2-preprocessed_data/math2_test_quadruples.csv\")\n",
    "duplicated_test = one_hot_encoding(test,response_range_dict)\n",
    "duplicated_test.to_csv('../2-preprocessed_data/math2_test_quadruples_ohe.csv', index=False)"
   ]
  },
  {
   "cell_type": "code",
   "execution_count": null,
   "id": "7d4eac15e4dea77b",
   "metadata": {
    "ExecuteTime": {
     "start_time": "2024-05-07T08:01:32.651535Z"
    },
    "jupyter": {
     "is_executing": true
    }
   },
   "outputs": [],
   "source": [
    "import numpy as np\n",
    "import pandas as pd\n",
    "from tqdm import tqdm\n",
    "\n",
    "for i in range(5) : \n",
    "    train = pd.read_csv(\"../2-preprocessed_data/math2_train_quadruples_vert_\"+str(i)+\".csv\").astype({'student_id':int, 'item_id':int, \"correct\":float})\n",
    "    duplicated_train = one_hot_encoding(train,response_range_dict)\n",
    "    duplicated_train.to_csv('train_quadruples_vert_ohe_'+str(i)+'.csv', index=False)\n",
    "    \n",
    "    valid = pd.read_csv(\"../2-preprocessed_data/math2_valid_quadruples_vert_\"+str(i)+\".csv\").astype({'student_id':int, 'item_id':int, \"correct\":float})\n",
    "    duplicated_valid = one_hot_encoding(valid,response_range_dict)\n",
    "    duplicated_valid.to_csv('valid_quadruples_vert_ohe_'+str(i)+'.csv', index=False)\n",
    "    \n",
    "    test = pd.read_csv(\"../2-preprocessed_data/math2_test_quadruples_vert_\"+str(i)+\".csv\").astype({'student_id':int, 'item_id':int, \"correct\":float})\n",
    "    duplicated_test = one_hot_encoding(test,response_range_dict)\n",
    "    duplicated_test.to_csv('../2-preprocessed_data/math2_test_quadruples_vert_ohe_'+str(i)+'.csv', index=False)"
   ]
  },
  {
   "cell_type": "code",
   "execution_count": null,
   "id": "4f3c7ffc68906b8e",
   "metadata": {},
   "outputs": [],
   "source": []
  }
 ],
 "metadata": {
  "kernelspec": {
   "display_name": "Python 3 (ipykernel)",
   "language": "python",
   "name": "python3"
  },
  "language_info": {
   "codemirror_mode": {
    "name": "ipython",
    "version": 3
   },
   "file_extension": ".py",
   "mimetype": "text/x-python",
   "name": "python",
   "nbconvert_exporter": "python",
   "pygments_lexer": "ipython3",
   "version": "3.11.11"
  }
 },
 "nbformat": 4,
 "nbformat_minor": 5
}
