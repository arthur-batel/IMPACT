{
 "cells": [
  {
   "cell_type": "markdown",
   "id": "3f91591122382be0",
   "metadata": {},
   "source": "# Math2 dataset preprocessing\n### Import"
  },
  {
   "cell_type": "code",
   "execution_count": 3,
   "id": "5c572fedcc3d884",
   "metadata": {
    "trusted": false,
    "ExecuteTime": {
     "end_time": "2025-05-26T11:40:36.047608Z",
     "start_time": "2025-05-26T11:40:36.004779Z"
    }
   },

   "outputs": [
    {
     "name": "stdout",
     "output_type": "stream",
     "text": [
      "The autoreload extension is already loaded. To reload it, use:\n",
      "  %reload_ext autoreload\n"
     ]
    }
   ],

   "source": [
    "%load_ext autoreload\n",
    "%autoreload 2"
   ]

  },
  {
   "cell_type": "code",
   "execution_count": 9,
   "id": "763506e3fc4c3ef3",
   "metadata": {
    "trusted": false,
    "ExecuteTime": {
     "end_time": "2025-05-26T11:40:36.570209Z",
     "start_time": "2025-05-26T11:40:36.532149Z"
    }
   },

   "source": "import sys\nsys.path.append('../../../')\nsys.path.append('../')\nfrom experiments.datasets.data_utils.preprocessing_utilities import stat_unique, remove_duplicates, densify,create_q2k, encode_attr, quadruplet_format, parse_data, split_data, save_to_csv,get_metadata, split_data_vertically,rescaling_dict,one_hot_encoding,split_small_data_vertically,get_modalities_nb\n\nimport json\nimport pandas as pd\nimport numpy as np\nimport torch",
   "outputs": [],
   "execution_count": 22

  },
  {
   "cell_type": "markdown",
   "id": "2c6ffc9f3b1e2e5c",
   "metadata": {},
   "source": "### Load and merge dataset"
  },
  {
   "cell_type": "code",
   "execution_count": 3,
   "id": "eae9427ff89ef0a3",
   "metadata": {
    "trusted": false,
    "ExecuteTime": {
     "end_time": "2025-05-26T11:40:38.024372Z",
     "start_time": "2025-05-26T11:40:37.870170Z"
    }
   },

   "source": "raw_data = pd.read_csv('../1-raw_data/math_2.csv', encoding=\"ISO-8859-15\", low_memory=False)\n\nraw_data = raw_data.drop(columns=['Unnamed: 0.2', 'Unnamed: 0',\n       'Unnamed: 0.1', 'start_time', 'Unnamed: 0.1.1', 'qr',\n       'qr_compl'])\n\nraw_data =  raw_data.rename(columns={\"skill_id\": \"dimension_id\"})\nraw_data.head()",

   "outputs": [
    {
     "data": {
      "text/html": [
       "<div>\n",
       "<style scoped>\n",
       "    .dataframe tbody tr th:only-of-type {\n",
       "        vertical-align: middle;\n",
       "    }\n",
       "\n",
       "    .dataframe tbody tr th {\n",
       "        vertical-align: top;\n",
       "    }\n",
       "\n",
       "    .dataframe thead th {\n",
       "        text-align: right;\n",
       "    }\n",
       "</style>\n",
       "<table border=\"1\" class=\"dataframe\">\n",
       "  <thead>\n",
       "    <tr style=\"text-align: right;\">\n",
       "      <th></th>\n",
       "      <th>dimension_id</th>\n",
       "      <th>user_id</th>\n",
       "      <th>item_id</th>\n",
       "      <th>correct</th>\n",
       "    </tr>\n",
       "  </thead>\n",
       "  <tbody>\n",
       "    <tr>\n",
       "      <th>0</th>\n",
       "      <td>{0, 13, 14}</td>\n",
       "      <td>0</td>\n",
       "      <td>0</td>\n",
       "      <td>1.0</td>\n",
       "    </tr>\n",
       "    <tr>\n",
       "      <th>1</th>\n",
       "      <td>{1, 12}</td>\n",
       "      <td>0</td>\n",
       "      <td>1</td>\n",
       "      <td>0.0</td>\n",
       "    </tr>\n",
       "    <tr>\n",
       "      <th>2</th>\n",
       "      <td>{11, 2, 3, 14}</td>\n",
       "      <td>0</td>\n",
       "      <td>2</td>\n",
       "      <td>0.0</td>\n",
       "    </tr>\n",
       "    <tr>\n",
       "      <th>3</th>\n",
       "      <td>{11, 4, 14}</td>\n",
       "      <td>0</td>\n",
       "      <td>3</td>\n",
       "      <td>0.0</td>\n",
       "    </tr>\n",
       "    <tr>\n",
       "      <th>4</th>\n",
       "      <td>{11, 4, 13, 14}</td>\n",
       "      <td>0</td>\n",
       "      <td>4</td>\n",
       "      <td>1.0</td>\n",
       "    </tr>\n",
       "  </tbody>\n",
       "</table>\n",
       "</div>"
      ],
      "text/plain": [
       "      dimension_id  user_id  item_id  correct\n",
       "0      {0, 13, 14}        0        0      1.0\n",
       "1          {1, 12}        0        1      0.0\n",
       "2   {11, 2, 3, 14}        0        2      0.0\n",
       "3      {11, 4, 14}        0        3      0.0\n",
       "4  {11, 4, 13, 14}        0        4      1.0"
      ]
     },
     "execution_count": 23,
     "metadata": {},
     "output_type": "execute_result"
    }
   ],

   "execution_count": 23

  },
  {
   "cell_type": "markdown",
   "id": "70d36cb174851667",
   "metadata": {},
   "source": "### Split rows with several dimensions"
  },
  {
   "cell_type": "code",
   "execution_count": 4,
   "id": "48baada5ec363a41",
   "metadata": {
    "trusted": false,
    "ExecuteTime": {
     "end_time": "2025-05-26T11:40:39.666966Z",
     "start_time": "2025-05-26T11:40:39.112131Z"
    }
   },

   "outputs": [
    {
     "data": {
      "text/html": [
       "<div>\n",
       "<style scoped>\n",
       "    .dataframe tbody tr th:only-of-type {\n",
       "        vertical-align: middle;\n",
       "    }\n",
       "\n",
       "    .dataframe tbody tr th {\n",
       "        vertical-align: top;\n",
       "    }\n",
       "\n",
       "    .dataframe thead th {\n",
       "        text-align: right;\n",
       "    }\n",
       "</style>\n",
       "<table border=\"1\" class=\"dataframe\">\n",
       "  <thead>\n",
       "    <tr style=\"text-align: right;\">\n",
       "      <th></th>\n",
       "      <th>dimension_id</th>\n",
       "      <th>user_id</th>\n",
       "      <th>item_id</th>\n",
       "      <th>correct</th>\n",
       "    </tr>\n",
       "  </thead>\n",
       "  <tbody>\n",
       "    <tr>\n",
       "      <th>0</th>\n",
       "      <td>0</td>\n",
       "      <td>0</td>\n",
       "      <td>0</td>\n",
       "      <td>1.0</td>\n",
       "    </tr>\n",
       "    <tr>\n",
       "      <th>1</th>\n",
       "      <td>13</td>\n",
       "      <td>0</td>\n",
       "      <td>0</td>\n",
       "      <td>1.0</td>\n",
       "    </tr>\n",
       "    <tr>\n",
       "      <th>2</th>\n",
       "      <td>14</td>\n",
       "      <td>0</td>\n",
       "      <td>0</td>\n",
       "      <td>1.0</td>\n",
       "    </tr>\n",
       "    <tr>\n",
       "      <th>3</th>\n",
       "      <td>1</td>\n",
       "      <td>0</td>\n",
       "      <td>1</td>\n",
       "      <td>0.0</td>\n",
       "    </tr>\n",
       "    <tr>\n",
       "      <th>4</th>\n",
       "      <td>12</td>\n",
       "      <td>0</td>\n",
       "      <td>1</td>\n",
       "      <td>0.0</td>\n",
       "    </tr>\n",
       "  </tbody>\n",
       "</table>\n",
       "</div>"
      ],
      "text/plain": [
       "  dimension_id  user_id  item_id  correct\n",
       "0            0        0        0      1.0\n",
       "1           13        0        0      1.0\n",
       "2           14        0        0      1.0\n",
       "3            1        0        1      0.0\n",
       "4           12        0        1      0.0"
      ]
     },
     "execution_count": 24,
     "metadata": {},
     "output_type": "execute_result"
    }
   ],

   "execution_count": 24
  },
  {
   "metadata": {},
   "cell_type": "markdown",
   "source": "### Binarize all responses for homogeneity purpose\n",
   "id": "a48c1653095e5460"
  },
  {
   "metadata": {
    "ExecuteTime": {
     "end_time": "2025-05-26T11:40:43.572232Z",
     "start_time": "2025-05-26T11:40:43.536461Z"
    }
   },
   "cell_type": "code",
   "source": [
    "df_expanded['correct']=df_expanded['correct'].round()\n",
    "print(len(df_expanded))"
   ],
   "id": "ece5751a18461e20",
   "outputs": [
    {
     "name": "stdout",
     "output_type": "stream",
     "text": [
      "250304\n"
     ]
    }
   ],
   "execution_count": 25

  },
  {
   "cell_type": "markdown",
   "id": "f532d0b094164b01",
   "metadata": {},
   "source": "### Early stats"
  },
  {
   "cell_type": "code",
   "execution_count": 5,
   "id": "d6b0feeae63d2c54",
   "metadata": {
    "trusted": false,
    "ExecuteTime": {
     "end_time": "2025-05-26T11:40:44.708126Z",
     "start_time": "2025-05-26T11:40:44.639719Z"
    }
   },

   "outputs": [
    {
     "name": "stdout",
     "output_type": "stream",
     "text": [
      "250304\n",
      "250304\n"
     ]
    }
   ],

   "source": [
    "print(len(df_expanded))\n",
    "all_data = df_expanded.dropna(subset=['user_id','item_id','correct','dimension_id'])\n",
    "print(len(all_data))"
   ]

  },
  {
   "cell_type": "code",
   "execution_count": 6,
   "id": "75ad853c5e6327ab",
   "metadata": {
    "trusted": false,
    "ExecuteTime": {
     "end_time": "2025-05-26T11:40:45.410350Z",
     "start_time": "2025-05-26T11:40:45.343726Z"
    }
   },

   "outputs": [
    {
     "name": "stdout",
     "output_type": "stream",
     "text": [
      "Total length: 250304\n",
      "Number of unique [user_id,item_id]: 78220\n",
      "Number of unique user_id: 3911\n",
      "Number of unique item_id: 20\n",
      "Number of unique dimension_id: 16\n"
     ]
    }
   ],

   "source": [
    "stat_unique(all_data, None)\n",
    "stat_unique(all_data, ['user_id', 'item_id'])\n",
    "stat_unique(all_data, 'user_id')\n",
    "stat_unique(all_data, 'item_id')\n",
    "stat_unique(all_data, 'dimension_id')"
   ]

  },
  {
   "cell_type": "markdown",
   "id": "9d2a99907e563075",
   "metadata": {},
   "source": "### Clean Nan values"
  },
  {
   "cell_type": "code",
   "execution_count": 7,
   "id": "10b1e79bf17e1a46",
   "metadata": {
    "trusted": false,
    "ExecuteTime": {
     "end_time": "2025-05-26T11:40:46.358739Z",
     "start_time": "2025-05-26T11:40:46.296870Z"
    }
   },

   "outputs": [],
   "source": [
    "cleaned_data = all_data.dropna(subset=['user_id','item_id','dimension_id','correct'], axis='index')"
   ]

  },
  {
   "cell_type": "markdown",
   "id": "1cf51a190511d02f",
   "metadata": {},
   "source": "### Remove duplicated user and id rows"
  },
  {
   "cell_type": "code",
   "execution_count": 8,
   "id": "128895437c128e14",
   "metadata": {
    "trusted": false,
    "ExecuteTime": {
     "end_time": "2025-05-26T11:40:47.486146Z",
     "start_time": "2025-05-26T11:40:47.377490Z"
    }
   },

   "outputs": [],
   "source": [
    "unduplicated_data = remove_duplicates(cleaned_data,key_attrs=['user_id','item_id','dimension_id'],agg_attrs=[])"
   ]

  },
  {
   "cell_type": "markdown",
   "id": "4a633bb837a7af3b",
   "metadata": {},
   "source": "### Filter Data"
  },
  {
   "cell_type": "code",
   "execution_count": 9,
   "id": "62388835388d50d8",
   "metadata": {
    "trusted": false,
    "ExecuteTime": {
     "end_time": "2025-05-26T11:40:48.383185Z",
     "start_time": "2025-05-26T11:40:48.298949Z"
    }
   },

   "outputs": [
    {
     "name": "stdout",
     "output_type": "stream",
     "text": [
      "filter 0 item_id\n",
      "filter 0 user_id\n",
      "filter 0 dimension_id\n",
      "Total length: 250304\n",
      "Number of unique [user_id,item_id]: 78220\n",
      "Number of unique user_id: 3911\n",
      "Number of unique item_id: 20\n",
      "Number of unique dimension_id: 16\n"
     ]
    }
   ],

   "source": [
    "filtered_data_0 = unduplicated_data\n",
    "filtered_q_nb = 1\n",
    "filtered_u_nb = 0\n",
    "filtered_d_nb = 0\n",
    "while filtered_q_nb!=0 or filtered_u_nb!=0 or filtered_d_nb!=0 : \n",
    "    # filter items\n",
    "    filtered_data_1, filtered_q_nb = densify(filtered_data_0,'item_id','user_id',5)\n",
    "    # filter users\n",
    "    filtered_data_2, filtered_u_nb = densify(filtered_data_1,'user_id','item_id',5)\n",
    "    # filter knowledges\n",
    "    filtered_data_3, filtered_d_nb = densify(filtered_data_2,'dimension_id','item_id',1)\n",
    "    filtered_data_0 = filtered_data_3\n",
    "    \n",
    "stat_unique(filtered_data_0, None)\n",
    "stat_unique(filtered_data_0, ['user_id', 'item_id'])\n",
    "stat_unique(filtered_data_0, 'user_id')\n",
    "stat_unique(filtered_data_0, 'item_id')\n",
    "stat_unique(filtered_data_0, 'dimension_id')"
   ]

  },
  {
   "cell_type": "markdown",
   "id": "5f38b00b83903cf8",
   "metadata": {},
   "source": "### Encoding"
  },
  {
   "cell_type": "code",
   "execution_count": 10,
   "id": "461aaa3f05f101f3",
   "metadata": {
    "trusted": false,
    "ExecuteTime": {
     "end_time": "2025-05-26T11:40:56.744698Z",
     "start_time": "2025-05-26T11:40:49.348765Z"
    }
   },

   "outputs": [],
   "source": [
    "# renumber the users\n",
    "u_enc_data, u2n = encode_attr(filtered_data_0, \"user_id\")"
   ]

  },
  {
   "cell_type": "code",
   "execution_count": 11,
   "id": "4ad08e7dad6b96ac",
   "metadata": {
    "trusted": false,
    "ExecuteTime": {
     "end_time": "2025-05-26T11:41:02.077913Z",
     "start_time": "2025-05-26T11:40:56.836791Z"
    }
   },

   "outputs": [],
   "source": [
    "# renumber the items\n",
    "q_enc_data, q2n = encode_attr(u_enc_data, \"item_id\")"
   ]

  },
  {
   "cell_type": "code",
   "execution_count": 12,
   "id": "9d3b2c3dff642633",
   "metadata": {
    "trusted": false,
    "ExecuteTime": {
     "end_time": "2025-05-26T11:41:06.460761Z",
     "start_time": "2025-05-26T11:41:02.148231Z"
    }
   },

   "outputs": [],
   "source": [
    "# renumber the dimensions\n",
    "d_enc_data, d2n = encode_attr(q_enc_data, \"dimension_id\")"
   ]

  },
  {
   "cell_type": "markdown",
   "id": "3b9e92e115b938bd",
   "metadata": {},
   "source": "### Maps creation"
  },
  {
   "cell_type": "code",
   "execution_count": 13,
   "id": "124352496823ae86",
   "metadata": {
    "trusted": false,
    "ExecuteTime": {
     "end_time": "2025-05-26T11:44:31.517577Z",
     "start_time": "2025-05-26T11:44:31.463850Z"
    }
   },

   "outputs": [],
   "source": [
    "q2k, k2q = create_q2k(d_enc_data)"
   ]

  },
  {
   "cell_type": "markdown",
   "id": "d9bbf26af710c979",
   "metadata": {},
   "source": "### Rescaling responses"
  },
  {
   "cell_type": "code",
   "execution_count": 14,
   "id": "16227ddf196496e7",
   "metadata": {
    "trusted": false,
    "ExecuteTime": {
     "end_time": "2025-05-26T11:44:32.439411Z",
     "start_time": "2025-05-26T11:44:32.395620Z"
    }
   },

   "outputs": [
    {
     "name": "stdout",
     "output_type": "stream",
     "text": [
      "min value : 1.0, max value : 2.0\n"
     ]
    }
   ],

   "source": [
    "resc_data = d_enc_data\n",
    "resc_data['correct'] = resc_data['correct'].astype(float)\n",
    "min_val = resc_data['correct'].min()\n",
    "max_val = resc_data['correct'].max()\n",
    "resc_data['correct'] = (resc_data['correct']-min_val)/(max_val-min_val) +1\n",
    "print(f'min value : {resc_data[\"correct\"].min()}, max value : {resc_data[\"correct\"].max()}')"
   ]

  },
  {
   "cell_type": "markdown",
   "id": "d887c5e72037c54",
   "metadata": {},
   "source": "### Get final stats and create metadata"
  },
  {
   "cell_type": "code",
   "execution_count": 15,
   "id": "d3ce35f2a3d57db3",
   "metadata": {
    "trusted": false,
    "ExecuteTime": {
     "end_time": "2025-05-26T11:44:33.757487Z",
     "start_time": "2025-05-26T11:44:33.607630Z"
    }
   },

   "outputs": [
    {
     "name": "stdout",
     "output_type": "stream",
     "text": [
      "Total length: 250304\n",
      "Number of unique [user_id,item_id]: 78220\n",
      "Number of unique user_id: 3911\n",
      "Number of unique item_id: 20\n",
      "Number of unique dimension_id: 16\n",

      "Number of unique correct: 2\n",

      "#questions/category: 1 & 4 &  16\n",
      "#users/category: 3911 & 3911 &  3911\n",
      "#categorys/question: 2 & 3 &  5\n",
      "#users/question: 3911 & 3911 &  3911\n",
      "#questions/users: 20 & 20 &  20\n",
      "#categorys/users: 16 & 16 &  16\n"
     ]
    }
   ],

   "source": [
    "stat_unique(resc_data, None)\n",
    "stat_unique(resc_data, ['user_id', 'item_id'])\n",
    "stat_unique(resc_data, 'user_id')\n",
    "stat_unique(resc_data, 'item_id')\n",
    "stat_unique(resc_data, 'dimension_id')\n",
    "stat_unique(resc_data, 'correct')\n",
    "\n",
    "resc_data_dim_grouped_items = resc_data.groupby(\"dimension_id\")[\"item_id\"].nunique()\n",
    "resc_data_dim_grouped_users = resc_data.groupby(\"dimension_id\")[\"user_id\"].nunique()\n",
    "print('#questions/category: {} & {} &  {}'.format(np.min(resc_data_dim_grouped_items),int(np.round(np.mean(resc_data_dim_grouped_items))),np.max(resc_data_dim_grouped_items)))\n",
    "print('#users/category: {} & {} &  {}'.format(np.min(resc_data_dim_grouped_users),int(np.round(np.mean(resc_data_dim_grouped_users))),np.max(resc_data_dim_grouped_users)))\n",
    "\n",
    "resc_data_dim_grouped_items = resc_data.groupby(\"item_id\")[\"dimension_id\"].nunique()\n",
    "resc_data_dim_grouped_users = resc_data.groupby(\"item_id\")[\"user_id\"].nunique()\n",
    "print('#categorys/question: {} & {} &  {}'.format(np.min(resc_data_dim_grouped_items),int(np.round(np.mean(resc_data_dim_grouped_items))),np.max(resc_data_dim_grouped_items)))\n",
    "print('#users/question: {} & {} &  {}'.format(np.min(resc_data_dim_grouped_users),int(np.round(np.mean(resc_data_dim_grouped_users))),np.max(resc_data_dim_grouped_users)))\n",
    "\n",
    "resc_data_dim_grouped_items = resc_data.groupby(\"user_id\")[\"item_id\"].nunique()\n",
    "resc_data_dim_grouped_users = resc_data.groupby(\"user_id\")[\"dimension_id\"].nunique()\n",
    "print('#questions/users: {} & {} &  {}'.format(np.min(resc_data_dim_grouped_items),int(np.round(np.mean(resc_data_dim_grouped_items))),np.max(resc_data_dim_grouped_items)))\n",
    "print('#categorys/users: {} & {} &  {}'.format(np.min(resc_data_dim_grouped_users),int(np.round(np.mean(resc_data_dim_grouped_users))),np.max(resc_data_dim_grouped_users)))"
   ]

  },
  {
   "cell_type": "code",
   "execution_count": 16,
   "id": "96b9fda0f0c947ba",
   "metadata": {
    "trusted": false,
    "ExecuteTime": {
     "end_time": "2025-05-26T11:44:34.378158Z",
     "start_time": "2025-05-26T11:44:34.082468Z"
    }
   },

   "outputs": [
    {
     "data": {
      "text/plain": [
       "Text(0.5, 1.0, 'Distribution of Responses')"
      ]
     },
     "execution_count": 37,
     "metadata": {},
     "output_type": "execute_result"
    },
    {
     "data": {
      "image/png": "iVBORw0KGgoAAAANSUhEUgAAAlYAAAHFCAYAAAAwv7dvAAAAOnRFWHRTb2Z0d2FyZQBNYXRwbG90bGliIHZlcnNpb24zLjEwLjAsIGh0dHBzOi8vbWF0cGxvdGxpYi5vcmcvlHJYcgAAAAlwSFlzAAAPYQAAD2EBqD+naQAATPtJREFUeJzt3X1cFXXe//H3AeFwkx5B4y5vKyMVU9NUdHfVFNS86XZtoyXtMrKlJFK3MrfE2mS9zU3Tyky9UrMtpS11CbpZzcDb5CrUy2q9LwlLxBsUjjC/P/wxV0e8AZpz8Ojr+Xjw2M7MZ77znQ/gee/MnMFmGIYhAAAA/Go+dT0BAACAywXBCgAAwCIEKwAAAIsQrAAAACxCsAIAALAIwQoAAMAiBCsAAACLEKwAAAAsQrACAACwCMEK8BILFy6UzWYzvwICAhQREaHevXsrPT1dhYWFVbZJS0uTzWar0X5KSkqUlpamf//73zXa7lz7atGihQYNGlSjcS5m6dKlmjlz5jnX2Ww2paWlWbo/q33yySfq3LmzgoODZbPZ9P7775+zbs+ePS7fbx8fH4WEhKhPnz7Kysry7KQBVBvBCvAyCxYsUG5urrKzs/XKK6+oQ4cOmjx5slq3bq2PP/7Ypfahhx5Sbm5ujcYvKSnRxIkTaxysarOv2rhQsMrNzdVDDz3k9jnUlmEYGjp0qPz8/PTBBx8oNzdXPXv2vOA2o0aNUm5urj7//HNNmzZN3377rW677TatXbvWQ7MGUBP16noCAGomJiZGnTt3Nl/ffffdeuKJJ/Sb3/xGd911l7799luFh4dLkpo0aaImTZq4dT4lJSUKCgryyL4uplu3bnW6/4v54YcfdPjwYd15553q06dPtbZp1qyZeVw9evRQq1at1LNnT82fP1+/+93v3DldALXAGSvgMtCsWTNNnz5dx44d02uvvWYuP9fluU8//VS9evVSo0aNFBgYqGbNmunuu+9WSUmJ9uzZo6uvvlqSNHHiRPMy1PDhw13G+/LLL3XPPfcoJCRE11133Xn3VSkjI0M33XSTAgICdO211+rll192WV95mXPPnj0uy//973/LZrOZZ8969eqlVatWae/evS6XySqd61Jgfn6+br/9doWEhCggIEAdOnTQokWLzrmft99+W+PHj1dUVJQaNGigvn37aufOnedv/C+sW7dOffr0Uf369RUUFKTu3btr1apV5vq0tDQzeD711FOy2Wxq0aJFtcb+pcpQ/eOPP7osLygo0MiRI9WkSRP5+/urZcuWmjhxok6fPu1SN3fuXLVv315XXXWV6tevrxtvvFHPPPOMub7ye5Gdna0HH3xQoaGhCg4O1uDBg7Vr164q83nzzTfVvn17BQQEKDQ0VHfeead27NjhUjN8+HBdddVV+u6773TbbbfpqquuUtOmTTVmzBiVlpbWaH5WHivgDgQr4DJx2223ydfX94KXiPbs2aOBAwfK399fb775pjIzM/W3v/1NwcHBKisrU2RkpDIzMyVJI0aMUG5urnJzc/Xss8+6jHPXXXfp+uuv17vvvqtXX331gvPKy8tTamqqnnjiCWVkZKh79+56/PHHNW3atBof45w5c9SjRw9FRESYc7vQ5cedO3eqe/fu2rZtm15++WWtWLFCbdq00fDhwzVlypQq9c8884z27t2rN954Q6+//rq+/fZbDR48WOXl5Rec15o1a3TrrbequLhY8+fP19tvv6369etr8ODBeueddySduVS6YsUKSf93eS8jI6PGPdi9e7ck6YYbbjCXFRQUqEuXLvroo4/03HPP6V//+pdGjBih9PR0JSUlmXXLli1TcnKyevbsqYyMDL3//vt64okndOLEiSr7GTFihHx8fMxLrxs3blSvXr105MgRsyY9PV0jRoxQ27ZttWLFCv3973/XV199pdjYWH377bcu4zmdTg0ZMkR9+vTRP//5T/3Xf/2XXnrpJU2ePLlG83PHsQKWMgB4hQULFhiSjE2bNp23Jjw83GjdurX5esKECcYvf83fe+89Q5KRl5d33jEOHTpkSDImTJhQZV3leM8999x51/1S8+bNDZvNVmV/cXFxRoMGDYwTJ064HNvu3btd6j777DNDkvHZZ5+ZywYOHGg0b978nHM/e95/+MMfDLvdbuzbt8+lbsCAAUZQUJBx5MgRl/3cdtttLnX/+Mc/DElGbm7uOfdXqVu3bkZYWJhx7Ngxc9np06eNmJgYo0mTJkZFRYVhGIaxe/duQ5IxderUC473y9rJkycbTqfTOHXqlJGXl2fExsYakZGRLr0aOXKkcdVVVxl79+51GWPatGmGJGPbtm2GYRjGY489ZjRs2PCC+638Xtx5550uy7/44gtDkvHXv/7VMAzDKCoqMgIDA6v0bN++fYbdbjcSEhLMZcOGDTMkGf/4xz9cam+77TYjOjrafF2d+Vl5rIA7cMYKuIwYhnHB9R06dJC/v78efvhhLVq06JyXdqrj7rvvrnZt27Zt1b59e5dlCQkJOnr0qL788sta7b+6Pv30U/Xp00dNmzZ1WT58+HCVlJRUOds1ZMgQl9c33XSTJGnv3r3n3ceJEye0YcMG3XPPPbrqqqvM5b6+vkpMTNSBAweqfTnxXJ566in5+fmZlzHz8/P14YcfulxGXLlypXr37q2oqCidPn3a/BowYICkM2fUJKlLly46cuSI7rvvPv3zn//UTz/9dN793n///S6vu3fvrubNm+uzzz6TdOaDAidPnjQvE1dq2rSpbr31Vn3yyScuy202mwYPHuyy7KabbnLpbXXm545jBaxEsAIuEydOnNDPP/+sqKio89Zcd911+vjjjxUWFqZHH31U1113na677jr9/e9/r9G+IiMjq10bERFx3mU///xzjfZbUz///PM551rZo7P336hRI5fXdrtdknTy5Mnz7qOoqEiGYdRoPzXx+OOPa9OmTVq3bp2mTZsmp9Op22+/3WXMH3/8UR9++KH8/Pxcvtq2bStJZqhITEzUm2++qb179+ruu+9WWFiYunbtquzs7Cr7Pd/3rXK/lf97vuM++5iDgoIUEBDgssxut+vUqVPm6+rMzx3HCliJYAVcJlatWqXy8nL16tXrgnW//e1v9eGHH6q4uFjr169XbGysUlNTtWzZsmrvqybPxiooKDjvssogU/mGe/aNzL/2LEOjRo108ODBKst/+OEHSVLjxo1/1fiSFBISIh8fH7ftp0mTJurcubN69OihMWPG6I033tD333+vCRMmmDWNGzdWfHy8Nm3adM6vESNGmLUPPvigcnJyVFxcrFWrVskwDA0aNKjKWbnzfd8qv2eV/3u+467tMV9sfu44VsBKBCvgMrBv3z6NHTtWDodDI0eOrNY2vr6+6tq1q1555RVJMi/LVecsTU1s27ZN//M//+OybOnSpapfv75uvvlmSTIva3311VcudR988EGV8ex2e7Xn1qdPH3366admwKn03//93woKCrLk8QzBwcHq2rWrVqxY4TKviooKLV68WE2aNHG50fzXuv/++9WrVy/NmzfPDAiDBg1Sfn6+rrvuOnXu3LnK17nOYgYHB2vAgAEaP368ysrKtG3bNpf1S5YscXmdk5OjvXv3msE9NjZWgYGBWrx4sUvdgQMHzEuwv8b55ueOYwWsxHOsAC+Tn59v3ldSWFiozz//XAsWLJCvr68yMjLMxyWcy6uvvqpPP/1UAwcOVLNmzXTq1Cm9+eabkqS+fftKkurXr6/mzZvrn//8p/r06aPQ0FA1bty4Vo8GkM5cFhoyZIjS0tIUGRmpxYsXKzs7W5MnT1ZQUJAk6ZZbblF0dLTGjh2r06dPKyQkRBkZGVq3bl2V8dq1a6cVK1Zo7ty56tSpk3x8fFye6/VLEyZMMO/Jee655xQaGqolS5Zo1apVmjJlihwOR62O6Wzp6emKi4tT7969NXbsWPn7+2vOnDnKz8/X22+/XeOn31/M5MmT1bVrV73wwgt644039Pzzzys7O1vdu3dXSkqKoqOjderUKe3Zs0erV6/Wq6++qiZNmigpKUmBgYHq0aOHIiMjVVBQoPT0dDkcDt1yyy0u+9i8ebMeeugh/f73v9f+/fs1fvx4XXPNNUpOTpYkNWzYUM8++6yeeeYZPfDAA7rvvvv0888/a+LEiQoICHA5o1Zd1ZmfO44VsFSd3joPoNoqP61V+eXv72+EhYUZPXv2NCZNmmQUFhZW2ebsT+rl5uYad955p9G8eXPDbrcbjRo1Mnr27Gl88MEHLtt9/PHHRseOHQ273W5IMoYNG+Yy3qFDhy66L8M486nAgQMHGu+9957Rtm1bw9/f32jRooUxY8aMKtt/8803Rnx8vNGgQQPj6quvNkaNGmWsWrWqyqcCDx8+bNxzzz1Gw4YNDZvN5rJPnePTjF9//bUxePBgw+FwGP7+/kb79u2NBQsWuNRUfirw3XffdVle+cm8s+vP5fPPPzduvfVWIzg42AgMDDS6detmfPjhh+ccryafCjxf7e9//3ujXr16xnfffWcYxplPc6akpBgtW7Y0/Pz8jNDQUKNTp07G+PHjjePHjxuGYRiLFi0yevfubYSHhxv+/v5GVFSUMXToUOOrr74yx638OcvKyjISExONhg0bmp/++/bbb6vM44033jBuuukmw9/f33A4HMbtt99ufjKv0rBhw4zg4OAq2579M1Od+Vl5rIA72AzjIh8jAgBcMRYuXKgHH3xQmzZtOu+ZQADnxz1WAAAAFiFYAQAAWIRLgQAAABbhjBUAAIBFCFYAAAAWIVgBAABYhAeEelhFRYV++OEH1a9f3/KHBgIAAPcwDEPHjh1TVFSUfHzOf16KYOVhP/zwg5o2bVrX0wAAALWwf/9+NWnS5LzrCVYeVr9+fUlnvjENGjSwbFyn06msrCzFx8fLz8/PsnHhij57Bn32HHrtGfTZM9zZ56NHj6pp06bm+/j5EKw8rPLyX4MGDSwPVkFBQWrQoAG/tG5Enz2DPnsOvfYM+uwZnujzxW7j4eZ1AAAAixCsAAAALEKwAgAAsAjBCgAAwCJ1GqzWrl2rwYMHKyoqSjabTe+//765zul06qmnnlK7du0UHBysqKgoPfDAA/rhhx9cxigtLdWoUaPUuHFjBQcHa8iQITpw4IBLTVFRkRITE+VwOORwOJSYmKgjR4641Ozbt0+DBw9WcHCwGjdurJSUFJWVlbnUfP311+rZs6cCAwN1zTXX6Pnnnxd/ahEAAFSq02B14sQJtW/fXrNnz66yrqSkRF9++aWeffZZffnll1qxYoW++eYbDRkyxKUuNTVVGRkZWrZsmdatW6fjx49r0KBBKi8vN2sSEhKUl5enzMxMZWZmKi8vT4mJieb68vJyDRw4UCdOnNC6deu0bNkyLV++XGPGjDFrjh49qri4OEVFRWnTpk2aNWuWpk2bphkzZrihMwAAwCsZlwhJRkZGxgVrNm7caEgy9u7daxiGYRw5csTw8/Mzli1bZtZ8//33ho+Pj5GZmWkYhmFs377dkGSsX7/erMnNzTUkGf/7v/9rGIZhrF692vDx8TG+//57s+btt9827Ha7UVxcbBiGYcyZM8dwOBzGqVOnzJr09HQjKirKqKioqPZxFhcXG5LMca1SVlZmvP/++0ZZWZml48IVffYM+uw59Noz6LNnuLPP1X3/9qp7rIqLi2Wz2dSwYUNJ0pYtW+R0OhUfH2/WREVFKSYmRjk5OZKk3NxcORwOde3a1azp1q2bHA6HS01MTIyioqLMmn79+qm0tFRbtmwxa3r27Cm73e5S88MPP2jPnj3uOmQAAOBFvOYBoadOndLTTz+thIQE88GaBQUF8vf3V0hIiEtteHi4CgoKzJqwsLAq44WFhbnUhIeHu6wPCQmRv7+/S02LFi2q7KdyXcuWLc8579LSUpWWlpqvjx49KunMPWROp7Nax14dlWNZOSaqos+eQZ89h157Bn32DHf2ubpjekWwcjqd+sMf/qCKigrNmTPnovWGYbg8GfVcT0m1osb4/zeuX+gprOnp6Zo4cWKV5VlZWQoKCrrAUdROdna25WOiKvrsGfTZc+i1Z9Bnz3BHn0tKSqpVd8kHK6fTqaFDh2r37t369NNPXf4MTEREhMrKylRUVORy1qqwsFDdu3c3a3788ccq4x46dMg84xQREaENGza4rC8qKpLT6XSpqTx79cv9SKpytuuXxo0bp9GjR5uvK//WUHx8vOV/0iY7O1txcXH8uQQ3os+eQZ89h157Bn32DHf2ufKK08Vc0sGqMlR9++23+uyzz9SoUSOX9Z06dZKfn5+ys7M1dOhQSdLBgweVn5+vKVOmSJJiY2NVXFysjRs3qkuXLpKkDRs2qLi42AxfsbGxevHFF3Xw4EFFRkZKOnNGyW63q1OnTmbNM888o7KyMvn7+5s1UVFRVS4R/pLdbne5L6uSn5+fW3653DUuXNFnz6DPnkOvPYM+e4Y7+lzd8er05vXjx48rLy9PeXl5kqTdu3crLy9P+/bt0+nTp3XPPfdo8+bNWrJkicrLy1VQUKCCggLz+VIOh0MjRozQmDFj9Mknn2jr1q364x//qHbt2qlv376SpNatW6t///5KSkrS+vXrtX79eiUlJWnQoEGKjo6WJMXHx6tNmzZKTEzU1q1b9cknn2js2LFKSkoyzyolJCTIbrdr+PDhys/PV0ZGhiZNmqTRo0df9A8yAgCAK0OdnrHavHmzevfubb6uvGQ2bNgwpaWl6YMPPpAkdejQwWW7zz77TL169ZIkvfTSS6pXr56GDh2qkydPqk+fPlq4cKF8fX3N+iVLliglJcX89OCQIUNcnp3l6+urVatWKTk5WT169FBgYKASEhI0bdo0s8bhcCg7O1uPPvqoOnfurJCQEI0ePdrlMh8AALiy1Wmw6tWr1wWfXH6hdZUCAgI0a9YszZo167w1oaGhWrx48QXHadasmVauXHnBmnbt2mnt2rUXnRMAALgyXdL3WKHmYtI+Umm59Zcm9/xtoOVjAgBwufGqB4QCAABcyghWAAAAFiFYAQAAWIRgBQAAYBGCFQAAgEUIVgAAABYhWAEAAFiEYAUAAGARghUAAIBFCFYAAAAWIVgBAABYhGAFAABgEYIVAACARQhWAAAAFiFYAQAAWIRgBQAAYBGCFQAAgEUIVgAAABYhWAEAAFiEYAUAAGARghUAAIBFCFYAAAAWIVgBAABYhGAFAABgEYIVAACARQhWAAAAFiFYAQAAWIRgBQAAYBGCFQAAgEUIVgAAABYhWAEAAFikXl1PAAAAXFlaPL3KLePafQ1N6eKWoauNM1YAAAAWIVgBAABYhGAFAABgEYIVAACARQhWAAAAFiFYAQAAWIRgBQAAYBGCFQAAgEUIVgAAABYhWAEAAFiEYAUAAGARghUAAIBFCFYAAAAWIVgBAABYhGAFAABgEYIVAACAReo0WK1du1aDBw9WVFSUbDab3n//fZf1hmEoLS1NUVFRCgwMVK9evbRt2zaXmtLSUo0aNUqNGzdWcHCwhgwZogMHDrjUFBUVKTExUQ6HQw6HQ4mJiTpy5IhLzb59+zR48GAFBwercePGSklJUVlZmUvN119/rZ49eyowMFDXXHONnn/+eRmGYVk/AACAd6vTYHXixAm1b99es2fPPuf6KVOmaMaMGZo9e7Y2bdqkiIgIxcXF6dixY2ZNamqqMjIytGzZMq1bt07Hjx/XoEGDVF5ebtYkJCQoLy9PmZmZyszMVF5enhITE8315eXlGjhwoE6cOKF169Zp2bJlWr58ucaMGWPWHD16VHFxcYqKitKmTZs0a9YsTZs2TTNmzHBDZwAAgDeqV5c7HzBggAYMGHDOdYZhaObMmRo/frzuuusuSdKiRYsUHh6upUuXauTIkSouLtb8+fP11ltvqW/fvpKkxYsXq2nTpvr444/Vr18/7dixQ5mZmVq/fr26du0qSZo3b55iY2O1c+dORUdHKysrS9u3b9f+/fsVFRUlSZo+fbqGDx+uF198UQ0aNNCSJUt06tQpLVy4UHa7XTExMfrmm280Y8YMjR49WjabzQMdAwAAl7I6DVYXsnv3bhUUFCg+Pt5cZrfb1bNnT+Xk5GjkyJHasmWLnE6nS01UVJRiYmKUk5Ojfv36KTc3Vw6HwwxVktStWzc5HA7l5OQoOjpaubm5iomJMUOVJPXr10+lpaXasmWLevfurdzcXPXs2VN2u92lZty4cdqzZ49atmx5zuMoLS1VaWmp+fro0aOSJKfTKafT+esb9f9VjmX3cc+lSSvn6s0q+0A/3Is+ew699gz67Mru6573qsr3QHf0ubpjXrLBqqCgQJIUHh7usjw8PFx79+41a/z9/RUSElKlpnL7goIChYWFVRk/LCzMpebs/YSEhMjf39+lpkWLFlX2U7nufMEqPT1dEydOrLI8KytLQUFB59zm13ihc4XlY0rS6tWr3TKut8rOzq7rKVwR6LPn0GvPoM9nTOni3vHd0eeSkpJq1V2ywarS2ZfYDMO46GW3s2vOVW9FTeWN6xeaz7hx4zR69Gjz9dGjR9W0aVPFx8erQYMGFzyOmnA6ncrOztazm31UWmH9Zcn8tH6Wj+mNKvscFxcnPz+/up7OZYs+ew699gz67Com7SO3jGv3MfRC5wq39LnyitPFXLLBKiIiQtKZs0GRkZHm8sLCQvNMUUREhMrKylRUVORy1qqwsFDdu3c3a3788ccq4x86dMhlnA0bNrisLyoqktPpdKmpPHv1y/1IVc+q/ZLdbne5fFjJz8/PLb9cpRU2lZZbH6z4h8CVu75/cEWfPYdeewZ9PsMd71O/5I4+V3e8S/Y5Vi1btlRERITL6byysjKtWbPGDE2dOnWSn5+fS83BgweVn59v1sTGxqq4uFgbN240azZs2KDi4mKXmvz8fB08eNCsycrKkt1uV6dOncyatWvXujyCISsrS1FRUVUuEQIAgCtTnQar48ePKy8vT3l5eZLO3LCel5enffv2yWazKTU1VZMmTVJGRoby8/M1fPhwBQUFKSEhQZLkcDg0YsQIjRkzRp988om2bt2qP/7xj2rXrp35KcHWrVurf//+SkpK0vr167V+/XolJSVp0KBBio6OliTFx8erTZs2SkxM1NatW/XJJ59o7NixSkpKMi/XJSQkyG63a/jw4crPz1dGRoYmTZrEJwIBAICpTi8Fbt68Wb179zZfV96LNGzYMC1cuFBPPvmkTp48qeTkZBUVFalr167KyspS/fr1zW1eeukl1atXT0OHDtXJkyfVp08fLVy4UL6+vmbNkiVLlJKSYn56cMiQIS7PzvL19dWqVauUnJysHj16KDAwUAkJCZo2bZpZ43A4lJ2drUcffVSdO3dWSEiIRo8e7XL/FAAAuLLVabDq1avXBZ9cbrPZlJaWprS0tPPWBAQEaNasWZo1a9Z5a0JDQ7V48eILzqVZs2ZauXLlBWvatWuntWvXXrAGAABcuS7Ze6wAAAC8DcEKAADAIgQrAAAAixCsAAAALEKwAgAAsAjBCgAAwCIEKwAAAIsQrAAAACxCsAIAALAIwQoAAMAiBCsAAACLEKwAAAAsQrACAACwCMEKAADAIgQrAAAAixCsAAAALEKwAgAAsAjBCgAAwCIEKwAAAIsQrAAAACxCsAIAALAIwQoAAMAiBCsAAACLEKwAAAAsQrACAACwCMEKAADAIgQrAAAAixCsAAAALEKwAgAAsAjBCgAAwCIEKwAAAIsQrAAAACxCsAIAALAIwQoAAMAiBCsAAACLEKwAAAAsQrACAACwCMEKAADAIgQrAAAAixCsAAAALEKwAgAAsAjBCgAAwCIEKwAAAIsQrAAAACxCsAIAALAIwQoAAMAiBCsAAACLEKwAAAAsQrACAACwyCUdrE6fPq2//OUvatmypQIDA3Xttdfq+eefV0VFhVljGIbS0tIUFRWlwMBA9erVS9u2bXMZp7S0VKNGjVLjxo0VHBysIUOG6MCBAy41RUVFSkxMlMPhkMPhUGJioo4cOeJSs2/fPg0ePFjBwcFq3LixUlJSVFZW5rbjBwAA3uWSDlaTJ0/Wq6++qtmzZ2vHjh2aMmWKpk6dqlmzZpk1U6ZM0YwZMzR79mxt2rRJERERiouL07Fjx8ya1NRUZWRkaNmyZVq3bp2OHz+uQYMGqby83KxJSEhQXl6eMjMzlZmZqby8PCUmJprry8vLNXDgQJ04cULr1q3TsmXLtHz5co0ZM8YzzQAAAJe8enU9gQvJzc3V7bffroEDB0qSWrRoobffflubN2+WdOZs1cyZMzV+/HjdddddkqRFixYpPDxcS5cu1ciRI1VcXKz58+frrbfeUt++fSVJixcvVtOmTfXxxx+rX79+2rFjhzIzM7V+/Xp17dpVkjRv3jzFxsZq586dio6OVlZWlrZv3679+/crKipKkjR9+nQNHz5cL774oho0aODp9gAAgEvMJR2sfvOb3+jVV1/VN998oxtuuEH/8z//o3Xr1mnmzJmSpN27d6ugoEDx8fHmNna7XT179lROTo5GjhypLVu2yOl0utRERUUpJiZGOTk56tevn3Jzc+VwOMxQJUndunWTw+FQTk6OoqOjlZubq5iYGDNUSVK/fv1UWlqqLVu2qHfv3uc8htLSUpWWlpqvjx49KklyOp1yOp2W9KlyPEmy+xiWjXmu8a90lX2gH+5Fnz2HXnsGfXZl93XPe1Xle6A7+lzdMS/pYPXUU0+puLhYN954o3x9fVVeXq4XX3xR9913nySpoKBAkhQeHu6yXXh4uPbu3WvW+Pv7KyQkpEpN5fYFBQUKCwursv+wsDCXmrP3ExISIn9/f7PmXNLT0zVx4sQqy7OyshQUFHTB46+NFzpXXLyoFlavXu2Wcb1VdnZ2XU/hikCfPYdeewZ9PmNKF/eO744+l5SUVKvukg5W77zzjhYvXqylS5eqbdu2ysvLU2pqqqKiojRs2DCzzmazuWxnGEaVZWc7u+Zc9bWpOdu4ceM0evRo8/XRo0fVtGlTxcfHW3r50Ol0Kjs7W89u9lFpxYWPvTby0/pZPqY3quxzXFyc/Pz86no6ly367Dn02jPos6uYtI/cMq7dx9ALnSvc0ufKK04Xc0kHqz//+c96+umn9Yc//EGS1K5dO+3du1fp6ekaNmyYIiIiJJ05mxQZGWluV1hYaJ5dioiIUFlZmYqKilzOWhUWFqp79+5mzY8//lhl/4cOHXIZZ8OGDS7ri4qK5HQ6q5zJ+iW73S673V5luZ+fn1t+uUorbCottz5Y8Q+BK3d9/+CKPnsOvfYM+nyGO96nfskdfa7ueJf0pwJLSkrk4+M6RV9fX/NxCy1btlRERITLKb+ysjKtWbPGDE2dOnWSn5+fS83BgweVn59v1sTGxqq4uFgbN240azZs2KDi4mKXmvz8fB08eNCsycrKkt1uV6dOnSw+cgAA4I0u6TNWgwcP1osvvqhmzZqpbdu22rp1q2bMmKH/+q//knTm0lxqaqomTZqkVq1aqVWrVpo0aZKCgoKUkJAgSXI4HBoxYoTGjBmjRo0aKTQ0VGPHjlW7du3MTwm2bt1a/fv3V1JSkl577TVJ0sMPP6xBgwYpOjpakhQfH682bdooMTFRU6dO1eHDhzV27FglJSXxiUAAACDpEg9Ws2bN0rPPPqvk5GQVFhYqKipKI0eO1HPPPWfWPPnkkzp58qSSk5NVVFSkrl27KisrS/Xr1zdrXnrpJdWrV09Dhw7VyZMn1adPHy1cuFC+vr5mzZIlS5SSkmJ+enDIkCGaPXu2ud7X11erVq1ScnKyevToocDAQCUkJGjatGke6AQAAPAGl3Swql+/vmbOnGk+XuFcbDab0tLSlJaWdt6agIAAzZo1y+XBomcLDQ3V4sWLLzifZs2aaeXKlRebNgAAuEJd0vdYAQAAeBOCFQAAgEUIVgAAABYhWAEAAFiEYAUAAGARghUAAIBFCFYAAAAWIVgBAABYhGAFAABgEYIVAACARQhWAAAAFiFYAQAAWIRgBQAAYBGCFQAAgEUIVgAAABYhWAEAAFiEYAUAAGARghUAAIBFCFYAAAAWIVgBAABYhGAFAABgEYIVAACARWocrJxOp3r37q1vvvnGHfMBAADwWjUOVn5+fsrPz5fNZnPHfAAAALxWrS4FPvDAA5o/f77VcwEAAPBq9WqzUVlZmd544w1lZ2erc+fOCg4Odlk/Y8YMSyYHAADgTWoVrPLz83XzzTdLUpV7rbhECAAArlS1ClafffaZ1fMAAADwer/qcQvfffedPvroI508eVKSZBiGJZMCAADwRrUKVj///LP69OmjG264QbfddpsOHjwoSXrooYc0ZswYSycIAADgLWoVrJ544gn5+flp3759CgoKMpffe++9yszMtGxyAAAA3qRW91hlZWXpo48+UpMmTVyWt2rVSnv37rVkYgAAAN6mVmesTpw44XKmqtJPP/0ku93+qycFAADgjWoVrH73u9/pv//7v83XNptNFRUVmjp1qnr37m3Z5AAAALxJrS4FTp06Vb169dLmzZtVVlamJ598Utu2bdPhw4f1xRdfWD1HAAAAr1CrM1Zt2rTRV199pS5duiguLk4nTpzQXXfdpa1bt+q6666zeo4AAABeoVZnrCQpIiJCEydOtHIuAAAAXq3WwaqoqEjz58/Xjh07ZLPZ1Lp1az344IMKDQ21cn4AAABeo1aXAtesWaOWLVvq5ZdfVlFRkQ4fPqyXX35ZLVu21Jo1a6yeIwAAgFeo1RmrRx99VEOHDtXcuXPl6+srSSovL1dycrIeffRR5efnWzpJAAAAb1CrM1b/+c9/NGbMGDNUSZKvr69Gjx6t//znP5ZNDgAAwJvUKljdfPPN2rFjR5XlO3bsUIcOHX7tnAAAALxStS8FfvXVV+Z/p6Sk6PHHH9d3332nbt26SZLWr1+vV155RX/729+snyUAAIAXqHaw6tChg2w2mwzDMJc9+eSTVeoSEhJ07733WjM7AAAAL1LtYLV79253zgMAAMDrVTtYNW/e3J3zAAAA8Hq1fkDo999/ry+++EKFhYWqqKhwWZeSkvKrJwYAAOBtahWsFixYoEceeUT+/v5q1KiRbDabuc5msxGsAADAFalWj1t47rnn9Nxzz6m4uFh79uzR7t27za9du3ZZOsHvv/9ef/zjH9WoUSMFBQWpQ4cO2rJli7neMAylpaUpKipKgYGB6tWrl7Zt2+YyRmlpqUaNGqXGjRsrODhYQ4YM0YEDB1xqioqKlJiYKIfDIYfDocTERB05csSlZt++fRo8eLCCg4PVuHFjpaSkqKyszNLjBQAA3qtWwaqkpER/+MMf5ONTq82rraioSD169JCfn5/+9a9/afv27Zo+fboaNmxo1kyZMkUzZszQ7NmztWnTJkVERCguLk7Hjh0za1JTU5WRkaFly5Zp3bp1On78uAYNGqTy8nKzJiEhQXl5ecrMzFRmZqby8vKUmJhori8vL9fAgQN14sQJrVu3TsuWLdPy5cs1ZswYt/YAAAB4j1pdChwxYoTeffddPf3001bPx8XkyZPVtGlTLViwwFzWokUL878Nw9DMmTM1fvx43XXXXZKkRYsWKTw8XEuXLtXIkSNVXFys+fPn66233lLfvn0lSYsXL1bTpk318ccfq1+/ftqxY4cyMzO1fv16de3aVZI0b948xcbGaufOnYqOjlZWVpa2b9+u/fv3KyoqSpI0ffp0DR8+XC+++KIaNGjg1l4AAIBLX61OOaWnp2vNmjXq1auXRo0apdGjR7t8WeWDDz5Q586d9fvf/15hYWHq2LGj5s2bZ67fvXu3CgoKFB8fby6z2+3q2bOncnJyJElbtmyR0+l0qYmKilJMTIxZk5ubK4fDYYYqSerWrZscDodLTUxMjBmqJKlfv34qLS11uTQJAACuXLU6YzVp0iR99NFHio6OlqQqN69bZdeuXZo7d65Gjx6tZ555Rhs3blRKSorsdrseeOABFRQUSJLCw8NdtgsPD9fevXslSQUFBfL391dISEiVmsrtCwoKFBYWVmX/YWFhLjVn7yckJET+/v5mzbmUlpaqtLTUfH306FFJktPplNPprFYfqqNyLLuPcZHKXzf+la6yD/TDveiz59Brz6DPruy+7nmvqnwPdEefqztmrYLVjBkz9Oabb2r48OG12bzaKioq1LlzZ02aNEmS1LFjR23btk1z587VAw88YNadHeYMw7howDu75lz1tak5W3p6uiZOnFhleVZWloKCgi44x9p4oXPFxYtqYfXq1W4Z11tlZ2fX9RSuCPTZc+i1Z9DnM6Z0ce/47uhzSUlJtepqFazsdrt69OhRm01rJDIyUm3atHFZ1rp1ay1fvlySFBERIenM2aTIyEizprCw0Dy7FBERobKyMhUVFbmctSosLFT37t3Nmh9//LHK/g8dOuQyzoYNG1zWFxUVyel0VjmT9Uvjxo1zuTx69OhRNW3aVPHx8Zbel+V0OpWdna1nN/uotMK6s4aV8tP6WT6mN6rsc1xcnPz8/Op6Opct+uw59Noz6LOrmLSP3DKu3cfQC50r3NLnyitOF1OrYPX4449r1qxZevnll2uzebX16NFDO3fudFn2zTffmE+Bb9mypSIiIpSdna2OHTtKksrKyrRmzRpNnjxZktSpUyf5+fkpOztbQ4cOlSQdPHhQ+fn5mjJliiQpNjZWxcXF2rhxo7p0OROjN2zYoOLiYjN8xcbG6sUXX9TBgwfNEJeVlSW73a5OnTqd9xjsdrvsdnuV5X5+fm755SqtsKm03PpgxT8Ertz1/YMr+uw59Noz6PMZ7nif+iV39Lm649UqWG3cuFGffvqpVq5cqbZt21bZ2YoVK2ozbBVPPPGEunfvrkmTJmno0KHauHGjXn/9db3++uuSzlyaS01N1aRJk9SqVSu1atVKkyZNUlBQkBISEiRJDodDI0aM0JgxY9SoUSOFhoZq7NixateunfkpwdatW6t///5KSkrSa6+9Jkl6+OGHNWjQIPM+svj4eLVp00aJiYmaOnWqDh8+rLFjxyopKYlPBAIAAEm1DFYNGzY0H2/gTrfccosyMjI0btw4Pf/882rZsqVmzpyp+++/36x58skndfLkSSUnJ6uoqEhdu3ZVVlaW6tevb9a89NJLqlevnoYOHaqTJ0+qT58+WrhwoXx9fc2aJUuWKCUlxfz04JAhQzR79mxzva+vr1atWqXk5GT16NFDgYGBSkhI0LRp09zeBwAA4B1q/SdtPGXQoEEaNGjQedfbbDalpaUpLS3tvDUBAQGaNWuWZs2add6a0NBQLV68+IJzadasmVauXHnROQMAgCuTex+dDgAAcAWp1Rmrli1bXvARA1b/vUAAAABvUKtglZqa6vLa6XRq69atyszM1J///Gcr5gUAAOB1av24hXN55ZVXtHnz5l81IQAAAG9l6T1WAwYMMB/eCQAAcKWxNFi99957Cg0NtXJIAAAAr1GrS4EdO3Z0uXndMAwVFBTo0KFDmjNnjmWTAwAA8Ca1Cla33367S7Dy8fHR1VdfrV69eunGG2+0bHIAAADepFbB6kIP4wQAALhS1ShY+fj4XPD5VdKZJ6GfPn36V00KAADAG9UoWGVkZJx3XU5OjmbNmiXDMH71pAAAALxRjYLV7bffXmXZ//7v/2rcuHH68MMPdf/99+uFF16wbHIAAADepNaPW/jhhx+UlJSkm266SadPn1ZeXp4WLVqkZs2aWTk/AAAAr1HjYFVcXKynnnpK119/vbZt26ZPPvlEH374oWJiYtwxPwAAAK9Ro0uBU6ZM0eTJkxUREaG33377nJcGAQAArlQ1ClZPP/20AgMDdf3112vRokVatGjROetWrFhhyeQAAAC8SY2C1QMPPHDRxy0AAABcqWoUrBYuXOimaQAAAHg/S/8IMwAAwJWMYAUAAGARghUAAIBFCFYAAAAWIVgBAABYhGAFAABgEYIVAACARQhWAAAAFiFYAQAAWIRgBQAAYBGCFQAAgEUIVgAAABYhWAEAAFiEYAUAAGARghUAAIBFCFYAAAAWIVgBAABYhGAFAABgEYIVAACARQhWAAAAFiFYAQAAWIRgBQAAYBGCFQAAgEUIVgAAABYhWAEAAFiEYAUAAGARghUAAIBFCFYAAAAWIVgBAABYhGAFAABgEYIVAACARbwqWKWnp8tmsyk1NdVcZhiG0tLSFBUVpcDAQPXq1Uvbtm1z2a60tFSjRo1S48aNFRwcrCFDhujAgQMuNUVFRUpMTJTD4ZDD4VBiYqKOHDniUrNv3z4NHjxYwcHBaty4sVJSUlRWVuauwwUAAF7Ga4LVpk2b9Prrr+umm25yWT5lyhTNmDFDs2fP1qZNmxQREaG4uDgdO3bMrElNTVVGRoaWLVumdevW6fjx4xo0aJDKy8vNmoSEBOXl5SkzM1OZmZnKy8tTYmKiub68vFwDBw7UiRMntG7dOi1btkzLly/XmDFj3H/wAADAK3hFsDp+/Ljuv/9+zZs3TyEhIeZywzA0c+ZMjR8/XnfddZdiYmK0aNEilZSUaOnSpZKk4uJizZ8/X9OnT1ffvn3VsWNHLV68WF9//bU+/vhjSdKOHTuUmZmpN954Q7GxsYqNjdW8efO0cuVK7dy5U5KUlZWl7du3a/HixerYsaP69u2r6dOna968eTp69KjnmwIAAC459ep6AtXx6KOPauDAgerbt6/++te/mst3796tgoICxcfHm8vsdrt69uypnJwcjRw5Ulu2bJHT6XSpiYqKUkxMjHJyctSvXz/l5ubK4XCoa9euZk23bt3kcDiUk5Oj6Oho5ebmKiYmRlFRUWZNv379VFpaqi1btqh3797nnHtpaalKS0vN15UhzOl0yul0/vrm/H+VY9l9DMvGPNf4V7rKPtAP96LPnkOvPYM+u7L7uue9qvI90B19ru6Yl3ywWrZsmb788ktt2rSpyrqCggJJUnh4uMvy8PBw7d2716zx9/d3OdNVWVO5fUFBgcLCwqqMHxYW5lJz9n5CQkLk7+9v1pxLenq6Jk6cWGV5VlaWgoKCzrtdbb3QucLyMSVp9erVbhnXW2VnZ9f1FK4I9Nlz6LVn0OczpnRx7/ju6HNJSUm16i7pYLV//349/vjjysrKUkBAwHnrbDaby2vDMKosO9vZNeeqr03N2caNG6fRo0ebr48ePaqmTZsqPj5eDRo0uOAca8LpdCo7O1vPbvZRacWFj7028tP6WT6mN6rsc1xcnPz8/Op6Opct+uw59Noz6LOrmLSP3DKu3cfQC50r3NLn6t72c0kHqy1btqiwsFCdOnUyl5WXl2vt2rWaPXu2ef9TQUGBIiMjzZrCwkLz7FJERITKyspUVFTkctaqsLBQ3bt3N2t+/PHHKvs/dOiQyzgbNmxwWV9UVCSn01nlTNYv2e122e32Ksv9/Pzc8stVWmFTabn1wYp/CFy56/sHV/TZc+i1Z9DnM9zxPvVL7uhzdce7pG9e79Onj77++mvl5eWZX507d9b999+vvLw8XXvttYqIiHA55VdWVqY1a9aYoalTp07y8/NzqTl48KDy8/PNmtjYWBUXF2vjxo1mzYYNG1RcXOxSk5+fr4MHD5o1WVlZstvtLsEPAABcuS7pM1b169dXTEyMy7Lg4GA1atTIXJ6amqpJkyapVatWatWqlSZNmqSgoCAlJCRIkhwOh0aMGKExY8aoUaNGCg0N1dixY9WuXTv17dtXktS6dWv1799fSUlJeu211yRJDz/8sAYNGqTo6GhJUnx8vNq0aaPExERNnTpVhw8f1tixY5WUlGTpJT0AAOC9LulgVR1PPvmkTp48qeTkZBUVFalr167KyspS/fr1zZqXXnpJ9erV09ChQ3Xy5En16dNHCxculK+vr1mzZMkSpaSkmJ8eHDJkiGbPnm2u9/X11apVq5ScnKwePXooMDBQCQkJmjZtmucOFgAAXNK8Llj9+9//dnlts9mUlpamtLS0824TEBCgWbNmadasWeetCQ0N1eLFiy+472bNmmnlypU1mS4AALiCXNL3WAEAAHgTghUAAIBFCFYAAAAWIVgBAABYhGAFAABgEYIVAACARQhWAAAAFiFYAQAAWIRgBQAAYBGCFQAAgEUIVgAAABYhWAEAAFiEYAUAAGARghUAAIBFCFYAAAAWIVgBAABYhGAFAABgEYIVAACARQhWAAAAFiFYAQAAWIRgBQAAYBGCFQAAgEUIVgAAABYhWAEAAFiEYAUAAGARghUAAIBFCFYAAAAWIVgBAABYhGAFAABgEYIVAACARQhWAAAAFiFYAQAAWIRgBQAAYBGCFQAAgEUIVgAAABYhWAEAAFiEYAUAAGARghUAAIBFCFYAAAAWIVgBAABYhGAFAABgEYIVAACARQhWAAAAFiFYAQAAWIRgBQAAYBGCFQAAgEUIVgAAABYhWAEAAFiEYAUAAGCRSzpYpaen65ZbblH9+vUVFhamO+64Qzt37nSpMQxDaWlpioqKUmBgoHr16qVt27a51JSWlmrUqFFq3LixgoODNWTIEB04cMClpqioSImJiXI4HHI4HEpMTNSRI0dcavbt26fBgwcrODhYjRs3VkpKisrKytxy7AAAwPtc0sFqzZo1evTRR7V+/XplZ2fr9OnTio+P14kTJ8yaKVOmaMaMGZo9e7Y2bdqkiIgIxcXF6dixY2ZNamqqMjIytGzZMq1bt07Hjx/XoEGDVF5ebtYkJCQoLy9PmZmZyszMVF5enhITE8315eXlGjhwoE6cOKF169Zp2bJlWr58ucaMGeOZZgAAgEtevbqewIVkZma6vF6wYIHCwsK0ZcsW/e53v5NhGJo5c6bGjx+vu+66S5K0aNEihYeHa+nSpRo5cqSKi4s1f/58vfXWW+rbt68kafHixWratKk+/vhj9evXTzt27FBmZqbWr1+vrl27SpLmzZun2NhY7dy5U9HR0crKytL27du1f/9+RUVFSZKmT5+u4cOH68UXX1SDBg082BkAAHApuqSD1dmKi4slSaGhoZKk3bt3q6CgQPHx8WaN3W5Xz549lZOTo5EjR2rLli1yOp0uNVFRUYqJiVFOTo769eun3NxcORwOM1RJUrdu3eRwOJSTk6Po6Gjl5uYqJibGDFWS1K9fP5WWlmrLli3q3bv3OedcWlqq0tJS8/XRo0clSU6nU06n04KuyBxPkuw+hmVjnmv8K11lH+iHe9Fnz6HXnkGfXdl93fNeVfke6I4+V3dMrwlWhmFo9OjR+s1vfqOYmBhJUkFBgSQpPDzcpTY8PFx79+41a/z9/RUSElKlpnL7goIChYWFVdlnWFiYS83Z+wkJCZG/v79Zcy7p6emaOHFileVZWVkKCgq64DHXxgudKywfU5JWr17tlnG9VXZ2dl1P4YpAnz2HXnsGfT5jShf3ju+OPpeUlFSrzmuC1WOPPaavvvpK69atq7LOZrO5vDYMo8qys51dc6762tScbdy4cRo9erT5+ujRo2ratKni4+MtvXzodDqVnZ2tZzf7qLTiwsdeG/lp/Swf0xtV9jkuLk5+fn51PZ3LFn32HHrtGfTZVUzaR24Z1+5j6IXOFW7pc+UVp4vximA1atQoffDBB1q7dq2aNGliLo+IiJB05mxSZGSkubywsNA8uxQREaGysjIVFRW5nLUqLCxU9+7dzZoff/yxyn4PHTrkMs6GDRtc1hcVFcnpdFY5k/VLdrtddru9ynI/Pz+3/HKVVthUWm59sOIfAlfu+v7BFX32HHrtGfT5DHe8T/2SO/pc3fEu6U8FGoahxx57TCtWrNCnn36qli1buqxv2bKlIiIiXE75lZWVac2aNWZo6tSpk/z8/FxqDh48qPz8fLMmNjZWxcXF2rhxo1mzYcMGFRcXu9Tk5+fr4MGDZk1WVpbsdrs6depk/cEDAACvc0mfsXr00Ue1dOlS/fOf/1T9+vXNe5kcDocCAwNls9mUmpqqSZMmqVWrVmrVqpUmTZqkoKAgJSQkmLUjRozQmDFj1KhRI4WGhmrs2LFq166d+SnB1q1bq3///kpKStJrr70mSXr44Yc1aNAgRUdHS5Li4+PVpk0bJSYmaurUqTp8+LDGjh2rpKQkPhEIAAAkXeLBau7cuZKkXr16uSxfsGCBhg8fLkl68skndfLkSSUnJ6uoqEhdu3ZVVlaW6tevb9a/9NJLqlevnoYOHaqTJ0+qT58+WrhwoXx9fc2aJUuWKCUlxfz04JAhQzR79mxzva+vr1atWqXk5GT16NFDgYGBSkhI0LRp09x09AAAwNtc0sHKMC7+cUybzaa0tDSlpaWdtyYgIECzZs3SrFmzzlsTGhqqxYsXX3BfzZo108qVKy86JwAAcGW6pO+xAgAA8CYEKwAAAIsQrAAAACxCsAIAALAIwQoAAMAiBCsAAACLEKwAAAAsQrACAACwCMEKAADAIgQrAAAAixCsAAAALEKwAgAAsAjBCgAAwCIEKwAAAIsQrAAAACxCsAIAALAIwQoAAMAiBCsAAACLEKwAAAAsQrACAACwCMEKAADAIgQrAAAAixCsAAAALFKvricAAJeTFk+vcsu4e/420C3jArAWZ6wAAAAsQrACAACwCMEKAADAIgQrAAAAixCsAAAALEKwAgAAsAjBCgAAwCIEKwAAAIsQrAAAACxCsAIAALAIwQoAAMAiBCsAAACLEKwAAAAsQrACAACwCMEKAADAIgQrAAAAixCsAAAALEKwAgAAsAjBCgAAwCL16noCgLu0eHqV5WPafQ1N6WL5sACAywRnrAAAACzCGStUizvO/kjSnr8NdMu4AADUBc5YAQAAWIRgBQAAYBEuBdbCnDlzNHXqVB08eFBt27bVzJkz9dvf/raup4XLgLsuuboTl3NxPu78eebnDpcqglUNvfPOO0pNTdWcOXPUo0cPvfbaaxowYIC2b9+uZs2a1fX0AFym3BVS+KSrZ8WkfaTScpulYxIyLy0EqxqaMWOGRowYoYceekiSNHPmTH300UeaO3eu0tPT63h2wOXFHW9CEm9EANyHYFUDZWVl2rJli55++mmX5fHx8crJyamjWQEArMKZQVfeeHtCXSNY1cBPP/2k8vJyhYeHuywPDw9XQUHBObcpLS1VaWmp+bq4uFiSdPjwYTmdTsvm5nQ6VVJSonpOH5VXWP//8N3l559/dtvY9U6fsH7MCkMlJRX6+eef5efnZ/34bpizu7nje+jun2dv+7lzJ3f+TLuzF+76HrprzpV9dsfPND/P/8edP8/Hjh2TJBmGceE5WLrXK4TN5vpLYRhGlWWV0tPTNXHixCrLW7Zs6Za5eZvG0+t6BjWXUNcTuMR44/fQG+fsTt74M+2N30N39dkbe+FO7v55PnbsmBwOx3nXE6xqoHHjxvL19a1ydqqwsLDKWaxK48aN0+jRo83XFRUVOnz4sBo1anTeMFYbR48eVdOmTbV//341aNDAsnHhij57Bn32HHrtGfTZM9zZZ8MwdOzYMUVFRV2wjmBVA/7+/urUqZOys7N15513msuzs7N1++23n3Mbu90uu93usqxhw4Zum2ODBg34pfUA+uwZ9Nlz6LVn0GfPcFefL3SmqhLBqoZGjx6txMREde7cWbGxsXr99de1b98+PfLII3U9NQAAUMcIVjV077336ueff9bzzz+vgwcPKiYmRqtXr1bz5s3remoAAKCOEaxqITk5WcnJyXU9DRd2u10TJkyoctkR1qLPnkGfPYdeewZ99oxLoc8242KfGwQAAEC18EeYAQAALEKwAgAAsAjBCgAAwCIEKwAAAIsQrLzInDlz1LJlSwUEBKhTp076/PPPL1i/Zs0aderUSQEBAbr22mv16quvemim3q0mfV6xYoXi4uJ09dVXq0GDBoqNjdVHH33kwdl6r5r+PFf64osvVK9ePXXo0MG9E7xM1LTPpaWlGj9+vJo3by673a7rrrtOb775podm691q2uslS5aoffv2CgoKUmRkpB588EG3/t0/b7d27VoNHjxYUVFRstlsev/99y+6TZ28DxrwCsuWLTP8/PyMefPmGdu3bzcef/xxIzg42Ni7d+8563ft2mUEBQUZjz/+uLF9+3Zj3rx5hp+fn/Hee+95eObepaZ9fvzxx43JkycbGzduNL755htj3Lhxhp+fn/Hll196eObepaZ9rnTkyBHj2muvNeLj44327dt7ZrJerDZ9HjJkiNG1a1cjOzvb2L17t7Fhwwbjiy++8OCsvVNNe/35558bPj4+xt///ndj165dxueff260bdvWuOOOOzw8c++xevVqY/z48cby5csNSUZGRsYF6+vqfZBg5SW6dOliPPLIIy7LbrzxRuPpp58+Z/2TTz5p3HjjjS7LRo4caXTr1s1tc7wc1LTP59KmTRtj4sSJVk/tslLbPt97773GX/7yF2PChAkEq2qoaZ//9a9/GQ6Hw/j55589Mb3LSk17PXXqVOPaa691Wfbyyy8bTZo0cdscLyfVCVZ19T7IpUAvUFZWpi1btig+Pt5leXx8vHJycs65TW5ubpX6fv36afPmzXI6nW6bqzerTZ/PVlFRoWPHjik0NNQdU7ws1LbPCxYs0H/+8x9NmDDB3VO8LNSmzx988IE6d+6sKVOm6JprrtENN9ygsWPH6uTJk56YsteqTa+7d++uAwcOaPXq1TIMQz/++KPee+89DRw40BNTviLU1fsgT173Aj/99JPKy8sVHh7usjw8PFwFBQXn3KagoOCc9adPn9ZPP/2kyMhIt83XW9Wmz2ebPn26Tpw4oaFDh7pjipeF2vT522+/1dNPP63PP/9c9erxz1Z11KbPu3bt0rp16xQQEKCMjAz99NNPSk5O1uHDh7nP6gJq0+vu3btryZIluvfee3Xq1CmdPn1aQ4YM0axZszwx5StCXb0PcsbKi9hsNpfXhmFUWXax+nMth6ua9rnS22+/rbS0NL3zzjsKCwtz1/QuG9Xtc3l5uRISEjRx4kTdcMMNnpreZaMmP88VFRWy2WxasmSJunTpottuu00zZszQwoULOWtVDTXp9fbt25WSkqLnnntOW7ZsUWZmpnbv3q1HHnnEE1O9YtTF+yD/188LNG7cWL6+vlX+n09hYWGVNF4pIiLinPX16tVTo0aN3DZXb1abPld65513NGLECL377rvq27evO6fp9Wra52PHjmnz5s3aunWrHnvsMUlnAoBhGKpXr56ysrJ06623emTu3qQ2P8+RkZG65ppr5HA4zGWtW7eWYRg6cOCAWrVq5dY5e6va9Do9PV09evTQn//8Z0nSTTfdpODgYP32t7/VX//6V64qWKCu3gc5Y+UF/P391alTJ2VnZ7ssz87OVvfu3c+5TWxsbJX6rKwsde7cWX5+fm6bqzerTZ+lM2eqhg8frqVLl3J/RDXUtM8NGjTQ119/rby8PPPrkUceUXR0tPLy8tS1a1dPTd2r1ObnuUePHvrhhx90/Phxc9k333wjHx8fNWnSxK3z9Wa16XVJSYl8fFzfgn19fSX931kV/Dp19j7o1lvjYZnKj/LOnz/f2L59u5GammoEBwcbe/bsMQzDMJ5++mkjMTHRrK/8mOkTTzxhbN++3Zg/fz6PW6iGmvZ56dKlRr169YxXXnnFOHjwoPl15MiRujoEr1DTPp+NTwVWT037fOzYMaNJkybGPffcY2zbts1Ys2aN0apVK+Ohhx6qq0PwGjXt9YIFC4x69eoZc+bMMf7zn/8Y69atMzp37mx06dKlrg7hknfs2DFj69atxtatWw1JxowZM4ytW7eaj7S4VN4HCVZe5JVXXjGaN29u+Pv7GzfffLOxZs0ac92wYcOMnj17utT/+9//Njp27Gj4+/sbLVq0MObOnevhGXunmvS5Z8+ehqQqX8OGDfP8xL1MTX+ef4lgVX017fOOHTuMvn37GoGBgUaTJk2M0aNHGyUlJR6etXeqaa9ffvllo02bNkZgYKARGRlp3H///caBAwc8PGvv8dlnn13w39tL5X3QZhiccwQAALAC91gBAABYhGAFAABgEYIVAACARQhWAAAAFiFYAQAAWIRgBQAAYBGCFQAAgEUIVgAAABYhWAHwasOHD5fNZpPNZlO9evXUrFkz/elPf1JRUVFdTw3AFYhgBcDr9e/fXwcPHtSePXv0xhtv6MMPP1RycnJdTwvAFYhgBcDr2e12RUREqEmTJoqPj9e9996rrKwsc/2CBQvUunVrBQQE6MYbb9ScOXPMdWVlZXrssccUGRmpgIAAtWjRQunp6eZ6m82muXPnasCAAQoMDFTLli317rvvuuz/66+/1q233qrAwEA1atRIDz/8sI4fP26uHz58uO644w5NmzZNkZGRatSokR599FE5nU6zZs6cOWrVqpUCAgIUHh6ue+65x1xnGIamTJmia6+9VoGBgWrfvr3ee+89c31RUZHuv/9+XX311QoMDFSrVq20YMECa5oLoEbq1fUEAMBKu3btUmZmpvz8/CRJ8+bN04QJEzR79mx17NhRW7duVVJSkoKDgzVs2DC9/PLL+uCDD/SPf/xDzZo10/79+7V//36XMZ999ln97W9/09///ne99dZbuu+++xQTE6PWrVurpKRE/fv3V7du3bRp0yYVFhbqoYce0mOPPaaFCxeaY3z22WeKjIzUZ599pu+++0733nuvOnTooKSkJG3evFkpKSl666231L17dx0+fFiff/65ue1f/vIXrVixQnPnzlWrVq20du1a/fGPf9TVV1+tnj176tlnn9X27dv1r3/9S40bN9Z3332nkydPeqTfAM7i9j/zDABuNGzYMMPX19cIDg42AgICzL94P2PGDMMwDKNp06bG0qVLXbZ54YUXjNjYWMMwDGPUqFHGrbfealRUVJxzfEnGI4884rKsa9euxp/+9CfDMAzj9ddfN0JCQozjx4+b61etWmX4+PgYBQUF5hybN29unD592qz5/e9/b9x7772GYRjG8uXLjQYNGhhHjx6tsv/jx48bAQEBRk5OjsvyESNGGPfdd59hGIYxePBg48EHH7xIpwB4AmesAHi93r17a+7cuSopKdEbb7yhb775RqNGjdKhQ4e0f/9+jRgxQklJSWb96dOn5XA4JJ25TBcXF6fo6Gj1799fgwYNUnx8vMv4sbGxVV7n5eVJknbs2KH27dsrODjYXN+jRw9VVFRo586dCg8PlyS1bdtWvr6+Zk1kZKS+/vprSVJcXJyaN2+ua6+9Vv3791f//v115513KigoSNu3b9epU6cUFxfnMoeysjJ17NhRkvSnP/1Jd999t7788kvFx8frjjvuUPfu3X9NSwHUEvdYAfB6wcHBuv7663XTTTfp5ZdfVmlpqSZOnKiKigpJZy4H5uXlmV/5+flav369JOnmm2/W7t279cILL+jkyZMaOnSoy/1N52Oz2SSduf+p8r/PVyPJvDT5y3WV86tfv76+/PJLvf3224qMjNRzzz2n9u3b68iRI2bNqlWrXI5h+/bt5n1WAwYM0N69e5WamqoffvhBffr00dixY2vSQgAWIVgBuOxMmDBB06ZNU3l5ua655hrt2rVL119/vctXy5YtzfoGDRro3nvv1bx58/TOO+9o+fLlOnz4sLm+MoT98vWNN94oSWrTpo3y8vJ04sQJc/0XX3whHx8f3XDDDdWec7169dS3b19NmTJFX331lfbs2aNPP/1Ubdq0kd1u1759+6ocQ9OmTc3tr776ag0fPlyLFy/WzJkz9frrr9e4bwB+PS4FArjs9OrVS23bttWkSZOUlpamlJQUNWjQQAMGDFBpaak2b96soqIijR49Wi+99JIiIyPVoUMH+fj46N1331VERIQaNmxojvfuu++qc+fO+s1vfqMlS5Zo48aNmj9/viTp/vvv14QJEzRs2DClpaXp0KFDGjVqlBITE83LgBezcuVK7dq1S7/73e8UEhKi1atXq6KiQtHR0apfv77Gjh2rJ554QhUVFfrNb36jo0ePKicnR1dddZWGDRum5557Tp06dVLbtm1VWlqqlStXqnXr1u5oLYCLIFgBuCyNHj1aDz74oL777ju98cYbmjp1qp588kkFBwerXbt2Sk1NlSRdddVVmjx5sr799lv5+vrqlltu0erVq+Xj838n9CdOnKhly5YpOTlZERERWrJkidq0aSNJCgoK0kcffaTHH39ct9xyi4KCgnT33XdrxowZ1Z5rw4YNtWLFCqWlpenUqVNq1aqV3n77bbVt21aS9MILLygsLEzp6enatWuXGjZsqJtvvlnPPPOMJMnf31/jxo3Tnj17FBgYqN/+9rdatmyZRZ0EUBM2wzCMup4EAFyqbDabMjIydMcdd9T1VAB4Ae6xAgAAsAjBCgAAwCLcYwUAF8DdEgBqgjNWAAAAFiFYAQAAWIRgBQAAYBGCFQAAgEUIVgAAABYhWAEAAFiEYAUAAGARghUAAIBFCFYAAAAW+X8gSeXSqqcPfAAAAABJRU5ErkJggg==",
      "text/plain": [
       "<Figure size 640x480 with 1 Axes>"

      ],
      "image/png": "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"

     },
     "metadata": {},
     "output_type": "display_data"
    }
   ],

   "source": [
    "import matplotlib.pyplot as plt\n",
    "\n",
    "# draw a histogram of the age column\n",
    "(resc_data['correct']-1).hist(bins=20)\n",
    "\n",
    "# add labels and title\n",
    "plt.xlabel('Responses')\n",
    "plt.ylabel('Number')\n",
    "plt.title('Distribution of Responses')\n"
   ]

  },
  {
   "cell_type": "code",
   "execution_count": 17,
   "id": "33f5f51328bc37c1",
   "metadata": {
    "trusted": false,
    "ExecuteTime": {
     "end_time": "2025-05-26T11:44:36.742292Z",
     "start_time": "2025-05-26T11:44:36.659730Z"
    }
   },

   "outputs": [
    {
     "data": {
      "text/plain": [
       "<Figure size 640x480 with 0 Axes>"
      ]
     },
     "metadata": {},
     "output_type": "display_data"
    }
   ],

   "source": [
    "plt.savefig('distribution_math2.png')"
   ]

  },
  {
   "cell_type": "code",
   "execution_count": 18,
   "id": "1420cf5a2ffcaf83",
   "metadata": {
    "trusted": false,
    "ExecuteTime": {
     "end_time": "2025-05-26T11:44:37.172737Z",
     "start_time": "2025-05-26T11:44:37.117358Z"
    }
   },

   "outputs": [],
   "source": [
    "metadata = get_metadata(resc_data,[\"user_id\", \"item_id\", \"dimension_id\"])"
   ]

  },
  {
   "cell_type": "markdown",
   "id": "394274f0-4db0-4423-b5ab-0a07e3c3733d",
   "metadata": {},
   "source": "### Compute number of modalities"
  },
  {
   "cell_type": "code",
   "execution_count": 19,
   "id": "d2e98112-87f7-4dbe-98c9-3c3e6c20f635",
   "metadata": {
    "trusted": false,
    "ExecuteTime": {
     "end_time": "2025-05-26T11:44:37.972159Z",
     "start_time": "2025-05-26T11:44:37.925149Z"
    }
   },

   "outputs": [],
   "source": [
    "nb_modalities =get_modalities_nb(resc_data, metadata)"
   ]
  },
  {
   "cell_type": "markdown",
   "id": "af2a1ef2455361fa",
   "metadata": {},
   "source": "### Save data, concept map, metadata and nb_modalities"
  },
  {
   "cell_type": "code",
   "execution_count": 20,
   "id": "9314705046e62dcb",
   "metadata": {
    "trusted": false,
    "ExecuteTime": {
     "end_time": "2025-05-26T11:44:39.304717Z",
     "start_time": "2025-05-26T11:44:38.768931Z"
    }
   },

   "outputs": [],
   "source": [
    "# save selected data\n",
    "resc_data.to_csv('../1-raw_data/math2_selected_data.csv', index=False)"
   ]

  },
  {
   "cell_type": "code",
   "execution_count": 21,
   "id": "d57fbdcefd9ed82",
   "metadata": {
    "trusted": false,
    "ExecuteTime": {
     "end_time": "2025-05-26T11:44:39.438866Z",
     "start_time": "2025-05-26T11:44:39.408087Z"
    }
   },

   "outputs": [],
   "source": [
    "# Convert int64 keys to str\n",
    "q2k_str_keys = {str(key): value for key, value in q2k.items()}\n",
    "\n",
    "# Convert sets to lists in the dictionary\n",
    "q2k_json_serializable = {}\n",
    "for key, value in q2k_str_keys.items():\n",
    "    if isinstance(value, set):\n",
    "        q2k_json_serializable[key] = list(value)\n",
    "    else:\n",
    "        q2k_json_serializable[key] = value\n",
    "\n",
    "# Save concept map\n",
    "with open('concept_map.json', 'w') as f:\n",
    "    json.dump(q2k_json_serializable, f)"
   ]

  },
  {
   "cell_type": "code",
   "execution_count": 22,
   "id": "6fdbebe69540c57c",
   "metadata": {
    "trusted": false,
    "ExecuteTime": {
     "end_time": "2025-05-26T11:44:41.450273Z",
     "start_time": "2025-05-26T11:44:41.409532Z"
    }
   },

   "outputs": [],
   "source": [
    "# save metadata\n",
    "with open('metadata.json', 'w') as f:\n",
    "    json.dump(metadata, f)"
   ]

  },
  {
   "cell_type": "code",
   "execution_count": 23,
   "id": "843d81bf-4c94-4547-8ee5-c016259b7d57",
   "metadata": {
    "trusted": false,
    "ExecuteTime": {
     "end_time": "2025-05-26T11:44:41.976079Z",
     "start_time": "2025-05-26T11:44:41.936023Z"
    }
   },

   "outputs": [],
   "source": [
    "# save metadata\n",
    "torch.save(nb_modalities,'nb_modalities.pkl')"
   ]

  },
  {
   "cell_type": "markdown",
   "id": "db9f1ae6fa56cfa1",
   "metadata": {},
   "source": "## parse data"
  },
  {
   "cell_type": "code",
   "execution_count": 24,
   "id": "3b97a578bdb0ec0b",
   "metadata": {
    "trusted": false,
    "ExecuteTime": {
     "end_time": "2025-05-26T11:44:43.151685Z",
     "start_time": "2025-05-26T11:44:42.727197Z"
    }
   },

   "outputs": [],
   "source": [
    "resc_data = pd.read_csv('../1-raw_data/math2_selected_data.csv')\n",
    "quadruplet = quadruplet_format(resc_data)"
   ]

  },
  {
   "cell_type": "code",
   "execution_count": 25,
   "id": "53610eb7a85babfb",
   "metadata": {
    "trusted": false,
    "ExecuteTime": {
     "end_time": "2025-05-26T11:44:53.143730Z",
     "start_time": "2025-05-26T11:44:43.261365Z"
    }
   },

   "outputs": [],
   "source": [
    "stu_data, ques_data = parse_data(resc_data)"
   ]

  },
  {
   "cell_type": "code",
   "execution_count": 26,
   "id": "664d88228a03713c",
   "metadata": {
    "trusted": false,
    "ExecuteTime": {

     "end_time": "2025-05-26T11:44:53.278650Z",
     "start_time": "2025-05-26T11:44:53.263629Z"
    }
   },
   "source": "test_size = 0.2\nvalid_size = 0.2 # proportion over the all dataset\nleast_test_length=100",
   "outputs": [],
   "execution_count": 47
  },
  {
   "metadata": {},
   "cell_type": "markdown",
   "source": "## vertical split",
   "id": "396556ddfed6f785"

  },
  {
   "cell_type": "code",
   "execution_count": 30,
   "id": "cf7c3ff5225454b0",
   "metadata": {
    "trusted": false,
    "ExecuteTime": {
     "end_time": "2025-05-26T11:52:38.574367Z",
     "start_time": "2025-05-26T11:52:15.618045Z"
    }
   },

   "outputs": [],
   "source": [
    "train_data, valid_data, test_data = split_data_vertically(quadruplet, test_prop=test_size,valid_prop=valid_size,folds_nb=5)"
   ]

  },
  {
   "cell_type": "code",
   "execution_count": 31,
   "id": "2d6e135c1af1d59a",
   "metadata": {
    "trusted": false,
    "ExecuteTime": {

     "end_time": "2025-05-26T11:52:42.996759Z",
     "start_time": "2025-05-26T11:52:39.237844Z"
    }
   },
   "source": "for i_fold, train_fold in enumerate(train_data):\n    save_to_csv(train_data[i_fold], f'../2-preprocessed_data/math2_train_quadruples_vert_{i_fold}.csv')\n    save_to_csv(valid_data[i_fold], f'../2-preprocessed_data/math2_valid_quadruples_vert_{i_fold}.csv')\n    save_to_csv(test_data[i_fold], f'../2-preprocessed_data/math2_test_quadruples_vert_{i_fold}.csv')",

   "outputs": [],
   "execution_count": 53
  }
 ],
 "metadata": {
  "kernelspec": {

   "display_name": "pytorch-gpu-2.6.0_py3.12.8",
   "language": "python",
   "name": "module-conda-env-pytorch-gpu-2.6.0_py3.12.8"

  },
  "language_info": {
   "codemirror_mode": {
    "name": "ipython",
    "version": 3
   },
   "file_extension": ".py",
   "mimetype": "text/x-python",
   "name": "python",
   "nbconvert_exporter": "python",
   "pygments_lexer": "ipython3",
   "version": "3.12.8"
  }
 },
 "nbformat": 4,
 "nbformat_minor": 5
}
