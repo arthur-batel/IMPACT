{
 "cells": [
  {
   "cell_type": "markdown",
   "id": "fc9e923c5a6fbe3b",
   "metadata": {
    "collapsed": false,
    "jupyter": {
     "outputs_hidden": false
    }
   },
   "source": [
    "# BIVAECF Cornac experiments\n",
    "### 1. Init\n",
    "#### 1.1. Import libraries"
   ]
  },
  {
   "cell_type": "code",
   "id": "01af8a76-5372-4abb-b7d9-80395a73d725",
   "metadata": {
    "ExecuteTime": {
     "end_time": "2025-03-12T11:12:34.317964Z",
     "start_time": "2025-03-12T11:12:33.300006Z"
    }
   },
   "source": [
    "%load_ext autoreload\n",
    "%autoreload 2\n",
    "%reload_ext autoreload\n",
    "\n",
    "import sys\n",
    "sys.path.append(\"../../\")\n",
    "\n",
    "\n",
    "import os\n",
    "os.environ[\"PYTORCH_CUDA_ALLOC_CONF\"] = \"expandable_segments:True\"\n",
    "\n",
    "from IMPACT import utils\n",
    "utils.set_seed(0)\n",
    "from IMPACT import dataset\n",
    "from IMPACT import model\n",
    "from experiments.datasets.external_packages import cornac_util\n",
    "from experiments.datasets.external_packages import BiVAECFCAT\n",
    "\n",
    "import optuna\n",
    "import gc\n",
    "import json\n",
    "import torch\n",
    "import pandas as pd\n",
    "from importlib import reload\n",
    "\n",
    "\n",
    "from cornac.models import PMF\n",
    "from cornac.metrics import MAE, RMSE, RatingMetric\n",
    "import logging\n",
    "import cornac"
   ],
   "outputs": [
    {
     "name": "stdout",
     "output_type": "stream",
     "text": [
      "The autoreload extension is already loaded. To reload it, use:\n",
      "  %reload_ext autoreload\n"
     ]
    }
   ],
   "execution_count": 3
  },
  {
   "cell_type": "markdown",
   "id": "5b64c0ba4b3d941a",
   "metadata": {},
   "source": [
    "#### 1.2. Set up the loggers"
   ]
  },
  {
   "cell_type": "code",
   "execution_count": 10,
   "id": "774c46a0b619fc02",
   "metadata": {
    "collapsed": false,
    "jupyter": {
     "outputs_hidden": false
    }
   },
   "outputs": [],
   "source": [
    "utils.setuplogger(verbose = True, log_name=\"BIVAECF_cornac\")"
   ]
  },
  {
   "cell_type": "markdown",
   "id": "da32ec3e00f62e0",
   "metadata": {},
   "source": [
    "#### 1.4. Parametrize the datasets"
   ]
  },
  {
   "cell_type": "code",
   "execution_count": 11,
   "id": "2c9c72588f9c3af8",
   "metadata": {
    "collapsed": false,
    "jupyter": {
     "outputs_hidden": false
    }
   },
   "outputs": [
    {
     "name": "stdout",
     "output_type": "stream",
     "text": [
      "[INFO 34:49] #### postcovid ####\n",
      "[INFO 34:49] #### config : {'seed': 0, 'load_params': False, 'save_params': False, 'embs_path': '../embs/postcovid', 'params_path': '../ckpt/postcovid', 'early_stopping': True, 'fast_training': True, 'learning_rate': 0.001, 'batch_size': 2048, 'num_epochs': 200, 'num_dim': 10, 'eval_freq': 1, 'patience': 30, 'device': 'cuda:0', 'lambda': 7.7e-06, 'tensorboard': False, 'flush_freq': True, 'prednet_len1': 128, 'prednet_len2': 64, 'best_params_path': '', 'num_layers': 0, 'version': 'pair', 'p_dropout': 0, 'low_mem_mode': True, 'user_nbrs_n': 10, 'item_nbrs_n': 5} ####\n"
     ]
    }
   ],
   "source": [
    "# choose dataset here\n",
    "dataset_name = 'postcovid'\n",
    "version= \"\"#\"_small\"\n",
    "# modify config here\n",
    "\n",
    "if torch.cuda.is_available():\n",
    "    device = torch.device(\"cuda\")\n",
    "    print(\"CUDA is available. Using GPU.\")\n",
    "else:\n",
    "    device = torch.device(\"cpu\")\n",
    "    print(\"CUDA is not available. Using CPU.\")\n",
    "\n",
    "config = {\n",
    "\n",
    "    # General params\n",
    "    'seed' : 0,\n",
    "\n",
    "    # Saving params\n",
    "    'load_params': False,\n",
    "    'save_params': False,\n",
    "    'embs_path' : '../embs/'+str(dataset_name),\n",
    "    'params_path' :'../ckpt/'+str(dataset_name),\n",
    "\n",
    "    # training mode\n",
    "    'early_stopping' : True,\n",
    "    'fast_training' : True, # (Only taken in account if early_stopping == true) If true, doesn't compute valid rmse PC-ER\n",
    "\n",
    "    # Learning params\n",
    "    'learning_rate': 0.001,\n",
    "    'batch_size': 2048,\n",
    "    'num_epochs': 200,\n",
    "    'num_dim': 10, # for IRT or MIRT todo : is it necessary as we use concepts knowledge number as embedding dimension ?\n",
    "    'eval_freq' : 1,\n",
    "    'patience' : 30,\n",
    "    'device': device,\n",
    "    'lambda' : 7.7e-6,\n",
    "    'tensorboard': False,\n",
    "    'flush_freq' : True,\n",
    "    \n",
    "    # for NeuralCD\n",
    "    'prednet_len1': 128,\n",
    "    'prednet_len2': 64,\n",
    "    'best_params_path':'',\n",
    "    \n",
    "    #For GCCD\n",
    "    'num_layers': 0,\n",
    "    'version': 'pair',\n",
    "    'p_dropout': 0,\n",
    "    'low_mem_mode' : True,\n",
    "    'user_nbrs_n' : 10,\n",
    "    'item_nbrs_n' : 5\n",
    "}\n",
    "concept_map = json.load(open(f'../datasets/{dataset_name}/concept_map.json', 'r'))\n",
    "concept_map = {int(k):[int(x) for x in v] for k,v in concept_map.items()}\n",
    "metadata = json.load(open(f'../datasets/{dataset_name}/metadata.json', 'r'))\n",
    "utils.set_seed(config['seed'])\n",
    "dataset_name += version\n",
    "logging.info(f'#### {dataset_name} ####')\n",
    "logging.info(f'#### config : {config} ####')"
   ]
  },
  {
   "cell_type": "code",
   "execution_count": 12,
   "id": "6599cf90f2e9b9ef",
   "metadata": {},
   "outputs": [],
   "source": [
    "def generate_BIVAECF(config,metadata = None) :\n",
    "    return BiVAECFCAT(name='BiVAECF', k=metadata[\"num_dimension_id\"], encoder_structure=config['enc_str'], act_fn=config['activation_func'], likelihood='gaus', n_epochs=config['num_epochs'], batch_size=config['batch_size'], learning_rate=config['learning_rate'], beta_kl=config['beta_kl'], cap_priors={'item': False, 'user': False}, trainable=True, verbose=True, seed=config['seed'], use_gpu=True)"
   ]
  },
  {
   "cell_type": "markdown",
   "id": "ea3179426d9afedb",
   "metadata": {
    "collapsed": false,
    "jupyter": {
     "outputs_hidden": false
    }
   },
   "source": [
    "### 2. CDM Training\n"
   ]
  },
  {
   "cell_type": "code",
   "execution_count": 13,
   "id": "7f2a31713158f1f",
   "metadata": {},
   "outputs": [],
   "source": [
    "reload(utils)\n",
    "reload(model)\n",
    "reload(dataset)\n",
    "\n",
    "seed = 0\n",
    "utils.set_seed(0)\n",
    "\n",
    "config['seed'] = seed\n",
    "config['early_stopping'] = True\n",
    "config['esc'] = 'objectives' #'loss' 'delta_objectives'\n",
    "config['num_epochs']=200\n",
    "config['eval_freq']=1\n",
    "config['patience']=30\n",
    "\n",
    "config['verbose_early_stopping'] = False\n",
    "config[\"tensorboard\"] = False\n",
    "config['flush_freq'] = False\n",
    "config['save_params']= False\n",
    "config['disable_tqdm'] = True"
   ]
  },
  {
   "cell_type": "code",
   "execution_count": null,
   "id": "4b93abcb46b3c18a",
   "metadata": {},
   "outputs": [
    {
     "name": "stderr",
     "output_type": "stream",
     "text": [
      "[I 2024-12-25 21:34:57,397] A new study created in memory with name: no-name-29731ad5-ac74-471a-a857-2c882361d19c\n"
     ]
    },
    {
     "data": {
      "application/vnd.jupyter.widget-view+json": {
       "model_id": "62d38c4f516441dea53c42813ebb5a48",
       "version_major": 2,
       "version_minor": 0
      },
      "text/plain": [
       "  0%|          | 0/200 [00:00<?, ?it/s]"
      ]
     },
     "metadata": {},
     "output_type": "display_data"
    },
    {
     "data": {
      "application/vnd.jupyter.widget-view+json": {
       "model_id": "503e9ac0d40541e5bcdbf0df74af91b8",
       "version_major": 2,
       "version_minor": 0
      },
      "text/plain": [
       "  0%|          | 0/200 [00:00<?, ?it/s]"
      ]
     },
     "metadata": {},
     "output_type": "display_data"
    },
    {
     "data": {
      "application/vnd.jupyter.widget-view+json": {
       "model_id": "d39d75fe76cf4591ae47e58c91bd6c14",
       "version_major": 2,
       "version_minor": 0
      },
      "text/plain": [
       "  0%|          | 0/200 [00:00<?, ?it/s]"
      ]
     },
     "metadata": {},
     "output_type": "display_data"
    },
    {
     "data": {
      "application/vnd.jupyter.widget-view+json": {
       "model_id": "1278ea034b854b81b9db528bc82c69e4",
       "version_major": 2,
       "version_minor": 0
      },
      "text/plain": [
       "  0%|          | 0/200 [00:00<?, ?it/s]"
      ]
     },
     "metadata": {},
     "output_type": "display_data"
    }
   ],
   "source": [
    "reload(cornac_util)\n",
    "\n",
    "dataset_name = \"postcovid\"\n",
    "eval_method,concept_map,metadata = cornac_util.load_dataset(dataset_name,config, 0)\n",
    "\n",
    "study = optuna.create_study(\n",
    "    directions=[\"minimize\"],  # Specify directions for each objective\n",
    ")\n",
    "gc.collect()\n",
    "torch.cuda.empty_cache()\n",
    "study.optimize(lambda trial: cornac_util.objective_BIVAECF(trial, config, metadata,eval_method,generate_BIVAECF), n_trials=200, timeout=3600, n_jobs=4, gc_after_trial=True)\n",
    "\n",
    "# Analyze the results\n",
    "## requirements : plotly, nbformat\n",
    "pareto_trials = study.best_trials\n",
    "logging.info(f\"Best trial for {dataset_name} : {study.best_trials}\") \n",
    "\n",
    "logging.info(\"Number of trials :\"+str(len(study.trials)))\n",
    "for trial in study.trials:\n",
    "    logging.info(f\"Trial #{trial.number}\")\n",
    "    logging.info(f\"  RMSE: {trial.values}\")\n",
    "    #logging.info(f\"  DOA: {trial.values[1]}\")\n",
    "    logging.info(f\"  Params: {trial.params}\")\n",
    "\n",
    "dataset_name = \"promis\"\n",
    "eval_method,concept_map,metadata = cornac_util.load_dataset(dataset_name,config, 0)\n",
    "\n",
    "study = optuna.create_study(\n",
    "    directions=[\"minimize\"],  # Specify directions for each objective\n",
    ")\n",
    "gc.collect()\n",
    "torch.cuda.empty_cache()\n",
    "study.optimize(lambda trial: cornac_util.objective_BIVAECF(trial, config, metadata, eval_method,generate_BIVAECF), n_trials=200, timeout=7200, n_jobs=4, gc_after_trial=True)\n",
    "\n",
    "# Analyze the results\n",
    "## requirements : plotly, nbformat\n",
    "logging.info(f\"Best trial for {dataset_name} : {study.best_trials}\") \n",
    "\n",
    "logging.info(\"Number of trials :\"+str(len(study.trials)))\n",
    "for trial in study.trials:\n",
    "    logging.info(f\"Trial #{trial.number}\")\n",
    "    logging.info(f\"  RMSE: {trial.values}\")\n",
    "    #logging.info(f\"  DOA: {trial.values[1]}\")\n",
    "    logging.info(f\"  Params: {trial.params}\")\n",
    "\n",
    "dataset_name = \"movielens\"\n",
    "eval_method,concept_map,metadata = cornac_util.load_dataset(dataset_name,config, 0)\n",
    "\n",
    "study = optuna.create_study(\n",
    "    directions=[\"minimize\"],  # Specify directions for each objective\n",
    ")\n",
    "gc.collect()\n",
    "torch.cuda.empty_cache()\n",
    "study.optimize(lambda trial: cornac_util.objective_BIVAECF(trial, config,  metadata,eval_method,generate_BIVAECF), n_trials=200, timeout=7200, n_jobs=4, gc_after_trial=True)\n",
    "\n",
    "# Analyze the results\n",
    "## requirements : plotly, nbformat\n",
    "logging.info(f\"Best trial for {dataset_name} : {study.best_trials}\") \n",
    "\n",
    "logging.info(\"Number of trials :\"+str(len(study.trials)))\n",
    "for trial in study.trials:\n",
    "    logging.info(f\"Trial #{trial.number}\")\n",
    "    logging.info(f\"  RMSE: {trial.values}\")\n",
    "    #logging.info(f\"  DOA: {trial.values[1]}\")\n",
    "    logging.info(f\"  Params: {trial.params}\")\n",
    "    \n",
    "dataset_name = \"portrait\"\n",
    "eval_method,concept_map,metadata = cornac_util.load_dataset(dataset_name,config, 0)\n",
    "\n",
    "study = optuna.create_study(\n",
    "    directions=[\"minimize\"],  # Specify directions for each objective\n",
    ")\n",
    "gc.collect()\n",
    "torch.cuda.empty_cache()\n",
    "study.optimize(lambda trial: cornac_util.objective_BIVAECF(trial, config, metadata, eval_method,generate_BIVAECF), n_trials=200, timeout=7200, n_jobs=4, gc_after_trial=True)\n",
    "\n",
    "# Analyze the results\n",
    "## requirements : plotly, nbformat\n",
    "logging.info(f\"Best trial for {dataset_name} : {study.best_trials}\") \n",
    "\n",
    "logging.info(\"Number of trials :\"+str(len(study.trials)))\n",
    "for trial in study.trials:\n",
    "    logging.info(f\"Trial #{trial.number}\")\n",
    "    logging.info(f\"  RMSE: {trial.values}\")\n",
    "    #logging.info(f\"  DOA: {trial.values[1]}\")\n",
    "    logging.info(f\"  Params: {trial.params}\")\n"
   ]
  },
  {
   "cell_type": "markdown",
   "id": "c548e520-45cf-485d-bac5-e583c2406757",
   "metadata": {},
   "source": [
    "### 3. CDM Prediction\n",
    "#### 3.1. Training and testing"
   ]
  },
  {
   "cell_type": "code",
   "execution_count": null,
   "id": "756ac576ee966574",
   "metadata": {},
   "outputs": [],
   "source": [
    "def find_emb(algo):\n",
    "    return algo.bivae.theta.detach().cpu().numpy()"
   ]
  },
  {
   "cell_type": "code",
   "execution_count": null,
   "id": "e84cf8b0d727a1db",
   "metadata": {},
   "outputs": [],
   "source": [
    "reload(cornac_util)\n",
    "\n",
    "dataset_name = \"postcovid\"\n",
    "logging.info(dataset_name)\n",
    "config['learning_rate'] = 2e-5\n",
    "config['lambda'] = 6.9e-6\n",
    "config['d1'] = 15\n",
    "config['d2'] = 11\n",
    "config['beta_kl'] = 0.68845\n",
    "metrics = cornac_util.test(dataset_name,config,generate_BIVAECF,find_emb)\n",
    "\n",
    "dataset_name = \"promis\"\n",
    "logging.info(dataset_name)\n",
    "config['learning_rate'] = 1e-5\n",
    "config['lambda'] = 2.1e-6\n",
    "config['d1'] = 10\n",
    "config['d2'] = 40\n",
    "config['beta_kl'] = 0.07\n",
    "metrics = cornac_util.test(dataset_name,config,generate_BIVAECF,find_emb)\n",
    "\n",
    "dataset_name = \"movielens\"\n",
    "logging.info(dataset_name)\n",
    "config['learning_rate'] = 1e-5\n",
    "config['lambda'] = 1.1e-6\n",
    "config['d1'] = 29\n",
    "config['d2'] = 19\n",
    "config['beta_kl'] = 0.25967\n",
    "metrics = cornac_util.test(dataset_name,config,generate_BIVAECF,find_emb)\n",
    "\n",
    "dataset_name = \"portrait\"\n",
    "logging.info(dataset_name)\n",
    "config['learning_rate'] = 1e-5\n",
    "config['lambda'] = 1.12e-6\n",
    "config['d1'] = 22\n",
    "config['d2'] = 17\n",
    "config['beta_kl'] = 0.26244\n",
    "metrics = cornac_util.test(dataset_name,config,generate_BIVAECF,find_emb)"
   ]
  }
 ],
 "metadata": {
  "kernelspec": {
   "display_name": "Python 3 (ipykernel)",
   "language": "python",
   "name": "python3"
  },
  "language_info": {
   "codemirror_mode": {
    "name": "ipython",
    "version": 3
   },
   "file_extension": ".py",
   "mimetype": "text/x-python",
   "name": "python",
   "nbconvert_exporter": "python",
   "pygments_lexer": "ipython3",
   "version": "3.11.11"
  }
 },
 "nbformat": 4,
 "nbformat_minor": 5
}
