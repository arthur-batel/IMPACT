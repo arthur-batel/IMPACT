{
 "cells": [
  {
   "cell_type": "markdown",
   "id": "fc9e923c5a6fbe3b",
   "metadata": {
    "collapsed": false,
    "jupyter": {
     "outputs_hidden": false
    }
   },
   "source": [
    "# GCMC Cornac experiments\n",
    "### 1. Init\n",
    "#### 1.1. Import libraries"
   ]
  },
  {
   "cell_type": "code",
   "id": "01af8a76-5372-4abb-b7d9-80395a73d725",
   "metadata": {
    "ExecuteTime": {
     "end_time": "2025-03-12T11:12:58.089537Z",
     "start_time": "2025-03-12T11:12:56.779422Z"
    }
   },
   "source": [
    "%load_ext autoreload\n",
    "%autoreload 2\n",
    "%reload_ext autoreload\n",
    "\n",
    "import sys\n",
    "sys.path.append(\"../../\")\n",
    "\n",
    "\n",
    "import os\n",
    "os.environ[\"PYTORCH_CUDA_ALLOC_CONF\"] = \"expandable_segments:True\"\n",
    "\n",
    "from IMPACT import utils\n",
    "utils.set_seed(0)\n",
    "from IMPACT import dataset\n",
    "from IMPACT import model\n",
    "from experiments.datasets.external_packages import cornac_util\n",
    "\n",
    "import optuna\n",
    "import gc\n",
    "import json\n",
    "import torch\n",
    "import pandas as pd\n",
    "from importlib import reload\n",
    "\n",
    "\n",
    "from cornac.models import PMF\n",
    "from cornac.metrics import MAE, RMSE, RatingMetric\n",
    "import logging\n",
    "import cornac"
   ],
   "outputs": [],
   "execution_count": 1
  },
  {
   "cell_type": "markdown",
   "id": "5b64c0ba4b3d941a",
   "metadata": {},
   "source": [
    "#### 1.2. Set up the loggers"
   ]
  },
  {
   "cell_type": "code",
   "id": "774c46a0b619fc02",
   "metadata": {
    "collapsed": false,
    "jupyter": {
     "outputs_hidden": false
    }
   },
   "source": [
    "utils.setuplogger(verbose = True, log_name=\"GCMC_cornac\")"
   ],
   "outputs": [],
   "execution_count": null
  },
  {
   "cell_type": "markdown",
   "id": "da32ec3e00f62e0",
   "metadata": {},
   "source": [
    "#### 1.4. Parametrize the datasets"
   ]
  },
  {
   "cell_type": "code",
   "id": "2c9c72588f9c3af8",
   "metadata": {
    "collapsed": false,
    "jupyter": {
     "outputs_hidden": false
    }
   },
   "source": [
    "# choose dataset here\n",
    "dataset_name = 'postcovid'\n",
    "version= \"\"#\"_small\"\n",
    "# modify config here\n",
    "\n",
    "if torch.cuda.is_available():\n",
    "    device = torch.device(\"cuda\")\n",
    "    print(\"CUDA is available. Using GPU.\")\n",
    "else:\n",
    "    device = torch.device(\"cpu\")\n",
    "    print(\"CUDA is not available. Using CPU.\")\n",
    "\n",
    "config = {\n",
    "\n",
    "    # General params\n",
    "    'seed' : 0,\n",
    "\n",
    "    # Saving params\n",
    "    'load_params': False,\n",
    "    'save_params': False,\n",
    "    'embs_path' : '../embs/'+str(dataset_name),\n",
    "    'params_path' :'../ckpt/'+str(dataset_name),\n",
    "\n",
    "    # training mode\n",
    "    'early_stopping' : True,\n",
    "    'fast_training' : True, # (Only taken in account if early_stopping == true) If true, doesn't compute valid rmse PC-ER\n",
    "\n",
    "    # Learning params\n",
    "    'learning_rate': 0.001,\n",
    "    'batch_size': 2048,\n",
    "    'num_epochs': 200,\n",
    "    'num_dim': 10, # for IRT or MIRT todo : is it necessary as we use concepts knowledge number as embedding dimension ?\n",
    "    'eval_freq' : 1,\n",
    "    'patience' : 30,\n",
    "    'device': device,\n",
    "    'lambda' : 7.7e-6,\n",
    "    'tensorboard': False,\n",
    "    'flush_freq' : True,\n",
    "\n",
    "    # for NeuralCD\n",
    "    'prednet_len1': 128,\n",
    "    'prednet_len2': 64,\n",
    "    'best_params_path':'',\n",
    "\n",
    "    #For GCCD\n",
    "    'num_layers': 0,\n",
    "    'version': 'pair',\n",
    "    'p_dropout': 0,\n",
    "    'low_mem_mode' : True,\n",
    "    'user_nbrs_n' : 10,\n",
    "    'item_nbrs_n' : 5\n",
    "}\n",
    "concept_map = json.load(open(f'../datasets/{dataset_name}/concept_map.json', 'r'))\n",
    "concept_map = {int(k):[int(x) for x in v] for k,v in concept_map.items()}\n",
    "metadata = json.load(open(f'../datasets/{dataset_name}/metadata.json', 'r'))\n",
    "utils.set_seed(config['seed'])\n",
    "dataset_name += version\n",
    "logging.info(f'#### {dataset_name} ####')\n",
    "logging.info(f'#### config : {config} ####')"
   ],
   "outputs": [],
   "execution_count": null
  },
  {
   "metadata": {},
   "cell_type": "code",
   "source": [
    "def generate_GCMC(config,metadata = None) :\n",
    "    return cornac.models.GCMC(\n",
    "        max_iter=config['num_epochs'],\n",
    "        learning_rate=config['learning_rate'],\n",
    "        gcn_out_units=metadata['num_dimension_id'],\n",
    "        optimizer='adam',\n",
    "        gcn_agg_accum=\"sum\",\n",
    "        activation_func=config['activation_func'],\n",
    "        gcn_agg_units=500,\n",
    "        train_valid_interval=config['eval_freq'],\n",
    "        train_early_stopping_patience=config['patience'],\n",
    "        trainable=True,\n",
    "        seed=config['seed'],\n",
    "        verbose=False\n",
    "    )"
   ],
   "id": "6599cf90f2e9b9ef",
   "outputs": [],
   "execution_count": null
  },
  {
   "cell_type": "markdown",
   "id": "ea3179426d9afedb",
   "metadata": {
    "collapsed": false,
    "jupyter": {
     "outputs_hidden": false
    }
   },
   "source": [
    "### 2. CDM Training\n"
   ]
  },
  {
   "cell_type": "code",
   "id": "7f2a31713158f1f",
   "metadata": {},
   "source": [
    "reload(utils)\n",
    "reload(model)\n",
    "reload(dataset)\n",
    "\n",
    "seed = 0\n",
    "utils.set_seed(0)\n",
    "\n",
    "config['seed'] = seed\n",
    "config['early_stopping'] = True\n",
    "config['esc'] = 'objectives' #'loss' 'delta_objectives'\n",
    "config['num_epochs']=200\n",
    "config['eval_freq']=1\n",
    "config['patience']=30\n",
    "\n",
    "config['verbose_early_stopping'] = False\n",
    "config[\"tensorboard\"] = False\n",
    "config['flush_freq'] = False\n",
    "config['save_params']= False\n",
    "config['disable_tqdm'] = True"
   ],
   "outputs": [],
   "execution_count": null
  },
  {
   "cell_type": "code",
   "id": "4b93abcb46b3c18a",
   "metadata": {},
   "source": [
    "reload(cornac_util)\n",
    "\n",
    "dataset_name = \"postcovid\"\n",
    "eval_method,concept_map,metadata = cornac_util.load_dataset(dataset_name,config, 0)\n",
    "\n",
    "study = optuna.create_study(\n",
    "    directions=[\"minimize\"],  # Specify directions for each objective\n",
    ")\n",
    "gc.collect()\n",
    "torch.cuda.empty_cache()\n",
    "study.optimize(lambda trial: cornac_util.objective_GCMC(trial, config, eval_method,generate_GCMC), n_trials=100, timeout=1800, n_jobs=4, gc_after_trial=True)\n",
    "\n",
    "# Analyze the results\n",
    "## requirements : plotly, nbformat\n",
    "pareto_trials = study.best_trials\n",
    "logging.info(f\"Best trial for {dataset_name} : {study.best_trials}\") \n",
    "\n",
    "logging.info(\"Number of trials :\"+str(len(study.trials)))\n",
    "for trial in study.trials:\n",
    "    logging.info(f\"Trial #{trial.number}\")\n",
    "    logging.info(f\"  RMSE: {trial.values}\")\n",
    "    #logging.info(f\"  DOA: {trial.values[1]}\")\n",
    "    logging.info(f\"  Params: {trial.params}\")\n",
    "\n",
    "dataset_name = \"promis\"\n",
    "eval_method,concept_map,metadata = cornac_util.load_dataset(dataset_name,config, 0)\n",
    "\n",
    "study = optuna.create_study(\n",
    "    directions=[\"minimize\"],  # Specify directions for each objective\n",
    ")\n",
    "gc.collect()\n",
    "torch.cuda.empty_cache()\n",
    "study.optimize(lambda trial: cornac_util.objective_GCMC(trial, config, eval_method,generate_GCMC), n_trials=100, timeout=3600, n_jobs=4, gc_after_trial=True)\n",
    "\n",
    "# Analyze the results\n",
    "## requirements : plotly, nbformat\n",
    "logging.info(f\"Best trial for {dataset_name} : {study.best_trials}\") \n",
    "\n",
    "logging.info(\"Number of trials :\"+str(len(study.trials)))\n",
    "for trial in study.trials:\n",
    "    logging.info(f\"Trial #{trial.number}\")\n",
    "    logging.info(f\"  RMSE: {trial.values}\")\n",
    "    #logging.info(f\"  DOA: {trial.values[1]}\")\n",
    "    logging.info(f\"  Params: {trial.params}\")\n",
    "\n",
    "dataset_name = \"movielens\"\n",
    "eval_method,concept_map,metadata = cornac_util.load_dataset(dataset_name,config, 0)\n",
    "\n",
    "study = optuna.create_study(\n",
    "    directions=[\"minimize\"],  # Specify directions for each objective\n",
    ")\n",
    "gc.collect()\n",
    "torch.cuda.empty_cache()\n",
    "study.optimize(lambda trial: cornac_util.objective_GCMC(trial, config, eval_method,generate_GCMC), n_trials=100, timeout=3600, n_jobs=4, gc_after_trial=True)\n",
    "\n",
    "# Analyze the results\n",
    "## requirements : plotly, nbformat\n",
    "logging.info(f\"Best trial for {dataset_name} : {study.best_trials}\") \n",
    "\n",
    "logging.info(\"Number of trials :\"+str(len(study.trials)))\n",
    "for trial in study.trials:\n",
    "    logging.info(f\"Trial #{trial.number}\")\n",
    "    logging.info(f\"  RMSE: {trial.values}\")\n",
    "    #logging.info(f\"  DOA: {trial.values[1]}\")\n",
    "    logging.info(f\"  Params: {trial.params}\")\n",
    "    \n",
    "dataset_name = \"portrait\"\n",
    "eval_method,concept_map,metadata = cornac_util.load_dataset(dataset_name,config, 0)\n",
    "\n",
    "study = optuna.create_study(\n",
    "    directions=[\"minimize\"],  # Specify directions for each objective\n",
    ")\n",
    "gc.collect()\n",
    "torch.cuda.empty_cache()\n",
    "study.optimize(lambda trial: cornac_util.objective_GCMC(trial, config, eval_method,generate_GCMC), n_trials=100, timeout=3600, n_jobs=4, gc_after_trial=True)\n",
    "\n",
    "# Analyze the results\n",
    "## requirements : plotly, nbformat\n",
    "logging.info(f\"Best trial for {dataset_name} : {study.best_trials}\") \n",
    "\n",
    "logging.info(\"Number of trials :\"+str(len(study.trials)))\n",
    "for trial in study.trials:\n",
    "    logging.info(f\"Trial #{trial.number}\")\n",
    "    logging.info(f\"  RMSE: {trial.values}\")\n",
    "    #logging.info(f\"  DOA: {trial.values[1]}\")\n",
    "    logging.info(f\"  Params: {trial.params}\")\n"
   ],
   "outputs": [],
   "execution_count": null
  },
  {
   "cell_type": "markdown",
   "id": "c548e520-45cf-485d-bac5-e583c2406757",
   "metadata": {},
   "source": [
    "### 3. CDM Prediction\n",
    "#### 3.1. Training and testing"
   ]
  },
  {
   "metadata": {},
   "cell_type": "code",
   "source": [
    "def find_emb(algo):\n",
    "    enc_graph = algo.model.train_enc_graph\n",
    "    emb, item_out =  algo.model.net.encoder(enc_graph)\n",
    "    return emb.detach().cpu().numpy()"
   ],
   "id": "756ac576ee966574",
   "outputs": [],
   "execution_count": null
  },
  {
   "metadata": {
    "ExecuteTime": {
     "end_time": "2025-01-15T18:18:52.325628Z",
     "start_time": "2025-01-15T18:18:06.902355Z"
    }
   },
   "cell_type": "code",
   "source": [
    "reload(cornac_util)\n",
    "\n",
    "# dataset_name = \"postcovid\"\n",
    "# logging.info(dataset_name)\n",
    "# config['learning_rate'] = 0.01415\n",
    "# config['activation_func'] = 'tanh'\n",
    "# metrics = cornac_util.test(dataset_name,config,generate_GCMC,find_emb)\n",
    "\n",
    "# dataset_name = \"promis\"\n",
    "# logging.info(dataset_name)\n",
    "# config['learning_rate'] = 0.02032\n",
    "# config['activation_func'] = 'relu'\n",
    "# metrics = cornac_util.test(dataset_name,config,generate_GCMC,find_emb)\n",
    "#\n",
    "# dataset_name = \"movielens\"\n",
    "# logging.info(dataset_name)\n",
    "# config['learning_rate'] = 0.01892\n",
    "# config['activation_func'] = 'tanh'\n",
    "# metrics = cornac_util.test(dataset_name,config,generate_GCMC,find_emb)\n",
    "#\n",
    "dataset_name = \"portrait\"\n",
    "logging.info(dataset_name)\n",
    "config['learning_rate'] = 0.01541\n",
    "config['activation_func'] = 'tanh'\n",
    "metrics = cornac_util.test(dataset_name,config,generate_GCMC,find_emb)"
   ],
   "id": "e84cf8b0d727a1db",
   "outputs": [
    {
     "name": "stdout",
     "output_type": "stream",
     "text": [
      "[INFO 18:07] portrait\n",
      "[INFO 18:09] Train enc graph: 1152 users, 116 items, 79488 pairs\n",
      "[INFO 18:09] Train dec graph: 1152 users, 116 items, 79488 pairs\n",
      "[INFO 18:09] Valid enc graph: 1152 users, 116 items, 79488 pairs\n",
      "[INFO 18:09] Valid dec graph: 1152 users, 116 items, 26496 pairs\n",
      "[INFO 18:09] Training Started!\n"
     ]
    },
    {
     "name": "stderr",
     "output_type": "stream",
     "text": [
      "Training:   0%|          | 0/199 [00:00<?, ?iter/s]"
     ]
    },
    {
     "name": "stdout",
     "output_type": "stream",
     "text": [
      "[INFO 18:09] Total # params of net: 65311386\n",
      "[INFO 18:09] Total Param Number: 65311386\n",
      "Params:\n",
      "\tencoder.ufc.weight: torch.Size([9, 500]), 4500\n",
      "\tencoder.ufc.bias: torch.Size([9]), 9\n",
      "\tencoder.ifc.weight: torch.Size([9, 500]), 4500\n",
      "\tencoder.ifc.bias: torch.Size([9]), 9\n",
      "\tencoder.conv.mods.1_0.weight: torch.Size([1152, 500]), 576000\n",
      "\tencoder.conv.mods.rev-1_0.weight: torch.Size([116, 500]), 58000\n",
      "\tencoder.conv.mods.1_01.weight: torch.Size([1152, 500]), 576000\n",
      "\tencoder.conv.mods.rev-1_01.weight: torch.Size([116, 500]), 58000\n",
      "\tencoder.conv.mods.1_02.weight: torch.Size([1152, 500]), 576000\n",
      "\tencoder.conv.mods.rev-1_02.weight: torch.Size([116, 500]), 58000\n",
      "\tencoder.conv.mods.1_03.weight: torch.Size([1152, 500]), 576000\n",
      "\tencoder.conv.mods.rev-1_03.weight: torch.Size([116, 500]), 58000\n",
      "\tencoder.conv.mods.1_04.weight: torch.Size([1152, 500]), 576000\n",
      "\tencoder.conv.mods.rev-1_04.weight: torch.Size([116, 500]), 58000\n",
      "\tencoder.conv.mods.1_05.weight: torch.Size([1152, 500]), 576000\n",
      "\tencoder.conv.mods.rev-1_05.weight: torch.Size([116, 500]), 58000\n",
      "\tencoder.conv.mods.1_06.weight: torch.Size([1152, 500]), 576000\n",
      "\tencoder.conv.mods.rev-1_06.weight: torch.Size([116, 500]), 58000\n",
      "\tencoder.conv.mods.1_0699999999999998.weight: torch.Size([1152, 500]), 576000\n",
      "\tencoder.conv.mods.rev-1_0699999999999998.weight: torch.Size([116, 500]), 58000\n",
      "\tencoder.conv.mods.1_07.weight: torch.Size([1152, 500]), 576000\n",
      "\tencoder.conv.mods.rev-1_07.weight: torch.Size([116, 500]), 58000\n",
      "\tencoder.conv.mods.1_08.weight: torch.Size([1152, 500]), 576000\n",
      "\tencoder.conv.mods.rev-1_08.weight: torch.Size([116, 500]), 58000\n",
      "\tencoder.conv.mods.1_09.weight: torch.Size([1152, 500]), 576000\n",
      "\tencoder.conv.mods.rev-1_09.weight: torch.Size([116, 500]), 58000\n",
      "\tencoder.conv.mods.1_1.weight: torch.Size([1152, 500]), 576000\n",
      "\tencoder.conv.mods.rev-1_1.weight: torch.Size([116, 500]), 58000\n",
      "\tencoder.conv.mods.1_11.weight: torch.Size([1152, 500]), 576000\n",
      "\tencoder.conv.mods.rev-1_11.weight: torch.Size([116, 500]), 58000\n",
      "\tencoder.conv.mods.1_12.weight: torch.Size([1152, 500]), 576000\n",
      "\tencoder.conv.mods.rev-1_12.weight: torch.Size([116, 500]), 58000\n",
      "\tencoder.conv.mods.1_13.weight: torch.Size([1152, 500]), 576000\n",
      "\tencoder.conv.mods.rev-1_13.weight: torch.Size([116, 500]), 58000\n",
      "\tencoder.conv.mods.1_14.weight: torch.Size([1152, 500]), 576000\n",
      "\tencoder.conv.mods.rev-1_14.weight: torch.Size([116, 500]), 58000\n",
      "\tencoder.conv.mods.1_15.weight: torch.Size([1152, 500]), 576000\n",
      "\tencoder.conv.mods.rev-1_15.weight: torch.Size([116, 500]), 58000\n",
      "\tencoder.conv.mods.1_16.weight: torch.Size([1152, 500]), 576000\n",
      "\tencoder.conv.mods.rev-1_16.weight: torch.Size([116, 500]), 58000\n",
      "\tencoder.conv.mods.1_17.weight: torch.Size([1152, 500]), 576000\n",
      "\tencoder.conv.mods.rev-1_17.weight: torch.Size([116, 500]), 58000\n",
      "\tencoder.conv.mods.1_18.weight: torch.Size([1152, 500]), 576000\n",
      "\tencoder.conv.mods.rev-1_18.weight: torch.Size([116, 500]), 58000\n",
      "\tencoder.conv.mods.1_1800000000000002.weight: torch.Size([1152, 500]), 576000\n",
      "\tencoder.conv.mods.rev-1_1800000000000002.weight: torch.Size([116, 500]), 58000\n",
      "\tencoder.conv.mods.1_19.weight: torch.Size([1152, 500]), 576000\n",
      "\tencoder.conv.mods.rev-1_19.weight: torch.Size([116, 500]), 58000\n",
      "\tencoder.conv.mods.1_2.weight: torch.Size([1152, 500]), 576000\n",
      "\tencoder.conv.mods.rev-1_2.weight: torch.Size([116, 500]), 58000\n",
      "\tencoder.conv.mods.1_21.weight: torch.Size([1152, 500]), 576000\n",
      "\tencoder.conv.mods.rev-1_21.weight: torch.Size([116, 500]), 58000\n",
      "\tencoder.conv.mods.1_22.weight: torch.Size([1152, 500]), 576000\n",
      "\tencoder.conv.mods.rev-1_22.weight: torch.Size([116, 500]), 58000\n",
      "\tencoder.conv.mods.1_23.weight: torch.Size([1152, 500]), 576000\n",
      "\tencoder.conv.mods.rev-1_23.weight: torch.Size([116, 500]), 58000\n",
      "\tencoder.conv.mods.1_24.weight: torch.Size([1152, 500]), 576000\n",
      "\tencoder.conv.mods.rev-1_24.weight: torch.Size([116, 500]), 58000\n",
      "\tencoder.conv.mods.1_25.weight: torch.Size([1152, 500]), 576000\n",
      "\tencoder.conv.mods.rev-1_25.weight: torch.Size([116, 500]), 58000\n",
      "\tencoder.conv.mods.1_26.weight: torch.Size([1152, 500]), 576000\n",
      "\tencoder.conv.mods.rev-1_26.weight: torch.Size([116, 500]), 58000\n",
      "\tencoder.conv.mods.1_27.weight: torch.Size([1152, 500]), 576000\n",
      "\tencoder.conv.mods.rev-1_27.weight: torch.Size([116, 500]), 58000\n",
      "\tencoder.conv.mods.1_28.weight: torch.Size([1152, 500]), 576000\n",
      "\tencoder.conv.mods.rev-1_28.weight: torch.Size([116, 500]), 58000\n",
      "\tencoder.conv.mods.1_29.weight: torch.Size([1152, 500]), 576000\n",
      "\tencoder.conv.mods.rev-1_29.weight: torch.Size([116, 500]), 58000\n",
      "\tencoder.conv.mods.1_3.weight: torch.Size([1152, 500]), 576000\n",
      "\tencoder.conv.mods.rev-1_3.weight: torch.Size([116, 500]), 58000\n",
      "\tencoder.conv.mods.1_31.weight: torch.Size([1152, 500]), 576000\n",
      "\tencoder.conv.mods.rev-1_31.weight: torch.Size([116, 500]), 58000\n",
      "\tencoder.conv.mods.1_32.weight: torch.Size([1152, 500]), 576000\n",
      "\tencoder.conv.mods.rev-1_32.weight: torch.Size([116, 500]), 58000\n",
      "\tencoder.conv.mods.1_33.weight: torch.Size([1152, 500]), 576000\n",
      "\tencoder.conv.mods.rev-1_33.weight: torch.Size([116, 500]), 58000\n",
      "\tencoder.conv.mods.1_34.weight: torch.Size([1152, 500]), 576000\n",
      "\tencoder.conv.mods.rev-1_34.weight: torch.Size([116, 500]), 58000\n",
      "\tencoder.conv.mods.1_35.weight: torch.Size([1152, 500]), 576000\n",
      "\tencoder.conv.mods.rev-1_35.weight: torch.Size([116, 500]), 58000\n",
      "\tencoder.conv.mods.1_36.weight: torch.Size([1152, 500]), 576000\n",
      "\tencoder.conv.mods.rev-1_36.weight: torch.Size([116, 500]), 58000\n",
      "\tencoder.conv.mods.1_37.weight: torch.Size([1152, 500]), 576000\n",
      "\tencoder.conv.mods.rev-1_37.weight: torch.Size([116, 500]), 58000\n",
      "\tencoder.conv.mods.1_38.weight: torch.Size([1152, 500]), 576000\n",
      "\tencoder.conv.mods.rev-1_38.weight: torch.Size([116, 500]), 58000\n",
      "\tencoder.conv.mods.1_39.weight: torch.Size([1152, 500]), 576000\n",
      "\tencoder.conv.mods.rev-1_39.weight: torch.Size([116, 500]), 58000\n",
      "\tencoder.conv.mods.1_4.weight: torch.Size([1152, 500]), 576000\n",
      "\tencoder.conv.mods.rev-1_4.weight: torch.Size([116, 500]), 58000\n",
      "\tencoder.conv.mods.1_41.weight: torch.Size([1152, 500]), 576000\n",
      "\tencoder.conv.mods.rev-1_41.weight: torch.Size([116, 500]), 58000\n",
      "\tencoder.conv.mods.1_42.weight: torch.Size([1152, 500]), 576000\n",
      "\tencoder.conv.mods.rev-1_42.weight: torch.Size([116, 500]), 58000\n",
      "\tencoder.conv.mods.1_43.weight: torch.Size([1152, 500]), 576000\n",
      "\tencoder.conv.mods.rev-1_43.weight: torch.Size([116, 500]), 58000\n",
      "\tencoder.conv.mods.1_44.weight: torch.Size([1152, 500]), 576000\n",
      "\tencoder.conv.mods.rev-1_44.weight: torch.Size([116, 500]), 58000\n",
      "\tencoder.conv.mods.1_45.weight: torch.Size([1152, 500]), 576000\n",
      "\tencoder.conv.mods.rev-1_45.weight: torch.Size([116, 500]), 58000\n",
      "\tencoder.conv.mods.1_46.weight: torch.Size([1152, 500]), 576000\n",
      "\tencoder.conv.mods.rev-1_46.weight: torch.Size([116, 500]), 58000\n",
      "\tencoder.conv.mods.1_47.weight: torch.Size([1152, 500]), 576000\n",
      "\tencoder.conv.mods.rev-1_47.weight: torch.Size([116, 500]), 58000\n",
      "\tencoder.conv.mods.1_48.weight: torch.Size([1152, 500]), 576000\n",
      "\tencoder.conv.mods.rev-1_48.weight: torch.Size([116, 500]), 58000\n",
      "\tencoder.conv.mods.1_49.weight: torch.Size([1152, 500]), 576000\n",
      "\tencoder.conv.mods.rev-1_49.weight: torch.Size([116, 500]), 58000\n",
      "\tencoder.conv.mods.1_5.weight: torch.Size([1152, 500]), 576000\n",
      "\tencoder.conv.mods.rev-1_5.weight: torch.Size([116, 500]), 58000\n",
      "\tencoder.conv.mods.1_51.weight: torch.Size([1152, 500]), 576000\n",
      "\tencoder.conv.mods.rev-1_51.weight: torch.Size([116, 500]), 58000\n",
      "\tencoder.conv.mods.1_52.weight: torch.Size([1152, 500]), 576000\n",
      "\tencoder.conv.mods.rev-1_52.weight: torch.Size([116, 500]), 58000\n",
      "\tencoder.conv.mods.1_53.weight: torch.Size([1152, 500]), 576000\n",
      "\tencoder.conv.mods.rev-1_53.weight: torch.Size([116, 500]), 58000\n",
      "\tencoder.conv.mods.1_54.weight: torch.Size([1152, 500]), 576000\n",
      "\tencoder.conv.mods.rev-1_54.weight: torch.Size([116, 500]), 58000\n",
      "\tencoder.conv.mods.1_55.weight: torch.Size([1152, 500]), 576000\n",
      "\tencoder.conv.mods.rev-1_55.weight: torch.Size([116, 500]), 58000\n",
      "\tencoder.conv.mods.1_56.weight: torch.Size([1152, 500]), 576000\n",
      "\tencoder.conv.mods.rev-1_56.weight: torch.Size([116, 500]), 58000\n",
      "\tencoder.conv.mods.1_57.weight: torch.Size([1152, 500]), 576000\n",
      "\tencoder.conv.mods.rev-1_57.weight: torch.Size([116, 500]), 58000\n",
      "\tencoder.conv.mods.1_58.weight: torch.Size([1152, 500]), 576000\n",
      "\tencoder.conv.mods.rev-1_58.weight: torch.Size([116, 500]), 58000\n",
      "\tencoder.conv.mods.1_59.weight: torch.Size([1152, 500]), 576000\n",
      "\tencoder.conv.mods.rev-1_59.weight: torch.Size([116, 500]), 58000\n",
      "\tencoder.conv.mods.1_6.weight: torch.Size([1152, 500]), 576000\n",
      "\tencoder.conv.mods.rev-1_6.weight: torch.Size([116, 500]), 58000\n",
      "\tencoder.conv.mods.1_61.weight: torch.Size([1152, 500]), 576000\n",
      "\tencoder.conv.mods.rev-1_61.weight: torch.Size([116, 500]), 58000\n",
      "\tencoder.conv.mods.1_62.weight: torch.Size([1152, 500]), 576000\n",
      "\tencoder.conv.mods.rev-1_62.weight: torch.Size([116, 500]), 58000\n",
      "\tencoder.conv.mods.1_63.weight: torch.Size([1152, 500]), 576000\n",
      "\tencoder.conv.mods.rev-1_63.weight: torch.Size([116, 500]), 58000\n",
      "\tencoder.conv.mods.1_64.weight: torch.Size([1152, 500]), 576000\n",
      "\tencoder.conv.mods.rev-1_64.weight: torch.Size([116, 500]), 58000\n",
      "\tencoder.conv.mods.1_65.weight: torch.Size([1152, 500]), 576000\n",
      "\tencoder.conv.mods.rev-1_65.weight: torch.Size([116, 500]), 58000\n",
      "\tencoder.conv.mods.1_66.weight: torch.Size([1152, 500]), 576000\n",
      "\tencoder.conv.mods.rev-1_66.weight: torch.Size([116, 500]), 58000\n",
      "\tencoder.conv.mods.1_67.weight: torch.Size([1152, 500]), 576000\n",
      "\tencoder.conv.mods.rev-1_67.weight: torch.Size([116, 500]), 58000\n",
      "\tencoder.conv.mods.1_68.weight: torch.Size([1152, 500]), 576000\n",
      "\tencoder.conv.mods.rev-1_68.weight: torch.Size([116, 500]), 58000\n",
      "\tencoder.conv.mods.1_69.weight: torch.Size([1152, 500]), 576000\n",
      "\tencoder.conv.mods.rev-1_69.weight: torch.Size([116, 500]), 58000\n",
      "\tencoder.conv.mods.1_7.weight: torch.Size([1152, 500]), 576000\n",
      "\tencoder.conv.mods.rev-1_7.weight: torch.Size([116, 500]), 58000\n",
      "\tencoder.conv.mods.1_71.weight: torch.Size([1152, 500]), 576000\n",
      "\tencoder.conv.mods.rev-1_71.weight: torch.Size([116, 500]), 58000\n",
      "\tencoder.conv.mods.1_72.weight: torch.Size([1152, 500]), 576000\n",
      "\tencoder.conv.mods.rev-1_72.weight: torch.Size([116, 500]), 58000\n",
      "\tencoder.conv.mods.1_73.weight: torch.Size([1152, 500]), 576000\n",
      "\tencoder.conv.mods.rev-1_73.weight: torch.Size([116, 500]), 58000\n",
      "\tencoder.conv.mods.1_74.weight: torch.Size([1152, 500]), 576000\n",
      "\tencoder.conv.mods.rev-1_74.weight: torch.Size([116, 500]), 58000\n",
      "\tencoder.conv.mods.1_75.weight: torch.Size([1152, 500]), 576000\n",
      "\tencoder.conv.mods.rev-1_75.weight: torch.Size([116, 500]), 58000\n",
      "\tencoder.conv.mods.1_76.weight: torch.Size([1152, 500]), 576000\n",
      "\tencoder.conv.mods.rev-1_76.weight: torch.Size([116, 500]), 58000\n",
      "\tencoder.conv.mods.1_77.weight: torch.Size([1152, 500]), 576000\n",
      "\tencoder.conv.mods.rev-1_77.weight: torch.Size([116, 500]), 58000\n",
      "\tencoder.conv.mods.1_78.weight: torch.Size([1152, 500]), 576000\n",
      "\tencoder.conv.mods.rev-1_78.weight: torch.Size([116, 500]), 58000\n",
      "\tencoder.conv.mods.1_79.weight: torch.Size([1152, 500]), 576000\n",
      "\tencoder.conv.mods.rev-1_79.weight: torch.Size([116, 500]), 58000\n",
      "\tencoder.conv.mods.1_8.weight: torch.Size([1152, 500]), 576000\n",
      "\tencoder.conv.mods.rev-1_8.weight: torch.Size([116, 500]), 58000\n",
      "\tencoder.conv.mods.1_81.weight: torch.Size([1152, 500]), 576000\n",
      "\tencoder.conv.mods.rev-1_81.weight: torch.Size([116, 500]), 58000\n",
      "\tencoder.conv.mods.1_82.weight: torch.Size([1152, 500]), 576000\n",
      "\tencoder.conv.mods.rev-1_82.weight: torch.Size([116, 500]), 58000\n",
      "\tencoder.conv.mods.1_83.weight: torch.Size([1152, 500]), 576000\n",
      "\tencoder.conv.mods.rev-1_83.weight: torch.Size([116, 500]), 58000\n",
      "\tencoder.conv.mods.1_84.weight: torch.Size([1152, 500]), 576000\n",
      "\tencoder.conv.mods.rev-1_84.weight: torch.Size([116, 500]), 58000\n",
      "\tencoder.conv.mods.1_85.weight: torch.Size([1152, 500]), 576000\n",
      "\tencoder.conv.mods.rev-1_85.weight: torch.Size([116, 500]), 58000\n",
      "\tencoder.conv.mods.1_86.weight: torch.Size([1152, 500]), 576000\n",
      "\tencoder.conv.mods.rev-1_86.weight: torch.Size([116, 500]), 58000\n",
      "\tencoder.conv.mods.1_87.weight: torch.Size([1152, 500]), 576000\n",
      "\tencoder.conv.mods.rev-1_87.weight: torch.Size([116, 500]), 58000\n",
      "\tencoder.conv.mods.1_88.weight: torch.Size([1152, 500]), 576000\n",
      "\tencoder.conv.mods.rev-1_88.weight: torch.Size([116, 500]), 58000\n",
      "\tencoder.conv.mods.1_89.weight: torch.Size([1152, 500]), 576000\n",
      "\tencoder.conv.mods.rev-1_89.weight: torch.Size([116, 500]), 58000\n",
      "\tencoder.conv.mods.1_9.weight: torch.Size([1152, 500]), 576000\n",
      "\tencoder.conv.mods.rev-1_9.weight: torch.Size([116, 500]), 58000\n",
      "\tencoder.conv.mods.1_91.weight: torch.Size([1152, 500]), 576000\n",
      "\tencoder.conv.mods.rev-1_91.weight: torch.Size([116, 500]), 58000\n",
      "\tencoder.conv.mods.1_92.weight: torch.Size([1152, 500]), 576000\n",
      "\tencoder.conv.mods.rev-1_92.weight: torch.Size([116, 500]), 58000\n",
      "\tencoder.conv.mods.1_93.weight: torch.Size([1152, 500]), 576000\n",
      "\tencoder.conv.mods.rev-1_93.weight: torch.Size([116, 500]), 58000\n",
      "\tencoder.conv.mods.1_94.weight: torch.Size([1152, 500]), 576000\n",
      "\tencoder.conv.mods.rev-1_94.weight: torch.Size([116, 500]), 58000\n",
      "\tencoder.conv.mods.1_95.weight: torch.Size([1152, 500]), 576000\n",
      "\tencoder.conv.mods.rev-1_95.weight: torch.Size([116, 500]), 58000\n",
      "\tencoder.conv.mods.1_96.weight: torch.Size([1152, 500]), 576000\n",
      "\tencoder.conv.mods.rev-1_96.weight: torch.Size([116, 500]), 58000\n",
      "\tencoder.conv.mods.1_97.weight: torch.Size([1152, 500]), 576000\n",
      "\tencoder.conv.mods.rev-1_97.weight: torch.Size([116, 500]), 58000\n",
      "\tencoder.conv.mods.1_98.weight: torch.Size([1152, 500]), 576000\n",
      "\tencoder.conv.mods.rev-1_98.weight: torch.Size([116, 500]), 58000\n",
      "\tencoder.conv.mods.1_99.weight: torch.Size([1152, 500]), 576000\n",
      "\tencoder.conv.mods.rev-1_99.weight: torch.Size([116, 500]), 58000\n",
      "\tencoder.conv.mods.2_0.weight: torch.Size([1152, 500]), 576000\n",
      "\tencoder.conv.mods.rev-2_0.weight: torch.Size([116, 500]), 58000\n",
      "\tdecoder.params.0: torch.Size([9, 9]), 81\n",
      "\tdecoder.params.1: torch.Size([9, 9]), 81\n",
      "\tdecoder.combine_basis.weight: torch.Size([103, 2]), 206\n",
      "NeuralNetwork(\n",
      "  (_act): Tanh()\n",
      "  (encoder): GCMCLayer(\n",
      "    (ufc): Linear(in_features=500, out_features=9, bias=True)\n",
      "    (ifc): Linear(in_features=500, out_features=9, bias=True)\n",
      "    (dropout): Dropout(p=0.7, inplace=False)\n",
      "    (w_r): None\n",
      "    (conv): HeteroGraphConv(\n",
      "      (mods): ModuleDict(\n",
      "        (1_0): GCMCGraphConv(\n",
      "          (dropout): Dropout(p=0.7, inplace=False)\n",
      "        )\n",
      "        (rev-1_0): GCMCGraphConv(\n",
      "          (dropout): Dropout(p=0.7, inplace=False)\n",
      "        )\n",
      "        (1_01): GCMCGraphConv(\n",
      "          (dropout): Dropout(p=0.7, inplace=False)\n",
      "        )\n",
      "        (rev-1_01): GCMCGraphConv(\n",
      "          (dropout): Dropout(p=0.7, inplace=False)\n",
      "        )\n",
      "        (1_02): GCMCGraphConv(\n",
      "          (dropout): Dropout(p=0.7, inplace=False)\n",
      "        )\n",
      "        (rev-1_02): GCMCGraphConv(\n",
      "          (dropout): Dropout(p=0.7, inplace=False)\n",
      "        )\n",
      "        (1_03): GCMCGraphConv(\n",
      "          (dropout): Dropout(p=0.7, inplace=False)\n",
      "        )\n",
      "        (rev-1_03): GCMCGraphConv(\n",
      "          (dropout): Dropout(p=0.7, inplace=False)\n",
      "        )\n",
      "        (1_04): GCMCGraphConv(\n",
      "          (dropout): Dropout(p=0.7, inplace=False)\n",
      "        )\n",
      "        (rev-1_04): GCMCGraphConv(\n",
      "          (dropout): Dropout(p=0.7, inplace=False)\n",
      "        )\n",
      "        (1_05): GCMCGraphConv(\n",
      "          (dropout): Dropout(p=0.7, inplace=False)\n",
      "        )\n",
      "        (rev-1_05): GCMCGraphConv(\n",
      "          (dropout): Dropout(p=0.7, inplace=False)\n",
      "        )\n",
      "        (1_06): GCMCGraphConv(\n",
      "          (dropout): Dropout(p=0.7, inplace=False)\n",
      "        )\n",
      "        (rev-1_06): GCMCGraphConv(\n",
      "          (dropout): Dropout(p=0.7, inplace=False)\n",
      "        )\n",
      "        (1_0699999999999998): GCMCGraphConv(\n",
      "          (dropout): Dropout(p=0.7, inplace=False)\n",
      "        )\n",
      "        (rev-1_0699999999999998): GCMCGraphConv(\n",
      "          (dropout): Dropout(p=0.7, inplace=False)\n",
      "        )\n",
      "        (1_07): GCMCGraphConv(\n",
      "          (dropout): Dropout(p=0.7, inplace=False)\n",
      "        )\n",
      "        (rev-1_07): GCMCGraphConv(\n",
      "          (dropout): Dropout(p=0.7, inplace=False)\n",
      "        )\n",
      "        (1_08): GCMCGraphConv(\n",
      "          (dropout): Dropout(p=0.7, inplace=False)\n",
      "        )\n",
      "        (rev-1_08): GCMCGraphConv(\n",
      "          (dropout): Dropout(p=0.7, inplace=False)\n",
      "        )\n",
      "        (1_09): GCMCGraphConv(\n",
      "          (dropout): Dropout(p=0.7, inplace=False)\n",
      "        )\n",
      "        (rev-1_09): GCMCGraphConv(\n",
      "          (dropout): Dropout(p=0.7, inplace=False)\n",
      "        )\n",
      "        (1_1): GCMCGraphConv(\n",
      "          (dropout): Dropout(p=0.7, inplace=False)\n",
      "        )\n",
      "        (rev-1_1): GCMCGraphConv(\n",
      "          (dropout): Dropout(p=0.7, inplace=False)\n",
      "        )\n",
      "        (1_11): GCMCGraphConv(\n",
      "          (dropout): Dropout(p=0.7, inplace=False)\n",
      "        )\n",
      "        (rev-1_11): GCMCGraphConv(\n",
      "          (dropout): Dropout(p=0.7, inplace=False)\n",
      "        )\n",
      "        (1_12): GCMCGraphConv(\n",
      "          (dropout): Dropout(p=0.7, inplace=False)\n",
      "        )\n",
      "        (rev-1_12): GCMCGraphConv(\n",
      "          (dropout): Dropout(p=0.7, inplace=False)\n",
      "        )\n",
      "        (1_13): GCMCGraphConv(\n",
      "          (dropout): Dropout(p=0.7, inplace=False)\n",
      "        )\n",
      "        (rev-1_13): GCMCGraphConv(\n",
      "          (dropout): Dropout(p=0.7, inplace=False)\n",
      "        )\n",
      "        (1_14): GCMCGraphConv(\n",
      "          (dropout): Dropout(p=0.7, inplace=False)\n",
      "        )\n",
      "        (rev-1_14): GCMCGraphConv(\n",
      "          (dropout): Dropout(p=0.7, inplace=False)\n",
      "        )\n",
      "        (1_15): GCMCGraphConv(\n",
      "          (dropout): Dropout(p=0.7, inplace=False)\n",
      "        )\n",
      "        (rev-1_15): GCMCGraphConv(\n",
      "          (dropout): Dropout(p=0.7, inplace=False)\n",
      "        )\n",
      "        (1_16): GCMCGraphConv(\n",
      "          (dropout): Dropout(p=0.7, inplace=False)\n",
      "        )\n",
      "        (rev-1_16): GCMCGraphConv(\n",
      "          (dropout): Dropout(p=0.7, inplace=False)\n",
      "        )\n",
      "        (1_17): GCMCGraphConv(\n",
      "          (dropout): Dropout(p=0.7, inplace=False)\n",
      "        )\n",
      "        (rev-1_17): GCMCGraphConv(\n",
      "          (dropout): Dropout(p=0.7, inplace=False)\n",
      "        )\n",
      "        (1_18): GCMCGraphConv(\n",
      "          (dropout): Dropout(p=0.7, inplace=False)\n",
      "        )\n",
      "        (rev-1_18): GCMCGraphConv(\n",
      "          (dropout): Dropout(p=0.7, inplace=False)\n",
      "        )\n",
      "        (1_1800000000000002): GCMCGraphConv(\n",
      "          (dropout): Dropout(p=0.7, inplace=False)\n",
      "        )\n",
      "        (rev-1_1800000000000002): GCMCGraphConv(\n",
      "          (dropout): Dropout(p=0.7, inplace=False)\n",
      "        )\n",
      "        (1_19): GCMCGraphConv(\n",
      "          (dropout): Dropout(p=0.7, inplace=False)\n",
      "        )\n",
      "        (rev-1_19): GCMCGraphConv(\n",
      "          (dropout): Dropout(p=0.7, inplace=False)\n",
      "        )\n",
      "        (1_2): GCMCGraphConv(\n",
      "          (dropout): Dropout(p=0.7, inplace=False)\n",
      "        )\n",
      "        (rev-1_2): GCMCGraphConv(\n",
      "          (dropout): Dropout(p=0.7, inplace=False)\n",
      "        )\n",
      "        (1_21): GCMCGraphConv(\n",
      "          (dropout): Dropout(p=0.7, inplace=False)\n",
      "        )\n",
      "        (rev-1_21): GCMCGraphConv(\n",
      "          (dropout): Dropout(p=0.7, inplace=False)\n",
      "        )\n",
      "        (1_22): GCMCGraphConv(\n",
      "          (dropout): Dropout(p=0.7, inplace=False)\n",
      "        )\n",
      "        (rev-1_22): GCMCGraphConv(\n",
      "          (dropout): Dropout(p=0.7, inplace=False)\n",
      "        )\n",
      "        (1_23): GCMCGraphConv(\n",
      "          (dropout): Dropout(p=0.7, inplace=False)\n",
      "        )\n",
      "        (rev-1_23): GCMCGraphConv(\n",
      "          (dropout): Dropout(p=0.7, inplace=False)\n",
      "        )\n",
      "        (1_24): GCMCGraphConv(\n",
      "          (dropout): Dropout(p=0.7, inplace=False)\n",
      "        )\n",
      "        (rev-1_24): GCMCGraphConv(\n",
      "          (dropout): Dropout(p=0.7, inplace=False)\n",
      "        )\n",
      "        (1_25): GCMCGraphConv(\n",
      "          (dropout): Dropout(p=0.7, inplace=False)\n",
      "        )\n",
      "        (rev-1_25): GCMCGraphConv(\n",
      "          (dropout): Dropout(p=0.7, inplace=False)\n",
      "        )\n",
      "        (1_26): GCMCGraphConv(\n",
      "          (dropout): Dropout(p=0.7, inplace=False)\n",
      "        )\n",
      "        (rev-1_26): GCMCGraphConv(\n",
      "          (dropout): Dropout(p=0.7, inplace=False)\n",
      "        )\n",
      "        (1_27): GCMCGraphConv(\n",
      "          (dropout): Dropout(p=0.7, inplace=False)\n",
      "        )\n",
      "        (rev-1_27): GCMCGraphConv(\n",
      "          (dropout): Dropout(p=0.7, inplace=False)\n",
      "        )\n",
      "        (1_28): GCMCGraphConv(\n",
      "          (dropout): Dropout(p=0.7, inplace=False)\n",
      "        )\n",
      "        (rev-1_28): GCMCGraphConv(\n",
      "          (dropout): Dropout(p=0.7, inplace=False)\n",
      "        )\n",
      "        (1_29): GCMCGraphConv(\n",
      "          (dropout): Dropout(p=0.7, inplace=False)\n",
      "        )\n",
      "        (rev-1_29): GCMCGraphConv(\n",
      "          (dropout): Dropout(p=0.7, inplace=False)\n",
      "        )\n",
      "        (1_3): GCMCGraphConv(\n",
      "          (dropout): Dropout(p=0.7, inplace=False)\n",
      "        )\n",
      "        (rev-1_3): GCMCGraphConv(\n",
      "          (dropout): Dropout(p=0.7, inplace=False)\n",
      "        )\n",
      "        (1_31): GCMCGraphConv(\n",
      "          (dropout): Dropout(p=0.7, inplace=False)\n",
      "        )\n",
      "        (rev-1_31): GCMCGraphConv(\n",
      "          (dropout): Dropout(p=0.7, inplace=False)\n",
      "        )\n",
      "        (1_32): GCMCGraphConv(\n",
      "          (dropout): Dropout(p=0.7, inplace=False)\n",
      "        )\n",
      "        (rev-1_32): GCMCGraphConv(\n",
      "          (dropout): Dropout(p=0.7, inplace=False)\n",
      "        )\n",
      "        (1_33): GCMCGraphConv(\n",
      "          (dropout): Dropout(p=0.7, inplace=False)\n",
      "        )\n",
      "        (rev-1_33): GCMCGraphConv(\n",
      "          (dropout): Dropout(p=0.7, inplace=False)\n",
      "        )\n",
      "        (1_34): GCMCGraphConv(\n",
      "          (dropout): Dropout(p=0.7, inplace=False)\n",
      "        )\n",
      "        (rev-1_34): GCMCGraphConv(\n",
      "          (dropout): Dropout(p=0.7, inplace=False)\n",
      "        )\n",
      "        (1_35): GCMCGraphConv(\n",
      "          (dropout): Dropout(p=0.7, inplace=False)\n",
      "        )\n",
      "        (rev-1_35): GCMCGraphConv(\n",
      "          (dropout): Dropout(p=0.7, inplace=False)\n",
      "        )\n",
      "        (1_36): GCMCGraphConv(\n",
      "          (dropout): Dropout(p=0.7, inplace=False)\n",
      "        )\n",
      "        (rev-1_36): GCMCGraphConv(\n",
      "          (dropout): Dropout(p=0.7, inplace=False)\n",
      "        )\n",
      "        (1_37): GCMCGraphConv(\n",
      "          (dropout): Dropout(p=0.7, inplace=False)\n",
      "        )\n",
      "        (rev-1_37): GCMCGraphConv(\n",
      "          (dropout): Dropout(p=0.7, inplace=False)\n",
      "        )\n",
      "        (1_38): GCMCGraphConv(\n",
      "          (dropout): Dropout(p=0.7, inplace=False)\n",
      "        )\n",
      "        (rev-1_38): GCMCGraphConv(\n",
      "          (dropout): Dropout(p=0.7, inplace=False)\n",
      "        )\n",
      "        (1_39): GCMCGraphConv(\n",
      "          (dropout): Dropout(p=0.7, inplace=False)\n",
      "        )\n",
      "        (rev-1_39): GCMCGraphConv(\n",
      "          (dropout): Dropout(p=0.7, inplace=False)\n",
      "        )\n",
      "        (1_4): GCMCGraphConv(\n",
      "          (dropout): Dropout(p=0.7, inplace=False)\n",
      "        )\n",
      "        (rev-1_4): GCMCGraphConv(\n",
      "          (dropout): Dropout(p=0.7, inplace=False)\n",
      "        )\n",
      "        (1_41): GCMCGraphConv(\n",
      "          (dropout): Dropout(p=0.7, inplace=False)\n",
      "        )\n",
      "        (rev-1_41): GCMCGraphConv(\n",
      "          (dropout): Dropout(p=0.7, inplace=False)\n",
      "        )\n",
      "        (1_42): GCMCGraphConv(\n",
      "          (dropout): Dropout(p=0.7, inplace=False)\n",
      "        )\n",
      "        (rev-1_42): GCMCGraphConv(\n",
      "          (dropout): Dropout(p=0.7, inplace=False)\n",
      "        )\n",
      "        (1_43): GCMCGraphConv(\n",
      "          (dropout): Dropout(p=0.7, inplace=False)\n",
      "        )\n",
      "        (rev-1_43): GCMCGraphConv(\n",
      "          (dropout): Dropout(p=0.7, inplace=False)\n",
      "        )\n",
      "        (1_44): GCMCGraphConv(\n",
      "          (dropout): Dropout(p=0.7, inplace=False)\n",
      "        )\n",
      "        (rev-1_44): GCMCGraphConv(\n",
      "          (dropout): Dropout(p=0.7, inplace=False)\n",
      "        )\n",
      "        (1_45): GCMCGraphConv(\n",
      "          (dropout): Dropout(p=0.7, inplace=False)\n",
      "        )\n",
      "        (rev-1_45): GCMCGraphConv(\n",
      "          (dropout): Dropout(p=0.7, inplace=False)\n",
      "        )\n",
      "        (1_46): GCMCGraphConv(\n",
      "          (dropout): Dropout(p=0.7, inplace=False)\n",
      "        )\n",
      "        (rev-1_46): GCMCGraphConv(\n",
      "          (dropout): Dropout(p=0.7, inplace=False)\n",
      "        )\n",
      "        (1_47): GCMCGraphConv(\n",
      "          (dropout): Dropout(p=0.7, inplace=False)\n",
      "        )\n",
      "        (rev-1_47): GCMCGraphConv(\n",
      "          (dropout): Dropout(p=0.7, inplace=False)\n",
      "        )\n",
      "        (1_48): GCMCGraphConv(\n",
      "          (dropout): Dropout(p=0.7, inplace=False)\n",
      "        )\n",
      "        (rev-1_48): GCMCGraphConv(\n",
      "          (dropout): Dropout(p=0.7, inplace=False)\n",
      "        )\n",
      "        (1_49): GCMCGraphConv(\n",
      "          (dropout): Dropout(p=0.7, inplace=False)\n",
      "        )\n",
      "        (rev-1_49): GCMCGraphConv(\n",
      "          (dropout): Dropout(p=0.7, inplace=False)\n",
      "        )\n",
      "        (1_5): GCMCGraphConv(\n",
      "          (dropout): Dropout(p=0.7, inplace=False)\n",
      "        )\n",
      "        (rev-1_5): GCMCGraphConv(\n",
      "          (dropout): Dropout(p=0.7, inplace=False)\n",
      "        )\n",
      "        (1_51): GCMCGraphConv(\n",
      "          (dropout): Dropout(p=0.7, inplace=False)\n",
      "        )\n",
      "        (rev-1_51): GCMCGraphConv(\n",
      "          (dropout): Dropout(p=0.7, inplace=False)\n",
      "        )\n",
      "        (1_52): GCMCGraphConv(\n",
      "          (dropout): Dropout(p=0.7, inplace=False)\n",
      "        )\n",
      "        (rev-1_52): GCMCGraphConv(\n",
      "          (dropout): Dropout(p=0.7, inplace=False)\n",
      "        )\n",
      "        (1_53): GCMCGraphConv(\n",
      "          (dropout): Dropout(p=0.7, inplace=False)\n",
      "        )\n",
      "        (rev-1_53): GCMCGraphConv(\n",
      "          (dropout): Dropout(p=0.7, inplace=False)\n",
      "        )\n",
      "        (1_54): GCMCGraphConv(\n",
      "          (dropout): Dropout(p=0.7, inplace=False)\n",
      "        )\n",
      "        (rev-1_54): GCMCGraphConv(\n",
      "          (dropout): Dropout(p=0.7, inplace=False)\n",
      "        )\n",
      "        (1_55): GCMCGraphConv(\n",
      "          (dropout): Dropout(p=0.7, inplace=False)\n",
      "        )\n",
      "        (rev-1_55): GCMCGraphConv(\n",
      "          (dropout): Dropout(p=0.7, inplace=False)\n",
      "        )\n",
      "        (1_56): GCMCGraphConv(\n",
      "          (dropout): Dropout(p=0.7, inplace=False)\n",
      "        )\n",
      "        (rev-1_56): GCMCGraphConv(\n",
      "          (dropout): Dropout(p=0.7, inplace=False)\n",
      "        )\n",
      "        (1_57): GCMCGraphConv(\n",
      "          (dropout): Dropout(p=0.7, inplace=False)\n",
      "        )\n",
      "        (rev-1_57): GCMCGraphConv(\n",
      "          (dropout): Dropout(p=0.7, inplace=False)\n",
      "        )\n",
      "        (1_58): GCMCGraphConv(\n",
      "          (dropout): Dropout(p=0.7, inplace=False)\n",
      "        )\n",
      "        (rev-1_58): GCMCGraphConv(\n",
      "          (dropout): Dropout(p=0.7, inplace=False)\n",
      "        )\n",
      "        (1_59): GCMCGraphConv(\n",
      "          (dropout): Dropout(p=0.7, inplace=False)\n",
      "        )\n",
      "        (rev-1_59): GCMCGraphConv(\n",
      "          (dropout): Dropout(p=0.7, inplace=False)\n",
      "        )\n",
      "        (1_6): GCMCGraphConv(\n",
      "          (dropout): Dropout(p=0.7, inplace=False)\n",
      "        )\n",
      "        (rev-1_6): GCMCGraphConv(\n",
      "          (dropout): Dropout(p=0.7, inplace=False)\n",
      "        )\n",
      "        (1_61): GCMCGraphConv(\n",
      "          (dropout): Dropout(p=0.7, inplace=False)\n",
      "        )\n",
      "        (rev-1_61): GCMCGraphConv(\n",
      "          (dropout): Dropout(p=0.7, inplace=False)\n",
      "        )\n",
      "        (1_62): GCMCGraphConv(\n",
      "          (dropout): Dropout(p=0.7, inplace=False)\n",
      "        )\n",
      "        (rev-1_62): GCMCGraphConv(\n",
      "          (dropout): Dropout(p=0.7, inplace=False)\n",
      "        )\n",
      "        (1_63): GCMCGraphConv(\n",
      "          (dropout): Dropout(p=0.7, inplace=False)\n",
      "        )\n",
      "        (rev-1_63): GCMCGraphConv(\n",
      "          (dropout): Dropout(p=0.7, inplace=False)\n",
      "        )\n",
      "        (1_64): GCMCGraphConv(\n",
      "          (dropout): Dropout(p=0.7, inplace=False)\n",
      "        )\n",
      "        (rev-1_64): GCMCGraphConv(\n",
      "          (dropout): Dropout(p=0.7, inplace=False)\n",
      "        )\n",
      "        (1_65): GCMCGraphConv(\n",
      "          (dropout): Dropout(p=0.7, inplace=False)\n",
      "        )\n",
      "        (rev-1_65): GCMCGraphConv(\n",
      "          (dropout): Dropout(p=0.7, inplace=False)\n",
      "        )\n",
      "        (1_66): GCMCGraphConv(\n",
      "          (dropout): Dropout(p=0.7, inplace=False)\n",
      "        )\n",
      "        (rev-1_66): GCMCGraphConv(\n",
      "          (dropout): Dropout(p=0.7, inplace=False)\n",
      "        )\n",
      "        (1_67): GCMCGraphConv(\n",
      "          (dropout): Dropout(p=0.7, inplace=False)\n",
      "        )\n",
      "        (rev-1_67): GCMCGraphConv(\n",
      "          (dropout): Dropout(p=0.7, inplace=False)\n",
      "        )\n",
      "        (1_68): GCMCGraphConv(\n",
      "          (dropout): Dropout(p=0.7, inplace=False)\n",
      "        )\n",
      "        (rev-1_68): GCMCGraphConv(\n",
      "          (dropout): Dropout(p=0.7, inplace=False)\n",
      "        )\n",
      "        (1_69): GCMCGraphConv(\n",
      "          (dropout): Dropout(p=0.7, inplace=False)\n",
      "        )\n",
      "        (rev-1_69): GCMCGraphConv(\n",
      "          (dropout): Dropout(p=0.7, inplace=False)\n",
      "        )\n",
      "        (1_7): GCMCGraphConv(\n",
      "          (dropout): Dropout(p=0.7, inplace=False)\n",
      "        )\n",
      "        (rev-1_7): GCMCGraphConv(\n",
      "          (dropout): Dropout(p=0.7, inplace=False)\n",
      "        )\n",
      "        (1_71): GCMCGraphConv(\n",
      "          (dropout): Dropout(p=0.7, inplace=False)\n",
      "        )\n",
      "        (rev-1_71): GCMCGraphConv(\n",
      "          (dropout): Dropout(p=0.7, inplace=False)\n",
      "        )\n",
      "        (1_72): GCMCGraphConv(\n",
      "          (dropout): Dropout(p=0.7, inplace=False)\n",
      "        )\n",
      "        (rev-1_72): GCMCGraphConv(\n",
      "          (dropout): Dropout(p=0.7, inplace=False)\n",
      "        )\n",
      "        (1_73): GCMCGraphConv(\n",
      "          (dropout): Dropout(p=0.7, inplace=False)\n",
      "        )\n",
      "        (rev-1_73): GCMCGraphConv(\n",
      "          (dropout): Dropout(p=0.7, inplace=False)\n",
      "        )\n",
      "        (1_74): GCMCGraphConv(\n",
      "          (dropout): Dropout(p=0.7, inplace=False)\n",
      "        )\n",
      "        (rev-1_74): GCMCGraphConv(\n",
      "          (dropout): Dropout(p=0.7, inplace=False)\n",
      "        )\n",
      "        (1_75): GCMCGraphConv(\n",
      "          (dropout): Dropout(p=0.7, inplace=False)\n",
      "        )\n",
      "        (rev-1_75): GCMCGraphConv(\n",
      "          (dropout): Dropout(p=0.7, inplace=False)\n",
      "        )\n",
      "        (1_76): GCMCGraphConv(\n",
      "          (dropout): Dropout(p=0.7, inplace=False)\n",
      "        )\n",
      "        (rev-1_76): GCMCGraphConv(\n",
      "          (dropout): Dropout(p=0.7, inplace=False)\n",
      "        )\n",
      "        (1_77): GCMCGraphConv(\n",
      "          (dropout): Dropout(p=0.7, inplace=False)\n",
      "        )\n",
      "        (rev-1_77): GCMCGraphConv(\n",
      "          (dropout): Dropout(p=0.7, inplace=False)\n",
      "        )\n",
      "        (1_78): GCMCGraphConv(\n",
      "          (dropout): Dropout(p=0.7, inplace=False)\n",
      "        )\n",
      "        (rev-1_78): GCMCGraphConv(\n",
      "          (dropout): Dropout(p=0.7, inplace=False)\n",
      "        )\n",
      "        (1_79): GCMCGraphConv(\n",
      "          (dropout): Dropout(p=0.7, inplace=False)\n",
      "        )\n",
      "        (rev-1_79): GCMCGraphConv(\n",
      "          (dropout): Dropout(p=0.7, inplace=False)\n",
      "        )\n",
      "        (1_8): GCMCGraphConv(\n",
      "          (dropout): Dropout(p=0.7, inplace=False)\n",
      "        )\n",
      "        (rev-1_8): GCMCGraphConv(\n",
      "          (dropout): Dropout(p=0.7, inplace=False)\n",
      "        )\n",
      "        (1_81): GCMCGraphConv(\n",
      "          (dropout): Dropout(p=0.7, inplace=False)\n",
      "        )\n",
      "        (rev-1_81): GCMCGraphConv(\n",
      "          (dropout): Dropout(p=0.7, inplace=False)\n",
      "        )\n",
      "        (1_82): GCMCGraphConv(\n",
      "          (dropout): Dropout(p=0.7, inplace=False)\n",
      "        )\n",
      "        (rev-1_82): GCMCGraphConv(\n",
      "          (dropout): Dropout(p=0.7, inplace=False)\n",
      "        )\n",
      "        (1_83): GCMCGraphConv(\n",
      "          (dropout): Dropout(p=0.7, inplace=False)\n",
      "        )\n",
      "        (rev-1_83): GCMCGraphConv(\n",
      "          (dropout): Dropout(p=0.7, inplace=False)\n",
      "        )\n",
      "        (1_84): GCMCGraphConv(\n",
      "          (dropout): Dropout(p=0.7, inplace=False)\n",
      "        )\n",
      "        (rev-1_84): GCMCGraphConv(\n",
      "          (dropout): Dropout(p=0.7, inplace=False)\n",
      "        )\n",
      "        (1_85): GCMCGraphConv(\n",
      "          (dropout): Dropout(p=0.7, inplace=False)\n",
      "        )\n",
      "        (rev-1_85): GCMCGraphConv(\n",
      "          (dropout): Dropout(p=0.7, inplace=False)\n",
      "        )\n",
      "        (1_86): GCMCGraphConv(\n",
      "          (dropout): Dropout(p=0.7, inplace=False)\n",
      "        )\n",
      "        (rev-1_86): GCMCGraphConv(\n",
      "          (dropout): Dropout(p=0.7, inplace=False)\n",
      "        )\n",
      "        (1_87): GCMCGraphConv(\n",
      "          (dropout): Dropout(p=0.7, inplace=False)\n",
      "        )\n",
      "        (rev-1_87): GCMCGraphConv(\n",
      "          (dropout): Dropout(p=0.7, inplace=False)\n",
      "        )\n",
      "        (1_88): GCMCGraphConv(\n",
      "          (dropout): Dropout(p=0.7, inplace=False)\n",
      "        )\n",
      "        (rev-1_88): GCMCGraphConv(\n",
      "          (dropout): Dropout(p=0.7, inplace=False)\n",
      "        )\n",
      "        (1_89): GCMCGraphConv(\n",
      "          (dropout): Dropout(p=0.7, inplace=False)\n",
      "        )\n",
      "        (rev-1_89): GCMCGraphConv(\n",
      "          (dropout): Dropout(p=0.7, inplace=False)\n",
      "        )\n",
      "        (1_9): GCMCGraphConv(\n",
      "          (dropout): Dropout(p=0.7, inplace=False)\n",
      "        )\n",
      "        (rev-1_9): GCMCGraphConv(\n",
      "          (dropout): Dropout(p=0.7, inplace=False)\n",
      "        )\n",
      "        (1_91): GCMCGraphConv(\n",
      "          (dropout): Dropout(p=0.7, inplace=False)\n",
      "        )\n",
      "        (rev-1_91): GCMCGraphConv(\n",
      "          (dropout): Dropout(p=0.7, inplace=False)\n",
      "        )\n",
      "        (1_92): GCMCGraphConv(\n",
      "          (dropout): Dropout(p=0.7, inplace=False)\n",
      "        )\n",
      "        (rev-1_92): GCMCGraphConv(\n",
      "          (dropout): Dropout(p=0.7, inplace=False)\n",
      "        )\n",
      "        (1_93): GCMCGraphConv(\n",
      "          (dropout): Dropout(p=0.7, inplace=False)\n",
      "        )\n",
      "        (rev-1_93): GCMCGraphConv(\n",
      "          (dropout): Dropout(p=0.7, inplace=False)\n",
      "        )\n",
      "        (1_94): GCMCGraphConv(\n",
      "          (dropout): Dropout(p=0.7, inplace=False)\n",
      "        )\n",
      "        (rev-1_94): GCMCGraphConv(\n",
      "          (dropout): Dropout(p=0.7, inplace=False)\n",
      "        )\n",
      "        (1_95): GCMCGraphConv(\n",
      "          (dropout): Dropout(p=0.7, inplace=False)\n",
      "        )\n",
      "        (rev-1_95): GCMCGraphConv(\n",
      "          (dropout): Dropout(p=0.7, inplace=False)\n",
      "        )\n",
      "        (1_96): GCMCGraphConv(\n",
      "          (dropout): Dropout(p=0.7, inplace=False)\n",
      "        )\n",
      "        (rev-1_96): GCMCGraphConv(\n",
      "          (dropout): Dropout(p=0.7, inplace=False)\n",
      "        )\n",
      "        (1_97): GCMCGraphConv(\n",
      "          (dropout): Dropout(p=0.7, inplace=False)\n",
      "        )\n",
      "        (rev-1_97): GCMCGraphConv(\n",
      "          (dropout): Dropout(p=0.7, inplace=False)\n",
      "        )\n",
      "        (1_98): GCMCGraphConv(\n",
      "          (dropout): Dropout(p=0.7, inplace=False)\n",
      "        )\n",
      "        (rev-1_98): GCMCGraphConv(\n",
      "          (dropout): Dropout(p=0.7, inplace=False)\n",
      "        )\n",
      "        (1_99): GCMCGraphConv(\n",
      "          (dropout): Dropout(p=0.7, inplace=False)\n",
      "        )\n",
      "        (rev-1_99): GCMCGraphConv(\n",
      "          (dropout): Dropout(p=0.7, inplace=False)\n",
      "        )\n",
      "        (2_0): GCMCGraphConv(\n",
      "          (dropout): Dropout(p=0.7, inplace=False)\n",
      "        )\n",
      "        (rev-2_0): GCMCGraphConv(\n",
      "          (dropout): Dropout(p=0.7, inplace=False)\n",
      "        )\n",
      "      )\n",
      "    )\n",
      "    (agg_act): Tanh()\n",
      "  )\n",
      "  (decoder): BiDecoder(\n",
      "    (dropout): Dropout(p=0.0, inplace=False)\n",
      "    (params): ParameterList(\n",
      "        (0): Parameter containing: [torch.float32 of size 9x9 (cuda:0)]\n",
      "        (1): Parameter containing: [torch.float32 of size 9x9 (cuda:0)]\n",
      "    )\n",
      "    (combine_basis): Linear(in_features=2, out_features=103, bias=False)\n",
      "  )\n",
      ")\n",
      "[INFO 18:09] Epoch: 1\tloss: 4.6348\trmse:0.1249\ttime:nan\t\n"
     ]
    },
    {
     "name": "stderr",
     "output_type": "stream",
     "text": [
      "Training:   1%|          | 1/199 [00:00<00:29,  6.81iter/s]"
     ]
    },
    {
     "name": "stdout",
     "output_type": "stream",
     "text": [
      "[INFO 18:09] Epoch: 2\tloss: 4.6347\trmse:0.1249\ttime:nan\tVal rmse=0.3530\n"
     ]
    },
    {
     "name": "stderr",
     "output_type": "stream",
     "text": [
      "Training:   1%|          | 2/199 [00:00<00:30,  6.46iter/s]"
     ]
    },
    {
     "name": "stdout",
     "output_type": "stream",
     "text": [
      "[INFO 18:09] Epoch: 3\tloss: 4.6340\trmse:0.1249\ttime:nan\t\n"
     ]
    },
    {
     "name": "stderr",
     "output_type": "stream",
     "text": [
      "Training:   2%|▏         | 3/199 [00:00<00:25,  7.57iter/s]"
     ]
    },
    {
     "name": "stdout",
     "output_type": "stream",
     "text": [
      "[INFO 18:09] Epoch: 4\tloss: 4.6316\trmse:0.1246\ttime:0.0711\tVal rmse=0.3512\n"
     ]
    },
    {
     "name": "stderr",
     "output_type": "stream",
     "text": [
      "Training:   2%|▏         | 4/199 [00:00<00:27,  7.09iter/s]"
     ]
    },
    {
     "name": "stdout",
     "output_type": "stream",
     "text": [
      "[INFO 18:10] Epoch: 5\tloss: 4.6254\trmse:0.1236\ttime:0.0726\t\n"
     ]
    },
    {
     "name": "stderr",
     "output_type": "stream",
     "text": [
      "Training:   3%|▎         | 5/199 [00:00<00:25,  7.67iter/s]"
     ]
    },
    {
     "name": "stdout",
     "output_type": "stream",
     "text": [
      "[INFO 18:10] Epoch: 6\tloss: 4.6144\trmse:0.1199\ttime:0.0725\tVal rmse=0.3305\n"
     ]
    },
    {
     "name": "stderr",
     "output_type": "stream",
     "text": [
      "Training:   3%|▎         | 6/199 [00:00<00:26,  7.18iter/s]"
     ]
    },
    {
     "name": "stdout",
     "output_type": "stream",
     "text": [
      "[INFO 18:10] Epoch: 7\tloss: 4.6002\trmse:0.1103\ttime:0.0720\t\n"
     ]
    },
    {
     "name": "stderr",
     "output_type": "stream",
     "text": [
      "Training:   4%|▎         | 7/199 [00:00<00:24,  7.78iter/s]"
     ]
    },
    {
     "name": "stdout",
     "output_type": "stream",
     "text": [
      "[INFO 18:10] Epoch: 8\tloss: 4.5820\trmse:0.1024\ttime:0.0715\tVal rmse=0.3185\n"
     ]
    },
    {
     "name": "stderr",
     "output_type": "stream",
     "text": [
      "Training:   4%|▍         | 8/199 [00:01<00:25,  7.36iter/s]"
     ]
    },
    {
     "name": "stdout",
     "output_type": "stream",
     "text": [
      "[INFO 18:10] Epoch: 9\tloss: 4.5597\trmse:0.1023\ttime:0.0734\t\n"
     ]
    },
    {
     "name": "stderr",
     "output_type": "stream",
     "text": [
      "Training:   5%|▍         | 9/199 [00:01<00:25,  7.40iter/s]"
     ]
    },
    {
     "name": "stdout",
     "output_type": "stream",
     "text": [
      "[INFO 18:10] Epoch: 10\tloss: 4.5350\trmse:0.0961\ttime:0.0777\tVal rmse=0.3014\n"
     ]
    },
    {
     "name": "stderr",
     "output_type": "stream",
     "text": [
      "Training:   5%|▌         | 10/199 [00:01<00:30,  6.12iter/s]"
     ]
    },
    {
     "name": "stdout",
     "output_type": "stream",
     "text": [
      "[INFO 18:10] Epoch: 11\tloss: 4.5095\trmse:0.0938\ttime:0.0778\t\n"
     ]
    },
    {
     "name": "stderr",
     "output_type": "stream",
     "text": [
      "Training:   6%|▌         | 11/199 [00:01<00:27,  6.73iter/s]"
     ]
    },
    {
     "name": "stdout",
     "output_type": "stream",
     "text": [
      "[INFO 18:11] Epoch: 12\tloss: 4.4844\trmse:0.0883\ttime:0.0769\tVal rmse=0.2944\n"
     ]
    },
    {
     "name": "stderr",
     "output_type": "stream",
     "text": [
      "Training:   6%|▌         | 12/199 [00:01<00:28,  6.65iter/s]"
     ]
    },
    {
     "name": "stdout",
     "output_type": "stream",
     "text": [
      "[INFO 18:11] Epoch: 13\tloss: 4.4610\trmse:0.0881\ttime:0.0774\t\n"
     ]
    },
    {
     "name": "stderr",
     "output_type": "stream",
     "text": [
      "Training:   7%|▋         | 13/199 [00:01<00:26,  7.04iter/s]"
     ]
    },
    {
     "name": "stdout",
     "output_type": "stream",
     "text": [
      "[INFO 18:11] Epoch: 14\tloss: 4.4377\trmse:0.0876\ttime:0.0768\tVal rmse=0.2981\n"
     ]
    },
    {
     "name": "stderr",
     "output_type": "stream",
     "text": [
      "Training:   7%|▋         | 14/199 [00:01<00:26,  6.90iter/s]"
     ]
    },
    {
     "name": "stdout",
     "output_type": "stream",
     "text": [
      "[INFO 18:11] Epoch: 15\tloss: 4.4159\trmse:0.0908\ttime:0.0764\t\n"
     ]
    },
    {
     "name": "stderr",
     "output_type": "stream",
     "text": [
      "Training:   8%|▊         | 15/199 [00:02<00:24,  7.48iter/s]"
     ]
    },
    {
     "name": "stdout",
     "output_type": "stream",
     "text": [
      "[INFO 18:11] Epoch: 16\tloss: 4.3945\trmse:0.0901\ttime:0.0760\tVal rmse=0.2960\n"
     ]
    },
    {
     "name": "stderr",
     "output_type": "stream",
     "text": [
      "Training:   8%|▊         | 16/199 [00:02<00:25,  7.15iter/s]"
     ]
    },
    {
     "name": "stdout",
     "output_type": "stream",
     "text": [
      "[INFO 18:11] Epoch: 17\tloss: 4.3746\trmse:0.0892\ttime:0.0763\t\n"
     ]
    },
    {
     "name": "stderr",
     "output_type": "stream",
     "text": [
      "Training:   9%|▊         | 17/199 [00:02<00:24,  7.53iter/s]"
     ]
    },
    {
     "name": "stdout",
     "output_type": "stream",
     "text": [
      "[INFO 18:11] Epoch: 18\tloss: 4.3570\trmse:0.0879\ttime:0.0763\tVal rmse=0.2977\n"
     ]
    },
    {
     "name": "stderr",
     "output_type": "stream",
     "text": [
      "Training:   9%|▉         | 18/199 [00:02<00:25,  7.15iter/s]"
     ]
    },
    {
     "name": "stdout",
     "output_type": "stream",
     "text": [
      "[INFO 18:11] Epoch: 19\tloss: 4.3411\trmse:0.0905\ttime:0.0760\t\n"
     ]
    },
    {
     "name": "stderr",
     "output_type": "stream",
     "text": [
      "Training:  10%|▉         | 19/199 [00:02<00:23,  7.71iter/s]"
     ]
    },
    {
     "name": "stdout",
     "output_type": "stream",
     "text": [
      "[INFO 18:12] Epoch: 20\tloss: 4.3264\trmse:0.0910\ttime:0.0757\tVal rmse=0.2982\n"
     ]
    },
    {
     "name": "stderr",
     "output_type": "stream",
     "text": [
      "Training:  10%|█         | 20/199 [00:02<00:24,  7.28iter/s]"
     ]
    },
    {
     "name": "stdout",
     "output_type": "stream",
     "text": [
      "[INFO 18:12] Epoch: 21\tloss: 4.3120\trmse:0.0922\ttime:0.0756\t\n"
     ]
    },
    {
     "name": "stderr",
     "output_type": "stream",
     "text": [
      "Training:  11%|█         | 21/199 [00:02<00:23,  7.71iter/s]"
     ]
    },
    {
     "name": "stdout",
     "output_type": "stream",
     "text": [
      "[INFO 18:12] Epoch: 22\tloss: 4.2993\trmse:0.0931\ttime:0.0754\tVal rmse=0.3023\n"
     ]
    },
    {
     "name": "stderr",
     "output_type": "stream",
     "text": [
      "Training:  11%|█         | 22/199 [00:03<00:24,  7.31iter/s]"
     ]
    },
    {
     "name": "stdout",
     "output_type": "stream",
     "text": [
      "[INFO 18:12] Epoch: 23\tloss: 4.2876\trmse:0.0944\ttime:0.0751\t\n"
     ]
    },
    {
     "name": "stderr",
     "output_type": "stream",
     "text": [
      "Training:  12%|█▏        | 23/199 [00:03<00:22,  7.85iter/s]"
     ]
    },
    {
     "name": "stdout",
     "output_type": "stream",
     "text": [
      "[INFO 18:12] Epoch: 24\tloss: 4.2761\trmse:0.0917\ttime:0.0749\tVal rmse=0.3010\n"
     ]
    },
    {
     "name": "stderr",
     "output_type": "stream",
     "text": [
      "Training:  12%|█▏        | 24/199 [00:03<00:23,  7.35iter/s]"
     ]
    },
    {
     "name": "stdout",
     "output_type": "stream",
     "text": [
      "[INFO 18:12] Epoch: 25\tloss: 4.2662\trmse:0.0925\ttime:0.0748\t\n"
     ]
    },
    {
     "name": "stderr",
     "output_type": "stream",
     "text": [
      "Training:  13%|█▎        | 25/199 [00:03<00:22,  7.81iter/s]"
     ]
    },
    {
     "name": "stdout",
     "output_type": "stream",
     "text": [
      "[INFO 18:12] Epoch: 26\tloss: 4.2557\trmse:0.0915\ttime:0.0748\tVal rmse=0.2989\n"
     ]
    },
    {
     "name": "stderr",
     "output_type": "stream",
     "text": [
      "Training:  13%|█▎        | 26/199 [00:03<00:23,  7.27iter/s]"
     ]
    },
    {
     "name": "stdout",
     "output_type": "stream",
     "text": [
      "[INFO 18:13] Epoch: 27\tloss: 4.2457\trmse:0.0919\ttime:0.0746\t\n"
     ]
    },
    {
     "name": "stderr",
     "output_type": "stream",
     "text": [
      "Training:  14%|█▎        | 27/199 [00:03<00:22,  7.77iter/s]"
     ]
    },
    {
     "name": "stdout",
     "output_type": "stream",
     "text": [
      "[INFO 18:13] Epoch: 28\tloss: 4.2364\trmse:0.0919\ttime:0.0745\tVal rmse=0.3017\n"
     ]
    },
    {
     "name": "stderr",
     "output_type": "stream",
     "text": [
      "Training:  14%|█▍        | 28/199 [00:03<00:23,  7.30iter/s]"
     ]
    },
    {
     "name": "stdout",
     "output_type": "stream",
     "text": [
      "[INFO 18:13] Epoch: 29\tloss: 4.2281\trmse:0.0920\ttime:0.0745\t\n"
     ]
    },
    {
     "name": "stderr",
     "output_type": "stream",
     "text": [
      "Training:  15%|█▍        | 29/199 [00:03<00:21,  7.77iter/s]"
     ]
    },
    {
     "name": "stdout",
     "output_type": "stream",
     "text": [
      "[INFO 18:13] Epoch: 30\tloss: 4.2199\trmse:0.0922\ttime:0.0743\tVal rmse=0.3007\n"
     ]
    },
    {
     "name": "stderr",
     "output_type": "stream",
     "text": [
      "Training:  15%|█▌        | 30/199 [00:04<00:23,  7.27iter/s]"
     ]
    },
    {
     "name": "stdout",
     "output_type": "stream",
     "text": [
      "[INFO 18:13] Epoch: 31\tloss: 4.2123\trmse:0.0917\ttime:0.0743\t\n"
     ]
    },
    {
     "name": "stderr",
     "output_type": "stream",
     "text": [
      "Training:  16%|█▌        | 31/199 [00:04<00:21,  7.75iter/s]"
     ]
    },
    {
     "name": "stdout",
     "output_type": "stream",
     "text": [
      "[INFO 18:13] Epoch: 32\tloss: 4.2049\trmse:0.0914\ttime:0.0744\tVal rmse=0.2992\n"
     ]
    },
    {
     "name": "stderr",
     "output_type": "stream",
     "text": [
      "Training:  16%|█▌        | 32/199 [00:04<00:23,  7.17iter/s]"
     ]
    },
    {
     "name": "stdout",
     "output_type": "stream",
     "text": [
      "[INFO 18:13] Epoch: 33\tloss: 4.1976\trmse:0.0917\ttime:0.0743\t\n"
     ]
    },
    {
     "name": "stderr",
     "output_type": "stream",
     "text": [
      "Training:  17%|█▋        | 33/199 [00:04<00:21,  7.68iter/s]"
     ]
    },
    {
     "name": "stdout",
     "output_type": "stream",
     "text": [
      "[INFO 18:13] Epoch: 34\tloss: 4.1905\trmse:0.0910\ttime:0.0741\tVal rmse=0.2991\n"
     ]
    },
    {
     "name": "stderr",
     "output_type": "stream",
     "text": [
      "Training:  17%|█▋        | 34/199 [00:04<00:22,  7.33iter/s]"
     ]
    },
    {
     "name": "stdout",
     "output_type": "stream",
     "text": [
      "[INFO 18:14] Epoch: 35\tloss: 4.1837\trmse:0.0915\ttime:0.0742\t\n"
     ]
    },
    {
     "name": "stderr",
     "output_type": "stream",
     "text": [
      "Training:  18%|█▊        | 35/199 [00:04<00:21,  7.74iter/s]"
     ]
    },
    {
     "name": "stdout",
     "output_type": "stream",
     "text": [
      "[INFO 18:14] Epoch: 36\tloss: 4.1777\trmse:0.0923\ttime:0.0743\tVal rmse=0.3010\n"
     ]
    },
    {
     "name": "stderr",
     "output_type": "stream",
     "text": [
      "Training:  18%|█▊        | 36/199 [00:04<00:23,  6.97iter/s]"
     ]
    },
    {
     "name": "stdout",
     "output_type": "stream",
     "text": [
      "[INFO 18:14] Epoch: 37\tloss: 4.1728\trmse:0.0929\ttime:0.0747\t\n"
     ]
    },
    {
     "name": "stderr",
     "output_type": "stream",
     "text": [
      "Training:  19%|█▊        | 37/199 [00:05<00:22,  7.26iter/s]"
     ]
    },
    {
     "name": "stdout",
     "output_type": "stream",
     "text": [
      "[INFO 18:14] Epoch: 38\tloss: 4.1669\trmse:0.0907\ttime:0.0749\tVal rmse=0.2982\n"
     ]
    },
    {
     "name": "stderr",
     "output_type": "stream",
     "text": [
      "Training:  19%|█▉        | 38/199 [00:05<00:23,  6.89iter/s]"
     ]
    },
    {
     "name": "stdout",
     "output_type": "stream",
     "text": [
      "[INFO 18:14] Epoch: 39\tloss: 4.1624\trmse:0.0909\ttime:0.0807\t\n"
     ]
    },
    {
     "name": "stderr",
     "output_type": "stream",
     "text": [
      "Training:  20%|█▉        | 39/199 [00:05<00:31,  5.01iter/s]"
     ]
    },
    {
     "name": "stdout",
     "output_type": "stream",
     "text": [
      "[INFO 18:15] Epoch: 40\tloss: 4.1571\trmse:0.0886\ttime:0.0807\tVal rmse=0.2969\n"
     ]
    },
    {
     "name": "stderr",
     "output_type": "stream",
     "text": [
      "Training:  20%|██        | 40/199 [00:05<00:29,  5.32iter/s]"
     ]
    },
    {
     "name": "stdout",
     "output_type": "stream",
     "text": [
      "[INFO 18:15] Epoch: 41\tloss: 4.1519\trmse:0.0901\ttime:0.0825\t\n"
     ]
    },
    {
     "name": "stderr",
     "output_type": "stream",
     "text": [
      "Training:  21%|██        | 41/199 [00:05<00:30,  5.26iter/s]"
     ]
    },
    {
     "name": "stdout",
     "output_type": "stream",
     "text": [
      "[INFO 18:15] Epoch: 42\tloss: 4.1471\trmse:0.0897\ttime:0.0826\tVal rmse=0.2962\n"
     ]
    },
    {
     "name": "stderr",
     "output_type": "stream",
     "text": [
      "Training:  21%|██        | 42/199 [00:06<00:28,  5.42iter/s]"
     ]
    },
    {
     "name": "stdout",
     "output_type": "stream",
     "text": [
      "[INFO 18:15] Epoch: 43\tloss: 4.1423\trmse:0.0899\ttime:0.0825\t\n"
     ]
    },
    {
     "name": "stderr",
     "output_type": "stream",
     "text": [
      "Training:  22%|██▏       | 43/199 [00:06<00:26,  5.91iter/s]"
     ]
    },
    {
     "name": "stdout",
     "output_type": "stream",
     "text": [
      "[INFO 18:15] Epoch: 44\tloss: 4.1377\trmse:0.0905\ttime:0.0825\tVal rmse=0.2947\n"
     ]
    },
    {
     "name": "stderr",
     "output_type": "stream",
     "text": [
      "Training:  22%|██▏       | 44/199 [00:06<00:26,  5.87iter/s]"
     ]
    },
    {
     "name": "stdout",
     "output_type": "stream",
     "text": [
      "[INFO 18:15] Epoch: 45\tloss: 4.1334\trmse:0.0886\ttime:0.0826\t\n"
     ]
    },
    {
     "name": "stderr",
     "output_type": "stream",
     "text": [
      "Training:  23%|██▎       | 45/199 [00:06<00:24,  6.33iter/s]"
     ]
    },
    {
     "name": "stdout",
     "output_type": "stream",
     "text": [
      "[INFO 18:16] Epoch: 46\tloss: 4.1290\trmse:0.0881\ttime:0.0824\tVal rmse=0.2943\n"
     ]
    },
    {
     "name": "stderr",
     "output_type": "stream",
     "text": [
      "Training:  23%|██▎       | 46/199 [00:06<00:24,  6.26iter/s]"
     ]
    },
    {
     "name": "stdout",
     "output_type": "stream",
     "text": [
      "[INFO 18:16] Epoch: 47\tloss: 4.1249\trmse:0.0901\ttime:0.0821\t\n"
     ]
    },
    {
     "name": "stderr",
     "output_type": "stream",
     "text": [
      "Training:  24%|██▎       | 47/199 [00:06<00:21,  6.93iter/s]"
     ]
    },
    {
     "name": "stdout",
     "output_type": "stream",
     "text": [
      "[INFO 18:16] Epoch: 48\tloss: 4.1210\trmse:0.0894\ttime:0.0819\tVal rmse=0.2976\n"
     ]
    },
    {
     "name": "stderr",
     "output_type": "stream",
     "text": [
      "Training:  24%|██▍       | 48/199 [00:06<00:22,  6.78iter/s]"
     ]
    },
    {
     "name": "stdout",
     "output_type": "stream",
     "text": [
      "[INFO 18:16] Epoch: 49\tloss: 4.1178\trmse:0.0908\ttime:0.0817\t\n"
     ]
    },
    {
     "name": "stderr",
     "output_type": "stream",
     "text": [
      "Training:  25%|██▍       | 49/199 [00:07<00:20,  7.37iter/s]"
     ]
    },
    {
     "name": "stdout",
     "output_type": "stream",
     "text": [
      "[INFO 18:16] Epoch: 50\tloss: 4.1139\trmse:0.0871\ttime:0.0814\tVal rmse=0.2937\n"
     ]
    },
    {
     "name": "stderr",
     "output_type": "stream",
     "text": [
      "Training:  25%|██▌       | 50/199 [00:07<00:21,  7.04iter/s]"
     ]
    },
    {
     "name": "stdout",
     "output_type": "stream",
     "text": [
      "[INFO 18:16] Epoch: 51\tloss: 4.1102\trmse:0.0880\ttime:0.0812\t\n"
     ]
    },
    {
     "name": "stderr",
     "output_type": "stream",
     "text": [
      "Training:  26%|██▌       | 51/199 [00:07<00:19,  7.57iter/s]"
     ]
    },
    {
     "name": "stdout",
     "output_type": "stream",
     "text": [
      "[INFO 18:16] Epoch: 52\tloss: 4.1068\trmse:0.0878\ttime:0.0811\tVal rmse=0.2935\n"
     ]
    },
    {
     "name": "stderr",
     "output_type": "stream",
     "text": [
      "Training:  26%|██▌       | 52/199 [00:07<00:26,  5.63iter/s]"
     ]
    },
    {
     "name": "stdout",
     "output_type": "stream",
     "text": [
      "[INFO 18:17] Epoch: 53\tloss: 4.1034\trmse:0.0869\ttime:0.0832\t\n"
     ]
    },
    {
     "name": "stderr",
     "output_type": "stream",
     "text": [
      "Training:  27%|██▋       | 53/199 [00:07<00:28,  5.19iter/s]"
     ]
    },
    {
     "name": "stdout",
     "output_type": "stream",
     "text": [
      "[INFO 18:17] Epoch: 54\tloss: 4.1002\trmse:0.0879\ttime:0.0832\tVal rmse=0.2942\n"
     ]
    },
    {
     "name": "stderr",
     "output_type": "stream",
     "text": [
      "Training:  27%|██▋       | 54/199 [00:08<00:26,  5.39iter/s]"
     ]
    },
    {
     "name": "stdout",
     "output_type": "stream",
     "text": [
      "[INFO 18:17] Epoch: 55\tloss: 4.0972\trmse:0.0874\ttime:0.0831\t\n"
     ]
    },
    {
     "name": "stderr",
     "output_type": "stream",
     "text": [
      "Training:  28%|██▊       | 55/199 [00:08<00:24,  5.85iter/s]"
     ]
    },
    {
     "name": "stdout",
     "output_type": "stream",
     "text": [
      "[INFO 18:18] Epoch: 56\tloss: 4.0943\trmse:0.0882\ttime:0.0889\tVal rmse=0.2929\n"
     ]
    },
    {
     "name": "stderr",
     "output_type": "stream",
     "text": [
      "Training:  28%|██▊       | 56/199 [00:08<00:44,  3.20iter/s]"
     ]
    },
    {
     "name": "stdout",
     "output_type": "stream",
     "text": [
      "[INFO 18:18] Epoch: 57\tloss: 4.0913\trmse:0.0862\ttime:0.0891\t\n"
     ]
    },
    {
     "name": "stderr",
     "output_type": "stream",
     "text": [
      "Training:  29%|██▊       | 57/199 [00:08<00:36,  3.85iter/s]"
     ]
    },
    {
     "name": "stdout",
     "output_type": "stream",
     "text": [
      "[INFO 18:18] Epoch: 58\tloss: 4.0884\trmse:0.0879\ttime:0.0891\tVal rmse=0.2953\n"
     ]
    },
    {
     "name": "stderr",
     "output_type": "stream",
     "text": [
      "Training:  29%|██▉       | 58/199 [00:09<00:32,  4.28iter/s]"
     ]
    },
    {
     "name": "stdout",
     "output_type": "stream",
     "text": [
      "[INFO 18:18] Epoch: 59\tloss: 4.0858\trmse:0.0871\ttime:0.0888\t\n"
     ]
    },
    {
     "name": "stderr",
     "output_type": "stream",
     "text": [
      "Training:  30%|██▉       | 59/199 [00:09<00:27,  5.11iter/s]"
     ]
    },
    {
     "name": "stdout",
     "output_type": "stream",
     "text": [
      "[INFO 18:18] Epoch: 60\tloss: 4.0831\trmse:0.0889\ttime:0.0886\tVal rmse=0.2958\n"
     ]
    },
    {
     "name": "stderr",
     "output_type": "stream",
     "text": [
      "Training:  30%|███       | 60/199 [00:09<00:25,  5.41iter/s]"
     ]
    },
    {
     "name": "stdout",
     "output_type": "stream",
     "text": [
      "[INFO 18:18] Epoch: 61\tloss: 4.0803\trmse:0.0888\ttime:0.0883\t\n"
     ]
    },
    {
     "name": "stderr",
     "output_type": "stream",
     "text": [
      "Training:  31%|███       | 61/199 [00:09<00:22,  6.21iter/s]"
     ]
    },
    {
     "name": "stdout",
     "output_type": "stream",
     "text": [
      "[INFO 18:18] Epoch: 62\tloss: 4.0778\trmse:0.0889\ttime:0.0881\tVal rmse=0.2974\n"
     ]
    },
    {
     "name": "stderr",
     "output_type": "stream",
     "text": [
      "Training:  31%|███       | 62/199 [00:09<00:21,  6.24iter/s]"
     ]
    },
    {
     "name": "stdout",
     "output_type": "stream",
     "text": [
      "[INFO 18:19] Epoch: 63\tloss: 4.0752\trmse:0.0891\ttime:0.0878\t\n"
     ]
    },
    {
     "name": "stderr",
     "output_type": "stream",
     "text": [
      "Training:  32%|███▏      | 63/199 [00:09<00:19,  6.93iter/s]"
     ]
    },
    {
     "name": "stdout",
     "output_type": "stream",
     "text": [
      "[INFO 18:19] Epoch: 64\tloss: 4.0726\trmse:0.0887\ttime:0.0876\tVal rmse=0.2951\n"
     ]
    },
    {
     "name": "stderr",
     "output_type": "stream",
     "text": [
      "Training:  32%|███▏      | 64/199 [00:09<00:19,  6.76iter/s]"
     ]
    },
    {
     "name": "stdout",
     "output_type": "stream",
     "text": [
      "[INFO 18:19] Epoch: 65\tloss: 4.0701\trmse:0.0884\ttime:0.0873\t\n"
     ]
    },
    {
     "name": "stderr",
     "output_type": "stream",
     "text": [
      "Training:  33%|███▎      | 65/199 [00:09<00:18,  7.34iter/s]"
     ]
    },
    {
     "name": "stdout",
     "output_type": "stream",
     "text": [
      "[INFO 18:19] Epoch: 66\tloss: 4.0678\trmse:0.0888\ttime:0.0871\tVal rmse=0.2935\n"
     ]
    },
    {
     "name": "stderr",
     "output_type": "stream",
     "text": [
      "Training:  33%|███▎      | 66/199 [00:10<00:18,  7.04iter/s]"
     ]
    },
    {
     "name": "stdout",
     "output_type": "stream",
     "text": [
      "[INFO 18:19] Epoch: 67\tloss: 4.0657\trmse:0.0878\ttime:0.0870\t\n"
     ]
    },
    {
     "name": "stderr",
     "output_type": "stream",
     "text": [
      "Training:  34%|███▎      | 67/199 [00:10<00:17,  7.35iter/s]"
     ]
    },
    {
     "name": "stdout",
     "output_type": "stream",
     "text": [
      "[INFO 18:19] Epoch: 68\tloss: 4.0634\trmse:0.0873\ttime:0.0869\tVal rmse=0.2932\n"
     ]
    },
    {
     "name": "stderr",
     "output_type": "stream",
     "text": [
      "Training:  34%|███▍      | 68/199 [00:10<00:18,  7.00iter/s]"
     ]
    },
    {
     "name": "stdout",
     "output_type": "stream",
     "text": [
      "[INFO 18:19] Epoch: 69\tloss: 4.0612\trmse:0.0873\ttime:0.0867\t\n"
     ]
    },
    {
     "name": "stderr",
     "output_type": "stream",
     "text": [
      "Training:  35%|███▍      | 69/199 [00:10<00:17,  7.45iter/s]"
     ]
    },
    {
     "name": "stdout",
     "output_type": "stream",
     "text": [
      "[INFO 18:20] Epoch: 70\tloss: 4.0590\trmse:0.0875\ttime:0.0865\tVal rmse=0.2918\n"
     ]
    },
    {
     "name": "stderr",
     "output_type": "stream",
     "text": [
      "Training:  35%|███▌      | 70/199 [00:10<00:18,  7.12iter/s]"
     ]
    },
    {
     "name": "stdout",
     "output_type": "stream",
     "text": [
      "[INFO 18:20] Epoch: 71\tloss: 4.0568\trmse:0.0849\ttime:0.0863\t\n"
     ]
    },
    {
     "name": "stderr",
     "output_type": "stream",
     "text": [
      "Training:  36%|███▌      | 71/199 [00:10<00:16,  7.62iter/s]"
     ]
    },
    {
     "name": "stdout",
     "output_type": "stream",
     "text": [
      "[INFO 18:20] Epoch: 72\tloss: 4.0547\trmse:0.0868\ttime:0.0865\tVal rmse=0.2924\n"
     ]
    },
    {
     "name": "stderr",
     "output_type": "stream",
     "text": [
      "Training:  36%|███▌      | 72/199 [00:11<00:21,  5.99iter/s]"
     ]
    },
    {
     "name": "stdout",
     "output_type": "stream",
     "text": [
      "[INFO 18:20] Epoch: 73\tloss: 4.0527\trmse:0.0866\ttime:0.0863\t\n"
     ]
    },
    {
     "name": "stderr",
     "output_type": "stream",
     "text": [
      "Training:  37%|███▋      | 73/199 [00:11<00:18,  6.64iter/s]"
     ]
    },
    {
     "name": "stdout",
     "output_type": "stream",
     "text": [
      "[INFO 18:20] Epoch: 74\tloss: 4.0508\trmse:0.0863\ttime:0.0863\tVal rmse=0.2932\n"
     ]
    },
    {
     "name": "stderr",
     "output_type": "stream",
     "text": [
      "Training:  37%|███▋      | 74/199 [00:11<00:19,  6.44iter/s]"
     ]
    },
    {
     "name": "stdout",
     "output_type": "stream",
     "text": [
      "[INFO 18:20] Epoch: 75\tloss: 4.0488\trmse:0.0867\ttime:0.0861\t\n"
     ]
    },
    {
     "name": "stderr",
     "output_type": "stream",
     "text": [
      "Training:  38%|███▊      | 75/199 [00:11<00:17,  7.00iter/s]"
     ]
    },
    {
     "name": "stdout",
     "output_type": "stream",
     "text": [
      "[INFO 18:20] Epoch: 76\tloss: 4.0470\trmse:0.0880\ttime:0.0860\tVal rmse=0.2916\n"
     ]
    },
    {
     "name": "stderr",
     "output_type": "stream",
     "text": [
      "Training:  38%|███▊      | 76/199 [00:11<00:18,  6.78iter/s]"
     ]
    },
    {
     "name": "stdout",
     "output_type": "stream",
     "text": [
      "[INFO 18:21] Epoch: 77\tloss: 4.0450\trmse:0.0863\ttime:0.0858\t\n"
     ]
    },
    {
     "name": "stderr",
     "output_type": "stream",
     "text": [
      "Training:  39%|███▊      | 77/199 [00:11<00:16,  7.36iter/s]"
     ]
    },
    {
     "name": "stdout",
     "output_type": "stream",
     "text": [
      "[INFO 18:21] Epoch: 78\tloss: 4.0432\trmse:0.0859\ttime:0.0857\tVal rmse=0.2919\n"
     ]
    },
    {
     "name": "stderr",
     "output_type": "stream",
     "text": [
      "Training:  39%|███▉      | 78/199 [00:11<00:17,  7.00iter/s]"
     ]
    },
    {
     "name": "stdout",
     "output_type": "stream",
     "text": [
      "[INFO 18:21] Epoch: 79\tloss: 4.0417\trmse:0.0873\ttime:0.0856\t\n"
     ]
    },
    {
     "name": "stderr",
     "output_type": "stream",
     "text": [
      "Training:  40%|███▉      | 79/199 [00:11<00:16,  7.44iter/s]"
     ]
    },
    {
     "name": "stdout",
     "output_type": "stream",
     "text": [
      "[INFO 18:21] Epoch: 80\tloss: 4.0399\trmse:0.0869\ttime:0.0855\tVal rmse=0.2911\n"
     ]
    },
    {
     "name": "stderr",
     "output_type": "stream",
     "text": [
      "Training:  40%|████      | 80/199 [00:12<00:16,  7.00iter/s]"
     ]
    },
    {
     "name": "stdout",
     "output_type": "stream",
     "text": [
      "[INFO 18:21] Epoch: 81\tloss: 4.0381\trmse:0.0864\ttime:0.0855\t\n"
     ]
    },
    {
     "name": "stderr",
     "output_type": "stream",
     "text": [
      "Training:  41%|████      | 81/199 [00:12<00:15,  7.39iter/s]"
     ]
    },
    {
     "name": "stdout",
     "output_type": "stream",
     "text": [
      "[INFO 18:21] Epoch: 82\tloss: 4.0368\trmse:0.0872\ttime:0.0853\tVal rmse=0.2938\n"
     ]
    },
    {
     "name": "stderr",
     "output_type": "stream",
     "text": [
      "Training:  41%|████      | 82/199 [00:12<00:16,  6.96iter/s]"
     ]
    },
    {
     "name": "stdout",
     "output_type": "stream",
     "text": [
      "[INFO 18:21] Epoch: 83\tloss: 4.0354\trmse:0.0868\ttime:0.0852\t\n"
     ]
    },
    {
     "name": "stderr",
     "output_type": "stream",
     "text": [
      "Training:  42%|████▏     | 83/199 [00:12<00:15,  7.48iter/s]"
     ]
    },
    {
     "name": "stdout",
     "output_type": "stream",
     "text": [
      "[INFO 18:22] Epoch: 84\tloss: 4.0337\trmse:0.0868\ttime:0.0851\tVal rmse=0.2907\n"
     ]
    },
    {
     "name": "stderr",
     "output_type": "stream",
     "text": [
      "Training:  42%|████▏     | 84/199 [00:12<00:20,  5.63iter/s]"
     ]
    },
    {
     "name": "stdout",
     "output_type": "stream",
     "text": [
      "[INFO 18:22] Epoch: 85\tloss: 4.0321\trmse:0.0847\ttime:0.0849\t\n"
     ]
    },
    {
     "name": "stderr",
     "output_type": "stream",
     "text": [
      "Training:  43%|████▎     | 85/199 [00:12<00:17,  6.37iter/s]"
     ]
    },
    {
     "name": "stdout",
     "output_type": "stream",
     "text": [
      "[INFO 18:22] Epoch: 86\tloss: 4.0305\trmse:0.0841\ttime:0.0849\tVal rmse=0.2892\n"
     ]
    },
    {
     "name": "stderr",
     "output_type": "stream",
     "text": [
      "Training:  43%|████▎     | 86/199 [00:13<00:18,  6.27iter/s]"
     ]
    },
    {
     "name": "stdout",
     "output_type": "stream",
     "text": [
      "[INFO 18:22] Epoch: 87\tloss: 4.0289\trmse:0.0842\ttime:0.0847\t\n"
     ]
    },
    {
     "name": "stderr",
     "output_type": "stream",
     "text": [
      "Training:  44%|████▎     | 87/199 [00:13<00:16,  6.85iter/s]"
     ]
    },
    {
     "name": "stdout",
     "output_type": "stream",
     "text": [
      "[INFO 18:22] Epoch: 88\tloss: 4.0274\trmse:0.0849\ttime:0.0847\tVal rmse=0.2889\n"
     ]
    },
    {
     "name": "stderr",
     "output_type": "stream",
     "text": [
      "Training:  44%|████▍     | 88/199 [00:13<00:16,  6.67iter/s]"
     ]
    },
    {
     "name": "stdout",
     "output_type": "stream",
     "text": [
      "[INFO 18:22] Epoch: 89\tloss: 4.0260\trmse:0.0853\ttime:0.0845\t\n"
     ]
    },
    {
     "name": "stderr",
     "output_type": "stream",
     "text": [
      "Training:  45%|████▍     | 89/199 [00:13<00:15,  7.26iter/s]"
     ]
    },
    {
     "name": "stdout",
     "output_type": "stream",
     "text": [
      "[INFO 18:23] Epoch: 90\tloss: 4.0245\trmse:0.0848\ttime:0.0845\tVal rmse=0.2937\n"
     ]
    },
    {
     "name": "stderr",
     "output_type": "stream",
     "text": [
      "Training:  45%|████▌     | 90/199 [00:13<00:22,  4.89iter/s]"
     ]
    },
    {
     "name": "stdout",
     "output_type": "stream",
     "text": [
      "[INFO 18:23] Epoch: 91\tloss: 4.0233\trmse:0.0855\ttime:0.0850\t\n"
     ]
    },
    {
     "name": "stderr",
     "output_type": "stream",
     "text": [
      "Training:  46%|████▌     | 91/199 [00:14<00:20,  5.17iter/s]"
     ]
    },
    {
     "name": "stdout",
     "output_type": "stream",
     "text": [
      "[INFO 18:23] Epoch: 92\tloss: 4.0221\trmse:0.0861\ttime:0.0849\tVal rmse=0.2910\n"
     ]
    },
    {
     "name": "stderr",
     "output_type": "stream",
     "text": [
      "Training:  46%|████▌     | 92/199 [00:14<00:19,  5.45iter/s]"
     ]
    },
    {
     "name": "stdout",
     "output_type": "stream",
     "text": [
      "[INFO 18:23] Epoch: 93\tloss: 4.0206\trmse:0.0845\ttime:0.0848\t\n"
     ]
    },
    {
     "name": "stderr",
     "output_type": "stream",
     "text": [
      "Training:  47%|████▋     | 93/199 [00:14<00:17,  6.18iter/s]"
     ]
    },
    {
     "name": "stdout",
     "output_type": "stream",
     "text": [
      "[INFO 18:23] Epoch: 94\tloss: 4.0193\trmse:0.0849\ttime:0.0847\tVal rmse=0.2898\n"
     ]
    },
    {
     "name": "stderr",
     "output_type": "stream",
     "text": [
      "Training:  47%|████▋     | 94/199 [00:14<00:16,  6.23iter/s]"
     ]
    },
    {
     "name": "stdout",
     "output_type": "stream",
     "text": [
      "[INFO 18:23] Epoch: 95\tloss: 4.0181\trmse:0.0827\ttime:0.0846\t\n"
     ]
    },
    {
     "name": "stderr",
     "output_type": "stream",
     "text": [
      "Training:  48%|████▊     | 95/199 [00:14<00:15,  6.86iter/s]"
     ]
    },
    {
     "name": "stdout",
     "output_type": "stream",
     "text": [
      "[INFO 18:24] Epoch: 96\tloss: 4.0172\trmse:0.0850\ttime:0.0844\tVal rmse=0.2879\n"
     ]
    },
    {
     "name": "stderr",
     "output_type": "stream",
     "text": [
      "Training:  48%|████▊     | 96/199 [00:14<00:15,  6.56iter/s]"
     ]
    },
    {
     "name": "stdout",
     "output_type": "stream",
     "text": [
      "[INFO 18:24] Epoch: 97\tloss: 4.0160\trmse:0.0850\ttime:0.0845\t\n"
     ]
    },
    {
     "name": "stderr",
     "output_type": "stream",
     "text": [
      "Training:  49%|████▊     | 97/199 [00:14<00:15,  6.71iter/s]"
     ]
    },
    {
     "name": "stdout",
     "output_type": "stream",
     "text": [
      "[INFO 18:24] Epoch: 98\tloss: 4.0147\trmse:0.0835\ttime:0.0865\tVal rmse=0.2913\n"
     ]
    },
    {
     "name": "stderr",
     "output_type": "stream",
     "text": [
      "Training:  49%|████▉     | 98/199 [00:15<00:22,  4.49iter/s]"
     ]
    },
    {
     "name": "stdout",
     "output_type": "stream",
     "text": [
      "[INFO 18:24] Epoch: 99\tloss: 4.0140\trmse:0.0871\ttime:0.0864\t\n"
     ]
    },
    {
     "name": "stderr",
     "output_type": "stream",
     "text": [
      "Training:  50%|████▉     | 99/199 [00:15<00:18,  5.27iter/s]"
     ]
    },
    {
     "name": "stdout",
     "output_type": "stream",
     "text": [
      "[INFO 18:25] Epoch: 100\tloss: 4.0131\trmse:0.0850\ttime:0.0863\tVal rmse=0.2860\n"
     ]
    },
    {
     "name": "stderr",
     "output_type": "stream",
     "text": [
      "Training:  50%|█████     | 100/199 [00:15<00:26,  3.77iter/s]"
     ]
    },
    {
     "name": "stdout",
     "output_type": "stream",
     "text": [
      "[INFO 18:25] Epoch: 101\tloss: 4.0120\trmse:0.0827\ttime:0.0862\t\n"
     ]
    },
    {
     "name": "stderr",
     "output_type": "stream",
     "text": [
      "Training:  51%|█████     | 101/199 [00:15<00:21,  4.54iter/s]"
     ]
    },
    {
     "name": "stdout",
     "output_type": "stream",
     "text": [
      "[INFO 18:25] Epoch: 102\tloss: 4.0108\trmse:0.0825\ttime:0.0861\tVal rmse=0.2859\n"
     ]
    },
    {
     "name": "stderr",
     "output_type": "stream",
     "text": [
      "Training:  51%|█████▏    | 102/199 [00:16<00:19,  4.93iter/s]"
     ]
    },
    {
     "name": "stdout",
     "output_type": "stream",
     "text": [
      "[INFO 18:25] Epoch: 103\tloss: 4.0098\trmse:0.0820\ttime:0.0859\t\n"
     ]
    },
    {
     "name": "stderr",
     "output_type": "stream",
     "text": [
      "Training:  52%|█████▏    | 103/199 [00:16<00:16,  5.70iter/s]"
     ]
    },
    {
     "name": "stdout",
     "output_type": "stream",
     "text": [
      "[INFO 18:25] Epoch: 104\tloss: 4.0089\trmse:0.0839\ttime:0.0858\tVal rmse=0.2821\n"
     ]
    },
    {
     "name": "stderr",
     "output_type": "stream",
     "text": [
      "Training:  52%|█████▏    | 104/199 [00:16<00:16,  5.85iter/s]"
     ]
    },
    {
     "name": "stdout",
     "output_type": "stream",
     "text": [
      "[INFO 18:25] Epoch: 105\tloss: 4.0076\trmse:0.0799\ttime:0.0858\t\n"
     ]
    },
    {
     "name": "stderr",
     "output_type": "stream",
     "text": [
      "Training:  53%|█████▎    | 105/199 [00:16<00:14,  6.53iter/s]"
     ]
    },
    {
     "name": "stdout",
     "output_type": "stream",
     "text": [
      "[INFO 18:26] Epoch: 106\tloss: 4.0065\trmse:0.0801\ttime:0.0859\tVal rmse=0.2826\n"
     ]
    },
    {
     "name": "stderr",
     "output_type": "stream",
     "text": [
      "Training:  53%|█████▎    | 106/199 [00:16<00:15,  5.91iter/s]"
     ]
    },
    {
     "name": "stdout",
     "output_type": "stream",
     "text": [
      "[INFO 18:26] Epoch: 107\tloss: 4.0054\trmse:0.0803\ttime:0.0857\t\n"
     ]
    },
    {
     "name": "stderr",
     "output_type": "stream",
     "text": [
      "Training:  54%|█████▍    | 107/199 [00:16<00:13,  6.67iter/s]"
     ]
    },
    {
     "name": "stdout",
     "output_type": "stream",
     "text": [
      "[INFO 18:26] Epoch: 108\tloss: 4.0043\trmse:0.0800\ttime:0.0857\tVal rmse=0.2821\n"
     ]
    },
    {
     "name": "stderr",
     "output_type": "stream",
     "text": [
      "Training:  54%|█████▍    | 108/199 [00:16<00:14,  6.41iter/s]"
     ]
    },
    {
     "name": "stdout",
     "output_type": "stream",
     "text": [
      "[INFO 18:26] Epoch: 109\tloss: 4.0031\trmse:0.0801\ttime:0.0856\t\n"
     ]
    },
    {
     "name": "stderr",
     "output_type": "stream",
     "text": [
      "Training:  55%|█████▍    | 109/199 [00:17<00:12,  6.97iter/s]"
     ]
    },
    {
     "name": "stdout",
     "output_type": "stream",
     "text": [
      "[INFO 18:26] Epoch: 110\tloss: 4.0020\trmse:0.0810\ttime:0.0855\tVal rmse=0.2836\n"
     ]
    },
    {
     "name": "stderr",
     "output_type": "stream",
     "text": [
      "Training:  55%|█████▌    | 110/199 [00:17<00:13,  6.77iter/s]"
     ]
    },
    {
     "name": "stdout",
     "output_type": "stream",
     "text": [
      "[INFO 18:26] Epoch: 111\tloss: 4.0009\trmse:0.0812\ttime:0.0854\t\n"
     ]
    },
    {
     "name": "stderr",
     "output_type": "stream",
     "text": [
      "Training:  56%|█████▌    | 111/199 [00:17<00:12,  7.31iter/s]"
     ]
    },
    {
     "name": "stdout",
     "output_type": "stream",
     "text": [
      "[INFO 18:26] Epoch: 112\tloss: 3.9998\trmse:0.0816\ttime:0.0853\tVal rmse=0.2792\n"
     ]
    },
    {
     "name": "stderr",
     "output_type": "stream",
     "text": [
      "Training:  56%|█████▋    | 112/199 [00:17<00:12,  6.92iter/s]"
     ]
    },
    {
     "name": "stdout",
     "output_type": "stream",
     "text": [
      "[INFO 18:26] Epoch: 113\tloss: 3.9987\trmse:0.0809\ttime:0.0852\t\n"
     ]
    },
    {
     "name": "stderr",
     "output_type": "stream",
     "text": [
      "Training:  57%|█████▋    | 113/199 [00:17<00:11,  7.38iter/s]"
     ]
    },
    {
     "name": "stdout",
     "output_type": "stream",
     "text": [
      "[INFO 18:27] Epoch: 114\tloss: 3.9977\trmse:0.0779\ttime:0.0851\tVal rmse=0.2758\n"
     ]
    },
    {
     "name": "stderr",
     "output_type": "stream",
     "text": [
      "Training:  57%|█████▋    | 114/199 [00:17<00:12,  7.02iter/s]"
     ]
    },
    {
     "name": "stdout",
     "output_type": "stream",
     "text": [
      "[INFO 18:27] Epoch: 115\tloss: 3.9968\trmse:0.0776\ttime:0.0851\t\n"
     ]
    },
    {
     "name": "stderr",
     "output_type": "stream",
     "text": [
      "Training:  58%|█████▊    | 115/199 [00:17<00:11,  7.54iter/s]"
     ]
    },
    {
     "name": "stdout",
     "output_type": "stream",
     "text": [
      "[INFO 18:27] Epoch: 116\tloss: 3.9957\trmse:0.0762\ttime:0.0850\tVal rmse=0.2757\n"
     ]
    },
    {
     "name": "stderr",
     "output_type": "stream",
     "text": [
      "Training:  58%|█████▊    | 116/199 [00:18<00:12,  6.61iter/s]"
     ]
    },
    {
     "name": "stdout",
     "output_type": "stream",
     "text": [
      "[INFO 18:27] Epoch: 117\tloss: 3.9949\trmse:0.0790\ttime:0.0850\t\n"
     ]
    },
    {
     "name": "stderr",
     "output_type": "stream",
     "text": [
      "Training:  59%|█████▉    | 117/199 [00:18<00:11,  6.93iter/s]"
     ]
    },
    {
     "name": "stdout",
     "output_type": "stream",
     "text": [
      "[INFO 18:27] Epoch: 118\tloss: 3.9938\trmse:0.0786\ttime:0.0850\tVal rmse=0.2787\n"
     ]
    },
    {
     "name": "stderr",
     "output_type": "stream",
     "text": [
      "Training:  59%|█████▉    | 118/199 [00:18<00:12,  6.64iter/s]"
     ]
    },
    {
     "name": "stdout",
     "output_type": "stream",
     "text": [
      "[INFO 18:27] Epoch: 119\tloss: 3.9929\trmse:0.0780\ttime:0.0851\t\n"
     ]
    },
    {
     "name": "stderr",
     "output_type": "stream",
     "text": [
      "Training:  60%|█████▉    | 119/199 [00:18<00:11,  6.70iter/s]"
     ]
    },
    {
     "name": "stdout",
     "output_type": "stream",
     "text": [
      "[INFO 18:28] Epoch: 120\tloss: 3.9919\trmse:0.0811\ttime:0.0851\tVal rmse=0.2801\n"
     ]
    },
    {
     "name": "stderr",
     "output_type": "stream",
     "text": [
      "Training:  60%|██████    | 120/199 [00:18<00:13,  5.94iter/s]"
     ]
    },
    {
     "name": "stdout",
     "output_type": "stream",
     "text": [
      "[INFO 18:28] Epoch: 121\tloss: 3.9909\trmse:0.0800\ttime:0.0855\t\n"
     ]
    },
    {
     "name": "stderr",
     "output_type": "stream",
     "text": [
      "Training:  61%|██████    | 121/199 [00:18<00:13,  5.98iter/s]"
     ]
    },
    {
     "name": "stdout",
     "output_type": "stream",
     "text": [
      "[INFO 18:28] Epoch: 122\tloss: 3.9898\trmse:0.0776\ttime:0.0855\tVal rmse=0.2767\n"
     ]
    },
    {
     "name": "stderr",
     "output_type": "stream",
     "text": [
      "Training:  61%|██████▏   | 122/199 [00:19<00:13,  5.64iter/s]"
     ]
    },
    {
     "name": "stdout",
     "output_type": "stream",
     "text": [
      "[INFO 18:28] Epoch: 123\tloss: 3.9888\trmse:0.0777\ttime:0.0855\t\n"
     ]
    },
    {
     "name": "stderr",
     "output_type": "stream",
     "text": [
      "Training:  62%|██████▏   | 123/199 [00:19<00:12,  6.15iter/s]"
     ]
    },
    {
     "name": "stdout",
     "output_type": "stream",
     "text": [
      "[INFO 18:28] Epoch: 124\tloss: 3.9878\trmse:0.0768\ttime:0.0860\tVal rmse=0.2736\n"
     ]
    },
    {
     "name": "stderr",
     "output_type": "stream",
     "text": [
      "Training:  62%|██████▏   | 124/199 [00:19<00:16,  4.62iter/s]"
     ]
    },
    {
     "name": "stdout",
     "output_type": "stream",
     "text": [
      "[INFO 18:29] Epoch: 125\tloss: 3.9868\trmse:0.0747\ttime:0.0860\t\n"
     ]
    },
    {
     "name": "stderr",
     "output_type": "stream",
     "text": [
      "Training:  63%|██████▎   | 125/199 [00:19<00:14,  5.17iter/s]"
     ]
    },
    {
     "name": "stdout",
     "output_type": "stream",
     "text": [
      "[INFO 18:29] Epoch: 126\tloss: 3.9858\trmse:0.0769\ttime:0.0863\tVal rmse=0.2729\n"
     ]
    },
    {
     "name": "stderr",
     "output_type": "stream",
     "text": [
      "Training:  63%|██████▎   | 126/199 [00:19<00:14,  5.01iter/s]"
     ]
    },
    {
     "name": "stdout",
     "output_type": "stream",
     "text": [
      "[INFO 18:29] Epoch: 127\tloss: 3.9849\trmse:0.0758\ttime:0.0862\t\n"
     ]
    },
    {
     "name": "stderr",
     "output_type": "stream",
     "text": [
      "Training:  64%|██████▍   | 127/199 [00:20<00:12,  5.78iter/s]"
     ]
    },
    {
     "name": "stdout",
     "output_type": "stream",
     "text": [
      "[INFO 18:29] Epoch: 128\tloss: 3.9839\trmse:0.0754\ttime:0.0861\tVal rmse=0.2724\n"
     ]
    },
    {
     "name": "stderr",
     "output_type": "stream",
     "text": [
      "Training:  64%|██████▍   | 128/199 [00:20<00:12,  5.87iter/s]"
     ]
    },
    {
     "name": "stdout",
     "output_type": "stream",
     "text": [
      "[INFO 18:29] Epoch: 129\tloss: 3.9829\trmse:0.0751\ttime:0.0861\t\n"
     ]
    },
    {
     "name": "stderr",
     "output_type": "stream",
     "text": [
      "Training:  65%|██████▍   | 129/199 [00:20<00:11,  6.10iter/s]"
     ]
    },
    {
     "name": "stdout",
     "output_type": "stream",
     "text": [
      "[INFO 18:29] Epoch: 130\tloss: 3.9821\trmse:0.0758\ttime:0.0867\tVal rmse=0.2738\n"
     ]
    },
    {
     "name": "stderr",
     "output_type": "stream",
     "text": [
      "Training:  65%|██████▌   | 130/199 [00:20<00:12,  5.36iter/s]"
     ]
    },
    {
     "name": "stdout",
     "output_type": "stream",
     "text": [
      "[INFO 18:30] Epoch: 131\tloss: 3.9812\trmse:0.0763\ttime:0.0867\t\n"
     ]
    },
    {
     "name": "stderr",
     "output_type": "stream",
     "text": [
      "Training:  66%|██████▌   | 131/199 [00:20<00:11,  6.00iter/s]"
     ]
    },
    {
     "name": "stdout",
     "output_type": "stream",
     "text": [
      "[INFO 18:30] Epoch: 132\tloss: 3.9802\trmse:0.0753\ttime:0.0867\tVal rmse=0.2732\n"
     ]
    },
    {
     "name": "stderr",
     "output_type": "stream",
     "text": [
      "Training:  66%|██████▋   | 132/199 [00:21<00:15,  4.34iter/s]"
     ]
    },
    {
     "name": "stdout",
     "output_type": "stream",
     "text": [
      "[INFO 18:30] Epoch: 133\tloss: 3.9792\trmse:0.0747\ttime:0.0878\t\n"
     ]
    },
    {
     "name": "stderr",
     "output_type": "stream",
     "text": [
      "Training:  67%|██████▋   | 133/199 [00:21<00:16,  4.00iter/s]"
     ]
    },
    {
     "name": "stdout",
     "output_type": "stream",
     "text": [
      "[INFO 18:31] Epoch: 134\tloss: 3.9783\trmse:0.0767\ttime:0.0879\tVal rmse=0.2725\n"
     ]
    },
    {
     "name": "stderr",
     "output_type": "stream",
     "text": [
      "Training:  67%|██████▋   | 134/199 [00:21<00:17,  3.67iter/s]"
     ]
    },
    {
     "name": "stdout",
     "output_type": "stream",
     "text": [
      "[INFO 18:31] Epoch: 135\tloss: 3.9774\trmse:0.0740\ttime:0.0882\t\n"
     ]
    },
    {
     "name": "stderr",
     "output_type": "stream",
     "text": [
      "Training:  68%|██████▊   | 135/199 [00:21<00:15,  4.07iter/s]"
     ]
    },
    {
     "name": "stdout",
     "output_type": "stream",
     "text": [
      "[INFO 18:31] Epoch: 136\tloss: 3.9765\trmse:0.0751\ttime:0.0892\tVal rmse=0.2710\n"
     ]
    },
    {
     "name": "stderr",
     "output_type": "stream",
     "text": [
      "Training:  68%|██████▊   | 136/199 [00:22<00:20,  3.02iter/s]"
     ]
    },
    {
     "name": "stdout",
     "output_type": "stream",
     "text": [
      "[INFO 18:31] Epoch: 137\tloss: 3.9757\trmse:0.0754\ttime:0.0892\t\n"
     ]
    },
    {
     "name": "stderr",
     "output_type": "stream",
     "text": [
      "Training:  69%|██████▉   | 137/199 [00:22<00:16,  3.74iter/s]"
     ]
    },
    {
     "name": "stdout",
     "output_type": "stream",
     "text": [
      "[INFO 18:32] Epoch: 138\tloss: 3.9748\trmse:0.0742\ttime:0.0906\tVal rmse=0.2703\n"
     ]
    },
    {
     "name": "stderr",
     "output_type": "stream",
     "text": [
      "Training:  69%|██████▉   | 138/199 [00:22<00:18,  3.36iter/s]"
     ]
    },
    {
     "name": "stdout",
     "output_type": "stream",
     "text": [
      "[INFO 18:32] Epoch: 139\tloss: 3.9739\trmse:0.0741\ttime:0.0905\t\n"
     ]
    },
    {
     "name": "stderr",
     "output_type": "stream",
     "text": [
      "Training:  70%|██████▉   | 139/199 [00:23<00:14,  4.11iter/s]"
     ]
    },
    {
     "name": "stdout",
     "output_type": "stream",
     "text": [
      "[INFO 18:32] Epoch: 140\tloss: 3.9730\trmse:0.0741\ttime:0.0905\tVal rmse=0.2730\n"
     ]
    },
    {
     "name": "stderr",
     "output_type": "stream",
     "text": [
      "Training:  70%|███████   | 140/199 [00:23<00:13,  4.39iter/s]"
     ]
    },
    {
     "name": "stdout",
     "output_type": "stream",
     "text": [
      "[INFO 18:32] Epoch: 141\tloss: 3.9723\trmse:0.0763\ttime:0.0905\t\n"
     ]
    },
    {
     "name": "stderr",
     "output_type": "stream",
     "text": [
      "Training:  71%|███████   | 141/199 [00:23<00:11,  5.00iter/s]"
     ]
    },
    {
     "name": "stdout",
     "output_type": "stream",
     "text": [
      "[INFO 18:32] Epoch: 142\tloss: 3.9716\trmse:0.0737\ttime:0.0907\tVal rmse=0.2692\n"
     ]
    },
    {
     "name": "stderr",
     "output_type": "stream",
     "text": [
      "Training:  71%|███████▏  | 142/199 [00:23<00:12,  4.58iter/s]"
     ]
    },
    {
     "name": "stdout",
     "output_type": "stream",
     "text": [
      "[INFO 18:33] Epoch: 143\tloss: 3.9707\trmse:0.0731\ttime:0.0908\t\n"
     ]
    },
    {
     "name": "stderr",
     "output_type": "stream",
     "text": [
      "Training:  72%|███████▏  | 143/199 [00:23<00:10,  5.18iter/s]"
     ]
    },
    {
     "name": "stdout",
     "output_type": "stream",
     "text": [
      "[INFO 18:33] Epoch: 144\tloss: 3.9700\trmse:0.0743\ttime:0.0907\tVal rmse=0.2707\n"
     ]
    },
    {
     "name": "stderr",
     "output_type": "stream",
     "text": [
      "Training:  72%|███████▏  | 144/199 [00:23<00:10,  5.42iter/s]"
     ]
    },
    {
     "name": "stdout",
     "output_type": "stream",
     "text": [
      "[INFO 18:33] Epoch: 145\tloss: 3.9692\trmse:0.0745\ttime:0.0906\t\n"
     ]
    },
    {
     "name": "stderr",
     "output_type": "stream",
     "text": [
      "Training:  73%|███████▎  | 145/199 [00:24<00:08,  6.05iter/s]"
     ]
    },
    {
     "name": "stdout",
     "output_type": "stream",
     "text": [
      "[INFO 18:33] Epoch: 146\tloss: 3.9684\trmse:0.0719\ttime:0.0906\tVal rmse=0.2698\n"
     ]
    },
    {
     "name": "stderr",
     "output_type": "stream",
     "text": [
      "Training:  73%|███████▎  | 146/199 [00:24<00:09,  5.78iter/s]"
     ]
    },
    {
     "name": "stdout",
     "output_type": "stream",
     "text": [
      "[INFO 18:33] Epoch: 147\tloss: 3.9676\trmse:0.0744\ttime:0.0905\t\n"
     ]
    },
    {
     "name": "stderr",
     "output_type": "stream",
     "text": [
      "Training:  74%|███████▍  | 147/199 [00:24<00:08,  6.38iter/s]"
     ]
    },
    {
     "name": "stdout",
     "output_type": "stream",
     "text": [
      "[INFO 18:33] Epoch: 148\tloss: 3.9670\trmse:0.0750\ttime:0.0904\tVal rmse=0.2689\n"
     ]
    },
    {
     "name": "stderr",
     "output_type": "stream",
     "text": [
      "Training:  74%|███████▍  | 148/199 [00:24<00:08,  6.28iter/s]"
     ]
    },
    {
     "name": "stdout",
     "output_type": "stream",
     "text": [
      "[INFO 18:33] Epoch: 149\tloss: 3.9661\trmse:0.0729\ttime:0.0904\t\n"
     ]
    },
    {
     "name": "stderr",
     "output_type": "stream",
     "text": [
      "Training:  75%|███████▍  | 149/199 [00:24<00:07,  6.81iter/s]"
     ]
    },
    {
     "name": "stdout",
     "output_type": "stream",
     "text": [
      "[INFO 18:34] Epoch: 150\tloss: 3.9653\trmse:0.0735\ttime:0.0904\tVal rmse=0.2682\n"
     ]
    },
    {
     "name": "stderr",
     "output_type": "stream",
     "text": [
      "Training:  75%|███████▌  | 150/199 [00:24<00:07,  6.50iter/s]"
     ]
    },
    {
     "name": "stdout",
     "output_type": "stream",
     "text": [
      "[INFO 18:34] Epoch: 151\tloss: 3.9645\trmse:0.0729\ttime:0.0904\t\n"
     ]
    },
    {
     "name": "stderr",
     "output_type": "stream",
     "text": [
      "Training:  76%|███████▌  | 151/199 [00:24<00:07,  6.84iter/s]"
     ]
    },
    {
     "name": "stdout",
     "output_type": "stream",
     "text": [
      "[INFO 18:34] Epoch: 152\tloss: 3.9637\trmse:0.0725\ttime:0.0903\tVal rmse=0.2687\n"
     ]
    },
    {
     "name": "stderr",
     "output_type": "stream",
     "text": [
      "Training:  76%|███████▋  | 152/199 [00:25<00:07,  6.60iter/s]"
     ]
    },
    {
     "name": "stdout",
     "output_type": "stream",
     "text": [
      "[INFO 18:34] Epoch: 153\tloss: 3.9629\trmse:0.0728\ttime:0.0902\t\n"
     ]
    },
    {
     "name": "stderr",
     "output_type": "stream",
     "text": [
      "Training:  77%|███████▋  | 153/199 [00:25<00:06,  7.10iter/s]"
     ]
    },
    {
     "name": "stdout",
     "output_type": "stream",
     "text": [
      "[INFO 18:34] Epoch: 154\tloss: 3.9621\trmse:0.0724\ttime:0.0902\tVal rmse=0.2687\n"
     ]
    },
    {
     "name": "stderr",
     "output_type": "stream",
     "text": [
      "Training:  77%|███████▋  | 154/199 [00:25<00:06,  6.57iter/s]"
     ]
    },
    {
     "name": "stdout",
     "output_type": "stream",
     "text": [
      "[INFO 18:34] Epoch: 155\tloss: 3.9613\trmse:0.0725\ttime:0.0902\t\n"
     ]
    },
    {
     "name": "stderr",
     "output_type": "stream",
     "text": [
      "Training:  78%|███████▊  | 155/199 [00:25<00:06,  7.04iter/s]"
     ]
    },
    {
     "name": "stdout",
     "output_type": "stream",
     "text": [
      "[INFO 18:34] Epoch: 156\tloss: 3.9606\trmse:0.0724\ttime:0.0901\tVal rmse=0.2686\n"
     ]
    },
    {
     "name": "stderr",
     "output_type": "stream",
     "text": [
      "Training:  78%|███████▊  | 156/199 [00:25<00:06,  6.76iter/s]"
     ]
    },
    {
     "name": "stdout",
     "output_type": "stream",
     "text": [
      "[INFO 18:35] Epoch: 157\tloss: 3.9598\trmse:0.0718\ttime:0.0909\t\n"
     ]
    },
    {
     "name": "stderr",
     "output_type": "stream",
     "text": [
      "Training:  79%|███████▉  | 157/199 [00:25<00:07,  5.31iter/s]"
     ]
    },
    {
     "name": "stdout",
     "output_type": "stream",
     "text": [
      "[INFO 18:35] Epoch: 158\tloss: 3.9591\trmse:0.0724\ttime:0.0909\tVal rmse=0.2694\n"
     ]
    },
    {
     "name": "stderr",
     "output_type": "stream",
     "text": [
      "Training:  79%|███████▉  | 158/199 [00:26<00:09,  4.39iter/s]"
     ]
    },
    {
     "name": "stdout",
     "output_type": "stream",
     "text": [
      "[INFO 18:35] Epoch: 159\tloss: 3.9584\trmse:0.0717\ttime:0.0919\t\n"
     ]
    },
    {
     "name": "stderr",
     "output_type": "stream",
     "text": [
      "Training:  80%|███████▉  | 159/199 [00:26<00:10,  3.99iter/s]"
     ]
    },
    {
     "name": "stdout",
     "output_type": "stream",
     "text": [
      "[INFO 18:36] Epoch: 160\tloss: 3.9576\trmse:0.0714\ttime:0.0926\tVal rmse=0.2690\n"
     ]
    },
    {
     "name": "stderr",
     "output_type": "stream",
     "text": [
      "Training:  80%|████████  | 160/199 [00:27<00:12,  3.01iter/s]"
     ]
    },
    {
     "name": "stdout",
     "output_type": "stream",
     "text": [
      "[INFO 18:36] Epoch: 161\tloss: 3.9569\trmse:0.0738\ttime:0.0930\t\n"
     ]
    },
    {
     "name": "stderr",
     "output_type": "stream",
     "text": [
      "Training:  81%|████████  | 161/199 [00:27<00:11,  3.40iter/s]"
     ]
    },
    {
     "name": "stdout",
     "output_type": "stream",
     "text": [
      "[INFO 18:36] Epoch: 162\tloss: 3.9562\trmse:0.0730\ttime:0.0931\tVal rmse=0.2686\n"
     ]
    },
    {
     "name": "stderr",
     "output_type": "stream",
     "text": [
      "Training:  81%|████████▏ | 162/199 [00:27<00:10,  3.68iter/s]"
     ]
    },
    {
     "name": "stdout",
     "output_type": "stream",
     "text": [
      "[INFO 18:36] Epoch: 163\tloss: 3.9555\trmse:0.0730\ttime:0.0931\t\n"
     ]
    },
    {
     "name": "stderr",
     "output_type": "stream",
     "text": [
      "Training:  82%|████████▏ | 163/199 [00:27<00:08,  4.30iter/s]"
     ]
    },
    {
     "name": "stdout",
     "output_type": "stream",
     "text": [
      "[INFO 18:37] Epoch: 164\tloss: 3.9548\trmse:0.0720\ttime:0.0932\tVal rmse=0.2674\n"
     ]
    },
    {
     "name": "stderr",
     "output_type": "stream",
     "text": [
      "Training:  82%|████████▏ | 164/199 [00:27<00:08,  4.37iter/s]"
     ]
    },
    {
     "name": "stdout",
     "output_type": "stream",
     "text": [
      "[INFO 18:37] Epoch: 165\tloss: 3.9541\trmse:0.0717\ttime:0.0932\t\n"
     ]
    },
    {
     "name": "stderr",
     "output_type": "stream",
     "text": [
      "Training:  83%|████████▎ | 165/199 [00:28<00:06,  4.92iter/s]"
     ]
    },
    {
     "name": "stdout",
     "output_type": "stream",
     "text": [
      "[INFO 18:37] Epoch: 166\tloss: 3.9535\trmse:0.0714\ttime:0.0931\tVal rmse=0.2671\n"
     ]
    },
    {
     "name": "stderr",
     "output_type": "stream",
     "text": [
      "Training:  83%|████████▎ | 166/199 [00:28<00:07,  4.60iter/s]"
     ]
    },
    {
     "name": "stdout",
     "output_type": "stream",
     "text": [
      "[INFO 18:37] Epoch: 167\tloss: 3.9528\trmse:0.0711\ttime:0.0930\t\n"
     ]
    },
    {
     "name": "stderr",
     "output_type": "stream",
     "text": [
      "Training:  84%|████████▍ | 167/199 [00:28<00:05,  5.36iter/s]"
     ]
    },
    {
     "name": "stdout",
     "output_type": "stream",
     "text": [
      "[INFO 18:37] Epoch: 168\tloss: 3.9521\trmse:0.0714\ttime:0.0930\tVal rmse=0.2704\n"
     ]
    },
    {
     "name": "stderr",
     "output_type": "stream",
     "text": [
      "Training:  84%|████████▍ | 168/199 [00:28<00:05,  5.56iter/s]"
     ]
    },
    {
     "name": "stdout",
     "output_type": "stream",
     "text": [
      "[INFO 18:37] Epoch: 169\tloss: 3.9515\trmse:0.0717\ttime:0.0928\t\n"
     ]
    },
    {
     "name": "stderr",
     "output_type": "stream",
     "text": [
      "Training:  85%|████████▍ | 169/199 [00:28<00:04,  6.26iter/s]"
     ]
    },
    {
     "name": "stdout",
     "output_type": "stream",
     "text": [
      "[INFO 18:38] Epoch: 170\tloss: 3.9509\trmse:0.0731\ttime:0.0927\tVal rmse=0.2687\n"
     ]
    },
    {
     "name": "stderr",
     "output_type": "stream",
     "text": [
      "Training:  85%|████████▌ | 170/199 [00:28<00:04,  6.13iter/s]"
     ]
    },
    {
     "name": "stdout",
     "output_type": "stream",
     "text": [
      "[INFO 18:38] Epoch: 171\tloss: 3.9502\trmse:0.0721\ttime:0.0928\t\n"
     ]
    },
    {
     "name": "stderr",
     "output_type": "stream",
     "text": [
      "Training:  86%|████████▌ | 171/199 [00:28<00:04,  6.11iter/s]"
     ]
    },
    {
     "name": "stdout",
     "output_type": "stream",
     "text": [
      "[INFO 18:38] Epoch: 172\tloss: 3.9496\trmse:0.0722\ttime:0.0927\tVal rmse=0.2700\n"
     ]
    },
    {
     "name": "stderr",
     "output_type": "stream",
     "text": [
      "Training:  86%|████████▋ | 172/199 [00:29<00:04,  6.09iter/s]"
     ]
    },
    {
     "name": "stdout",
     "output_type": "stream",
     "text": [
      "[INFO 18:38] Epoch: 173\tloss: 3.9491\trmse:0.0721\ttime:0.0926\t\n"
     ]
    },
    {
     "name": "stderr",
     "output_type": "stream",
     "text": [
      "Training:  87%|████████▋ | 173/199 [00:29<00:03,  6.79iter/s]"
     ]
    },
    {
     "name": "stdout",
     "output_type": "stream",
     "text": [
      "[INFO 18:38] Epoch: 174\tloss: 3.9485\trmse:0.0713\ttime:0.0925\tVal rmse=0.2665\n"
     ]
    },
    {
     "name": "stderr",
     "output_type": "stream",
     "text": [
      "Training:  87%|████████▋ | 174/199 [00:29<00:03,  6.60iter/s]"
     ]
    },
    {
     "name": "stdout",
     "output_type": "stream",
     "text": [
      "[INFO 18:38] Epoch: 175\tloss: 3.9478\trmse:0.0711\ttime:0.0924\t\n"
     ]
    },
    {
     "name": "stderr",
     "output_type": "stream",
     "text": [
      "Training:  88%|████████▊ | 175/199 [00:29<00:03,  7.20iter/s]"
     ]
    },
    {
     "name": "stdout",
     "output_type": "stream",
     "text": [
      "[INFO 18:39] Epoch: 176\tloss: 3.9472\trmse:0.0703\ttime:0.0923\tVal rmse=0.2685\n"
     ]
    },
    {
     "name": "stderr",
     "output_type": "stream",
     "text": [
      "Training:  88%|████████▊ | 176/199 [00:29<00:03,  6.94iter/s]"
     ]
    },
    {
     "name": "stdout",
     "output_type": "stream",
     "text": [
      "[INFO 18:39] Epoch: 177\tloss: 3.9467\trmse:0.0721\ttime:0.0922\t\n"
     ]
    },
    {
     "name": "stderr",
     "output_type": "stream",
     "text": [
      "Training:  89%|████████▉ | 177/199 [00:29<00:02,  7.46iter/s]"
     ]
    },
    {
     "name": "stdout",
     "output_type": "stream",
     "text": [
      "[INFO 18:39] Epoch: 178\tloss: 3.9461\trmse:0.0715\ttime:0.0921\tVal rmse=0.2679\n"
     ]
    },
    {
     "name": "stderr",
     "output_type": "stream",
     "text": [
      "Training:  89%|████████▉ | 178/199 [00:29<00:03,  6.95iter/s]"
     ]
    },
    {
     "name": "stdout",
     "output_type": "stream",
     "text": [
      "[INFO 18:39] Epoch: 179\tloss: 3.9455\trmse:0.0710\ttime:0.0920\t\n"
     ]
    },
    {
     "name": "stderr",
     "output_type": "stream",
     "text": [
      "Training:  90%|████████▉ | 179/199 [00:30<00:02,  7.37iter/s]"
     ]
    },
    {
     "name": "stdout",
     "output_type": "stream",
     "text": [
      "[INFO 18:39] Epoch: 180\tloss: 3.9448\trmse:0.0718\ttime:0.0921\tVal rmse=0.2690\n"
     ]
    },
    {
     "name": "stderr",
     "output_type": "stream",
     "text": [
      "Training:  90%|█████████ | 180/199 [00:30<00:03,  5.16iter/s]"
     ]
    },
    {
     "name": "stdout",
     "output_type": "stream",
     "text": [
      "[INFO 18:39] Epoch: 181\tloss: 3.9443\trmse:0.0724\ttime:0.0920\t\n"
     ]
    },
    {
     "name": "stderr",
     "output_type": "stream",
     "text": [
      "Training:  91%|█████████ | 181/199 [00:30<00:03,  5.83iter/s]"
     ]
    },
    {
     "name": "stdout",
     "output_type": "stream",
     "text": [
      "[INFO 18:40] Epoch: 182\tloss: 3.9437\trmse:0.0719\ttime:0.0921\tVal rmse=0.2661\n"
     ]
    },
    {
     "name": "stderr",
     "output_type": "stream",
     "text": [
      "Training:  91%|█████████▏| 182/199 [00:30<00:03,  5.30iter/s]"
     ]
    },
    {
     "name": "stdout",
     "output_type": "stream",
     "text": [
      "[INFO 18:40] Epoch: 183\tloss: 3.9431\trmse:0.0704\ttime:0.0922\t\n"
     ]
    },
    {
     "name": "stderr",
     "output_type": "stream",
     "text": [
      "Training:  92%|█████████▏| 183/199 [00:30<00:02,  5.81iter/s]"
     ]
    },
    {
     "name": "stdout",
     "output_type": "stream",
     "text": [
      "[INFO 18:40] Epoch: 184\tloss: 3.9425\trmse:0.0703\ttime:0.0921\tVal rmse=0.2663\n"
     ]
    },
    {
     "name": "stderr",
     "output_type": "stream",
     "text": [
      "Training:  92%|█████████▏| 184/199 [00:31<00:03,  4.77iter/s]"
     ]
    },
    {
     "name": "stdout",
     "output_type": "stream",
     "text": [
      "[INFO 18:40] Epoch: 185\tloss: 3.9419\trmse:0.0702\ttime:0.0922\t\n"
     ]
    },
    {
     "name": "stderr",
     "output_type": "stream",
     "text": [
      "Training:  93%|█████████▎| 185/199 [00:31<00:02,  5.07iter/s]"
     ]
    },
    {
     "name": "stdout",
     "output_type": "stream",
     "text": [
      "[INFO 18:40] Epoch: 186\tloss: 3.9414\trmse:0.0713\ttime:0.0927\tVal rmse=0.2659\n"
     ]
    },
    {
     "name": "stderr",
     "output_type": "stream",
     "text": [
      "Training:  93%|█████████▎| 186/199 [00:31<00:02,  4.63iter/s]"
     ]
    },
    {
     "name": "stdout",
     "output_type": "stream",
     "text": [
      "[INFO 18:41] Epoch: 187\tloss: 3.9408\trmse:0.0710\ttime:0.0926\t\n"
     ]
    },
    {
     "name": "stderr",
     "output_type": "stream",
     "text": [
      "Training:  94%|█████████▍| 187/199 [00:31<00:02,  5.33iter/s]"
     ]
    },
    {
     "name": "stdout",
     "output_type": "stream",
     "text": [
      "[INFO 18:41] Epoch: 188\tloss: 3.9402\trmse:0.0711\ttime:0.0926\tVal rmse=0.2684\n"
     ]
    },
    {
     "name": "stderr",
     "output_type": "stream",
     "text": [
      "Training:  94%|█████████▍| 188/199 [00:31<00:02,  5.39iter/s]"
     ]
    },
    {
     "name": "stdout",
     "output_type": "stream",
     "text": [
      "[INFO 18:41] Epoch: 189\tloss: 3.9397\trmse:0.0726\ttime:0.0926\t\n"
     ]
    },
    {
     "name": "stderr",
     "output_type": "stream",
     "text": [
      "Training:  95%|█████████▍| 189/199 [00:32<00:01,  5.79iter/s]"
     ]
    },
    {
     "name": "stdout",
     "output_type": "stream",
     "text": [
      "[INFO 18:41] Epoch: 190\tloss: 3.9391\trmse:0.0715\ttime:0.0925\tVal rmse=0.2660\n"
     ]
    },
    {
     "name": "stderr",
     "output_type": "stream",
     "text": [
      "Training:  95%|█████████▌| 190/199 [00:32<00:02,  4.32iter/s]"
     ]
    },
    {
     "name": "stdout",
     "output_type": "stream",
     "text": [
      "[INFO 18:42] Epoch: 191\tloss: 3.9385\trmse:0.0702\ttime:0.0934\t\n"
     ]
    },
    {
     "name": "stderr",
     "output_type": "stream",
     "text": [
      "Training:  96%|█████████▌| 191/199 [00:32<00:02,  3.91iter/s]"
     ]
    },
    {
     "name": "stdout",
     "output_type": "stream",
     "text": [
      "[INFO 18:42] Epoch: 192\tloss: 3.9380\trmse:0.0708\ttime:0.0934\tVal rmse=0.2647\n"
     ]
    },
    {
     "name": "stderr",
     "output_type": "stream",
     "text": [
      "Training:  96%|█████████▋| 192/199 [00:32<00:01,  4.30iter/s]"
     ]
    },
    {
     "name": "stdout",
     "output_type": "stream",
     "text": [
      "[INFO 18:42] Epoch: 193\tloss: 3.9375\trmse:0.0699\ttime:0.0941\t\n"
     ]
    },
    {
     "name": "stderr",
     "output_type": "stream",
     "text": [
      "Training:  97%|█████████▋| 193/199 [00:33<00:01,  4.02iter/s]"
     ]
    },
    {
     "name": "stdout",
     "output_type": "stream",
     "text": [
      "[INFO 18:42] Epoch: 194\tloss: 3.9370\trmse:0.0705\ttime:0.0941\tVal rmse=0.2671\n"
     ]
    },
    {
     "name": "stderr",
     "output_type": "stream",
     "text": [
      "Training:  97%|█████████▋| 194/199 [00:33<00:01,  4.41iter/s]"
     ]
    },
    {
     "name": "stdout",
     "output_type": "stream",
     "text": [
      "[INFO 18:42] Epoch: 195\tloss: 3.9365\trmse:0.0712\ttime:0.0940\t\n"
     ]
    },
    {
     "name": "stderr",
     "output_type": "stream",
     "text": [
      "Training:  98%|█████████▊| 195/199 [00:33<00:00,  5.18iter/s]"
     ]
    },
    {
     "name": "stdout",
     "output_type": "stream",
     "text": [
      "[INFO 18:42] Epoch: 196\tloss: 3.9360\trmse:0.0701\ttime:0.0939\tVal rmse=0.2663\n"
     ]
    },
    {
     "name": "stderr",
     "output_type": "stream",
     "text": [
      "Training:  98%|█████████▊| 196/199 [00:33<00:00,  5.46iter/s]"
     ]
    },
    {
     "name": "stdout",
     "output_type": "stream",
     "text": [
      "[INFO 18:43] Epoch: 197\tloss: 3.9355\trmse:0.0719\ttime:0.0938\t\n"
     ]
    },
    {
     "name": "stderr",
     "output_type": "stream",
     "text": [
      "Training:  99%|█████████▉| 197/199 [00:33<00:00,  6.16iter/s]"
     ]
    },
    {
     "name": "stdout",
     "output_type": "stream",
     "text": [
      "[INFO 18:43] Epoch: 198\tloss: 3.9350\trmse:0.0723\ttime:0.0937\tVal rmse=0.2683\n"
     ]
    },
    {
     "name": "stderr",
     "output_type": "stream",
     "text": [
      "Training:  99%|█████████▉| 198/199 [00:33<00:00,  6.13iter/s]"
     ]
    },
    {
     "name": "stdout",
     "output_type": "stream",
     "text": [
      "[INFO 18:43] Epoch: 199\tloss: 3.9347\trmse:0.0723\ttime:0.0937\t\n"
     ]
    },
    {
     "name": "stderr",
     "output_type": "stream",
     "text": [
      "Training: 100%|██████████| 199/199 [00:34<00:00,  5.84iter/s]"
     ]
    },
    {
     "name": "stdout",
     "output_type": "stream",
     "text": [
      "[INFO 18:43] Best iter idx=192, Best valid rmse=0.2647\n"
     ]
    },
    {
     "name": "stderr",
     "output_type": "stream",
     "text": [
      "\n",
      "Rating: 100%|██████████| 27648/27648 [00:00<00:00, 239378.16it/s]\n"
     ]
    },
    {
     "name": "stdout",
     "output_type": "stream",
     "text": [
      "[INFO 18:47] Train enc graph: 1152 users, 116 items, 79488 pairs\n",
      "[INFO 18:47] Train dec graph: 1152 users, 116 items, 79488 pairs\n",
      "[INFO 18:47] Valid enc graph: 1152 users, 116 items, 79488 pairs\n",
      "[INFO 18:47] Valid dec graph: 1152 users, 116 items, 26496 pairs\n",
      "[INFO 18:47] Training Started!\n"
     ]
    },
    {
     "name": "stderr",
     "output_type": "stream",
     "text": [
      "Training:   0%|          | 0/199 [00:00<?, ?iter/s]"
     ]
    },
    {
     "name": "stdout",
     "output_type": "stream",
     "text": [
      "[INFO 18:47] Total # params of net: 65311386\n",
      "[INFO 18:47] Total Param Number: 65311386\n",
      "Params:\n",
      "\tencoder.ufc.weight: torch.Size([9, 500]), 4500\n",
      "\tencoder.ufc.bias: torch.Size([9]), 9\n",
      "\tencoder.ifc.weight: torch.Size([9, 500]), 4500\n",
      "\tencoder.ifc.bias: torch.Size([9]), 9\n",
      "\tencoder.conv.mods.1_0.weight: torch.Size([1152, 500]), 576000\n",
      "\tencoder.conv.mods.rev-1_0.weight: torch.Size([116, 500]), 58000\n",
      "\tencoder.conv.mods.1_01.weight: torch.Size([1152, 500]), 576000\n",
      "\tencoder.conv.mods.rev-1_01.weight: torch.Size([116, 500]), 58000\n",
      "\tencoder.conv.mods.1_02.weight: torch.Size([1152, 500]), 576000\n",
      "\tencoder.conv.mods.rev-1_02.weight: torch.Size([116, 500]), 58000\n",
      "\tencoder.conv.mods.1_03.weight: torch.Size([1152, 500]), 576000\n",
      "\tencoder.conv.mods.rev-1_03.weight: torch.Size([116, 500]), 58000\n",
      "\tencoder.conv.mods.1_04.weight: torch.Size([1152, 500]), 576000\n",
      "\tencoder.conv.mods.rev-1_04.weight: torch.Size([116, 500]), 58000\n",
      "\tencoder.conv.mods.1_05.weight: torch.Size([1152, 500]), 576000\n",
      "\tencoder.conv.mods.rev-1_05.weight: torch.Size([116, 500]), 58000\n",
      "\tencoder.conv.mods.1_06.weight: torch.Size([1152, 500]), 576000\n",
      "\tencoder.conv.mods.rev-1_06.weight: torch.Size([116, 500]), 58000\n",
      "\tencoder.conv.mods.1_0699999999999998.weight: torch.Size([1152, 500]), 576000\n",
      "\tencoder.conv.mods.rev-1_0699999999999998.weight: torch.Size([116, 500]), 58000\n",
      "\tencoder.conv.mods.1_07.weight: torch.Size([1152, 500]), 576000\n",
      "\tencoder.conv.mods.rev-1_07.weight: torch.Size([116, 500]), 58000\n",
      "\tencoder.conv.mods.1_08.weight: torch.Size([1152, 500]), 576000\n",
      "\tencoder.conv.mods.rev-1_08.weight: torch.Size([116, 500]), 58000\n",
      "\tencoder.conv.mods.1_09.weight: torch.Size([1152, 500]), 576000\n",
      "\tencoder.conv.mods.rev-1_09.weight: torch.Size([116, 500]), 58000\n",
      "\tencoder.conv.mods.1_1.weight: torch.Size([1152, 500]), 576000\n",
      "\tencoder.conv.mods.rev-1_1.weight: torch.Size([116, 500]), 58000\n",
      "\tencoder.conv.mods.1_11.weight: torch.Size([1152, 500]), 576000\n",
      "\tencoder.conv.mods.rev-1_11.weight: torch.Size([116, 500]), 58000\n",
      "\tencoder.conv.mods.1_12.weight: torch.Size([1152, 500]), 576000\n",
      "\tencoder.conv.mods.rev-1_12.weight: torch.Size([116, 500]), 58000\n",
      "\tencoder.conv.mods.1_13.weight: torch.Size([1152, 500]), 576000\n",
      "\tencoder.conv.mods.rev-1_13.weight: torch.Size([116, 500]), 58000\n",
      "\tencoder.conv.mods.1_14.weight: torch.Size([1152, 500]), 576000\n",
      "\tencoder.conv.mods.rev-1_14.weight: torch.Size([116, 500]), 58000\n",
      "\tencoder.conv.mods.1_15.weight: torch.Size([1152, 500]), 576000\n",
      "\tencoder.conv.mods.rev-1_15.weight: torch.Size([116, 500]), 58000\n",
      "\tencoder.conv.mods.1_16.weight: torch.Size([1152, 500]), 576000\n",
      "\tencoder.conv.mods.rev-1_16.weight: torch.Size([116, 500]), 58000\n",
      "\tencoder.conv.mods.1_17.weight: torch.Size([1152, 500]), 576000\n",
      "\tencoder.conv.mods.rev-1_17.weight: torch.Size([116, 500]), 58000\n",
      "\tencoder.conv.mods.1_18.weight: torch.Size([1152, 500]), 576000\n",
      "\tencoder.conv.mods.rev-1_18.weight: torch.Size([116, 500]), 58000\n",
      "\tencoder.conv.mods.1_1800000000000002.weight: torch.Size([1152, 500]), 576000\n",
      "\tencoder.conv.mods.rev-1_1800000000000002.weight: torch.Size([116, 500]), 58000\n",
      "\tencoder.conv.mods.1_19.weight: torch.Size([1152, 500]), 576000\n",
      "\tencoder.conv.mods.rev-1_19.weight: torch.Size([116, 500]), 58000\n",
      "\tencoder.conv.mods.1_2.weight: torch.Size([1152, 500]), 576000\n",
      "\tencoder.conv.mods.rev-1_2.weight: torch.Size([116, 500]), 58000\n",
      "\tencoder.conv.mods.1_21.weight: torch.Size([1152, 500]), 576000\n",
      "\tencoder.conv.mods.rev-1_21.weight: torch.Size([116, 500]), 58000\n",
      "\tencoder.conv.mods.1_22.weight: torch.Size([1152, 500]), 576000\n",
      "\tencoder.conv.mods.rev-1_22.weight: torch.Size([116, 500]), 58000\n",
      "\tencoder.conv.mods.1_23.weight: torch.Size([1152, 500]), 576000\n",
      "\tencoder.conv.mods.rev-1_23.weight: torch.Size([116, 500]), 58000\n",
      "\tencoder.conv.mods.1_24.weight: torch.Size([1152, 500]), 576000\n",
      "\tencoder.conv.mods.rev-1_24.weight: torch.Size([116, 500]), 58000\n",
      "\tencoder.conv.mods.1_25.weight: torch.Size([1152, 500]), 576000\n",
      "\tencoder.conv.mods.rev-1_25.weight: torch.Size([116, 500]), 58000\n",
      "\tencoder.conv.mods.1_26.weight: torch.Size([1152, 500]), 576000\n",
      "\tencoder.conv.mods.rev-1_26.weight: torch.Size([116, 500]), 58000\n",
      "\tencoder.conv.mods.1_27.weight: torch.Size([1152, 500]), 576000\n",
      "\tencoder.conv.mods.rev-1_27.weight: torch.Size([116, 500]), 58000\n",
      "\tencoder.conv.mods.1_28.weight: torch.Size([1152, 500]), 576000\n",
      "\tencoder.conv.mods.rev-1_28.weight: torch.Size([116, 500]), 58000\n",
      "\tencoder.conv.mods.1_29.weight: torch.Size([1152, 500]), 576000\n",
      "\tencoder.conv.mods.rev-1_29.weight: torch.Size([116, 500]), 58000\n",
      "\tencoder.conv.mods.1_3.weight: torch.Size([1152, 500]), 576000\n",
      "\tencoder.conv.mods.rev-1_3.weight: torch.Size([116, 500]), 58000\n",
      "\tencoder.conv.mods.1_31.weight: torch.Size([1152, 500]), 576000\n",
      "\tencoder.conv.mods.rev-1_31.weight: torch.Size([116, 500]), 58000\n",
      "\tencoder.conv.mods.1_32.weight: torch.Size([1152, 500]), 576000\n",
      "\tencoder.conv.mods.rev-1_32.weight: torch.Size([116, 500]), 58000\n",
      "\tencoder.conv.mods.1_33.weight: torch.Size([1152, 500]), 576000\n",
      "\tencoder.conv.mods.rev-1_33.weight: torch.Size([116, 500]), 58000\n",
      "\tencoder.conv.mods.1_34.weight: torch.Size([1152, 500]), 576000\n",
      "\tencoder.conv.mods.rev-1_34.weight: torch.Size([116, 500]), 58000\n",
      "\tencoder.conv.mods.1_35.weight: torch.Size([1152, 500]), 576000\n",
      "\tencoder.conv.mods.rev-1_35.weight: torch.Size([116, 500]), 58000\n",
      "\tencoder.conv.mods.1_36.weight: torch.Size([1152, 500]), 576000\n",
      "\tencoder.conv.mods.rev-1_36.weight: torch.Size([116, 500]), 58000\n",
      "\tencoder.conv.mods.1_37.weight: torch.Size([1152, 500]), 576000\n",
      "\tencoder.conv.mods.rev-1_37.weight: torch.Size([116, 500]), 58000\n",
      "\tencoder.conv.mods.1_38.weight: torch.Size([1152, 500]), 576000\n",
      "\tencoder.conv.mods.rev-1_38.weight: torch.Size([116, 500]), 58000\n",
      "\tencoder.conv.mods.1_39.weight: torch.Size([1152, 500]), 576000\n",
      "\tencoder.conv.mods.rev-1_39.weight: torch.Size([116, 500]), 58000\n",
      "\tencoder.conv.mods.1_4.weight: torch.Size([1152, 500]), 576000\n",
      "\tencoder.conv.mods.rev-1_4.weight: torch.Size([116, 500]), 58000\n",
      "\tencoder.conv.mods.1_41.weight: torch.Size([1152, 500]), 576000\n",
      "\tencoder.conv.mods.rev-1_41.weight: torch.Size([116, 500]), 58000\n",
      "\tencoder.conv.mods.1_42.weight: torch.Size([1152, 500]), 576000\n",
      "\tencoder.conv.mods.rev-1_42.weight: torch.Size([116, 500]), 58000\n",
      "\tencoder.conv.mods.1_43.weight: torch.Size([1152, 500]), 576000\n",
      "\tencoder.conv.mods.rev-1_43.weight: torch.Size([116, 500]), 58000\n",
      "\tencoder.conv.mods.1_44.weight: torch.Size([1152, 500]), 576000\n",
      "\tencoder.conv.mods.rev-1_44.weight: torch.Size([116, 500]), 58000\n",
      "\tencoder.conv.mods.1_45.weight: torch.Size([1152, 500]), 576000\n",
      "\tencoder.conv.mods.rev-1_45.weight: torch.Size([116, 500]), 58000\n",
      "\tencoder.conv.mods.1_46.weight: torch.Size([1152, 500]), 576000\n",
      "\tencoder.conv.mods.rev-1_46.weight: torch.Size([116, 500]), 58000\n",
      "\tencoder.conv.mods.1_47.weight: torch.Size([1152, 500]), 576000\n",
      "\tencoder.conv.mods.rev-1_47.weight: torch.Size([116, 500]), 58000\n",
      "\tencoder.conv.mods.1_48.weight: torch.Size([1152, 500]), 576000\n",
      "\tencoder.conv.mods.rev-1_48.weight: torch.Size([116, 500]), 58000\n",
      "\tencoder.conv.mods.1_49.weight: torch.Size([1152, 500]), 576000\n",
      "\tencoder.conv.mods.rev-1_49.weight: torch.Size([116, 500]), 58000\n",
      "\tencoder.conv.mods.1_5.weight: torch.Size([1152, 500]), 576000\n",
      "\tencoder.conv.mods.rev-1_5.weight: torch.Size([116, 500]), 58000\n",
      "\tencoder.conv.mods.1_51.weight: torch.Size([1152, 500]), 576000\n",
      "\tencoder.conv.mods.rev-1_51.weight: torch.Size([116, 500]), 58000\n",
      "\tencoder.conv.mods.1_52.weight: torch.Size([1152, 500]), 576000\n",
      "\tencoder.conv.mods.rev-1_52.weight: torch.Size([116, 500]), 58000\n",
      "\tencoder.conv.mods.1_53.weight: torch.Size([1152, 500]), 576000\n",
      "\tencoder.conv.mods.rev-1_53.weight: torch.Size([116, 500]), 58000\n",
      "\tencoder.conv.mods.1_54.weight: torch.Size([1152, 500]), 576000\n",
      "\tencoder.conv.mods.rev-1_54.weight: torch.Size([116, 500]), 58000\n",
      "\tencoder.conv.mods.1_55.weight: torch.Size([1152, 500]), 576000\n",
      "\tencoder.conv.mods.rev-1_55.weight: torch.Size([116, 500]), 58000\n",
      "\tencoder.conv.mods.1_56.weight: torch.Size([1152, 500]), 576000\n",
      "\tencoder.conv.mods.rev-1_56.weight: torch.Size([116, 500]), 58000\n",
      "\tencoder.conv.mods.1_57.weight: torch.Size([1152, 500]), 576000\n",
      "\tencoder.conv.mods.rev-1_57.weight: torch.Size([116, 500]), 58000\n",
      "\tencoder.conv.mods.1_58.weight: torch.Size([1152, 500]), 576000\n",
      "\tencoder.conv.mods.rev-1_58.weight: torch.Size([116, 500]), 58000\n",
      "\tencoder.conv.mods.1_59.weight: torch.Size([1152, 500]), 576000\n",
      "\tencoder.conv.mods.rev-1_59.weight: torch.Size([116, 500]), 58000\n",
      "\tencoder.conv.mods.1_6.weight: torch.Size([1152, 500]), 576000\n",
      "\tencoder.conv.mods.rev-1_6.weight: torch.Size([116, 500]), 58000\n",
      "\tencoder.conv.mods.1_61.weight: torch.Size([1152, 500]), 576000\n",
      "\tencoder.conv.mods.rev-1_61.weight: torch.Size([116, 500]), 58000\n",
      "\tencoder.conv.mods.1_62.weight: torch.Size([1152, 500]), 576000\n",
      "\tencoder.conv.mods.rev-1_62.weight: torch.Size([116, 500]), 58000\n",
      "\tencoder.conv.mods.1_63.weight: torch.Size([1152, 500]), 576000\n",
      "\tencoder.conv.mods.rev-1_63.weight: torch.Size([116, 500]), 58000\n",
      "\tencoder.conv.mods.1_64.weight: torch.Size([1152, 500]), 576000\n",
      "\tencoder.conv.mods.rev-1_64.weight: torch.Size([116, 500]), 58000\n",
      "\tencoder.conv.mods.1_65.weight: torch.Size([1152, 500]), 576000\n",
      "\tencoder.conv.mods.rev-1_65.weight: torch.Size([116, 500]), 58000\n",
      "\tencoder.conv.mods.1_66.weight: torch.Size([1152, 500]), 576000\n",
      "\tencoder.conv.mods.rev-1_66.weight: torch.Size([116, 500]), 58000\n",
      "\tencoder.conv.mods.1_67.weight: torch.Size([1152, 500]), 576000\n",
      "\tencoder.conv.mods.rev-1_67.weight: torch.Size([116, 500]), 58000\n",
      "\tencoder.conv.mods.1_68.weight: torch.Size([1152, 500]), 576000\n",
      "\tencoder.conv.mods.rev-1_68.weight: torch.Size([116, 500]), 58000\n",
      "\tencoder.conv.mods.1_69.weight: torch.Size([1152, 500]), 576000\n",
      "\tencoder.conv.mods.rev-1_69.weight: torch.Size([116, 500]), 58000\n",
      "\tencoder.conv.mods.1_7.weight: torch.Size([1152, 500]), 576000\n",
      "\tencoder.conv.mods.rev-1_7.weight: torch.Size([116, 500]), 58000\n",
      "\tencoder.conv.mods.1_71.weight: torch.Size([1152, 500]), 576000\n",
      "\tencoder.conv.mods.rev-1_71.weight: torch.Size([116, 500]), 58000\n",
      "\tencoder.conv.mods.1_72.weight: torch.Size([1152, 500]), 576000\n",
      "\tencoder.conv.mods.rev-1_72.weight: torch.Size([116, 500]), 58000\n",
      "\tencoder.conv.mods.1_73.weight: torch.Size([1152, 500]), 576000\n",
      "\tencoder.conv.mods.rev-1_73.weight: torch.Size([116, 500]), 58000\n",
      "\tencoder.conv.mods.1_74.weight: torch.Size([1152, 500]), 576000\n",
      "\tencoder.conv.mods.rev-1_74.weight: torch.Size([116, 500]), 58000\n",
      "\tencoder.conv.mods.1_75.weight: torch.Size([1152, 500]), 576000\n",
      "\tencoder.conv.mods.rev-1_75.weight: torch.Size([116, 500]), 58000\n",
      "\tencoder.conv.mods.1_76.weight: torch.Size([1152, 500]), 576000\n",
      "\tencoder.conv.mods.rev-1_76.weight: torch.Size([116, 500]), 58000\n",
      "\tencoder.conv.mods.1_77.weight: torch.Size([1152, 500]), 576000\n",
      "\tencoder.conv.mods.rev-1_77.weight: torch.Size([116, 500]), 58000\n",
      "\tencoder.conv.mods.1_78.weight: torch.Size([1152, 500]), 576000\n",
      "\tencoder.conv.mods.rev-1_78.weight: torch.Size([116, 500]), 58000\n",
      "\tencoder.conv.mods.1_79.weight: torch.Size([1152, 500]), 576000\n",
      "\tencoder.conv.mods.rev-1_79.weight: torch.Size([116, 500]), 58000\n",
      "\tencoder.conv.mods.1_8.weight: torch.Size([1152, 500]), 576000\n",
      "\tencoder.conv.mods.rev-1_8.weight: torch.Size([116, 500]), 58000\n",
      "\tencoder.conv.mods.1_81.weight: torch.Size([1152, 500]), 576000\n",
      "\tencoder.conv.mods.rev-1_81.weight: torch.Size([116, 500]), 58000\n",
      "\tencoder.conv.mods.1_82.weight: torch.Size([1152, 500]), 576000\n",
      "\tencoder.conv.mods.rev-1_82.weight: torch.Size([116, 500]), 58000\n",
      "\tencoder.conv.mods.1_83.weight: torch.Size([1152, 500]), 576000\n",
      "\tencoder.conv.mods.rev-1_83.weight: torch.Size([116, 500]), 58000\n",
      "\tencoder.conv.mods.1_84.weight: torch.Size([1152, 500]), 576000\n",
      "\tencoder.conv.mods.rev-1_84.weight: torch.Size([116, 500]), 58000\n",
      "\tencoder.conv.mods.1_85.weight: torch.Size([1152, 500]), 576000\n",
      "\tencoder.conv.mods.rev-1_85.weight: torch.Size([116, 500]), 58000\n",
      "\tencoder.conv.mods.1_86.weight: torch.Size([1152, 500]), 576000\n",
      "\tencoder.conv.mods.rev-1_86.weight: torch.Size([116, 500]), 58000\n",
      "\tencoder.conv.mods.1_87.weight: torch.Size([1152, 500]), 576000\n",
      "\tencoder.conv.mods.rev-1_87.weight: torch.Size([116, 500]), 58000\n",
      "\tencoder.conv.mods.1_88.weight: torch.Size([1152, 500]), 576000\n",
      "\tencoder.conv.mods.rev-1_88.weight: torch.Size([116, 500]), 58000\n",
      "\tencoder.conv.mods.1_89.weight: torch.Size([1152, 500]), 576000\n",
      "\tencoder.conv.mods.rev-1_89.weight: torch.Size([116, 500]), 58000\n",
      "\tencoder.conv.mods.1_9.weight: torch.Size([1152, 500]), 576000\n",
      "\tencoder.conv.mods.rev-1_9.weight: torch.Size([116, 500]), 58000\n",
      "\tencoder.conv.mods.1_91.weight: torch.Size([1152, 500]), 576000\n",
      "\tencoder.conv.mods.rev-1_91.weight: torch.Size([116, 500]), 58000\n",
      "\tencoder.conv.mods.1_92.weight: torch.Size([1152, 500]), 576000\n",
      "\tencoder.conv.mods.rev-1_92.weight: torch.Size([116, 500]), 58000\n",
      "\tencoder.conv.mods.1_93.weight: torch.Size([1152, 500]), 576000\n",
      "\tencoder.conv.mods.rev-1_93.weight: torch.Size([116, 500]), 58000\n",
      "\tencoder.conv.mods.1_94.weight: torch.Size([1152, 500]), 576000\n",
      "\tencoder.conv.mods.rev-1_94.weight: torch.Size([116, 500]), 58000\n",
      "\tencoder.conv.mods.1_95.weight: torch.Size([1152, 500]), 576000\n",
      "\tencoder.conv.mods.rev-1_95.weight: torch.Size([116, 500]), 58000\n",
      "\tencoder.conv.mods.1_96.weight: torch.Size([1152, 500]), 576000\n",
      "\tencoder.conv.mods.rev-1_96.weight: torch.Size([116, 500]), 58000\n",
      "\tencoder.conv.mods.1_97.weight: torch.Size([1152, 500]), 576000\n",
      "\tencoder.conv.mods.rev-1_97.weight: torch.Size([116, 500]), 58000\n",
      "\tencoder.conv.mods.1_98.weight: torch.Size([1152, 500]), 576000\n",
      "\tencoder.conv.mods.rev-1_98.weight: torch.Size([116, 500]), 58000\n",
      "\tencoder.conv.mods.1_99.weight: torch.Size([1152, 500]), 576000\n",
      "\tencoder.conv.mods.rev-1_99.weight: torch.Size([116, 500]), 58000\n",
      "\tencoder.conv.mods.2_0.weight: torch.Size([1152, 500]), 576000\n",
      "\tencoder.conv.mods.rev-2_0.weight: torch.Size([116, 500]), 58000\n",
      "\tdecoder.params.0: torch.Size([9, 9]), 81\n",
      "\tdecoder.params.1: torch.Size([9, 9]), 81\n",
      "\tdecoder.combine_basis.weight: torch.Size([103, 2]), 206\n",
      "NeuralNetwork(\n",
      "  (_act): Tanh()\n",
      "  (encoder): GCMCLayer(\n",
      "    (ufc): Linear(in_features=500, out_features=9, bias=True)\n",
      "    (ifc): Linear(in_features=500, out_features=9, bias=True)\n",
      "    (dropout): Dropout(p=0.7, inplace=False)\n",
      "    (w_r): None\n",
      "    (conv): HeteroGraphConv(\n",
      "      (mods): ModuleDict(\n",
      "        (1_0): GCMCGraphConv(\n",
      "          (dropout): Dropout(p=0.7, inplace=False)\n",
      "        )\n",
      "        (rev-1_0): GCMCGraphConv(\n",
      "          (dropout): Dropout(p=0.7, inplace=False)\n",
      "        )\n",
      "        (1_01): GCMCGraphConv(\n",
      "          (dropout): Dropout(p=0.7, inplace=False)\n",
      "        )\n",
      "        (rev-1_01): GCMCGraphConv(\n",
      "          (dropout): Dropout(p=0.7, inplace=False)\n",
      "        )\n",
      "        (1_02): GCMCGraphConv(\n",
      "          (dropout): Dropout(p=0.7, inplace=False)\n",
      "        )\n",
      "        (rev-1_02): GCMCGraphConv(\n",
      "          (dropout): Dropout(p=0.7, inplace=False)\n",
      "        )\n",
      "        (1_03): GCMCGraphConv(\n",
      "          (dropout): Dropout(p=0.7, inplace=False)\n",
      "        )\n",
      "        (rev-1_03): GCMCGraphConv(\n",
      "          (dropout): Dropout(p=0.7, inplace=False)\n",
      "        )\n",
      "        (1_04): GCMCGraphConv(\n",
      "          (dropout): Dropout(p=0.7, inplace=False)\n",
      "        )\n",
      "        (rev-1_04): GCMCGraphConv(\n",
      "          (dropout): Dropout(p=0.7, inplace=False)\n",
      "        )\n",
      "        (1_05): GCMCGraphConv(\n",
      "          (dropout): Dropout(p=0.7, inplace=False)\n",
      "        )\n",
      "        (rev-1_05): GCMCGraphConv(\n",
      "          (dropout): Dropout(p=0.7, inplace=False)\n",
      "        )\n",
      "        (1_06): GCMCGraphConv(\n",
      "          (dropout): Dropout(p=0.7, inplace=False)\n",
      "        )\n",
      "        (rev-1_06): GCMCGraphConv(\n",
      "          (dropout): Dropout(p=0.7, inplace=False)\n",
      "        )\n",
      "        (1_0699999999999998): GCMCGraphConv(\n",
      "          (dropout): Dropout(p=0.7, inplace=False)\n",
      "        )\n",
      "        (rev-1_0699999999999998): GCMCGraphConv(\n",
      "          (dropout): Dropout(p=0.7, inplace=False)\n",
      "        )\n",
      "        (1_07): GCMCGraphConv(\n",
      "          (dropout): Dropout(p=0.7, inplace=False)\n",
      "        )\n",
      "        (rev-1_07): GCMCGraphConv(\n",
      "          (dropout): Dropout(p=0.7, inplace=False)\n",
      "        )\n",
      "        (1_08): GCMCGraphConv(\n",
      "          (dropout): Dropout(p=0.7, inplace=False)\n",
      "        )\n",
      "        (rev-1_08): GCMCGraphConv(\n",
      "          (dropout): Dropout(p=0.7, inplace=False)\n",
      "        )\n",
      "        (1_09): GCMCGraphConv(\n",
      "          (dropout): Dropout(p=0.7, inplace=False)\n",
      "        )\n",
      "        (rev-1_09): GCMCGraphConv(\n",
      "          (dropout): Dropout(p=0.7, inplace=False)\n",
      "        )\n",
      "        (1_1): GCMCGraphConv(\n",
      "          (dropout): Dropout(p=0.7, inplace=False)\n",
      "        )\n",
      "        (rev-1_1): GCMCGraphConv(\n",
      "          (dropout): Dropout(p=0.7, inplace=False)\n",
      "        )\n",
      "        (1_11): GCMCGraphConv(\n",
      "          (dropout): Dropout(p=0.7, inplace=False)\n",
      "        )\n",
      "        (rev-1_11): GCMCGraphConv(\n",
      "          (dropout): Dropout(p=0.7, inplace=False)\n",
      "        )\n",
      "        (1_12): GCMCGraphConv(\n",
      "          (dropout): Dropout(p=0.7, inplace=False)\n",
      "        )\n",
      "        (rev-1_12): GCMCGraphConv(\n",
      "          (dropout): Dropout(p=0.7, inplace=False)\n",
      "        )\n",
      "        (1_13): GCMCGraphConv(\n",
      "          (dropout): Dropout(p=0.7, inplace=False)\n",
      "        )\n",
      "        (rev-1_13): GCMCGraphConv(\n",
      "          (dropout): Dropout(p=0.7, inplace=False)\n",
      "        )\n",
      "        (1_14): GCMCGraphConv(\n",
      "          (dropout): Dropout(p=0.7, inplace=False)\n",
      "        )\n",
      "        (rev-1_14): GCMCGraphConv(\n",
      "          (dropout): Dropout(p=0.7, inplace=False)\n",
      "        )\n",
      "        (1_15): GCMCGraphConv(\n",
      "          (dropout): Dropout(p=0.7, inplace=False)\n",
      "        )\n",
      "        (rev-1_15): GCMCGraphConv(\n",
      "          (dropout): Dropout(p=0.7, inplace=False)\n",
      "        )\n",
      "        (1_16): GCMCGraphConv(\n",
      "          (dropout): Dropout(p=0.7, inplace=False)\n",
      "        )\n",
      "        (rev-1_16): GCMCGraphConv(\n",
      "          (dropout): Dropout(p=0.7, inplace=False)\n",
      "        )\n",
      "        (1_17): GCMCGraphConv(\n",
      "          (dropout): Dropout(p=0.7, inplace=False)\n",
      "        )\n",
      "        (rev-1_17): GCMCGraphConv(\n",
      "          (dropout): Dropout(p=0.7, inplace=False)\n",
      "        )\n",
      "        (1_18): GCMCGraphConv(\n",
      "          (dropout): Dropout(p=0.7, inplace=False)\n",
      "        )\n",
      "        (rev-1_18): GCMCGraphConv(\n",
      "          (dropout): Dropout(p=0.7, inplace=False)\n",
      "        )\n",
      "        (1_1800000000000002): GCMCGraphConv(\n",
      "          (dropout): Dropout(p=0.7, inplace=False)\n",
      "        )\n",
      "        (rev-1_1800000000000002): GCMCGraphConv(\n",
      "          (dropout): Dropout(p=0.7, inplace=False)\n",
      "        )\n",
      "        (1_19): GCMCGraphConv(\n",
      "          (dropout): Dropout(p=0.7, inplace=False)\n",
      "        )\n",
      "        (rev-1_19): GCMCGraphConv(\n",
      "          (dropout): Dropout(p=0.7, inplace=False)\n",
      "        )\n",
      "        (1_2): GCMCGraphConv(\n",
      "          (dropout): Dropout(p=0.7, inplace=False)\n",
      "        )\n",
      "        (rev-1_2): GCMCGraphConv(\n",
      "          (dropout): Dropout(p=0.7, inplace=False)\n",
      "        )\n",
      "        (1_21): GCMCGraphConv(\n",
      "          (dropout): Dropout(p=0.7, inplace=False)\n",
      "        )\n",
      "        (rev-1_21): GCMCGraphConv(\n",
      "          (dropout): Dropout(p=0.7, inplace=False)\n",
      "        )\n",
      "        (1_22): GCMCGraphConv(\n",
      "          (dropout): Dropout(p=0.7, inplace=False)\n",
      "        )\n",
      "        (rev-1_22): GCMCGraphConv(\n",
      "          (dropout): Dropout(p=0.7, inplace=False)\n",
      "        )\n",
      "        (1_23): GCMCGraphConv(\n",
      "          (dropout): Dropout(p=0.7, inplace=False)\n",
      "        )\n",
      "        (rev-1_23): GCMCGraphConv(\n",
      "          (dropout): Dropout(p=0.7, inplace=False)\n",
      "        )\n",
      "        (1_24): GCMCGraphConv(\n",
      "          (dropout): Dropout(p=0.7, inplace=False)\n",
      "        )\n",
      "        (rev-1_24): GCMCGraphConv(\n",
      "          (dropout): Dropout(p=0.7, inplace=False)\n",
      "        )\n",
      "        (1_25): GCMCGraphConv(\n",
      "          (dropout): Dropout(p=0.7, inplace=False)\n",
      "        )\n",
      "        (rev-1_25): GCMCGraphConv(\n",
      "          (dropout): Dropout(p=0.7, inplace=False)\n",
      "        )\n",
      "        (1_26): GCMCGraphConv(\n",
      "          (dropout): Dropout(p=0.7, inplace=False)\n",
      "        )\n",
      "        (rev-1_26): GCMCGraphConv(\n",
      "          (dropout): Dropout(p=0.7, inplace=False)\n",
      "        )\n",
      "        (1_27): GCMCGraphConv(\n",
      "          (dropout): Dropout(p=0.7, inplace=False)\n",
      "        )\n",
      "        (rev-1_27): GCMCGraphConv(\n",
      "          (dropout): Dropout(p=0.7, inplace=False)\n",
      "        )\n",
      "        (1_28): GCMCGraphConv(\n",
      "          (dropout): Dropout(p=0.7, inplace=False)\n",
      "        )\n",
      "        (rev-1_28): GCMCGraphConv(\n",
      "          (dropout): Dropout(p=0.7, inplace=False)\n",
      "        )\n",
      "        (1_29): GCMCGraphConv(\n",
      "          (dropout): Dropout(p=0.7, inplace=False)\n",
      "        )\n",
      "        (rev-1_29): GCMCGraphConv(\n",
      "          (dropout): Dropout(p=0.7, inplace=False)\n",
      "        )\n",
      "        (1_3): GCMCGraphConv(\n",
      "          (dropout): Dropout(p=0.7, inplace=False)\n",
      "        )\n",
      "        (rev-1_3): GCMCGraphConv(\n",
      "          (dropout): Dropout(p=0.7, inplace=False)\n",
      "        )\n",
      "        (1_31): GCMCGraphConv(\n",
      "          (dropout): Dropout(p=0.7, inplace=False)\n",
      "        )\n",
      "        (rev-1_31): GCMCGraphConv(\n",
      "          (dropout): Dropout(p=0.7, inplace=False)\n",
      "        )\n",
      "        (1_32): GCMCGraphConv(\n",
      "          (dropout): Dropout(p=0.7, inplace=False)\n",
      "        )\n",
      "        (rev-1_32): GCMCGraphConv(\n",
      "          (dropout): Dropout(p=0.7, inplace=False)\n",
      "        )\n",
      "        (1_33): GCMCGraphConv(\n",
      "          (dropout): Dropout(p=0.7, inplace=False)\n",
      "        )\n",
      "        (rev-1_33): GCMCGraphConv(\n",
      "          (dropout): Dropout(p=0.7, inplace=False)\n",
      "        )\n",
      "        (1_34): GCMCGraphConv(\n",
      "          (dropout): Dropout(p=0.7, inplace=False)\n",
      "        )\n",
      "        (rev-1_34): GCMCGraphConv(\n",
      "          (dropout): Dropout(p=0.7, inplace=False)\n",
      "        )\n",
      "        (1_35): GCMCGraphConv(\n",
      "          (dropout): Dropout(p=0.7, inplace=False)\n",
      "        )\n",
      "        (rev-1_35): GCMCGraphConv(\n",
      "          (dropout): Dropout(p=0.7, inplace=False)\n",
      "        )\n",
      "        (1_36): GCMCGraphConv(\n",
      "          (dropout): Dropout(p=0.7, inplace=False)\n",
      "        )\n",
      "        (rev-1_36): GCMCGraphConv(\n",
      "          (dropout): Dropout(p=0.7, inplace=False)\n",
      "        )\n",
      "        (1_37): GCMCGraphConv(\n",
      "          (dropout): Dropout(p=0.7, inplace=False)\n",
      "        )\n",
      "        (rev-1_37): GCMCGraphConv(\n",
      "          (dropout): Dropout(p=0.7, inplace=False)\n",
      "        )\n",
      "        (1_38): GCMCGraphConv(\n",
      "          (dropout): Dropout(p=0.7, inplace=False)\n",
      "        )\n",
      "        (rev-1_38): GCMCGraphConv(\n",
      "          (dropout): Dropout(p=0.7, inplace=False)\n",
      "        )\n",
      "        (1_39): GCMCGraphConv(\n",
      "          (dropout): Dropout(p=0.7, inplace=False)\n",
      "        )\n",
      "        (rev-1_39): GCMCGraphConv(\n",
      "          (dropout): Dropout(p=0.7, inplace=False)\n",
      "        )\n",
      "        (1_4): GCMCGraphConv(\n",
      "          (dropout): Dropout(p=0.7, inplace=False)\n",
      "        )\n",
      "        (rev-1_4): GCMCGraphConv(\n",
      "          (dropout): Dropout(p=0.7, inplace=False)\n",
      "        )\n",
      "        (1_41): GCMCGraphConv(\n",
      "          (dropout): Dropout(p=0.7, inplace=False)\n",
      "        )\n",
      "        (rev-1_41): GCMCGraphConv(\n",
      "          (dropout): Dropout(p=0.7, inplace=False)\n",
      "        )\n",
      "        (1_42): GCMCGraphConv(\n",
      "          (dropout): Dropout(p=0.7, inplace=False)\n",
      "        )\n",
      "        (rev-1_42): GCMCGraphConv(\n",
      "          (dropout): Dropout(p=0.7, inplace=False)\n",
      "        )\n",
      "        (1_43): GCMCGraphConv(\n",
      "          (dropout): Dropout(p=0.7, inplace=False)\n",
      "        )\n",
      "        (rev-1_43): GCMCGraphConv(\n",
      "          (dropout): Dropout(p=0.7, inplace=False)\n",
      "        )\n",
      "        (1_44): GCMCGraphConv(\n",
      "          (dropout): Dropout(p=0.7, inplace=False)\n",
      "        )\n",
      "        (rev-1_44): GCMCGraphConv(\n",
      "          (dropout): Dropout(p=0.7, inplace=False)\n",
      "        )\n",
      "        (1_45): GCMCGraphConv(\n",
      "          (dropout): Dropout(p=0.7, inplace=False)\n",
      "        )\n",
      "        (rev-1_45): GCMCGraphConv(\n",
      "          (dropout): Dropout(p=0.7, inplace=False)\n",
      "        )\n",
      "        (1_46): GCMCGraphConv(\n",
      "          (dropout): Dropout(p=0.7, inplace=False)\n",
      "        )\n",
      "        (rev-1_46): GCMCGraphConv(\n",
      "          (dropout): Dropout(p=0.7, inplace=False)\n",
      "        )\n",
      "        (1_47): GCMCGraphConv(\n",
      "          (dropout): Dropout(p=0.7, inplace=False)\n",
      "        )\n",
      "        (rev-1_47): GCMCGraphConv(\n",
      "          (dropout): Dropout(p=0.7, inplace=False)\n",
      "        )\n",
      "        (1_48): GCMCGraphConv(\n",
      "          (dropout): Dropout(p=0.7, inplace=False)\n",
      "        )\n",
      "        (rev-1_48): GCMCGraphConv(\n",
      "          (dropout): Dropout(p=0.7, inplace=False)\n",
      "        )\n",
      "        (1_49): GCMCGraphConv(\n",
      "          (dropout): Dropout(p=0.7, inplace=False)\n",
      "        )\n",
      "        (rev-1_49): GCMCGraphConv(\n",
      "          (dropout): Dropout(p=0.7, inplace=False)\n",
      "        )\n",
      "        (1_5): GCMCGraphConv(\n",
      "          (dropout): Dropout(p=0.7, inplace=False)\n",
      "        )\n",
      "        (rev-1_5): GCMCGraphConv(\n",
      "          (dropout): Dropout(p=0.7, inplace=False)\n",
      "        )\n",
      "        (1_51): GCMCGraphConv(\n",
      "          (dropout): Dropout(p=0.7, inplace=False)\n",
      "        )\n",
      "        (rev-1_51): GCMCGraphConv(\n",
      "          (dropout): Dropout(p=0.7, inplace=False)\n",
      "        )\n",
      "        (1_52): GCMCGraphConv(\n",
      "          (dropout): Dropout(p=0.7, inplace=False)\n",
      "        )\n",
      "        (rev-1_52): GCMCGraphConv(\n",
      "          (dropout): Dropout(p=0.7, inplace=False)\n",
      "        )\n",
      "        (1_53): GCMCGraphConv(\n",
      "          (dropout): Dropout(p=0.7, inplace=False)\n",
      "        )\n",
      "        (rev-1_53): GCMCGraphConv(\n",
      "          (dropout): Dropout(p=0.7, inplace=False)\n",
      "        )\n",
      "        (1_54): GCMCGraphConv(\n",
      "          (dropout): Dropout(p=0.7, inplace=False)\n",
      "        )\n",
      "        (rev-1_54): GCMCGraphConv(\n",
      "          (dropout): Dropout(p=0.7, inplace=False)\n",
      "        )\n",
      "        (1_55): GCMCGraphConv(\n",
      "          (dropout): Dropout(p=0.7, inplace=False)\n",
      "        )\n",
      "        (rev-1_55): GCMCGraphConv(\n",
      "          (dropout): Dropout(p=0.7, inplace=False)\n",
      "        )\n",
      "        (1_56): GCMCGraphConv(\n",
      "          (dropout): Dropout(p=0.7, inplace=False)\n",
      "        )\n",
      "        (rev-1_56): GCMCGraphConv(\n",
      "          (dropout): Dropout(p=0.7, inplace=False)\n",
      "        )\n",
      "        (1_57): GCMCGraphConv(\n",
      "          (dropout): Dropout(p=0.7, inplace=False)\n",
      "        )\n",
      "        (rev-1_57): GCMCGraphConv(\n",
      "          (dropout): Dropout(p=0.7, inplace=False)\n",
      "        )\n",
      "        (1_58): GCMCGraphConv(\n",
      "          (dropout): Dropout(p=0.7, inplace=False)\n",
      "        )\n",
      "        (rev-1_58): GCMCGraphConv(\n",
      "          (dropout): Dropout(p=0.7, inplace=False)\n",
      "        )\n",
      "        (1_59): GCMCGraphConv(\n",
      "          (dropout): Dropout(p=0.7, inplace=False)\n",
      "        )\n",
      "        (rev-1_59): GCMCGraphConv(\n",
      "          (dropout): Dropout(p=0.7, inplace=False)\n",
      "        )\n",
      "        (1_6): GCMCGraphConv(\n",
      "          (dropout): Dropout(p=0.7, inplace=False)\n",
      "        )\n",
      "        (rev-1_6): GCMCGraphConv(\n",
      "          (dropout): Dropout(p=0.7, inplace=False)\n",
      "        )\n",
      "        (1_61): GCMCGraphConv(\n",
      "          (dropout): Dropout(p=0.7, inplace=False)\n",
      "        )\n",
      "        (rev-1_61): GCMCGraphConv(\n",
      "          (dropout): Dropout(p=0.7, inplace=False)\n",
      "        )\n",
      "        (1_62): GCMCGraphConv(\n",
      "          (dropout): Dropout(p=0.7, inplace=False)\n",
      "        )\n",
      "        (rev-1_62): GCMCGraphConv(\n",
      "          (dropout): Dropout(p=0.7, inplace=False)\n",
      "        )\n",
      "        (1_63): GCMCGraphConv(\n",
      "          (dropout): Dropout(p=0.7, inplace=False)\n",
      "        )\n",
      "        (rev-1_63): GCMCGraphConv(\n",
      "          (dropout): Dropout(p=0.7, inplace=False)\n",
      "        )\n",
      "        (1_64): GCMCGraphConv(\n",
      "          (dropout): Dropout(p=0.7, inplace=False)\n",
      "        )\n",
      "        (rev-1_64): GCMCGraphConv(\n",
      "          (dropout): Dropout(p=0.7, inplace=False)\n",
      "        )\n",
      "        (1_65): GCMCGraphConv(\n",
      "          (dropout): Dropout(p=0.7, inplace=False)\n",
      "        )\n",
      "        (rev-1_65): GCMCGraphConv(\n",
      "          (dropout): Dropout(p=0.7, inplace=False)\n",
      "        )\n",
      "        (1_66): GCMCGraphConv(\n",
      "          (dropout): Dropout(p=0.7, inplace=False)\n",
      "        )\n",
      "        (rev-1_66): GCMCGraphConv(\n",
      "          (dropout): Dropout(p=0.7, inplace=False)\n",
      "        )\n",
      "        (1_67): GCMCGraphConv(\n",
      "          (dropout): Dropout(p=0.7, inplace=False)\n",
      "        )\n",
      "        (rev-1_67): GCMCGraphConv(\n",
      "          (dropout): Dropout(p=0.7, inplace=False)\n",
      "        )\n",
      "        (1_68): GCMCGraphConv(\n",
      "          (dropout): Dropout(p=0.7, inplace=False)\n",
      "        )\n",
      "        (rev-1_68): GCMCGraphConv(\n",
      "          (dropout): Dropout(p=0.7, inplace=False)\n",
      "        )\n",
      "        (1_69): GCMCGraphConv(\n",
      "          (dropout): Dropout(p=0.7, inplace=False)\n",
      "        )\n",
      "        (rev-1_69): GCMCGraphConv(\n",
      "          (dropout): Dropout(p=0.7, inplace=False)\n",
      "        )\n",
      "        (1_7): GCMCGraphConv(\n",
      "          (dropout): Dropout(p=0.7, inplace=False)\n",
      "        )\n",
      "        (rev-1_7): GCMCGraphConv(\n",
      "          (dropout): Dropout(p=0.7, inplace=False)\n",
      "        )\n",
      "        (1_71): GCMCGraphConv(\n",
      "          (dropout): Dropout(p=0.7, inplace=False)\n",
      "        )\n",
      "        (rev-1_71): GCMCGraphConv(\n",
      "          (dropout): Dropout(p=0.7, inplace=False)\n",
      "        )\n",
      "        (1_72): GCMCGraphConv(\n",
      "          (dropout): Dropout(p=0.7, inplace=False)\n",
      "        )\n",
      "        (rev-1_72): GCMCGraphConv(\n",
      "          (dropout): Dropout(p=0.7, inplace=False)\n",
      "        )\n",
      "        (1_73): GCMCGraphConv(\n",
      "          (dropout): Dropout(p=0.7, inplace=False)\n",
      "        )\n",
      "        (rev-1_73): GCMCGraphConv(\n",
      "          (dropout): Dropout(p=0.7, inplace=False)\n",
      "        )\n",
      "        (1_74): GCMCGraphConv(\n",
      "          (dropout): Dropout(p=0.7, inplace=False)\n",
      "        )\n",
      "        (rev-1_74): GCMCGraphConv(\n",
      "          (dropout): Dropout(p=0.7, inplace=False)\n",
      "        )\n",
      "        (1_75): GCMCGraphConv(\n",
      "          (dropout): Dropout(p=0.7, inplace=False)\n",
      "        )\n",
      "        (rev-1_75): GCMCGraphConv(\n",
      "          (dropout): Dropout(p=0.7, inplace=False)\n",
      "        )\n",
      "        (1_76): GCMCGraphConv(\n",
      "          (dropout): Dropout(p=0.7, inplace=False)\n",
      "        )\n",
      "        (rev-1_76): GCMCGraphConv(\n",
      "          (dropout): Dropout(p=0.7, inplace=False)\n",
      "        )\n",
      "        (1_77): GCMCGraphConv(\n",
      "          (dropout): Dropout(p=0.7, inplace=False)\n",
      "        )\n",
      "        (rev-1_77): GCMCGraphConv(\n",
      "          (dropout): Dropout(p=0.7, inplace=False)\n",
      "        )\n",
      "        (1_78): GCMCGraphConv(\n",
      "          (dropout): Dropout(p=0.7, inplace=False)\n",
      "        )\n",
      "        (rev-1_78): GCMCGraphConv(\n",
      "          (dropout): Dropout(p=0.7, inplace=False)\n",
      "        )\n",
      "        (1_79): GCMCGraphConv(\n",
      "          (dropout): Dropout(p=0.7, inplace=False)\n",
      "        )\n",
      "        (rev-1_79): GCMCGraphConv(\n",
      "          (dropout): Dropout(p=0.7, inplace=False)\n",
      "        )\n",
      "        (1_8): GCMCGraphConv(\n",
      "          (dropout): Dropout(p=0.7, inplace=False)\n",
      "        )\n",
      "        (rev-1_8): GCMCGraphConv(\n",
      "          (dropout): Dropout(p=0.7, inplace=False)\n",
      "        )\n",
      "        (1_81): GCMCGraphConv(\n",
      "          (dropout): Dropout(p=0.7, inplace=False)\n",
      "        )\n",
      "        (rev-1_81): GCMCGraphConv(\n",
      "          (dropout): Dropout(p=0.7, inplace=False)\n",
      "        )\n",
      "        (1_82): GCMCGraphConv(\n",
      "          (dropout): Dropout(p=0.7, inplace=False)\n",
      "        )\n",
      "        (rev-1_82): GCMCGraphConv(\n",
      "          (dropout): Dropout(p=0.7, inplace=False)\n",
      "        )\n",
      "        (1_83): GCMCGraphConv(\n",
      "          (dropout): Dropout(p=0.7, inplace=False)\n",
      "        )\n",
      "        (rev-1_83): GCMCGraphConv(\n",
      "          (dropout): Dropout(p=0.7, inplace=False)\n",
      "        )\n",
      "        (1_84): GCMCGraphConv(\n",
      "          (dropout): Dropout(p=0.7, inplace=False)\n",
      "        )\n",
      "        (rev-1_84): GCMCGraphConv(\n",
      "          (dropout): Dropout(p=0.7, inplace=False)\n",
      "        )\n",
      "        (1_85): GCMCGraphConv(\n",
      "          (dropout): Dropout(p=0.7, inplace=False)\n",
      "        )\n",
      "        (rev-1_85): GCMCGraphConv(\n",
      "          (dropout): Dropout(p=0.7, inplace=False)\n",
      "        )\n",
      "        (1_86): GCMCGraphConv(\n",
      "          (dropout): Dropout(p=0.7, inplace=False)\n",
      "        )\n",
      "        (rev-1_86): GCMCGraphConv(\n",
      "          (dropout): Dropout(p=0.7, inplace=False)\n",
      "        )\n",
      "        (1_87): GCMCGraphConv(\n",
      "          (dropout): Dropout(p=0.7, inplace=False)\n",
      "        )\n",
      "        (rev-1_87): GCMCGraphConv(\n",
      "          (dropout): Dropout(p=0.7, inplace=False)\n",
      "        )\n",
      "        (1_88): GCMCGraphConv(\n",
      "          (dropout): Dropout(p=0.7, inplace=False)\n",
      "        )\n",
      "        (rev-1_88): GCMCGraphConv(\n",
      "          (dropout): Dropout(p=0.7, inplace=False)\n",
      "        )\n",
      "        (1_89): GCMCGraphConv(\n",
      "          (dropout): Dropout(p=0.7, inplace=False)\n",
      "        )\n",
      "        (rev-1_89): GCMCGraphConv(\n",
      "          (dropout): Dropout(p=0.7, inplace=False)\n",
      "        )\n",
      "        (1_9): GCMCGraphConv(\n",
      "          (dropout): Dropout(p=0.7, inplace=False)\n",
      "        )\n",
      "        (rev-1_9): GCMCGraphConv(\n",
      "          (dropout): Dropout(p=0.7, inplace=False)\n",
      "        )\n",
      "        (1_91): GCMCGraphConv(\n",
      "          (dropout): Dropout(p=0.7, inplace=False)\n",
      "        )\n",
      "        (rev-1_91): GCMCGraphConv(\n",
      "          (dropout): Dropout(p=0.7, inplace=False)\n",
      "        )\n",
      "        (1_92): GCMCGraphConv(\n",
      "          (dropout): Dropout(p=0.7, inplace=False)\n",
      "        )\n",
      "        (rev-1_92): GCMCGraphConv(\n",
      "          (dropout): Dropout(p=0.7, inplace=False)\n",
      "        )\n",
      "        (1_93): GCMCGraphConv(\n",
      "          (dropout): Dropout(p=0.7, inplace=False)\n",
      "        )\n",
      "        (rev-1_93): GCMCGraphConv(\n",
      "          (dropout): Dropout(p=0.7, inplace=False)\n",
      "        )\n",
      "        (1_94): GCMCGraphConv(\n",
      "          (dropout): Dropout(p=0.7, inplace=False)\n",
      "        )\n",
      "        (rev-1_94): GCMCGraphConv(\n",
      "          (dropout): Dropout(p=0.7, inplace=False)\n",
      "        )\n",
      "        (1_95): GCMCGraphConv(\n",
      "          (dropout): Dropout(p=0.7, inplace=False)\n",
      "        )\n",
      "        (rev-1_95): GCMCGraphConv(\n",
      "          (dropout): Dropout(p=0.7, inplace=False)\n",
      "        )\n",
      "        (1_96): GCMCGraphConv(\n",
      "          (dropout): Dropout(p=0.7, inplace=False)\n",
      "        )\n",
      "        (rev-1_96): GCMCGraphConv(\n",
      "          (dropout): Dropout(p=0.7, inplace=False)\n",
      "        )\n",
      "        (1_97): GCMCGraphConv(\n",
      "          (dropout): Dropout(p=0.7, inplace=False)\n",
      "        )\n",
      "        (rev-1_97): GCMCGraphConv(\n",
      "          (dropout): Dropout(p=0.7, inplace=False)\n",
      "        )\n",
      "        (1_98): GCMCGraphConv(\n",
      "          (dropout): Dropout(p=0.7, inplace=False)\n",
      "        )\n",
      "        (rev-1_98): GCMCGraphConv(\n",
      "          (dropout): Dropout(p=0.7, inplace=False)\n",
      "        )\n",
      "        (1_99): GCMCGraphConv(\n",
      "          (dropout): Dropout(p=0.7, inplace=False)\n",
      "        )\n",
      "        (rev-1_99): GCMCGraphConv(\n",
      "          (dropout): Dropout(p=0.7, inplace=False)\n",
      "        )\n",
      "        (2_0): GCMCGraphConv(\n",
      "          (dropout): Dropout(p=0.7, inplace=False)\n",
      "        )\n",
      "        (rev-2_0): GCMCGraphConv(\n",
      "          (dropout): Dropout(p=0.7, inplace=False)\n",
      "        )\n",
      "      )\n",
      "    )\n",
      "    (agg_act): Tanh()\n",
      "  )\n",
      "  (decoder): BiDecoder(\n",
      "    (dropout): Dropout(p=0.0, inplace=False)\n",
      "    (params): ParameterList(\n",
      "        (0): Parameter containing: [torch.float32 of size 9x9 (cuda:0)]\n",
      "        (1): Parameter containing: [torch.float32 of size 9x9 (cuda:0)]\n",
      "    )\n",
      "    (combine_basis): Linear(in_features=2, out_features=103, bias=False)\n",
      "  )\n",
      ")\n",
      "[INFO 18:47] Epoch: 1\tloss: 4.6348\trmse:0.1249\ttime:nan\t\n"
     ]
    },
    {
     "name": "stderr",
     "output_type": "stream",
     "text": [
      "Training:   1%|          | 1/199 [00:00<00:25,  7.89iter/s]"
     ]
    },
    {
     "name": "stdout",
     "output_type": "stream",
     "text": [
      "[INFO 18:47] Epoch: 2\tloss: 4.6345\trmse:0.1249\ttime:nan\tVal rmse=0.3528\n"
     ]
    },
    {
     "name": "stderr",
     "output_type": "stream",
     "text": [
      "Training:   1%|          | 2/199 [00:00<00:29,  6.74iter/s]"
     ]
    },
    {
     "name": "stdout",
     "output_type": "stream",
     "text": [
      "[INFO 18:47] Epoch: 3\tloss: 4.6336\trmse:0.1248\ttime:nan\t\n"
     ]
    },
    {
     "name": "stderr",
     "output_type": "stream",
     "text": [
      "Training:   2%|▏         | 3/199 [00:00<00:25,  7.63iter/s]"
     ]
    },
    {
     "name": "stdout",
     "output_type": "stream",
     "text": [
      "[INFO 18:47] Epoch: 4\tloss: 4.6306\trmse:0.1241\ttime:0.0796\tVal rmse=0.3488\n"
     ]
    },
    {
     "name": "stderr",
     "output_type": "stream",
     "text": [
      "Training:   2%|▏         | 4/199 [00:00<00:27,  7.00iter/s]"
     ]
    },
    {
     "name": "stdout",
     "output_type": "stream",
     "text": [
      "[INFO 18:47] Epoch: 5\tloss: 4.6231\trmse:0.1219\ttime:0.0784\t\n"
     ]
    },
    {
     "name": "stderr",
     "output_type": "stream",
     "text": [
      "Training:   3%|▎         | 5/199 [00:00<00:25,  7.63iter/s]"
     ]
    },
    {
     "name": "stdout",
     "output_type": "stream",
     "text": [
      "[INFO 18:47] Epoch: 6\tloss: 4.6087\trmse:0.1169\ttime:0.0810\tVal rmse=0.3328\n"
     ]
    },
    {
     "name": "stderr",
     "output_type": "stream",
     "text": [
      "Training:   3%|▎         | 6/199 [00:00<00:27,  6.97iter/s]"
     ]
    },
    {
     "name": "stdout",
     "output_type": "stream",
     "text": [
      "[INFO 18:47] Epoch: 7\tloss: 4.5931\trmse:0.1104\ttime:0.0795\t\n"
     ]
    },
    {
     "name": "stderr",
     "output_type": "stream",
     "text": [
      "Training:   4%|▎         | 7/199 [00:00<00:25,  7.56iter/s]"
     ]
    },
    {
     "name": "stdout",
     "output_type": "stream",
     "text": [
      "[INFO 18:48] Epoch: 8\tloss: 4.5743\trmse:0.1134\ttime:0.0788\tVal rmse=0.3360\n"
     ]
    },
    {
     "name": "stderr",
     "output_type": "stream",
     "text": [
      "Training:   4%|▍         | 8/199 [00:01<00:27,  7.02iter/s]"
     ]
    },
    {
     "name": "stdout",
     "output_type": "stream",
     "text": [
      "[INFO 18:48] Epoch: 9\tloss: 4.5491\trmse:0.1129\ttime:0.0845\t\n"
     ]
    },
    {
     "name": "stderr",
     "output_type": "stream",
     "text": [
      "Training:   5%|▍         | 9/199 [00:01<00:27,  6.81iter/s]"
     ]
    },
    {
     "name": "stdout",
     "output_type": "stream",
     "text": [
      "[INFO 18:48] Epoch: 10\tloss: 4.5223\trmse:0.1076\ttime:0.0844\tVal rmse=0.3170\n"
     ]
    },
    {
     "name": "stderr",
     "output_type": "stream",
     "text": [
      "Training:   5%|▌         | 10/199 [00:01<00:28,  6.56iter/s]"
     ]
    },
    {
     "name": "stdout",
     "output_type": "stream",
     "text": [
      "[INFO 18:48] Epoch: 11\tloss: 4.4936\trmse:0.1027\ttime:0.0845\t\n"
     ]
    },
    {
     "name": "stderr",
     "output_type": "stream",
     "text": [
      "Training:   6%|▌         | 11/199 [00:01<00:26,  7.03iter/s]"
     ]
    },
    {
     "name": "stdout",
     "output_type": "stream",
     "text": [
      "[INFO 18:48] Epoch: 12\tloss: 4.4668\trmse:0.0960\ttime:0.0845\tVal rmse=0.3021\n"
     ]
    },
    {
     "name": "stderr",
     "output_type": "stream",
     "text": [
      "Training:   6%|▌         | 12/199 [00:01<00:28,  6.62iter/s]"
     ]
    },
    {
     "name": "stdout",
     "output_type": "stream",
     "text": [
      "[INFO 18:48] Epoch: 13\tloss: 4.4438\trmse:0.0929\ttime:0.0952\t\n"
     ]
    },
    {
     "name": "stderr",
     "output_type": "stream",
     "text": [
      "Training:   7%|▋         | 13/199 [00:01<00:33,  5.54iter/s]"
     ]
    },
    {
     "name": "stdout",
     "output_type": "stream",
     "text": [
      "[INFO 18:49] Epoch: 14\tloss: 4.4217\trmse:0.0944\ttime:0.0943\tVal rmse=0.3018\n"
     ]
    },
    {
     "name": "stderr",
     "output_type": "stream",
     "text": [
      "Training:   7%|▋         | 14/199 [00:02<00:32,  5.68iter/s]"
     ]
    },
    {
     "name": "stdout",
     "output_type": "stream",
     "text": [
      "[INFO 18:49] Epoch: 15\tloss: 4.3997\trmse:0.0937\ttime:0.0930\t\n"
     ]
    },
    {
     "name": "stderr",
     "output_type": "stream",
     "text": [
      "Training:   8%|▊         | 15/199 [00:02<00:30,  6.13iter/s]"
     ]
    },
    {
     "name": "stdout",
     "output_type": "stream",
     "text": [
      "[INFO 18:49] Epoch: 16\tloss: 4.3797\trmse:0.0934\ttime:0.0934\tVal rmse=0.3017\n"
     ]
    },
    {
     "name": "stderr",
     "output_type": "stream",
     "text": [
      "Training:   8%|▊         | 16/199 [00:02<00:32,  5.62iter/s]"
     ]
    },
    {
     "name": "stdout",
     "output_type": "stream",
     "text": [
      "[INFO 18:49] Epoch: 17\tloss: 4.3609\trmse:0.0923\ttime:0.0931\t\n"
     ]
    },
    {
     "name": "stderr",
     "output_type": "stream",
     "text": [
      "Training:   9%|▊         | 17/199 [00:02<00:29,  6.20iter/s]"
     ]
    },
    {
     "name": "stdout",
     "output_type": "stream",
     "text": [
      "[INFO 18:49] Epoch: 18\tloss: 4.3425\trmse:0.0904\ttime:0.0919\tVal rmse=0.2938\n"
     ]
    },
    {
     "name": "stderr",
     "output_type": "stream",
     "text": [
      "Training:   9%|▉         | 18/199 [00:02<00:29,  6.20iter/s]"
     ]
    },
    {
     "name": "stdout",
     "output_type": "stream",
     "text": [
      "[INFO 18:49] Epoch: 19\tloss: 4.3261\trmse:0.0893\ttime:0.0909\t\n"
     ]
    },
    {
     "name": "stderr",
     "output_type": "stream",
     "text": [
      "Training:  10%|▉         | 19/199 [00:02<00:26,  6.84iter/s]"
     ]
    },
    {
     "name": "stdout",
     "output_type": "stream",
     "text": [
      "[INFO 18:50] Epoch: 20\tloss: 4.3105\trmse:0.0881\ttime:0.0902\tVal rmse=0.2893\n"
     ]
    },
    {
     "name": "stderr",
     "output_type": "stream",
     "text": [
      "Training:  10%|█         | 20/199 [00:03<00:26,  6.64iter/s]"
     ]
    },
    {
     "name": "stdout",
     "output_type": "stream",
     "text": [
      "[INFO 18:50] Epoch: 21\tloss: 4.2968\trmse:0.0874\ttime:0.0893\t\n"
     ]
    },
    {
     "name": "stderr",
     "output_type": "stream",
     "text": [
      "Training:  11%|█         | 21/199 [00:03<00:24,  7.22iter/s]"
     ]
    },
    {
     "name": "stdout",
     "output_type": "stream",
     "text": [
      "[INFO 18:50] Epoch: 22\tloss: 4.2839\trmse:0.0851\ttime:0.0885\tVal rmse=0.2862\n"
     ]
    },
    {
     "name": "stderr",
     "output_type": "stream",
     "text": [
      "Training:  11%|█         | 22/199 [00:03<00:27,  6.44iter/s]"
     ]
    },
    {
     "name": "stdout",
     "output_type": "stream",
     "text": [
      "[INFO 18:50] Epoch: 23\tloss: 4.2714\trmse:0.0851\ttime:0.0892\t\n"
     ]
    },
    {
     "name": "stderr",
     "output_type": "stream",
     "text": [
      "Training:  12%|█▏        | 23/199 [00:03<00:26,  6.71iter/s]"
     ]
    },
    {
     "name": "stdout",
     "output_type": "stream",
     "text": [
      "[INFO 18:50] Epoch: 24\tloss: 4.2603\trmse:0.0845\ttime:0.0892\tVal rmse=0.2837\n"
     ]
    },
    {
     "name": "stderr",
     "output_type": "stream",
     "text": [
      "Training:  12%|█▏        | 24/199 [00:03<00:27,  6.42iter/s]"
     ]
    },
    {
     "name": "stdout",
     "output_type": "stream",
     "text": [
      "[INFO 18:50] Epoch: 25\tloss: 4.2488\trmse:0.0832\ttime:0.0886\t\n"
     ]
    },
    {
     "name": "stderr",
     "output_type": "stream",
     "text": [
      "Training:  13%|█▎        | 25/199 [00:03<00:24,  7.04iter/s]"
     ]
    },
    {
     "name": "stdout",
     "output_type": "stream",
     "text": [
      "[INFO 18:50] Epoch: 26\tloss: 4.2386\trmse:0.0829\ttime:0.0884\tVal rmse=0.2832\n"
     ]
    },
    {
     "name": "stderr",
     "output_type": "stream",
     "text": [
      "Training:  13%|█▎        | 26/199 [00:03<00:25,  6.71iter/s]"
     ]
    },
    {
     "name": "stdout",
     "output_type": "stream",
     "text": [
      "[INFO 18:51] Epoch: 27\tloss: 4.2282\trmse:0.0820\ttime:0.0879\t\n"
     ]
    },
    {
     "name": "stderr",
     "output_type": "stream",
     "text": [
      "Training:  14%|█▎        | 27/199 [00:04<00:23,  7.29iter/s]"
     ]
    },
    {
     "name": "stdout",
     "output_type": "stream",
     "text": [
      "[INFO 18:51] Epoch: 28\tloss: 4.2197\trmse:0.0854\ttime:0.0875\tVal rmse=0.2825\n"
     ]
    },
    {
     "name": "stderr",
     "output_type": "stream",
     "text": [
      "Training:  14%|█▍        | 28/199 [00:04<00:24,  6.85iter/s]"
     ]
    },
    {
     "name": "stdout",
     "output_type": "stream",
     "text": [
      "[INFO 18:51] Epoch: 29\tloss: 4.2119\trmse:0.0837\ttime:0.0871\t\n"
     ]
    },
    {
     "name": "stderr",
     "output_type": "stream",
     "text": [
      "Training:  15%|█▍        | 29/199 [00:04<00:23,  7.35iter/s]"
     ]
    },
    {
     "name": "stdout",
     "output_type": "stream",
     "text": [
      "[INFO 18:51] Epoch: 30\tloss: 4.2030\trmse:0.0824\ttime:0.0868\tVal rmse=0.2807\n"
     ]
    },
    {
     "name": "stderr",
     "output_type": "stream",
     "text": [
      "Training:  15%|█▌        | 30/199 [00:04<00:24,  6.93iter/s]"
     ]
    },
    {
     "name": "stdout",
     "output_type": "stream",
     "text": [
      "[INFO 18:51] Epoch: 31\tloss: 4.1944\trmse:0.0800\ttime:0.0866\t\n"
     ]
    },
    {
     "name": "stderr",
     "output_type": "stream",
     "text": [
      "Training:  16%|█▌        | 31/199 [00:04<00:22,  7.38iter/s]"
     ]
    },
    {
     "name": "stdout",
     "output_type": "stream",
     "text": [
      "[INFO 18:51] Epoch: 32\tloss: 4.1863\trmse:0.0809\ttime:0.0862\tVal rmse=0.2795\n"
     ]
    },
    {
     "name": "stderr",
     "output_type": "stream",
     "text": [
      "Training:  16%|█▌        | 32/199 [00:04<00:23,  6.97iter/s]"
     ]
    },
    {
     "name": "stdout",
     "output_type": "stream",
     "text": [
      "[INFO 18:51] Epoch: 33\tloss: 4.1782\trmse:0.0800\ttime:0.0860\t\n"
     ]
    },
    {
     "name": "stderr",
     "output_type": "stream",
     "text": [
      "Training:  17%|█▋        | 33/199 [00:04<00:24,  6.73iter/s]\n"
     ]
    },
    {
     "ename": "KeyboardInterrupt",
     "evalue": "",
     "output_type": "error",
     "traceback": [
      "\u001B[0;31m---------------------------------------------------------------------------\u001B[0m",
      "\u001B[0;31mKeyboardInterrupt\u001B[0m                         Traceback (most recent call last)",
      "Cell \u001B[0;32mIn[9], line 25\u001B[0m\n\u001B[1;32m     23\u001B[0m config[\u001B[38;5;124m'\u001B[39m\u001B[38;5;124mlearning_rate\u001B[39m\u001B[38;5;124m'\u001B[39m] \u001B[38;5;241m=\u001B[39m \u001B[38;5;241m0.01541\u001B[39m\n\u001B[1;32m     24\u001B[0m config[\u001B[38;5;124m'\u001B[39m\u001B[38;5;124mactivation_func\u001B[39m\u001B[38;5;124m'\u001B[39m] \u001B[38;5;241m=\u001B[39m \u001B[38;5;124m'\u001B[39m\u001B[38;5;124mtanh\u001B[39m\u001B[38;5;124m'\u001B[39m\n\u001B[0;32m---> 25\u001B[0m metrics \u001B[38;5;241m=\u001B[39m \u001B[43mcornac_util\u001B[49m\u001B[38;5;241;43m.\u001B[39;49m\u001B[43mtest\u001B[49m\u001B[43m(\u001B[49m\u001B[43mdataset_name\u001B[49m\u001B[43m,\u001B[49m\u001B[43mconfig\u001B[49m\u001B[43m,\u001B[49m\u001B[43mgenerate_GCMC\u001B[49m\u001B[43m,\u001B[49m\u001B[43mfind_emb\u001B[49m\u001B[43m)\u001B[49m\n",
      "File \u001B[0;32m~/Programmation/liriscat/experiments/datasets/data_utils/cornac_util.py:306\u001B[0m, in \u001B[0;36mtest\u001B[0;34m(dataset_name, config, generate_algo, find_emb)\u001B[0m\n\u001B[1;32m    303\u001B[0m algo \u001B[38;5;241m=\u001B[39m generate_algo(config,metadata)\n\u001B[1;32m    305\u001B[0m \u001B[38;5;66;03m# test model ----\u001B[39;00m\n\u001B[0;32m--> 306\u001B[0m test_result, val_result \u001B[38;5;241m=\u001B[39m \u001B[43meval_method\u001B[49m\u001B[38;5;241;43m.\u001B[39;49m\u001B[43mevaluate\u001B[49m\u001B[43m(\u001B[49m\u001B[43mmodel\u001B[49m\u001B[38;5;241;43m=\u001B[39;49m\u001B[43malgo\u001B[49m\u001B[43m,\u001B[49m\u001B[43m \u001B[49m\u001B[43mmetrics\u001B[49m\u001B[38;5;241;43m=\u001B[39;49m\u001B[43m[\u001B[49m\u001B[43mMAE\u001B[49m\u001B[43m(\u001B[49m\u001B[43m)\u001B[49m\u001B[43m,\u001B[49m\u001B[43m \u001B[49m\u001B[43mRMSE\u001B[49m\u001B[43m(\u001B[49m\u001B[43m)\u001B[49m\u001B[43m,\u001B[49m\u001B[43m \u001B[49m\u001B[43mR2\u001B[49m\u001B[43m(\u001B[49m\u001B[43m)\u001B[49m\u001B[43m]\u001B[49m\u001B[43m,\u001B[49m\u001B[43m \u001B[49m\u001B[43muser_based\u001B[49m\u001B[38;5;241;43m=\u001B[39;49m\u001B[38;5;28;43;01mFalse\u001B[39;49;00m\u001B[43m)\u001B[49m\n\u001B[1;32m    307\u001B[0m metrics[\u001B[38;5;124m\"\u001B[39m\u001B[38;5;124mmae\u001B[39m\u001B[38;5;124m\"\u001B[39m]\u001B[38;5;241m.\u001B[39mappend(test_result\u001B[38;5;241m.\u001B[39mmetric_avg_results[\u001B[38;5;124m'\u001B[39m\u001B[38;5;124mMAE\u001B[39m\u001B[38;5;124m'\u001B[39m])\n\u001B[1;32m    308\u001B[0m metrics[\u001B[38;5;124m\"\u001B[39m\u001B[38;5;124mrmse\u001B[39m\u001B[38;5;124m\"\u001B[39m]\u001B[38;5;241m.\u001B[39mappend(test_result\u001B[38;5;241m.\u001B[39mmetric_avg_results[\u001B[38;5;124m'\u001B[39m\u001B[38;5;124mRMSE\u001B[39m\u001B[38;5;124m'\u001B[39m])\n",
      "File \u001B[0;32m~/.local/share/mamba/envs/liriscat/lib/python3.11/site-packages/cornac/eval_methods/base_method.py:734\u001B[0m, in \u001B[0;36mBaseMethod.evaluate\u001B[0;34m(self, model, metrics, user_based, show_validation)\u001B[0m\n\u001B[1;32m    731\u001B[0m     \u001B[38;5;28mprint\u001B[39m(\u001B[38;5;124m\"\u001B[39m\u001B[38;5;130;01m\\n\u001B[39;00m\u001B[38;5;124m[\u001B[39m\u001B[38;5;132;01m{}\u001B[39;00m\u001B[38;5;124m] Training started!\u001B[39m\u001B[38;5;124m\"\u001B[39m\u001B[38;5;241m.\u001B[39mformat(model\u001B[38;5;241m.\u001B[39mname))\n\u001B[1;32m    733\u001B[0m start \u001B[38;5;241m=\u001B[39m time\u001B[38;5;241m.\u001B[39mtime()\n\u001B[0;32m--> 734\u001B[0m \u001B[43mmodel\u001B[49m\u001B[38;5;241;43m.\u001B[39;49m\u001B[43mfit\u001B[49m\u001B[43m(\u001B[49m\u001B[38;5;28;43mself\u001B[39;49m\u001B[38;5;241;43m.\u001B[39;49m\u001B[43mtrain_set\u001B[49m\u001B[43m,\u001B[49m\u001B[43m \u001B[49m\u001B[38;5;28;43mself\u001B[39;49m\u001B[38;5;241;43m.\u001B[39;49m\u001B[43mval_set\u001B[49m\u001B[43m)\u001B[49m\n\u001B[1;32m    735\u001B[0m train_time \u001B[38;5;241m=\u001B[39m time\u001B[38;5;241m.\u001B[39mtime() \u001B[38;5;241m-\u001B[39m start\n\u001B[1;32m    737\u001B[0m \u001B[38;5;66;03m##############\u001B[39;00m\n\u001B[1;32m    738\u001B[0m \u001B[38;5;66;03m# EVALUATION #\u001B[39;00m\n\u001B[1;32m    739\u001B[0m \u001B[38;5;66;03m##############\u001B[39;00m\n",
      "File \u001B[0;32m~/.local/share/mamba/envs/liriscat/lib/python3.11/site-packages/cornac/models/gcmc/recom_gcmc.py:178\u001B[0m, in \u001B[0;36mGCMC.fit\u001B[0;34m(self, train_set, val_set)\u001B[0m\n\u001B[1;32m    161\u001B[0m     \u001B[38;5;28mself\u001B[39m\u001B[38;5;241m.\u001B[39mrating_values \u001B[38;5;241m=\u001B[39m np\u001B[38;5;241m.\u001B[39munique(train_set\u001B[38;5;241m.\u001B[39muir_tuple[\u001B[38;5;241m2\u001B[39m])\n\u001B[1;32m    163\u001B[0m     \u001B[38;5;28mself\u001B[39m\u001B[38;5;241m.\u001B[39mmodel \u001B[38;5;241m=\u001B[39m Model(        \n\u001B[1;32m    164\u001B[0m         rating_values\u001B[38;5;241m=\u001B[39m\u001B[38;5;28mself\u001B[39m\u001B[38;5;241m.\u001B[39mrating_values,\n\u001B[1;32m    165\u001B[0m         total_users\u001B[38;5;241m=\u001B[39m\u001B[38;5;28mself\u001B[39m\u001B[38;5;241m.\u001B[39mtotal_users,\n\u001B[0;32m   (...)\u001B[0m\n\u001B[1;32m    175\u001B[0m         seed\u001B[38;5;241m=\u001B[39m\u001B[38;5;28mself\u001B[39m\u001B[38;5;241m.\u001B[39mseed,\n\u001B[1;32m    176\u001B[0m     )\n\u001B[0;32m--> 178\u001B[0m     \u001B[38;5;28;43mself\u001B[39;49m\u001B[38;5;241;43m.\u001B[39;49m\u001B[43mmodel\u001B[49m\u001B[38;5;241;43m.\u001B[39;49m\u001B[43mtrain\u001B[49m\u001B[43m(\u001B[49m\n\u001B[1;32m    179\u001B[0m \u001B[43m        \u001B[49m\u001B[43mtrain_set\u001B[49m\u001B[43m,\u001B[49m\n\u001B[1;32m    180\u001B[0m \u001B[43m        \u001B[49m\u001B[43mval_set\u001B[49m\u001B[43m,\u001B[49m\n\u001B[1;32m    181\u001B[0m \u001B[43m        \u001B[49m\u001B[43mmax_iter\u001B[49m\u001B[38;5;241;43m=\u001B[39;49m\u001B[38;5;28;43mself\u001B[39;49m\u001B[38;5;241;43m.\u001B[39;49m\u001B[43mmax_iter\u001B[49m\u001B[43m,\u001B[49m\n\u001B[1;32m    182\u001B[0m \u001B[43m        \u001B[49m\u001B[43mlearning_rate\u001B[49m\u001B[38;5;241;43m=\u001B[39;49m\u001B[38;5;28;43mself\u001B[39;49m\u001B[38;5;241;43m.\u001B[39;49m\u001B[43mlearning_rate\u001B[49m\u001B[43m,\u001B[49m\n\u001B[1;32m    183\u001B[0m \u001B[43m        \u001B[49m\u001B[43moptimizer\u001B[49m\u001B[38;5;241;43m=\u001B[39;49m\u001B[38;5;28;43mself\u001B[39;49m\u001B[38;5;241;43m.\u001B[39;49m\u001B[43moptimizer\u001B[49m\u001B[43m,\u001B[49m\n\u001B[1;32m    184\u001B[0m \u001B[43m        \u001B[49m\u001B[43mtrain_grad_clip\u001B[49m\u001B[38;5;241;43m=\u001B[39;49m\u001B[38;5;28;43mself\u001B[39;49m\u001B[38;5;241;43m.\u001B[39;49m\u001B[43mtrain_grad_clip\u001B[49m\u001B[43m,\u001B[49m\n\u001B[1;32m    185\u001B[0m \u001B[43m        \u001B[49m\u001B[43mtrain_valid_interval\u001B[49m\u001B[38;5;241;43m=\u001B[39;49m\u001B[38;5;28;43mself\u001B[39;49m\u001B[38;5;241;43m.\u001B[39;49m\u001B[43mtrain_valid_interval\u001B[49m\u001B[43m,\u001B[49m\n\u001B[1;32m    186\u001B[0m \u001B[43m        \u001B[49m\u001B[43mtrain_early_stopping_patience\u001B[49m\u001B[38;5;241;43m=\u001B[39;49m\u001B[38;5;28;43mself\u001B[39;49m\u001B[38;5;241;43m.\u001B[39;49m\u001B[43mtrain_early_stopping_patience\u001B[49m\u001B[43m,\u001B[49m\n\u001B[1;32m    187\u001B[0m \u001B[43m        \u001B[49m\u001B[43mtrain_min_learning_rate\u001B[49m\u001B[38;5;241;43m=\u001B[39;49m\u001B[38;5;28;43mself\u001B[39;49m\u001B[38;5;241;43m.\u001B[39;49m\u001B[43mtrain_min_learning_rate\u001B[49m\u001B[43m,\u001B[49m\n\u001B[1;32m    188\u001B[0m \u001B[43m        \u001B[49m\u001B[43mtrain_decay_patience\u001B[49m\u001B[38;5;241;43m=\u001B[39;49m\u001B[38;5;28;43mself\u001B[39;49m\u001B[38;5;241;43m.\u001B[39;49m\u001B[43mtrain_decay_patience\u001B[49m\u001B[43m,\u001B[49m\n\u001B[1;32m    189\u001B[0m \u001B[43m        \u001B[49m\u001B[43mtrain_lr_decay_factor\u001B[49m\u001B[38;5;241;43m=\u001B[39;49m\u001B[38;5;28;43mself\u001B[39;49m\u001B[38;5;241;43m.\u001B[39;49m\u001B[43mtrain_lr_decay_factor\u001B[49m\u001B[43m,\u001B[49m\n\u001B[1;32m    190\u001B[0m \u001B[43m    \u001B[49m\u001B[43m)\u001B[49m\n\u001B[1;32m    192\u001B[0m \u001B[38;5;28;01mreturn\u001B[39;00m \u001B[38;5;28mself\u001B[39m\n",
      "File \u001B[0;32m~/.local/share/mamba/envs/liriscat/lib/python3.11/site-packages/cornac/models/gcmc/gcmc.py:439\u001B[0m, in \u001B[0;36mModel.train\u001B[0;34m(self, train_set, val_set, max_iter, learning_rate, optimizer, train_grad_clip, train_valid_interval, train_early_stopping_patience, train_min_learning_rate, train_decay_patience, train_lr_decay_factor)\u001B[0m\n\u001B[1;32m    436\u001B[0m optimizer \u001B[38;5;241m=\u001B[39m get_optimizer(optimizer)(\u001B[38;5;28mself\u001B[39m\u001B[38;5;241m.\u001B[39mnet\u001B[38;5;241m.\u001B[39mparameters(), lr\u001B[38;5;241m=\u001B[39mlearning_rate)\n\u001B[1;32m    437\u001B[0m rating_loss_net \u001B[38;5;241m=\u001B[39m nn\u001B[38;5;241m.\u001B[39mCrossEntropyLoss()\n\u001B[0;32m--> 439\u001B[0m \u001B[38;5;28;43mself\u001B[39;49m\u001B[38;5;241;43m.\u001B[39;49m\u001B[43m_train_model\u001B[49m\u001B[43m(\u001B[49m\n\u001B[1;32m    440\u001B[0m \u001B[43m    \u001B[49m\u001B[38;5;28;43mself\u001B[39;49m\u001B[38;5;241;43m.\u001B[39;49m\u001B[43mrating_values\u001B[49m\u001B[43m,\u001B[49m\n\u001B[1;32m    441\u001B[0m \u001B[43m    \u001B[49m\u001B[43mtrain_dec_graph\u001B[49m\u001B[43m,\u001B[49m\n\u001B[1;32m    442\u001B[0m \u001B[43m    \u001B[49m\u001B[43mvalid_enc_graph\u001B[49m\u001B[43m,\u001B[49m\n\u001B[1;32m    443\u001B[0m \u001B[43m    \u001B[49m\u001B[43mvalid_dec_graph\u001B[49m\u001B[43m,\u001B[49m\n\u001B[1;32m    444\u001B[0m \u001B[43m    \u001B[49m\u001B[43mtrain_labels\u001B[49m\u001B[43m,\u001B[49m\n\u001B[1;32m    445\u001B[0m \u001B[43m    \u001B[49m\u001B[43mtrain_truths\u001B[49m\u001B[43m,\u001B[49m\n\u001B[1;32m    446\u001B[0m \u001B[43m    \u001B[49m\u001B[43mvalid_truths\u001B[49m\u001B[43m,\u001B[49m\n\u001B[1;32m    447\u001B[0m \u001B[43m    \u001B[49m\u001B[43mnd_positive_rating_values\u001B[49m\u001B[43m,\u001B[49m\n\u001B[1;32m    448\u001B[0m \u001B[43m    \u001B[49m\u001B[43mrating_loss_net\u001B[49m\u001B[43m,\u001B[49m\n\u001B[1;32m    449\u001B[0m \u001B[43m    \u001B[49m\u001B[43mmax_iter\u001B[49m\u001B[43m,\u001B[49m\n\u001B[1;32m    450\u001B[0m \u001B[43m    \u001B[49m\u001B[43moptimizer\u001B[49m\u001B[43m,\u001B[49m\n\u001B[1;32m    451\u001B[0m \u001B[43m    \u001B[49m\u001B[43mlearning_rate\u001B[49m\u001B[43m,\u001B[49m\n\u001B[1;32m    452\u001B[0m \u001B[43m    \u001B[49m\u001B[43mtrain_grad_clip\u001B[49m\u001B[43m,\u001B[49m\n\u001B[1;32m    453\u001B[0m \u001B[43m    \u001B[49m\u001B[43mtrain_valid_interval\u001B[49m\u001B[43m,\u001B[49m\n\u001B[1;32m    454\u001B[0m \u001B[43m    \u001B[49m\u001B[43mtrain_early_stopping_patience\u001B[49m\u001B[43m,\u001B[49m\n\u001B[1;32m    455\u001B[0m \u001B[43m    \u001B[49m\u001B[43mtrain_min_learning_rate\u001B[49m\u001B[43m,\u001B[49m\n\u001B[1;32m    456\u001B[0m \u001B[43m    \u001B[49m\u001B[43mtrain_decay_patience\u001B[49m\u001B[43m,\u001B[49m\n\u001B[1;32m    457\u001B[0m \u001B[43m    \u001B[49m\u001B[43mtrain_lr_decay_factor\u001B[49m\u001B[43m,\u001B[49m\n\u001B[1;32m    458\u001B[0m \u001B[43m\u001B[49m\u001B[43m)\u001B[49m\n",
      "File \u001B[0;32m~/.local/share/mamba/envs/liriscat/lib/python3.11/site-packages/cornac/models/gcmc/gcmc.py:317\u001B[0m, in \u001B[0;36mModel._train_model\u001B[0;34m(self, rating_values, train_dec_graph, valid_enc_graph, valid_dec_graph, train_labels, train_truths, valid_truths, nd_positive_rating_values, rating_loss_net, max_iter, optimizer, learning_rate, train_grad_clip, train_valid_interval, train_early_stopping_patience, train_min_learning_rate, train_decay_patience, train_lr_decay_factor)\u001B[0m\n\u001B[1;32m    314\u001B[0m     time_start \u001B[38;5;241m=\u001B[39m time\u001B[38;5;241m.\u001B[39mtime()\n\u001B[1;32m    316\u001B[0m \u001B[38;5;28mself\u001B[39m\u001B[38;5;241m.\u001B[39mnet\u001B[38;5;241m.\u001B[39mtrain()\n\u001B[0;32m--> 317\u001B[0m pred_ratings \u001B[38;5;241m=\u001B[39m \u001B[38;5;28;43mself\u001B[39;49m\u001B[38;5;241;43m.\u001B[39;49m\u001B[43mnet\u001B[49m\u001B[43m(\u001B[49m\u001B[38;5;28;43mself\u001B[39;49m\u001B[38;5;241;43m.\u001B[39;49m\u001B[43mtrain_enc_graph\u001B[49m\u001B[43m,\u001B[49m\u001B[43m \u001B[49m\u001B[43mtrain_dec_graph\u001B[49m\u001B[43m)\u001B[49m\n\u001B[1;32m    318\u001B[0m loss \u001B[38;5;241m=\u001B[39m rating_loss_net(pred_ratings, train_labels)\u001B[38;5;241m.\u001B[39mmean()\n\u001B[1;32m    319\u001B[0m count_loss \u001B[38;5;241m+\u001B[39m\u001B[38;5;241m=\u001B[39m loss\u001B[38;5;241m.\u001B[39mitem()\n",
      "File \u001B[0;32m~/.local/share/mamba/envs/liriscat/lib/python3.11/site-packages/torch/nn/modules/module.py:1736\u001B[0m, in \u001B[0;36mModule._wrapped_call_impl\u001B[0;34m(self, *args, **kwargs)\u001B[0m\n\u001B[1;32m   1734\u001B[0m     \u001B[38;5;28;01mreturn\u001B[39;00m \u001B[38;5;28mself\u001B[39m\u001B[38;5;241m.\u001B[39m_compiled_call_impl(\u001B[38;5;241m*\u001B[39margs, \u001B[38;5;241m*\u001B[39m\u001B[38;5;241m*\u001B[39mkwargs)  \u001B[38;5;66;03m# type: ignore[misc]\u001B[39;00m\n\u001B[1;32m   1735\u001B[0m \u001B[38;5;28;01melse\u001B[39;00m:\n\u001B[0;32m-> 1736\u001B[0m     \u001B[38;5;28;01mreturn\u001B[39;00m \u001B[38;5;28;43mself\u001B[39;49m\u001B[38;5;241;43m.\u001B[39;49m\u001B[43m_call_impl\u001B[49m\u001B[43m(\u001B[49m\u001B[38;5;241;43m*\u001B[39;49m\u001B[43margs\u001B[49m\u001B[43m,\u001B[49m\u001B[43m \u001B[49m\u001B[38;5;241;43m*\u001B[39;49m\u001B[38;5;241;43m*\u001B[39;49m\u001B[43mkwargs\u001B[49m\u001B[43m)\u001B[49m\n",
      "File \u001B[0;32m~/.local/share/mamba/envs/liriscat/lib/python3.11/site-packages/torch/nn/modules/module.py:1747\u001B[0m, in \u001B[0;36mModule._call_impl\u001B[0;34m(self, *args, **kwargs)\u001B[0m\n\u001B[1;32m   1742\u001B[0m \u001B[38;5;66;03m# If we don't have any hooks, we want to skip the rest of the logic in\u001B[39;00m\n\u001B[1;32m   1743\u001B[0m \u001B[38;5;66;03m# this function, and just call forward.\u001B[39;00m\n\u001B[1;32m   1744\u001B[0m \u001B[38;5;28;01mif\u001B[39;00m \u001B[38;5;129;01mnot\u001B[39;00m (\u001B[38;5;28mself\u001B[39m\u001B[38;5;241m.\u001B[39m_backward_hooks \u001B[38;5;129;01mor\u001B[39;00m \u001B[38;5;28mself\u001B[39m\u001B[38;5;241m.\u001B[39m_backward_pre_hooks \u001B[38;5;129;01mor\u001B[39;00m \u001B[38;5;28mself\u001B[39m\u001B[38;5;241m.\u001B[39m_forward_hooks \u001B[38;5;129;01mor\u001B[39;00m \u001B[38;5;28mself\u001B[39m\u001B[38;5;241m.\u001B[39m_forward_pre_hooks\n\u001B[1;32m   1745\u001B[0m         \u001B[38;5;129;01mor\u001B[39;00m _global_backward_pre_hooks \u001B[38;5;129;01mor\u001B[39;00m _global_backward_hooks\n\u001B[1;32m   1746\u001B[0m         \u001B[38;5;129;01mor\u001B[39;00m _global_forward_hooks \u001B[38;5;129;01mor\u001B[39;00m _global_forward_pre_hooks):\n\u001B[0;32m-> 1747\u001B[0m     \u001B[38;5;28;01mreturn\u001B[39;00m \u001B[43mforward_call\u001B[49m\u001B[43m(\u001B[49m\u001B[38;5;241;43m*\u001B[39;49m\u001B[43margs\u001B[49m\u001B[43m,\u001B[49m\u001B[43m \u001B[49m\u001B[38;5;241;43m*\u001B[39;49m\u001B[38;5;241;43m*\u001B[39;49m\u001B[43mkwargs\u001B[49m\u001B[43m)\u001B[49m\n\u001B[1;32m   1749\u001B[0m result \u001B[38;5;241m=\u001B[39m \u001B[38;5;28;01mNone\u001B[39;00m\n\u001B[1;32m   1750\u001B[0m called_always_called_hooks \u001B[38;5;241m=\u001B[39m \u001B[38;5;28mset\u001B[39m()\n",
      "File \u001B[0;32m~/.local/share/mamba/envs/liriscat/lib/python3.11/site-packages/cornac/models/gcmc/nn_modules.py:65\u001B[0m, in \u001B[0;36mNeuralNetwork.forward\u001B[0;34m(self, enc_graph, dec_graph, ufeat, ifeat)\u001B[0m\n\u001B[1;32m     51\u001B[0m \u001B[38;5;28;01mdef\u001B[39;00m \u001B[38;5;21mforward\u001B[39m(\u001B[38;5;28mself\u001B[39m, enc_graph, dec_graph, ufeat\u001B[38;5;241m=\u001B[39m\u001B[38;5;28;01mNone\u001B[39;00m, ifeat\u001B[38;5;241m=\u001B[39m\u001B[38;5;28;01mNone\u001B[39;00m):\n\u001B[1;32m     52\u001B[0m \u001B[38;5;250m    \u001B[39m\u001B[38;5;124;03m\"\"\"Forward computation\u001B[39;00m\n\u001B[1;32m     53\u001B[0m \n\u001B[1;32m     54\u001B[0m \u001B[38;5;124;03m    Parameters\u001B[39;00m\n\u001B[0;32m   (...)\u001B[0m\n\u001B[1;32m     63\u001B[0m \u001B[38;5;124;03m        The input item feature\u001B[39;00m\n\u001B[1;32m     64\u001B[0m \u001B[38;5;124;03m    \"\"\"\u001B[39;00m\n\u001B[0;32m---> 65\u001B[0m     user_out, item_out \u001B[38;5;241m=\u001B[39m \u001B[38;5;28;43mself\u001B[39;49m\u001B[38;5;241;43m.\u001B[39;49m\u001B[43mencoder\u001B[49m\u001B[43m(\u001B[49m\u001B[43menc_graph\u001B[49m\u001B[43m,\u001B[49m\u001B[43m \u001B[49m\u001B[43mufeat\u001B[49m\u001B[43m,\u001B[49m\u001B[43m \u001B[49m\u001B[43mifeat\u001B[49m\u001B[43m)\u001B[49m\n\u001B[1;32m     66\u001B[0m     pred_ratings \u001B[38;5;241m=\u001B[39m \u001B[38;5;28mself\u001B[39m\u001B[38;5;241m.\u001B[39mdecoder(dec_graph, user_out, item_out)\n\u001B[1;32m     67\u001B[0m     \u001B[38;5;28;01mreturn\u001B[39;00m pred_ratings\n",
      "File \u001B[0;32m~/.local/share/mamba/envs/liriscat/lib/python3.11/site-packages/torch/nn/modules/module.py:1736\u001B[0m, in \u001B[0;36mModule._wrapped_call_impl\u001B[0;34m(self, *args, **kwargs)\u001B[0m\n\u001B[1;32m   1734\u001B[0m     \u001B[38;5;28;01mreturn\u001B[39;00m \u001B[38;5;28mself\u001B[39m\u001B[38;5;241m.\u001B[39m_compiled_call_impl(\u001B[38;5;241m*\u001B[39margs, \u001B[38;5;241m*\u001B[39m\u001B[38;5;241m*\u001B[39mkwargs)  \u001B[38;5;66;03m# type: ignore[misc]\u001B[39;00m\n\u001B[1;32m   1735\u001B[0m \u001B[38;5;28;01melse\u001B[39;00m:\n\u001B[0;32m-> 1736\u001B[0m     \u001B[38;5;28;01mreturn\u001B[39;00m \u001B[38;5;28;43mself\u001B[39;49m\u001B[38;5;241;43m.\u001B[39;49m\u001B[43m_call_impl\u001B[49m\u001B[43m(\u001B[49m\u001B[38;5;241;43m*\u001B[39;49m\u001B[43margs\u001B[49m\u001B[43m,\u001B[49m\u001B[43m \u001B[49m\u001B[38;5;241;43m*\u001B[39;49m\u001B[38;5;241;43m*\u001B[39;49m\u001B[43mkwargs\u001B[49m\u001B[43m)\u001B[49m\n",
      "File \u001B[0;32m~/.local/share/mamba/envs/liriscat/lib/python3.11/site-packages/torch/nn/modules/module.py:1747\u001B[0m, in \u001B[0;36mModule._call_impl\u001B[0;34m(self, *args, **kwargs)\u001B[0m\n\u001B[1;32m   1742\u001B[0m \u001B[38;5;66;03m# If we don't have any hooks, we want to skip the rest of the logic in\u001B[39;00m\n\u001B[1;32m   1743\u001B[0m \u001B[38;5;66;03m# this function, and just call forward.\u001B[39;00m\n\u001B[1;32m   1744\u001B[0m \u001B[38;5;28;01mif\u001B[39;00m \u001B[38;5;129;01mnot\u001B[39;00m (\u001B[38;5;28mself\u001B[39m\u001B[38;5;241m.\u001B[39m_backward_hooks \u001B[38;5;129;01mor\u001B[39;00m \u001B[38;5;28mself\u001B[39m\u001B[38;5;241m.\u001B[39m_backward_pre_hooks \u001B[38;5;129;01mor\u001B[39;00m \u001B[38;5;28mself\u001B[39m\u001B[38;5;241m.\u001B[39m_forward_hooks \u001B[38;5;129;01mor\u001B[39;00m \u001B[38;5;28mself\u001B[39m\u001B[38;5;241m.\u001B[39m_forward_pre_hooks\n\u001B[1;32m   1745\u001B[0m         \u001B[38;5;129;01mor\u001B[39;00m _global_backward_pre_hooks \u001B[38;5;129;01mor\u001B[39;00m _global_backward_hooks\n\u001B[1;32m   1746\u001B[0m         \u001B[38;5;129;01mor\u001B[39;00m _global_forward_hooks \u001B[38;5;129;01mor\u001B[39;00m _global_forward_pre_hooks):\n\u001B[0;32m-> 1747\u001B[0m     \u001B[38;5;28;01mreturn\u001B[39;00m \u001B[43mforward_call\u001B[49m\u001B[43m(\u001B[49m\u001B[38;5;241;43m*\u001B[39;49m\u001B[43margs\u001B[49m\u001B[43m,\u001B[49m\u001B[43m \u001B[49m\u001B[38;5;241;43m*\u001B[39;49m\u001B[38;5;241;43m*\u001B[39;49m\u001B[43mkwargs\u001B[49m\u001B[43m)\u001B[49m\n\u001B[1;32m   1749\u001B[0m result \u001B[38;5;241m=\u001B[39m \u001B[38;5;28;01mNone\u001B[39;00m\n\u001B[1;32m   1750\u001B[0m called_always_called_hooks \u001B[38;5;241m=\u001B[39m \u001B[38;5;28mset\u001B[39m()\n",
      "File \u001B[0;32m~/.local/share/mamba/envs/liriscat/lib/python3.11/site-packages/cornac/models/gcmc/nn_modules.py:332\u001B[0m, in \u001B[0;36mGCMCLayer.forward\u001B[0;34m(self, graph, ufeat, ifeat)\u001B[0m\n\u001B[1;32m    328\u001B[0m     mod_args[rating] \u001B[38;5;241m=\u001B[39m (\u001B[38;5;28mself\u001B[39m\u001B[38;5;241m.\u001B[39mw_r[rating] \u001B[38;5;28;01mif\u001B[39;00m \u001B[38;5;28mself\u001B[39m\u001B[38;5;241m.\u001B[39mw_r \u001B[38;5;129;01mis\u001B[39;00m \u001B[38;5;129;01mnot\u001B[39;00m \u001B[38;5;28;01mNone\u001B[39;00m \u001B[38;5;28;01melse\u001B[39;00m \u001B[38;5;28;01mNone\u001B[39;00m,)\n\u001B[1;32m    329\u001B[0m     mod_args[rev_rating] \u001B[38;5;241m=\u001B[39m (\n\u001B[1;32m    330\u001B[0m         \u001B[38;5;28mself\u001B[39m\u001B[38;5;241m.\u001B[39mw_r[rev_rating] \u001B[38;5;28;01mif\u001B[39;00m \u001B[38;5;28mself\u001B[39m\u001B[38;5;241m.\u001B[39mw_r \u001B[38;5;129;01mis\u001B[39;00m \u001B[38;5;129;01mnot\u001B[39;00m \u001B[38;5;28;01mNone\u001B[39;00m \u001B[38;5;28;01melse\u001B[39;00m \u001B[38;5;28;01mNone\u001B[39;00m,\n\u001B[1;32m    331\u001B[0m     )\n\u001B[0;32m--> 332\u001B[0m out_feats \u001B[38;5;241m=\u001B[39m \u001B[38;5;28;43mself\u001B[39;49m\u001B[38;5;241;43m.\u001B[39;49m\u001B[43mconv\u001B[49m\u001B[43m(\u001B[49m\u001B[43mgraph\u001B[49m\u001B[43m,\u001B[49m\u001B[43m \u001B[49m\u001B[43min_feats\u001B[49m\u001B[43m,\u001B[49m\u001B[43m \u001B[49m\u001B[43mmod_args\u001B[49m\u001B[38;5;241;43m=\u001B[39;49m\u001B[43mmod_args\u001B[49m\u001B[43m)\u001B[49m\n\u001B[1;32m    333\u001B[0m ufeat \u001B[38;5;241m=\u001B[39m out_feats[\u001B[38;5;124m\"\u001B[39m\u001B[38;5;124muser\u001B[39m\u001B[38;5;124m\"\u001B[39m]\n\u001B[1;32m    334\u001B[0m ifeat \u001B[38;5;241m=\u001B[39m out_feats[\u001B[38;5;124m\"\u001B[39m\u001B[38;5;124mitem\u001B[39m\u001B[38;5;124m\"\u001B[39m]\n",
      "File \u001B[0;32m~/.local/share/mamba/envs/liriscat/lib/python3.11/site-packages/torch/nn/modules/module.py:1736\u001B[0m, in \u001B[0;36mModule._wrapped_call_impl\u001B[0;34m(self, *args, **kwargs)\u001B[0m\n\u001B[1;32m   1734\u001B[0m     \u001B[38;5;28;01mreturn\u001B[39;00m \u001B[38;5;28mself\u001B[39m\u001B[38;5;241m.\u001B[39m_compiled_call_impl(\u001B[38;5;241m*\u001B[39margs, \u001B[38;5;241m*\u001B[39m\u001B[38;5;241m*\u001B[39mkwargs)  \u001B[38;5;66;03m# type: ignore[misc]\u001B[39;00m\n\u001B[1;32m   1735\u001B[0m \u001B[38;5;28;01melse\u001B[39;00m:\n\u001B[0;32m-> 1736\u001B[0m     \u001B[38;5;28;01mreturn\u001B[39;00m \u001B[38;5;28;43mself\u001B[39;49m\u001B[38;5;241;43m.\u001B[39;49m\u001B[43m_call_impl\u001B[49m\u001B[43m(\u001B[49m\u001B[38;5;241;43m*\u001B[39;49m\u001B[43margs\u001B[49m\u001B[43m,\u001B[49m\u001B[43m \u001B[49m\u001B[38;5;241;43m*\u001B[39;49m\u001B[38;5;241;43m*\u001B[39;49m\u001B[43mkwargs\u001B[49m\u001B[43m)\u001B[49m\n",
      "File \u001B[0;32m~/.local/share/mamba/envs/liriscat/lib/python3.11/site-packages/torch/nn/modules/module.py:1747\u001B[0m, in \u001B[0;36mModule._call_impl\u001B[0;34m(self, *args, **kwargs)\u001B[0m\n\u001B[1;32m   1742\u001B[0m \u001B[38;5;66;03m# If we don't have any hooks, we want to skip the rest of the logic in\u001B[39;00m\n\u001B[1;32m   1743\u001B[0m \u001B[38;5;66;03m# this function, and just call forward.\u001B[39;00m\n\u001B[1;32m   1744\u001B[0m \u001B[38;5;28;01mif\u001B[39;00m \u001B[38;5;129;01mnot\u001B[39;00m (\u001B[38;5;28mself\u001B[39m\u001B[38;5;241m.\u001B[39m_backward_hooks \u001B[38;5;129;01mor\u001B[39;00m \u001B[38;5;28mself\u001B[39m\u001B[38;5;241m.\u001B[39m_backward_pre_hooks \u001B[38;5;129;01mor\u001B[39;00m \u001B[38;5;28mself\u001B[39m\u001B[38;5;241m.\u001B[39m_forward_hooks \u001B[38;5;129;01mor\u001B[39;00m \u001B[38;5;28mself\u001B[39m\u001B[38;5;241m.\u001B[39m_forward_pre_hooks\n\u001B[1;32m   1745\u001B[0m         \u001B[38;5;129;01mor\u001B[39;00m _global_backward_pre_hooks \u001B[38;5;129;01mor\u001B[39;00m _global_backward_hooks\n\u001B[1;32m   1746\u001B[0m         \u001B[38;5;129;01mor\u001B[39;00m _global_forward_hooks \u001B[38;5;129;01mor\u001B[39;00m _global_forward_pre_hooks):\n\u001B[0;32m-> 1747\u001B[0m     \u001B[38;5;28;01mreturn\u001B[39;00m \u001B[43mforward_call\u001B[49m\u001B[43m(\u001B[49m\u001B[38;5;241;43m*\u001B[39;49m\u001B[43margs\u001B[49m\u001B[43m,\u001B[49m\u001B[43m \u001B[49m\u001B[38;5;241;43m*\u001B[39;49m\u001B[38;5;241;43m*\u001B[39;49m\u001B[43mkwargs\u001B[49m\u001B[43m)\u001B[49m\n\u001B[1;32m   1749\u001B[0m result \u001B[38;5;241m=\u001B[39m \u001B[38;5;28;01mNone\u001B[39;00m\n\u001B[1;32m   1750\u001B[0m called_always_called_hooks \u001B[38;5;241m=\u001B[39m \u001B[38;5;28mset\u001B[39m()\n",
      "File \u001B[0;32m~/.local/share/mamba/envs/liriscat/lib/python3.11/site-packages/dgl/nn/pytorch/hetero.py:210\u001B[0m, in \u001B[0;36mHeteroGraphConv.forward\u001B[0;34m(self, g, inputs, mod_args, mod_kwargs)\u001B[0m\n\u001B[1;32m    208\u001B[0m         \u001B[38;5;28;01mif\u001B[39;00m stype \u001B[38;5;129;01mnot\u001B[39;00m \u001B[38;5;129;01min\u001B[39;00m inputs:\n\u001B[1;32m    209\u001B[0m             \u001B[38;5;28;01mcontinue\u001B[39;00m\n\u001B[0;32m--> 210\u001B[0m         dstdata \u001B[38;5;241m=\u001B[39m \u001B[38;5;28;43mself\u001B[39;49m\u001B[38;5;241;43m.\u001B[39;49m\u001B[43m_get_module\u001B[49m\u001B[43m(\u001B[49m\u001B[43m(\u001B[49m\u001B[43mstype\u001B[49m\u001B[43m,\u001B[49m\u001B[43m \u001B[49m\u001B[43metype\u001B[49m\u001B[43m,\u001B[49m\u001B[43m \u001B[49m\u001B[43mdtype\u001B[49m\u001B[43m)\u001B[49m\u001B[43m)\u001B[49m\u001B[43m(\u001B[49m\n\u001B[1;32m    211\u001B[0m \u001B[43m            \u001B[49m\u001B[43mrel_graph\u001B[49m\u001B[43m,\u001B[49m\n\u001B[1;32m    212\u001B[0m \u001B[43m            \u001B[49m\u001B[43m(\u001B[49m\u001B[43minputs\u001B[49m\u001B[43m[\u001B[49m\u001B[43mstype\u001B[49m\u001B[43m]\u001B[49m\u001B[43m,\u001B[49m\u001B[43m \u001B[49m\u001B[43minputs\u001B[49m\u001B[43m[\u001B[49m\u001B[43mdtype\u001B[49m\u001B[43m]\u001B[49m\u001B[43m)\u001B[49m\u001B[43m,\u001B[49m\n\u001B[1;32m    213\u001B[0m \u001B[43m            \u001B[49m\u001B[38;5;241;43m*\u001B[39;49m\u001B[43mmod_args\u001B[49m\u001B[38;5;241;43m.\u001B[39;49m\u001B[43mget\u001B[49m\u001B[43m(\u001B[49m\u001B[43metype\u001B[49m\u001B[43m,\u001B[49m\u001B[43m \u001B[49m\u001B[43m(\u001B[49m\u001B[43m)\u001B[49m\u001B[43m)\u001B[49m\u001B[43m,\u001B[49m\n\u001B[1;32m    214\u001B[0m \u001B[43m            \u001B[49m\u001B[38;5;241;43m*\u001B[39;49m\u001B[38;5;241;43m*\u001B[39;49m\u001B[43mmod_kwargs\u001B[49m\u001B[38;5;241;43m.\u001B[39;49m\u001B[43mget\u001B[49m\u001B[43m(\u001B[49m\u001B[43metype\u001B[49m\u001B[43m,\u001B[49m\u001B[43m \u001B[49m\u001B[43m{\u001B[49m\u001B[43m}\u001B[49m\u001B[43m)\u001B[49m\n\u001B[1;32m    215\u001B[0m \u001B[43m        \u001B[49m\u001B[43m)\u001B[49m\n\u001B[1;32m    216\u001B[0m         outputs[dtype]\u001B[38;5;241m.\u001B[39mappend(dstdata)\n\u001B[1;32m    217\u001B[0m rsts \u001B[38;5;241m=\u001B[39m {}\n",
      "File \u001B[0;32m~/.local/share/mamba/envs/liriscat/lib/python3.11/site-packages/torch/nn/modules/module.py:1736\u001B[0m, in \u001B[0;36mModule._wrapped_call_impl\u001B[0;34m(self, *args, **kwargs)\u001B[0m\n\u001B[1;32m   1734\u001B[0m     \u001B[38;5;28;01mreturn\u001B[39;00m \u001B[38;5;28mself\u001B[39m\u001B[38;5;241m.\u001B[39m_compiled_call_impl(\u001B[38;5;241m*\u001B[39margs, \u001B[38;5;241m*\u001B[39m\u001B[38;5;241m*\u001B[39mkwargs)  \u001B[38;5;66;03m# type: ignore[misc]\u001B[39;00m\n\u001B[1;32m   1735\u001B[0m \u001B[38;5;28;01melse\u001B[39;00m:\n\u001B[0;32m-> 1736\u001B[0m     \u001B[38;5;28;01mreturn\u001B[39;00m \u001B[38;5;28;43mself\u001B[39;49m\u001B[38;5;241;43m.\u001B[39;49m\u001B[43m_call_impl\u001B[49m\u001B[43m(\u001B[49m\u001B[38;5;241;43m*\u001B[39;49m\u001B[43margs\u001B[49m\u001B[43m,\u001B[49m\u001B[43m \u001B[49m\u001B[38;5;241;43m*\u001B[39;49m\u001B[38;5;241;43m*\u001B[39;49m\u001B[43mkwargs\u001B[49m\u001B[43m)\u001B[49m\n",
      "File \u001B[0;32m~/.local/share/mamba/envs/liriscat/lib/python3.11/site-packages/torch/nn/modules/module.py:1747\u001B[0m, in \u001B[0;36mModule._call_impl\u001B[0;34m(self, *args, **kwargs)\u001B[0m\n\u001B[1;32m   1742\u001B[0m \u001B[38;5;66;03m# If we don't have any hooks, we want to skip the rest of the logic in\u001B[39;00m\n\u001B[1;32m   1743\u001B[0m \u001B[38;5;66;03m# this function, and just call forward.\u001B[39;00m\n\u001B[1;32m   1744\u001B[0m \u001B[38;5;28;01mif\u001B[39;00m \u001B[38;5;129;01mnot\u001B[39;00m (\u001B[38;5;28mself\u001B[39m\u001B[38;5;241m.\u001B[39m_backward_hooks \u001B[38;5;129;01mor\u001B[39;00m \u001B[38;5;28mself\u001B[39m\u001B[38;5;241m.\u001B[39m_backward_pre_hooks \u001B[38;5;129;01mor\u001B[39;00m \u001B[38;5;28mself\u001B[39m\u001B[38;5;241m.\u001B[39m_forward_hooks \u001B[38;5;129;01mor\u001B[39;00m \u001B[38;5;28mself\u001B[39m\u001B[38;5;241m.\u001B[39m_forward_pre_hooks\n\u001B[1;32m   1745\u001B[0m         \u001B[38;5;129;01mor\u001B[39;00m _global_backward_pre_hooks \u001B[38;5;129;01mor\u001B[39;00m _global_backward_hooks\n\u001B[1;32m   1746\u001B[0m         \u001B[38;5;129;01mor\u001B[39;00m _global_forward_hooks \u001B[38;5;129;01mor\u001B[39;00m _global_forward_pre_hooks):\n\u001B[0;32m-> 1747\u001B[0m     \u001B[38;5;28;01mreturn\u001B[39;00m \u001B[43mforward_call\u001B[49m\u001B[43m(\u001B[49m\u001B[38;5;241;43m*\u001B[39;49m\u001B[43margs\u001B[49m\u001B[43m,\u001B[49m\u001B[43m \u001B[49m\u001B[38;5;241;43m*\u001B[39;49m\u001B[38;5;241;43m*\u001B[39;49m\u001B[43mkwargs\u001B[49m\u001B[43m)\u001B[49m\n\u001B[1;32m   1749\u001B[0m result \u001B[38;5;241m=\u001B[39m \u001B[38;5;28;01mNone\u001B[39;00m\n\u001B[1;32m   1750\u001B[0m called_always_called_hooks \u001B[38;5;241m=\u001B[39m \u001B[38;5;28mset\u001B[39m()\n",
      "File \u001B[0;32m~/.local/share/mamba/envs/liriscat/lib/python3.11/site-packages/cornac/models/gcmc/nn_modules.py:127\u001B[0m, in \u001B[0;36mGCMCGraphConv.forward\u001B[0;34m(self, graph, feat, weight)\u001B[0m\n\u001B[1;32m    105\u001B[0m \u001B[38;5;28;01mdef\u001B[39;00m \u001B[38;5;21mforward\u001B[39m(\u001B[38;5;28mself\u001B[39m, graph, feat, weight\u001B[38;5;241m=\u001B[39m\u001B[38;5;28;01mNone\u001B[39;00m):\n\u001B[1;32m    106\u001B[0m \u001B[38;5;250m    \u001B[39m\u001B[38;5;124;03m\"\"\"Compute graph convolution.\u001B[39;00m\n\u001B[1;32m    107\u001B[0m \n\u001B[1;32m    108\u001B[0m \u001B[38;5;124;03m    Normalizer constant :math:`c_{ij}` is stored as two node data \"ci\"\u001B[39;00m\n\u001B[0;32m   (...)\u001B[0m\n\u001B[1;32m    125\u001B[0m \u001B[38;5;124;03m        The output feature\u001B[39;00m\n\u001B[1;32m    126\u001B[0m \u001B[38;5;124;03m    \"\"\"\u001B[39;00m\n\u001B[0;32m--> 127\u001B[0m \u001B[43m    \u001B[49m\u001B[38;5;28;43;01mwith\u001B[39;49;00m\u001B[43m \u001B[49m\u001B[43mgraph\u001B[49m\u001B[38;5;241;43m.\u001B[39;49m\u001B[43mlocal_scope\u001B[49m\u001B[43m(\u001B[49m\u001B[43m)\u001B[49m\u001B[43m:\u001B[49m\n\u001B[1;32m    128\u001B[0m \u001B[43m        \u001B[49m\u001B[38;5;28;43;01mif\u001B[39;49;00m\u001B[43m \u001B[49m\u001B[38;5;28;43misinstance\u001B[39;49m\u001B[43m(\u001B[49m\u001B[43mfeat\u001B[49m\u001B[43m,\u001B[49m\u001B[43m \u001B[49m\u001B[38;5;28;43mtuple\u001B[39;49m\u001B[43m)\u001B[49m\u001B[43m:\u001B[49m\n\u001B[1;32m    129\u001B[0m \u001B[43m            \u001B[49m\u001B[43mfeat\u001B[49m\u001B[43m,\u001B[49m\u001B[43m \u001B[49m\u001B[43m_\u001B[49m\u001B[43m \u001B[49m\u001B[38;5;241;43m=\u001B[39;49m\u001B[43m \u001B[49m\u001B[43mfeat\u001B[49m\u001B[43m  \u001B[49m\u001B[38;5;66;43;03m# dst feature not used\u001B[39;49;00m\n",
      "File \u001B[0;32m~/.local/share/mamba/envs/liriscat/lib/python3.11/contextlib.py:144\u001B[0m, in \u001B[0;36m_GeneratorContextManager.__exit__\u001B[0;34m(self, typ, value, traceback)\u001B[0m\n\u001B[1;32m    142\u001B[0m \u001B[38;5;28;01mif\u001B[39;00m typ \u001B[38;5;129;01mis\u001B[39;00m \u001B[38;5;28;01mNone\u001B[39;00m:\n\u001B[1;32m    143\u001B[0m     \u001B[38;5;28;01mtry\u001B[39;00m:\n\u001B[0;32m--> 144\u001B[0m         \u001B[38;5;28mnext\u001B[39m(\u001B[38;5;28mself\u001B[39m\u001B[38;5;241m.\u001B[39mgen)\n\u001B[1;32m    145\u001B[0m     \u001B[38;5;28;01mexcept\u001B[39;00m \u001B[38;5;167;01mStopIteration\u001B[39;00m:\n\u001B[1;32m    146\u001B[0m         \u001B[38;5;28;01mreturn\u001B[39;00m \u001B[38;5;28;01mFalse\u001B[39;00m\n",
      "File \u001B[0;32m~/.local/share/mamba/envs/liriscat/lib/python3.11/site-packages/dgl/heterograph.py:6085\u001B[0m, in \u001B[0;36mDGLGraph.local_scope\u001B[0;34m(self)\u001B[0m\n\u001B[1;32m   6083\u001B[0m \u001B[38;5;28mself\u001B[39m\u001B[38;5;241m.\u001B[39m_edge_frames \u001B[38;5;241m=\u001B[39m [fr\u001B[38;5;241m.\u001B[39mclone() \u001B[38;5;28;01mfor\u001B[39;00m fr \u001B[38;5;129;01min\u001B[39;00m \u001B[38;5;28mself\u001B[39m\u001B[38;5;241m.\u001B[39m_edge_frames]\n\u001B[1;32m   6084\u001B[0m \u001B[38;5;28;01mtry\u001B[39;00m:\n\u001B[0;32m-> 6085\u001B[0m     \u001B[38;5;28;01myield\u001B[39;00m\n\u001B[1;32m   6086\u001B[0m \u001B[38;5;28;01mfinally\u001B[39;00m:\n\u001B[1;32m   6087\u001B[0m     \u001B[38;5;28mself\u001B[39m\u001B[38;5;241m.\u001B[39m_node_frames \u001B[38;5;241m=\u001B[39m old_nframes\n",
      "\u001B[0;31mKeyboardInterrupt\u001B[0m: "
     ]
    }
   ],
   "execution_count": 9
  },
  {
   "metadata": {},
   "cell_type": "code",
   "source": "",
   "id": "8a07baba00092e4",
   "outputs": [],
   "execution_count": null
  }
 ],
 "metadata": {
  "kernelspec": {
   "display_name": "Python 3 (ipykernel)",
   "language": "python",
   "name": "python3"
  },
  "language_info": {
   "codemirror_mode": {
    "name": "ipython",
    "version": 3
   },
   "file_extension": ".py",
   "mimetype": "text/x-python",
   "name": "python",
   "nbconvert_exporter": "python",
   "pygments_lexer": "ipython3",
   "version": "3.11.11"
  }
 },
 "nbformat": 4,
 "nbformat_minor": 5
}
