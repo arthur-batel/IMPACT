{
 "cells": [
  {
   "cell_type": "markdown",
   "id": "fc9e923c5a6fbe3b",
   "metadata": {
    "collapsed": false,
    "jupyter": {
     "outputs_hidden": false
    }
   },
   "source": [
    "# SVD Cornac experiments\n",
    "### 1. Init\n",
    "#### 1.1. Import libraries"
   ]
  },
  {
   "cell_type": "code",
   "id": "01af8a76-5372-4abb-b7d9-80395a73d725",
   "metadata": {
    "ExecuteTime": {
     "end_time": "2025-01-15T18:19:10.827742Z",
     "start_time": "2025-01-15T18:19:09.078483Z"
    }
   },
   "source": [
    "%load_ext autoreload\n",
    "%autoreload 2\n",
    "%reload_ext autoreload\n",
    "\n",
    "import sys\n",
    "sys.path.append(\"../../\")\n",
    "\n",
    "\n",
    "import os\n",
    "os.environ[\"PYTORCH_CUDA_ALLOC_CONF\"] = \"expandable_segments:True\"\n",
    "\n",
    "from IMPACT import utils\n",
    "utils.set_seed(0)\n",
    "from IMPACT import dataset\n",
    "from IMPACT import model\n",
    "from experiments.datasets.external_packages import cornac_util\n",
    "\n",
    "import optuna\n",
    "import gc\n",
    "import json\n",
    "import torch\n",
    "import pandas as pd\n",
    "from importlib import reload\n",
    "\n",
    "\n",
    "from cornac.models import SVD\n",
    "from cornac.metrics import MAE, RMSE, RatingMetric\n",
    "import logging\n",
    "import cornac"
   ],
   "outputs": [],
   "execution_count": 1
  },
  {
   "cell_type": "markdown",
   "id": "5b64c0ba4b3d941a",
   "metadata": {},
   "source": [
    "#### 1.2. Set up the loggers"
   ]
  },
  {
   "cell_type": "code",
   "id": "774c46a0b619fc02",
   "metadata": {
    "collapsed": false,
    "jupyter": {
     "outputs_hidden": false
    },
    "ExecuteTime": {
     "end_time": "2025-01-15T18:19:13.397168Z",
     "start_time": "2025-01-15T18:19:12.384221Z"
    }
   },
   "source": "utils.setuplogger(verbose = True, log_name=\"SVD_cornac\")",
   "outputs": [],
   "execution_count": 2
  },
  {
   "cell_type": "markdown",
   "id": "da32ec3e00f62e0",
   "metadata": {},
   "source": [
    "#### 1.4. Parametrize the datasets"
   ]
  },
  {
   "cell_type": "code",
   "id": "2c9c72588f9c3af8",
   "metadata": {
    "collapsed": false,
    "jupyter": {
     "outputs_hidden": false
    },
    "ExecuteTime": {
     "end_time": "2025-01-15T18:19:13.419156Z",
     "start_time": "2025-01-15T18:19:13.400771Z"
    }
   },
   "source": "",
   "outputs": [
    {
     "name": "stdout",
     "output_type": "stream",
     "text": [
      "[INFO 19:13] #### postcovid ####\n",
      "[INFO 19:13] #### config : {'seed': 0, 'load_params': False, 'save_params': False, 'embs_path': '../embs/postcovid', 'params_path': '../ckpt/postcovid', 'early_stopping': True, 'fast_training': True, 'learning_rate': 0.001, 'batch_size': 2048, 'num_epochs': 200, 'num_dim': 10, 'eval_freq': 1, 'patience': 30, 'device': 'cuda:0', 'lambda': 7.7e-06, 'tensorboard': False, 'flush_freq': True, 'prednet_len1': 128, 'prednet_len2': 64, 'best_params_path': '', 'num_layers': 0, 'version': 'pair', 'p_dropout': 0, 'low_mem_mode': True, 'user_nbrs_n': 10, 'item_nbrs_n': 5} ####\n"
     ]
    }
   ],
   "execution_count": 3
  },
  {
   "metadata": {},
   "cell_type": "code",
   "outputs": [],
   "execution_count": null,
   "source": [
    "# choose dataset here\n",
    "dataset_name = 'postcovid'\n",
    "version= \"\"#\"_small\"\n",
    "# modify config here\n",
    "\n",
    "if torch.cuda.is_available():\n",
    "    device = torch.device(\"cuda\")\n",
    "    print(\"CUDA is available. Using GPU.\")\n",
    "else:\n",
    "    device = torch.device(\"cpu\")\n",
    "    print(\"CUDA is not available. Using CPU.\")\n",
    "\n",
    "config = {\n",
    "\n",
    "    # General params\n",
    "    'seed' : 0,\n",
    "\n",
    "    # Saving params\n",
    "    'load_params': False,\n",
    "    'save_params': False,\n",
    "    'embs_path' : '../embs/'+str(dataset_name),\n",
    "    'params_path' :'../ckpt/'+str(dataset_name),\n",
    "\n",
    "    # training mode\n",
    "    'early_stopping' : True,\n",
    "    'fast_training' : True, # (Only taken in account if early_stopping == true) If true, doesn't compute valid rmse PC-ER\n",
    "\n",
    "    # Learning params\n",
    "    'learning_rate': 0.001,\n",
    "    'batch_size': 2048,\n",
    "    'num_epochs': 200,\n",
    "    'num_dim': 10, # for IRT or MIRT todo : is it necessary as we use concepts knowledge number as embedding dimension ?\n",
    "    'eval_freq' : 1,\n",
    "    'patience' : 30,\n",
    "    'device': device,\n",
    "    'lambda' : 7.7e-6,\n",
    "    'tensorboard': False,\n",
    "    'flush_freq' : True,\n",
    "\n",
    "    # for NeuralCD\n",
    "    'prednet_len1': 128,\n",
    "    'prednet_len2': 64,\n",
    "    'best_params_path':'',\n",
    "\n",
    "    #For GCCD\n",
    "    'num_layers': 0,\n",
    "    'version': 'pair',\n",
    "    'p_dropout': 0,\n",
    "    'low_mem_mode' : True,\n",
    "    'user_nbrs_n' : 10,\n",
    "    'item_nbrs_n' : 5\n",
    "}\n",
    "concept_map = json.load(open(f'../datasets/{dataset_name}/concept_map.json', 'r'))\n",
    "concept_map = {int(k):[int(x) for x in v] for k,v in concept_map.items()}\n",
    "metadata = json.load(open(f'../datasets/{dataset_name}/metadata.json', 'r'))\n",
    "utils.set_seed(config['seed'])\n",
    "dataset_name += version\n",
    "logging.info(f'#### {dataset_name} ####')\n",
    "logging.info(f'#### config : {config} ####')"
   ],
   "id": "fd84c0d3870de927"
  },
  {
   "metadata": {
    "ExecuteTime": {
     "end_time": "2025-01-15T18:19:16.724136Z",
     "start_time": "2025-01-15T18:19:16.707660Z"
    }
   },
   "cell_type": "code",
   "source": [
    "def generate_SVD(config,metadata) :\n",
    "    return cornac.models.SVD(\n",
    "        name=\"SVD\",\n",
    "        k=metadata['num_dimension_id'],\n",
    "        max_iter=config['num_epochs'],\n",
    "        learning_rate=config['learning_rate'],\n",
    "        lambda_reg=config['lambda'],\n",
    "        early_stop=True,\n",
    "        num_threads=0,\n",
    "        trainable=True,\n",
    "        verbose=False,\n",
    "        init_params=None,\n",
    "        seed=config['seed'],\n",
    "    )"
   ],
   "id": "6599cf90f2e9b9ef",
   "outputs": [],
   "execution_count": 4
  },
  {
   "cell_type": "markdown",
   "id": "ea3179426d9afedb",
   "metadata": {
    "collapsed": false,
    "jupyter": {
     "outputs_hidden": false
    }
   },
   "source": [
    "### 2. CDM Training\n"
   ]
  },
  {
   "cell_type": "code",
   "id": "7f2a31713158f1f",
   "metadata": {},
   "source": [
    "reload(utils)\n",
    "reload(model)\n",
    "reload(dataset)\n",
    "\n",
    "seed = 0\n",
    "utils.set_seed(0)\n",
    "\n",
    "config['seed'] = seed\n",
    "config['early_stopping'] = True\n",
    "config['esc'] = 'objectives' #'loss' 'delta_objectives'\n",
    "config['num_epochs']=200\n",
    "config['eval_freq']=1\n",
    "config['patience']=30\n",
    "\n",
    "config['verbose_early_stopping'] = False\n",
    "config[\"tensorboard\"] = False\n",
    "config['flush_freq'] = False\n",
    "config['save_params']= False\n",
    "config['disable_tqdm'] = True"
   ],
   "outputs": [],
   "execution_count": null
  },
  {
   "cell_type": "code",
   "id": "4b93abcb46b3c18a",
   "metadata": {},
   "source": [
    "reload(cornac_util)\n",
    "\n",
    "dataset_name = \"postcovid\"\n",
    "eval_method,concept_map,metadata = cornac_util.load_dataset(dataset_name,config, 0)\n",
    "\n",
    "study = optuna.create_study(\n",
    "    directions=[\"minimize\"],  # Specify directions for each objective\n",
    ")\n",
    "gc.collect()\n",
    "torch.cuda.empty_cache()\n",
    "study.optimize(lambda trial: cornac_util.objective_SVD(trial, config,metadata,eval_method,generate_SVD), n_trials=100, timeout=1800, n_jobs=4, gc_after_trial=True)\n",
    "\n",
    "# Analyze the results\n",
    "## requirements : plotly, nbformat\n",
    "pareto_trials = study.best_trials\n",
    "logging.info(f\"Best trial for {dataset_name} : {study.best_trials}\") \n",
    "\n",
    "logging.info(\"Number of trials :\"+str(len(study.trials)))\n",
    "for trial in study.trials:\n",
    "    logging.info(f\"Trial #{trial.number}\")\n",
    "    logging.info(f\"  RMSE: {trial.values}\")\n",
    "    #logging.info(f\"  DOA: {trial.values[1]}\")\n",
    "    logging.info(f\"  Params: {trial.params}\")\n",
    "\n",
    "dataset_name = \"promis\"\n",
    "eval_method,concept_map,metadata = cornac_util.load_dataset(dataset_name,config, 0)\n",
    "\n",
    "study = optuna.create_study(\n",
    "    directions=[\"minimize\"],  # Specify directions for each objective\n",
    ")\n",
    "gc.collect()\n",
    "torch.cuda.empty_cache()\n",
    "study.optimize(lambda trial: cornac_util.objective_SVD(trial, config,metadata,eval_method,generate_SVD), n_trials=100, timeout=3600, n_jobs=4, gc_after_trial=True)\n",
    "\n",
    "# Analyze the results\n",
    "## requirements : plotly, nbformat\n",
    "logging.info(f\"Best trial for {dataset_name} : {study.best_trials}\") \n",
    "\n",
    "logging.info(\"Number of trials :\"+str(len(study.trials)))\n",
    "for trial in study.trials:\n",
    "    logging.info(f\"Trial #{trial.number}\")\n",
    "    logging.info(f\"  RMSE: {trial.values}\")\n",
    "    #logging.info(f\"  DOA: {trial.values[1]}\")\n",
    "    logging.info(f\"  Params: {trial.params}\")\n",
    "\n",
    "dataset_name = \"movielens\"\n",
    "eval_method,concept_map,metadata = cornac_util.load_dataset(dataset_name,config, 0)\n",
    "\n",
    "study = optuna.create_study(\n",
    "    directions=[\"minimize\"],  # Specify directions for each objective\n",
    ")\n",
    "gc.collect()\n",
    "torch.cuda.empty_cache()\n",
    "study.optimize(lambda trial: cornac_util.objective_SVD(trial, config,metadata,eval_method,generate_SVD), n_trials=100, timeout=3600, n_jobs=4, gc_after_trial=True)\n",
    "\n",
    "# Analyze the results\n",
    "## requirements : plotly, nbformat\n",
    "logging.info(f\"Best trial for {dataset_name} : {study.best_trials}\") \n",
    "\n",
    "logging.info(\"Number of trials :\"+str(len(study.trials)))\n",
    "for trial in study.trials:\n",
    "    logging.info(f\"Trial #{trial.number}\")\n",
    "    logging.info(f\"  RMSE: {trial.values}\")\n",
    "    #logging.info(f\"  DOA: {trial.values[1]}\")\n",
    "    logging.info(f\"  Params: {trial.params}\")\n",
    "    \n",
    "dataset_name = \"portrait\"\n",
    "eval_method,concept_map,metadata = cornac_util.load_dataset(dataset_name,config, 0)\n",
    "\n",
    "study = optuna.create_study(\n",
    "    directions=[\"minimize\"],  # Specify directions for each objective\n",
    ")\n",
    "gc.collect()\n",
    "torch.cuda.empty_cache()\n",
    "study.optimize(lambda trial: cornac_util.objective_SVD(trial, config,metadata,eval_method,generate_SVD), n_trials=100, timeout=3600, n_jobs=4, gc_after_trial=True)\n",
    "\n",
    "# Analyze the results\n",
    "## requirements : plotly, nbformat\n",
    "logging.info(f\"Best trial for {dataset_name} : {study.best_trials}\") \n",
    "\n",
    "logging.info(\"Number of trials :\"+str(len(study.trials)))\n",
    "for trial in study.trials:\n",
    "    logging.info(f\"Trial #{trial.number}\")\n",
    "    logging.info(f\"  RMSE: {trial.values}\")\n",
    "    #logging.info(f\"  DOA: {trial.values[1]}\")\n",
    "    logging.info(f\"  Params: {trial.params}\")\n"
   ],
   "outputs": [],
   "execution_count": null
  },
  {
   "cell_type": "markdown",
   "id": "c548e520-45cf-485d-bac5-e583c2406757",
   "metadata": {},
   "source": [
    "### 3. CDM Prediction\n",
    "#### 3.1. Training and testing"
   ]
  },
  {
   "metadata": {
    "ExecuteTime": {
     "end_time": "2025-01-15T18:19:26.167650Z",
     "start_time": "2025-01-15T18:19:26.151848Z"
    }
   },
   "cell_type": "code",
   "source": [
    "def find_emb(algo):\n",
    "    return algo.u_factors"
   ],
   "id": "7ab07af493290463",
   "outputs": [],
   "execution_count": 5
  },
  {
   "metadata": {
    "ExecuteTime": {
     "end_time": "2025-01-15T18:20:35.766376Z",
     "start_time": "2025-01-15T18:20:28.408354Z"
    }
   },
   "cell_type": "code",
   "source": [
    "reload(cornac_util)\n",
    "\n",
    "dataset_name = \"postcovid\"\n",
    "logging.info(dataset_name)\n",
    "config['learning_rate'] = 0.00496\n",
    "config['lambda'] = 0.0002607\n",
    "metrics = cornac_util.test(dataset_name,config,generate_SVD,find_emb)\n",
    "#\n",
    "# dataset_name = \"promis\"\n",
    "# logging.info(dataset_name)\n",
    "# config['learning_rate'] = 0.00239\n",
    "# config['lambda'] = 5.42e-6\n",
    "# metrics = cornac_util.test(dataset_name,config,generate_SVD,find_emb)\n",
    "#\n",
    "# dataset_name = \"movielens\"\n",
    "# logging.info(dataset_name)\n",
    "# config['learning_rate'] = 0.00519\n",
    "# config['lambda'] = 0.0001173\n",
    "# metrics = cornac_util.test(dataset_name,config,generate_SVD,find_emb)\n",
    "\n",
    "# dataset_name = \"portrait\"\n",
    "# logging.info(dataset_name)\n",
    "# config['learning_rate'] = 0.00224\n",
    "# config['lambda'] = 0.0001569\n",
    "# metrics = cornac_util.test(dataset_name,config,generate_SVD,find_emb)"
   ],
   "id": "e84cf8b0d727a1db",
   "outputs": [
    {
     "name": "stdout",
     "output_type": "stream",
     "text": [
      "[INFO 20:28] postcovid\n"
     ]
    },
    {
     "name": "stderr",
     "output_type": "stream",
     "text": [
      "/home/arthurb/.local/share/mamba/envs/liriscat/lib/python3.11/site-packages/cornac/data/dataset.py:335: UserWarning: 5748 duplicated observations are removed!\n",
      "  warnings.warn(\"%d duplicated observations are removed!\" % dup_count)\n",
      "/home/arthurb/.local/share/mamba/envs/liriscat/lib/python3.11/site-packages/cornac/data/dataset.py:335: UserWarning: 712 duplicated observations are removed!\n",
      "  warnings.warn(\"%d duplicated observations are removed!\" % dup_count)\n",
      "/home/arthurb/.local/share/mamba/envs/liriscat/lib/python3.11/site-packages/cornac/data/dataset.py:335: UserWarning: 719 duplicated observations are removed!\n",
      "  warnings.warn(\"%d duplicated observations are removed!\" % dup_count)\n",
      "Rating: 100%|██████████| 10007/10007 [00:00<00:00, 179661.76it/s]\n",
      "Rating: 100%|██████████| 10007/10007 [00:00<00:00, 185349.53it/s]\n",
      "Rating: 100%|██████████| 10007/10007 [00:00<00:00, 192452.73it/s]\n",
      "/home/arthurb/.local/share/mamba/envs/liriscat/lib/python3.11/site-packages/cornac/data/dataset.py:335: UserWarning: 5747 duplicated observations are removed!\n",
      "  warnings.warn(\"%d duplicated observations are removed!\" % dup_count)\n",
      "/home/arthurb/.local/share/mamba/envs/liriscat/lib/python3.11/site-packages/cornac/data/dataset.py:335: UserWarning: 710 duplicated observations are removed!\n",
      "  warnings.warn(\"%d duplicated observations are removed!\" % dup_count)\n",
      "/home/arthurb/.local/share/mamba/envs/liriscat/lib/python3.11/site-packages/cornac/data/dataset.py:335: UserWarning: 762 duplicated observations are removed!\n",
      "  warnings.warn(\"%d duplicated observations are removed!\" % dup_count)\n",
      "Rating: 100%|██████████| 9875/9875 [00:00<00:00, 190598.42it/s]\n",
      "Rating: 100%|██████████| 9875/9875 [00:00<00:00, 182530.62it/s]\n",
      "Rating: 100%|██████████| 9875/9875 [00:00<00:00, 217373.35it/s]\n",
      "/home/arthurb/.local/share/mamba/envs/liriscat/lib/python3.11/site-packages/cornac/data/dataset.py:335: UserWarning: 5742 duplicated observations are removed!\n",
      "  warnings.warn(\"%d duplicated observations are removed!\" % dup_count)\n",
      "/home/arthurb/.local/share/mamba/envs/liriscat/lib/python3.11/site-packages/cornac/data/dataset.py:335: UserWarning: 713 duplicated observations are removed!\n",
      "  warnings.warn(\"%d duplicated observations are removed!\" % dup_count)\n",
      "/home/arthurb/.local/share/mamba/envs/liriscat/lib/python3.11/site-packages/cornac/data/dataset.py:335: UserWarning: 744 duplicated observations are removed!\n",
      "  warnings.warn(\"%d duplicated observations are removed!\" % dup_count)\n",
      "Rating: 100%|██████████| 9692/9692 [00:00<00:00, 209505.52it/s]\n",
      "Rating: 100%|██████████| 9692/9692 [00:00<00:00, 165024.70it/s]\n",
      "Rating: 100%|██████████| 9692/9692 [00:00<00:00, 183313.32it/s]\n",
      "/home/arthurb/.local/share/mamba/envs/liriscat/lib/python3.11/site-packages/cornac/data/dataset.py:335: UserWarning: 5829 duplicated observations are removed!\n",
      "  warnings.warn(\"%d duplicated observations are removed!\" % dup_count)\n",
      "/home/arthurb/.local/share/mamba/envs/liriscat/lib/python3.11/site-packages/cornac/data/dataset.py:335: UserWarning: 719 duplicated observations are removed!\n",
      "  warnings.warn(\"%d duplicated observations are removed!\" % dup_count)\n",
      "/home/arthurb/.local/share/mamba/envs/liriscat/lib/python3.11/site-packages/cornac/data/dataset.py:335: UserWarning: 744 duplicated observations are removed!\n",
      "  warnings.warn(\"%d duplicated observations are removed!\" % dup_count)\n",
      "Rating: 100%|██████████| 9551/9551 [00:00<00:00, 204088.92it/s]\n",
      "Rating: 100%|██████████| 9551/9551 [00:00<00:00, 182255.68it/s]\n",
      "Rating: 100%|██████████| 9551/9551 [00:00<00:00, 175204.45it/s]\n",
      "/home/arthurb/.local/share/mamba/envs/liriscat/lib/python3.11/site-packages/cornac/data/dataset.py:335: UserWarning: 5809 duplicated observations are removed!\n",
      "  warnings.warn(\"%d duplicated observations are removed!\" % dup_count)\n",
      "/home/arthurb/.local/share/mamba/envs/liriscat/lib/python3.11/site-packages/cornac/data/dataset.py:335: UserWarning: 690 duplicated observations are removed!\n",
      "  warnings.warn(\"%d duplicated observations are removed!\" % dup_count)\n",
      "/home/arthurb/.local/share/mamba/envs/liriscat/lib/python3.11/site-packages/cornac/data/dataset.py:335: UserWarning: 739 duplicated observations are removed!\n",
      "  warnings.warn(\"%d duplicated observations are removed!\" % dup_count)\n",
      "Rating: 100%|██████████| 9458/9458 [00:00<00:00, 201196.57it/s]\n",
      "Rating: 100%|██████████| 9458/9458 [00:00<00:00, 138460.37it/s]\n",
      "Rating: 100%|██████████| 9458/9458 [00:00<00:00, 184772.48it/s]"
     ]
    },
    {
     "name": "stdout",
     "output_type": "stream",
     "text": [
      "[INFO 20:35] rmse : 0.2295 +- 0.0015\n",
      "[INFO 20:35] mae : 0.1744 +- 0.0014\n",
      "[INFO 20:35] r2 : 0.5070 +- 0.0066\n",
      "[INFO 20:35] pc-er : 0.0555 +- 0.0433\n",
      "[INFO 20:35] doa : 0.5207 +- 0.0157\n",
      "[INFO 20:35] rm : 0.0585 +- 0.0451\n",
      "[INFO 20:35] rmse_round : 0.2447 +- 0.0017\n",
      "[INFO 20:35] mae_round : 0.1725 +- 0.0018\n"
     ]
    },
    {
     "name": "stderr",
     "output_type": "stream",
     "text": [
      "\n"
     ]
    }
   ],
   "execution_count": 7
  },
  {
   "metadata": {},
   "cell_type": "code",
   "outputs": [],
   "execution_count": null,
   "source": "",
   "id": "83490c0ea50a9475"
  }
 ],
 "metadata": {
  "kernelspec": {
   "display_name": "Python 3 (ipykernel)",
   "language": "python",
   "name": "python3"
  },
  "language_info": {
   "codemirror_mode": {
    "name": "ipython",
    "version": 3
   },
   "file_extension": ".py",
   "mimetype": "text/x-python",
   "name": "python",
   "nbconvert_exporter": "python",
   "pygments_lexer": "ipython3",
   "version": "3.11.11"
  }
 },
 "nbformat": 4,
 "nbformat_minor": 5
}
