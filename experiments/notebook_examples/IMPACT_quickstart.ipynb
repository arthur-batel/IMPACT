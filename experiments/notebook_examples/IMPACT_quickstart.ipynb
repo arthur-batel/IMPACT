{
 "cells": [
  {
   "metadata": {},
   "cell_type": "markdown",
   "source": "# IMPACT in few lines of code",
   "id": "f5d4b13e73aeece6"
  },
  {
   "metadata": {
    "collapsed": true
   },
   "cell_type": "code",
   "outputs": [],
   "execution_count": null,
   "source": [
    "%load_ext autoreload\n",
    "%autoreload 2\n",
    "from IMPACT import utils, model, dataset\n",
    "\n",
    "# Set all the required parameters ---------------\n",
    "config = utils.generate_eval_config(dataset_name=\"postcovid\", learning_rate=0.02026, lambda_=1.2e-5, batch_size=2048, num_epochs=200,\n",
    "                                    valid_metric='rmse', pred_metrics=['rmse', 'mae'], profile_metrics=['doa', 'pc-er'])\n",
    "\n",
    "# Read the dataset and the metadata -------------\n",
    "concept_map, train_data, valid_data, test_data = utils.prepare_dataset(config, i_fold=0)\n",
    "\n",
    "# Train the model --------------------------------\n",
    "algo = model.IMPACT(**config)\n",
    "algo.init_model(train_data, valid_data)\n",
    "algo.train(train_data, valid_data)\n",
    "\n",
    "# Test the model --------------------------------\n",
    "eval = algo.evaluate_predictions(test_data)\n",
    "print(\"rmse :\", eval[\"rmse\"])\n",
    "print(\"mae :\", eval[\"mae\"])\n",
    "eval = algo.evaluate_profiles(test_data)\n",
    "print(\"pc-er:\", eval[\"pc-er\"])\n",
    "print(\"doa:\", eval[\"doa\"])"
   ],
   "id": "initial_id"
  }
 ],
 "metadata": {
  "kernelspec": {
   "display_name": "Python 3",
   "language": "python",
   "name": "python3"
  },
  "language_info": {
   "codemirror_mode": {
    "name": "ipython",
    "version": 2
   },
   "file_extension": ".py",
   "mimetype": "text/x-python",
   "name": "python",
   "nbconvert_exporter": "python",
   "pygments_lexer": "ipython2",
   "version": "2.7.6"
  }
 },
 "nbformat": 4,
 "nbformat_minor": 5
}
