{
 "cells": [
  {
   "metadata": {},
   "cell_type": "markdown",
   "source": "# IMPACT in few lines of code",
   "id": "f5d4b13e73aeece6"
  },
  {
   "metadata": {
    "ExecuteTime": {
     "end_time": "2025-05-12T13:54:09.620795Z",
     "start_time": "2025-05-12T13:54:01.378402Z"
    }
   },
   "cell_type": "code",
   "source": [
    "%load_ext autoreload\n",
    "%autoreload 2\n",
    "from IMPACT import utils, model\n",
    "\n",
    "# Set all the required parameters ---------------\n",
    "config = utils.generate_eval_config(dataset_name=\"math2\", learning_rate=0.02026, lambda_=1.2e-5, batch_size=2048, num_epochs=200,\n",
    "                                    valid_metric='mi_acc', pred_metrics=['ma_rec', 'mi_acc', 'mi_rec'], profile_metrics=['doa', 'pc-er'])\n",
    "\n",
    "# Read the dataset and the metadata -------------\n",
    "train_data, valid_data, test_data = utils.prepare_dataset(config, i_fold=0)"
   ],
   "id": "8ef9b457a6b61689",
   "outputs": [
    {
     "name": "stdout",
     "output_type": "stream",
     "text": [
      "CUDA is not available. Using CPU.\n"
     ]
    }
   ],
   "execution_count": 1
  },
  {
   "metadata": {
    "collapsed": true,
    "ExecuteTime": {
     "end_time": "2025-05-12T14:21:30.911808Z",
     "start_time": "2025-05-12T13:54:09.629910Z"
    }
   },
   "cell_type": "code",
   "source": [
    "\n",
    "# Train the model --------------------------------\n",
    "algo = model.IMPACT(**config)\n",
    "algo.init_model(train_data, valid_data)\n",
    "algo.train(train_data, valid_data)\n",
    "\n",
    "# Test the model --------------------------------\n",
    "eval = algo.evaluate_predictions(test_data)\n",
    "print(eval)\n",
    "eval = algo.evaluate_profiles(test_data)\n",
    "print(\"pc-er:\", eval[\"pc-er\"])\n",
    "print(\"doa:\", eval[\"doa\"])"
   ],
   "id": "initial_id",
   "outputs": [
    {
     "name": "stdout",
     "output_type": "stream",
     "text": [
      "CUDA is not available. Skipping CUDA seed setting.\n"
     ]
    },
    {
     "name": "stderr",
     "output_type": "stream",
     "text": [
      "201it [27:14,  8.13s/it]                         \n"
     ]
    },
    {
     "name": "stdout",
     "output_type": "stream",
     "text": [
      "actual_tensor : tensor([0.8834, 0.8777, 0.0000, 0.0000, 0.0000, 0.0000, 0.0000, 0.0000, 0.0000,\n",
      "        0.0000, 0.8668, 0.2656])\n",
      "{'ma_rec': 0.2411288470029831, 'mi_acc': 0.7721810340881348, 'mi_rec': 0.8777343034744263, 'preds': tensor([1.0000, 2.0000, 2.0000,  ..., 1.0000, 1.4545, 1.6364],\n",
      "       dtype=torch.float64), 'labels': tensor([1.0000, 2.0000, 2.0000,  ..., 1.0000, 1.5000, 1.6667],\n",
      "       dtype=torch.float64), 'nb_modalities': tensor([ 2,  2,  2,  ...,  2, 12, 12])}\n",
      "pc-er: 0.37481689453125\n",
      "doa: 0.7713253695909503\n"
     ]
    }
   ],
   "execution_count": 2
  },
  {
   "metadata": {},
   "cell_type": "code",
   "outputs": [],
   "execution_count": null,
   "source": "# Saving and loading a model",
   "id": "524c14637959fe66"
  },
  {
   "metadata": {},
   "cell_type": "code",
   "outputs": [],
   "execution_count": null,
   "source": "## Saving a model",
   "id": "3e557ddb53f668f4"
  },
  {
   "metadata": {},
   "cell_type": "code",
   "outputs": [],
   "execution_count": null,
   "source": [
    "config = utils.generate_eval_config(dataset_name=\"postcovid\", learning_rate=0.02026, lambda_=1.2e-5, batch_size=2048, num_epochs=200,valid_metric='rmse', save_params=True)\n",
    "\n",
    "# Read the dataset and the metadata -------------\n",
    "train_data, valid_data, test_data = utils.prepare_dataset(config, i_fold=0)\n",
    "\n",
    "# Train the model --------------------------------\n",
    "algo = model.IMPACT(**config)\n",
    "algo.init_model(train_data, valid_data)\n",
    "algo.train(train_data, valid_data)"
   ],
   "id": "535450eb59c2c04d"
  },
  {
   "metadata": {},
   "cell_type": "markdown",
   "source": "## Loading a model",
   "id": "59f5a5b9136a2e7"
  },
  {
   "metadata": {},
   "cell_type": "code",
   "outputs": [],
   "execution_count": null,
   "source": [
    "config = utils.generate_eval_config(dataset_name=\"postcovid\", learning_rate=0.02026, lambda_=1.2e-5, batch_size=2048, num_epochs=200, valid_metric='rmse', pred_metrics=['rmse', 'mae'], load_params=True, )\n",
    "\n",
    "# Read the dataset and the metadata -\n",
    "train_data, valid_data, test_data = utils.prepare_dataset(config, i_fold=0)\n",
    "\n",
    "# Train the model --------------------------------\n",
    "algo = model.IMPACT(**config)\n",
    "algo.init_model(train_data, valid_data)\n",
    "\n",
    "# Test the model --------------------------------\n",
    "eval_preds = algo.evaluate_predictions(test_data)"
   ],
   "id": "a97262f8c1bebc68"
  }
 ],
 "metadata": {
  "kernelspec": {
   "display_name": "Python 3",
   "language": "python",
   "name": "python3"
  },
  "language_info": {
   "codemirror_mode": {
    "name": "ipython",
    "version": 2
   },
   "file_extension": ".py",
   "mimetype": "text/x-python",
   "name": "python",
   "nbconvert_exporter": "python",
   "pygments_lexer": "ipython2",
   "version": "2.7.6"
  }
 },
 "nbformat": 4,
 "nbformat_minor": 5
}
