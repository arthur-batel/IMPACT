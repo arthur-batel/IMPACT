{
 "cells": [
  {
   "metadata": {},
   "cell_type": "markdown",
   "source": "# IMPACT in few lines of code",
   "id": "f5d4b13e73aeece6"
  },
  {
   "metadata": {
    "collapsed": true
   },
   "cell_type": "code",
   "outputs": [],
   "execution_count": null,
   "source": [
    "%load_ext autoreload\n",
    "%autoreload 2\n",
    "from IMPACT import utils, model\n",
    "\n",
    "# Set all the required parameters ---------------\n",
    "config = utils.generate_eval_config(dataset_name=\"postcovid\", learning_rate=0.02026, lambda_=1.2e-5, batch_size=2048, num_epochs=200,\n",
    "                                    valid_metric='rmse', pred_metrics=['rmse', 'mae'], profile_metrics=['doa', 'pc-er'])\n",
    "\n",
    "# Read the dataset and the metadata -------------\n",
    "concept_map, train_data, valid_data, test_data = utils.prepare_dataset(config, i_fold=0)\n",
    "\n",
    "# Train the model --------------------------------\n",
    "algo = model.IMPACT(**config)\n",
    "algo.init_model(train_data, valid_data)\n",
    "algo.train(train_data, valid_data)\n",
    "\n",
    "# Test the model --------------------------------\n",
    "eval = algo.evaluate_predictions(test_data)\n",
    "print(\"rmse :\", eval[\"rmse\"])\n",
    "print(\"mae :\", eval[\"mae\"])\n",
    "eval = algo.evaluate_profiles(test_data)\n",
    "print(\"pc-er:\", eval[\"pc-er\"])\n",
    "print(\"doa:\", eval[\"doa\"])"
   ],
   "id": "initial_id"
  },
  {
   "metadata": {},
   "cell_type": "markdown",
   "source": "# Saving and loading a model",
   "id": "ef6553afdc5d45dc"
  },
  {
   "metadata": {},
   "cell_type": "markdown",
   "source": "## Saving a model",
   "id": "44cf5187150ffb7e"
  },
  {
   "metadata": {},
   "cell_type": "code",
   "outputs": [],
   "execution_count": null,
   "source": [
    "config = utils.generate_eval_config(dataset_name=\"postcovid\", learning_rate=0.02026, lambda_=1.2e-5, batch_size=2048, num_epochs=200,valid_metric='rmse', save_params=True)\n",
    "\n",
    "# Read the dataset and the metadata -------------\n",
    "concept_map, train_data, valid_data, test_data = utils.prepare_dataset(config, i_fold=0)\n",
    "\n",
    "# Train the model --------------------------------\n",
    "algo = model.IMPACT(**config)\n",
    "algo.init_model(train_data, valid_data)\n",
    "algo.train(train_data, valid_data)"
   ],
   "id": "535450eb59c2c04d"
  },
  {
   "metadata": {},
   "cell_type": "markdown",
   "source": "## Loading a model",
   "id": "59f5a5b9136a2e7"
  },
  {
   "metadata": {},
   "cell_type": "code",
   "outputs": [],
   "execution_count": null,
   "source": [
    "config = utils.generate_eval_config(dataset_name=\"postcovid\", learning_rate=0.02026, lambda_=1.2e-5, batch_size=2048, num_epochs=200, valid_metric='rmse', pred_metrics=['rmse', 'mae'], load_params=True, )\n",
    "\n",
    "# Read the dataset and the metadata -\n",
    "concept_map, train_data, valid_data, test_data = utils.prepare_dataset(config, i_fold=0)\n",
    "\n",
    "# Train the model --------------------------------\n",
    "algo = model.IMPACT(**config)\n",
    "algo.init_model(train_data, valid_data)\n",
    "\n",
    "# Test the model --------------------------------\n",
    "eval_preds = algo.evaluate_predictions(test_data)"
   ],
   "id": "a97262f8c1bebc68"
  }
 ],
 "metadata": {
  "kernelspec": {
   "display_name": "Python 3",
   "language": "python",
   "name": "python3"
  },
  "language_info": {
   "codemirror_mode": {
    "name": "ipython",
    "version": 2
   },
   "file_extension": ".py",
   "mimetype": "text/x-python",
   "name": "python",
   "nbconvert_exporter": "python",
   "pygments_lexer": "ipython2",
   "version": "2.7.6"
  }
 },
 "nbformat": 4,
 "nbformat_minor": 5
}
