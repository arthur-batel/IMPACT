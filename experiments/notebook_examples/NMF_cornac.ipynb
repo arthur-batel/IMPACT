{
 "cells": [
  {
   "cell_type": "markdown",
   "id": "fc9e923c5a6fbe3b",
   "metadata": {
    "collapsed": false,
    "jupyter": {
     "outputs_hidden": false
    }
   },
   "source": [
    "# NMF Cornac experiments\n",
    "### 1. Init\n",
    "#### 1.1. Import libraries"
   ]
  },
  {
   "cell_type": "code",
   "id": "01af8a76-5372-4abb-b7d9-80395a73d725",
   "metadata": {},
   "source": [
    "%load_ext autoreload\n",
    "%autoreload 2\n",
    "%reload_ext autoreload\n",
    "\n",
    "import sys\n",
    "sys.path.append(\"../../\")\n",
    "\n",
    "\n",
    "import os\n",
    "os.environ[\"PYTORCH_CUDA_ALLOC_CONF\"] = \"expandable_segments:True\"\n",
    "\n",
    "from IMPACT import utils\n",
    "utils.set_seed(0)\n",
    "from IMPACT import dataset\n",
    "from IMPACT import model\n",
    "from experiments.datasets.external_packages import cornac_util\n",
    "\n",
    "import optuna\n",
    "import gc\n",
    "import json\n",
    "import torch\n",
    "import pandas as pd\n",
    "from importlib import reload\n",
    "\n",
    "\n",
    "from cornac.models import PMF\n",
    "from cornac.metrics import MAE, RMSE, RatingMetric\n",
    "import logging\n",
    "import cornac"
   ],
   "outputs": [],
   "execution_count": null
  },
  {
   "cell_type": "markdown",
   "id": "5b64c0ba4b3d941a",
   "metadata": {},
   "source": [
    "#### 1.2. Set up the loggers"
   ]
  },
  {
   "cell_type": "code",
   "id": "774c46a0b619fc02",
   "metadata": {
    "collapsed": false,
    "jupyter": {
     "outputs_hidden": false
    }
   },
   "source": "utils.setuplogger(verbose = True, log_name=\"NMF_cornac\")",
   "outputs": [],
   "execution_count": null
  },
  {
   "cell_type": "markdown",
   "id": "da32ec3e00f62e0",
   "metadata": {},
   "source": [
    "#### 1.4. Parametrize the datasets"
   ]
  },
  {
   "cell_type": "code",
   "id": "2c9c72588f9c3af8",
   "metadata": {
    "collapsed": false,
    "jupyter": {
     "outputs_hidden": false
    }
   },
   "source": "",
   "outputs": [],
   "execution_count": null
  },
  {
   "metadata": {},
   "cell_type": "code",
   "outputs": [],
   "execution_count": null,
   "source": [
    "# choose dataset here\n",
    "dataset_name = 'postcovid'\n",
    "version= \"\"#\"_small\"\n",
    "# modify config here\n",
    "\n",
    "if torch.cuda.is_available():\n",
    "    device = torch.device(\"cuda\")\n",
    "    print(\"CUDA is available. Using GPU.\")\n",
    "else:\n",
    "    device = torch.device(\"cpu\")\n",
    "    print(\"CUDA is not available. Using CPU.\")\n",
    "\n",
    "config = {\n",
    "\n",
    "    # General params\n",
    "    'seed' : 0,\n",
    "\n",
    "    # Saving params\n",
    "    'load_params': False,\n",
    "    'save_params': False,\n",
    "    'embs_path' : '../embs/'+str(dataset_name),\n",
    "    'params_path' :'../ckpt/'+str(dataset_name),\n",
    "\n",
    "    # training mode\n",
    "    'early_stopping' : True,\n",
    "    'fast_training' : True, # (Only taken in account if early_stopping == true) If true, doesn't compute valid rmse PC-ER\n",
    "\n",
    "    # Learning params\n",
    "    'learning_rate': 0.001,\n",
    "    'batch_size': 2048,\n",
    "    'num_epochs': 200,\n",
    "    'num_dim': 10, # for IRT or MIRT todo : is it necessary as we use concepts knowledge number as embedding dimension ?\n",
    "    'eval_freq' : 1,\n",
    "    'patience' : 30,\n",
    "    'device': device,\n",
    "    'lambda' : 7.7e-6,\n",
    "    'tensorboard': False,\n",
    "    'flush_freq' : True,\n",
    "\n",
    "    # for NeuralCD\n",
    "    'prednet_len1': 128,\n",
    "    'prednet_len2': 64,\n",
    "    'best_params_path':'',\n",
    "\n",
    "    #For GCCD\n",
    "    'num_layers': 0,\n",
    "    'version': 'pair',\n",
    "    'p_dropout': 0,\n",
    "    'low_mem_mode' : True,\n",
    "    'user_nbrs_n' : 10,\n",
    "    'item_nbrs_n' : 5\n",
    "}\n",
    "concept_map = json.load(open(f'../datasets/{dataset_name}/concept_map.json', 'r'))\n",
    "concept_map = {int(k):[int(x) for x in v] for k,v in concept_map.items()}\n",
    "metadata = json.load(open(f'../datasets/{dataset_name}/metadata.json', 'r'))\n",
    "utils.set_seed(config['seed'])\n",
    "dataset_name += version\n",
    "logging.info(f'#### {dataset_name} ####')\n",
    "logging.info(f'#### config : {config} ####')"
   ],
   "id": "b469bd561147a428"
  },
  {
   "metadata": {},
   "cell_type": "code",
   "source": [
    "def generate_MF(config,metadata) :\n",
    "    return cornac.models.MF(\n",
    "        k=metadata[\"num_dimension_id\"],\n",
    "        max_iter=config['num_epochs'],\n",
    "        learning_rate=config['learning_rate'],\n",
    "        lambda_reg=config['lambda'],\n",
    "        use_bias=True,\n",
    "        early_stop=True,\n",
    "        verbose=False,\n",
    "        seed=config['seed']\n",
    "    )"
   ],
   "id": "6599cf90f2e9b9ef",
   "outputs": [],
   "execution_count": null
  },
  {
   "cell_type": "markdown",
   "id": "ea3179426d9afedb",
   "metadata": {
    "collapsed": false,
    "jupyter": {
     "outputs_hidden": false
    }
   },
   "source": [
    "### 2. CDM Training\n"
   ]
  },
  {
   "cell_type": "code",
   "id": "7f2a31713158f1f",
   "metadata": {},
   "source": [
    "reload(utils)\n",
    "reload(model)\n",
    "reload(dataset)\n",
    "\n",
    "seed = 0\n",
    "utils.set_seed(0)\n",
    "\n",
    "config['seed'] = seed\n",
    "config['early_stopping'] = True\n",
    "config['esc'] = 'objectives' #'loss' 'delta_objectives'\n",
    "config['num_epochs']=200\n",
    "config['eval_freq']=1\n",
    "config['patience']=30\n",
    "\n",
    "config['verbose_early_stopping'] = False\n",
    "config[\"tensorboard\"] = False\n",
    "config['flush_freq'] = False\n",
    "config['save_params']= False\n",
    "config['disable_tqdm'] = True"
   ],
   "outputs": [],
   "execution_count": null
  },
  {
   "cell_type": "code",
   "id": "4b93abcb46b3c18a",
   "metadata": {},
   "source": [
    "reload(cornac_util)\n",
    "\n",
    "dataset_name = \"postcovid\"\n",
    "eval_method,concept_map,metadata = cornac_util.load_dataset(dataset_name,config, 0)\n",
    "\n",
    "study = optuna.create_study(\n",
    "    directions=[\"minimize\"],  # Specify directions for each objective\n",
    ")\n",
    "gc.collect()\n",
    "torch.cuda.empty_cache()\n",
    "study.optimize(lambda trial: cornac_util.objective_NMF(trial, config,metadata,eval_method,generate_MF), n_trials=100, timeout=1800, n_jobs=4, gc_after_trial=True)\n",
    "\n",
    "# Analyze the results\n",
    "## requirements : plotly, nbformat\n",
    "pareto_trials = study.best_trials\n",
    "logging.info(f\"Best trial for {dataset_name} : {study.best_trials}\") \n",
    "\n",
    "logging.info(\"Number of trials :\"+str(len(study.trials)))\n",
    "for trial in study.trials:\n",
    "    logging.info(f\"Trial #{trial.number}\")\n",
    "    logging.info(f\"  RMSE: {trial.values}\")\n",
    "    #logging.info(f\"  DOA: {trial.values[1]}\")\n",
    "    logging.info(f\"  Params: {trial.params}\")\n",
    "\n",
    "dataset_name = \"promis\"\n",
    "eval_method,concept_map,metadata = cornac_util.load_dataset(dataset_name,config, 0)\n",
    "\n",
    "study = optuna.create_study(\n",
    "    directions=[\"minimize\"],  # Specify directions for each objective\n",
    ")\n",
    "gc.collect()\n",
    "torch.cuda.empty_cache()\n",
    "study.optimize(lambda trial: cornac_util.objective_NMF(trial, config,metadata,eval_method,generate_MF), n_trials=100, timeout=3600, n_jobs=4, gc_after_trial=True)\n",
    "\n",
    "# Analyze the results\n",
    "## requirements : plotly, nbformat\n",
    "logging.info(f\"Best trial for {dataset_name} : {study.best_trials}\") \n",
    "\n",
    "logging.info(\"Number of trials :\"+str(len(study.trials)))\n",
    "for trial in study.trials:\n",
    "    logging.info(f\"Trial #{trial.number}\")\n",
    "    logging.info(f\"  RMSE: {trial.values}\")\n",
    "    #logging.info(f\"  DOA: {trial.values[1]}\")\n",
    "    logging.info(f\"  Params: {trial.params}\")\n",
    "\n",
    "dataset_name = \"movielens\"\n",
    "eval_method,concept_map,metadata = cornac_util.load_dataset(dataset_name,config, 0)\n",
    "\n",
    "study = optuna.create_study(\n",
    "    directions=[\"minimize\"],  # Specify directions for each objective\n",
    ")\n",
    "gc.collect()\n",
    "torch.cuda.empty_cache()\n",
    "study.optimize(lambda trial: cornac_util.objective_NMF(trial, config,metadata,eval_method,generate_MF), n_trials=100, timeout=3600, n_jobs=4, gc_after_trial=True)\n",
    "\n",
    "# Analyze the results\n",
    "## requirements : plotly, nbformat\n",
    "logging.info(f\"Best trial for {dataset_name} : {study.best_trials}\") \n",
    "\n",
    "logging.info(\"Number of trials :\"+str(len(study.trials)))\n",
    "for trial in study.trials:\n",
    "    logging.info(f\"Trial #{trial.number}\")\n",
    "    logging.info(f\"  RMSE: {trial.values}\")\n",
    "    #logging.info(f\"  DOA: {trial.values[1]}\")\n",
    "    logging.info(f\"  Params: {trial.params}\")\n",
    "    \n",
    "dataset_name = \"portrait\"\n",
    "eval_method,concept_map,metadata = cornac_util.load_dataset(dataset_name,config, 0)\n",
    "\n",
    "study = optuna.create_study(\n",
    "    directions=[\"minimize\"],  # Specify directions for each objective\n",
    ")\n",
    "gc.collect()\n",
    "torch.cuda.empty_cache()\n",
    "study.optimize(lambda trial: cornac_util.objective_NMF(trial, config,metadata,eval_method,generate_MF), n_trials=100, timeout=3600, n_jobs=4, gc_after_trial=True)\n",
    "\n",
    "# Analyze the results\n",
    "## requirements : plotly, nbformat\n",
    "logging.info(f\"Best trial for {dataset_name} : {study.best_trials}\") \n",
    "\n",
    "logging.info(\"Number of trials :\"+str(len(study.trials)))\n",
    "for trial in study.trials:\n",
    "    logging.info(f\"Trial #{trial.number}\")\n",
    "    logging.info(f\"  RMSE: {trial.values}\")\n",
    "    #logging.info(f\"  DOA: {trial.values[1]}\")\n",
    "    logging.info(f\"  Params: {trial.params}\")\n"
   ],
   "outputs": [],
   "execution_count": null
  },
  {
   "cell_type": "markdown",
   "id": "c548e520-45cf-485d-bac5-e583c2406757",
   "metadata": {},
   "source": [
    "### 3. CDM Prediction\n",
    "#### 3.1. Training and testing"
   ]
  },
  {
   "metadata": {},
   "cell_type": "code",
   "source": [
    "def find_emb(algo):\n",
    "    return algo.get_user_vectors()[:,:-1]"
   ],
   "id": "7ab07af493290463",
   "outputs": [],
   "execution_count": null
  },
  {
   "metadata": {},
   "cell_type": "code",
   "source": [
    "reload(cornac_util)\n",
    "\n",
    "dataset_name = \"postcovid\"\n",
    "logging.info(dataset_name)\n",
    "config['learning_rate'] = 0.00485\n",
    "config['lambda'] = 2e-6\n",
    "metrics = cornac_util.test(dataset_name,config,generate_MF,find_emb)\n",
    "#\n",
    "# dataset_name = \"promis\"\n",
    "# logging.info(dataset_name)\n",
    "# config['learning_rate'] = 0.00257\n",
    "# config['lambda'] = 0.00032\n",
    "# metrics = cornac_util.test(dataset_name,config,generate_MF,find_emb)\n",
    "#\n",
    "# dataset_name = \"movielens\"\n",
    "# logging.info(dataset_name)\n",
    "# config['learning_rate'] = 0.00529\n",
    "# config['lambda'] = 1.07e-5\n",
    "# metrics = cornac_util.test(dataset_name,config,generate_MF,find_emb)\n",
    "#\n",
    "# dataset_name = \"portrait\"\n",
    "# logging.info(dataset_name)\n",
    "# config['learning_rate'] = 0.00225\n",
    "# config['lambda'] = 3.1e-6\n",
    "# metrics = cornac_util.test(dataset_name,config,generate_MF,find_emb)"
   ],
   "id": "e84cf8b0d727a1db",
   "outputs": [],
   "execution_count": null
  },
  {
   "metadata": {},
   "cell_type": "code",
   "source": "",
   "id": "37559b72f30b7c30",
   "outputs": [],
   "execution_count": null
  }
 ],
 "metadata": {
  "kernelspec": {
   "display_name": "Python 3 (ipykernel)",
   "language": "python",
   "name": "python3"
  },
  "language_info": {
   "codemirror_mode": {
    "name": "ipython",
    "version": 3
   },
   "file_extension": ".py",
   "mimetype": "text/x-python",
   "name": "python",
   "nbconvert_exporter": "python",
   "pygments_lexer": "ipython3",
   "version": "3.11.11"
  }
 },
 "nbformat": 4,
 "nbformat_minor": 5
}
